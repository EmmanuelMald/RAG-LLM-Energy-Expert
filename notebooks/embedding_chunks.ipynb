{
 "cells": [
  {
   "cell_type": "markdown",
   "metadata": {},
   "source": [
    "# Embedding Chunks"
   ]
  },
  {
   "cell_type": "markdown",
   "metadata": {},
   "source": [
    "Once the chunks were created and stored during the parsing step of the RAG pipeline, now its time to embed this chunks into a vector based on an embedding model, and then store these vectors into a vector DB."
   ]
  },
  {
   "cell_type": "markdown",
   "metadata": {},
   "source": [
    "## Import libraries"
   ]
  },
  {
   "cell_type": "code",
   "execution_count": 1,
   "metadata": {},
   "outputs": [
    {
     "name": "stderr",
     "output_type": "stream",
     "text": [
      "c:\\Users\\Emmanuel\\Desktop\\git_repos\\RAG-LLM-Energy-Expert\\.venv\\Lib\\site-packages\\tqdm\\auto.py:21: TqdmWarning: IProgress not found. Please update jupyter and ipywidgets. See https://ipywidgets.readthedocs.io/en/stable/user_install.html\n",
      "  from .autonotebook import tqdm as notebook_tqdm\n"
     ]
    }
   ],
   "source": [
    "from qdrant_client import QdrantClient\n",
    "from qdrant_client.models import Distance, VectorParams, PointStruct, Filter, FieldCondition, MatchValue\n",
    "from sentence_transformers import SentenceTransformer\n",
    "import json\n",
    "import sys\n",
    "import uuid\n",
    "\n",
    "sys.path.append(\"..\")\n",
    "\n",
    "from utils.gcp.gcs import get_file\n",
    "from rag_llm_energy_expert.config import GCP_CONFIG\n",
    "from rag_llm_energy_expert.credentials import get_qdrant_config\n",
    "from rag_llm_energy_expert.ingest_document import upload_document, parse_file, create_points"
   ]
  },
  {
   "cell_type": "markdown",
   "metadata": {},
   "source": [
    "## Embeddings"
   ]
  },
  {
   "cell_type": "markdown",
   "metadata": {},
   "source": [
    "Once the PDF text has been parsed, chunked, and stored in GCS, I'll use that chunks to embed the data into a vector database, I will be using [*Qdrant DB*](https://qdrant.tech/). The first thing to do is establish the embedding model to use and load the chunks stored in GCS\n",
    "\n",
    "For this time, we'll be using the [*sentence-transformers/all-MiniLM-L6-v2*](https://huggingface.co/sentence-transformers/all-MiniLM-L6-v2) model:\n",
    "\n",
    "- Number of Parameters: 22.7M (small)\n",
    "- Embedding Dimension: 384\n",
    "- Max tokens: 256"
   ]
  },
  {
   "cell_type": "code",
   "execution_count": 2,
   "metadata": {},
   "outputs": [],
   "source": [
    "# load the qdrant config values\n",
    "qdrant_config = get_qdrant_config()\n",
    "gcp_config = GCP_CONFIG()"
   ]
  },
  {
   "cell_type": "code",
   "execution_count": 6,
   "metadata": {},
   "outputs": [],
   "source": [
    "model_name = \"sentence-transformers/all-MiniLM-L6-v2\"\n",
    "\n",
    "# Name of the txt file where the chunks are stored\n",
    "chunks_file = \"chunks/resumen_reforma_energetica_256_2025-04-06.txt\""
   ]
  },
  {
   "cell_type": "code",
   "execution_count": 7,
   "metadata": {},
   "outputs": [],
   "source": [
    "chunks = json.loads(get_file(chunks_file, bucket_name = gcp_config.BUCKET_NAME))"
   ]
  },
  {
   "cell_type": "code",
   "execution_count": 8,
   "metadata": {},
   "outputs": [
    {
     "data": {
      "text/plain": [
       "309"
      ]
     },
     "execution_count": 8,
     "metadata": {},
     "output_type": "execute_result"
    }
   ],
   "source": [
    "len(chunks)"
   ]
  },
  {
   "cell_type": "markdown",
   "metadata": {},
   "source": [
    "Then, we wil load the embedding model from sentence-transformers"
   ]
  },
  {
   "cell_type": "code",
   "execution_count": 9,
   "metadata": {},
   "outputs": [],
   "source": [
    "model = SentenceTransformer(model_name)"
   ]
  },
  {
   "cell_type": "markdown",
   "metadata": {},
   "source": [
    "Create a vector for each chunk"
   ]
  },
  {
   "cell_type": "code",
   "execution_count": 10,
   "metadata": {},
   "outputs": [],
   "source": [
    "for chunk_id, chunk_data in chunks.items():\n",
    "\n",
    "    # Create the vector id\n",
    "    vector_id = f\"{uuid.uuid4()}\"\n",
    "\n",
    "    chunk_data[\"vector_id\"] = vector_id\n",
    "\n",
    "    # Embed the data into a vector\n",
    "    chunk_data[\"vector\"] = model.encode(chunk_data[\"text\"])"
   ]
  },
  {
   "cell_type": "markdown",
   "metadata": {},
   "source": [
    "Create a list of chunk's data"
   ]
  },
  {
   "cell_type": "code",
   "execution_count": 11,
   "metadata": {},
   "outputs": [],
   "source": [
    "chunks_data = [chunks[f\"chunk{x}\"] for x in range(len(chunks))]"
   ]
  },
  {
   "cell_type": "code",
   "execution_count": 12,
   "metadata": {},
   "outputs": [
    {
     "data": {
      "text/plain": [
       "{'Header 1': 'Resumen Ejecutivo',\n",
       " 'data': '# Resumen Ejecutivo  \\n-----  \\n-----',\n",
       " 'upload_date': '2025-04-06',\n",
       " 'text': '# Resumen Ejecutivo\\n\\n\\n-----\\n\\n-----\\n\\n## I. Introducción\\n\\nLa Reforma Energética es un paso decidido rumbo a la modernización del sector energético de\\nnuestro país, sin privatizar las empresas públicas dedicadas a la producción y al aprovechamiento de los hidrocarburos y de la electricidad. La Reforma Energética, tanto constitucional como a\\nnivel legistlación secundarias, surge del estudio y valoración de las distintas iniciativas presentadas por los partidos políticos representados en el Congreso.\\n\\n### La Reforma Energética tiene los siguientes objetivos y premisas fundamentales:\\n\\n1. Mantener la propiedad de la Nación sobre los hidrocarburos que se encuentran en el subsuelo.\\n2. Modernizar y fortalecer, sin privatizar, a Petróleos Mexicanos (Pemex) y a la Comisión Federal de Electricidad (CFE) como Empresas Productivas del Estado, 100% públicas y 100%\\nmexicanas.\\n3. Reducir la exposición del país a los riesgos financieros, geológicos y ambientales en las actividades de exploración y extracción de petróleo y gas natural.\\n4. Permitir que la Nación ejerza, de manera exclusiva, la planeación y control del Sistema\\nEléctrico Nacional, en beneficio de un sistema competitivo que permita reducir los precios\\nde la energía eléctrica.\\n5. Atraer mayor inversión al sector energético mexicano para impulsar el desarrollo del país.\\n6. Contar con un mayor abasto de energéticos a mejores precios.\\n7. Garantizar estándares internacionales de eficiencia, calidad y confiabilidad de suministro\\nenergético, así como transparencia y rendición de cuentas en las distintas actividades de la\\nindustria energética.\\n8. Combatir de manera efectiva la corrupción en el sector energético.\\n9. Fortalecer la administración de los ingresos petroleros e impulsar el ahorro de largo plazo en\\nbeneficio de las futuras generaciones.\\n10. Impulsar el desarrollo, con responsabilidad social y ambiental.\\n\\n**Estos objetivos se verán traducidos en beneficios concretos para los mexicanos:**\\n\\n1. Bajar las tarifas eléctricas y bajar el precio del gas natural.\\n2. Lograr tasas de restitución de reservas probadas de petróleo y gas natural superiores a\\n100%.\\n3. Aumentar la producción de petróleo de 2.5 millones de barriles diarios que se producen actualmente, a 3 millones de barriles en 2018, y a 3.5 millones en 2025, asimismo aumentar\\nla producción de gas natural de los 5 mil 700 millones de pies cúbicos diarios producidos\\nactualmente a 8 mil millones en 2018 y a 10 mil 400 millones en 2025.\\n4. Generar cerca de un punto porcentual más de crecimiento económico en 2018 y aproximadamente 2 puntos porcentuales más para 2025.\\n5. Crear cerca de medio millón de empleos adicionales en este sexenio, llegando a 2 millones\\ny medio de empleos en 2025.\\n6. Sustituir las centrales eléctricas más contaminantes con tecnologías limpias y fomentar la\\nutilización de gas natural en la generación eléctrica.\\n\\n\\n### 3\\n\\n\\n-----\\n\\n## II. Abasto de energéticos a precios competitivos\\n\\n### i) Nuevo modelo de producción de petróleo y gas natural\\n\\nMéxico, al igual que muchos otros países con abundantes recursos naturales, sustenta en gran\\nmedida su desarrollo económico y social en la riqueza energética. Sin embargo, el sector petrolero mexicano enfrenta retos considerables y urgentes por atender, entre los que se encuentran\\nla caída de la producción y la necesidad de mayor inversión a nivel industria.\\n\\nA pesar de invertir más en exploración y extracción de petróleo y gas natural, la producción de\\npetróleo pasó de 3.4 millones de barriles diarios en 2004, a 2.5 millones de barriles diarios en\\n2013. Con respecto al gas natural, en 1997 México era prácticamente autosuficiente, pues\\nsólo importábamos 3% del consumo nacional. En la actualidad importamos 30% del gas natural que consumimos en el país.\\n\\nEl petróleo y gas natural del futuro provendrán de los llamados “recursos no convencionales”,\\nque se encuentran en cuencas de lutitas y en aguas profundas. Aunque México cuenta con grandes reservas de estos recursos, carece de la capacidad técnica, financiera y de ejecución para\\nextraer estos hidrocarburos de forma competitiva.\\n\\nEl principal obstáculo para materializar plenamente el potencial de nuestro país en este tipo de\\nyacimientos era el marco constitucional. Antes de la Reforma, la Constitución obligaba a Pemex\\na llevar a cabo, por sí solo, todas las actividades de la industria petrolera, sin importar las restricciones financieras, operativas o tecnológicas a las que estuviera sujeto.\\n\\nDe acuerdo con estimaciones de Pemex, desarrollar el potencial la industria nacional de exploración y extracción requeriría de aproximadamente 60 mil millones de dólares al año dado el\\nportafolio de inversión que se tiene identificado. Sin embargo, hoy Pemex sólo cuenta en su presupuesto anual con alrededor de 27 mil millones de dólares. Incluso un régimen fiscal más atractivo para Pemex sería insuficiente para desarrollar el portafolio identificado.\\n\\n**La Reforma Energética a Nivel Constitucional**\\n\\n- En el Artículo 27 Constitucional:\\n\\nSe reafirma la propiedad inalienable e imprescriptible de la Nación sobre los hidrocarburos\\nen el subsuelo y la prohibición expresa de otorgar concesiones para exploración y extracción.\\n\\nSe establece la posibilidad de que la Nación otorgue asignaciones o contratos a Pemex e\\nincorpora también la posibilidad de otorgar contratos a empresas privadas. Esto permitirá poner en producción yacimientos de hidrocarburos que en la actualidad se encuentran\\nociosos por falta de inversión, de capacidad de ejecución y de tecnología.\\n\\nSe establece que la propiedad de la Nación sobre los hidrocarburos en el subsuelo deberá\\nafirmarse en las asignaciones o contratos.\\n\\n\\n### 4\\n\\n\\n-----\\n\\n- En el Artículo 28 Constitucional se establece que la exploración y extracción de petróleo y\\n\\ngas son actividades estratégicas.\\n\\n- La reforma constitucional establece que la ley regulará las modalidades de contraprestación\\n\\npor las actividades de exploración y extracción de petróleo y gas natural, incluyendo contratos de utilidad o de producción compartida, de licencia o de servicios. El Estado definirá el tipo\\nde contrato que más convenga al país y escogerá la modalidad de contraprestación para lograr el mayor beneficio para el desarrollo de largo plazo del país.\\n\\n- Toda la información de los contratos estará disponible para todos los mexicanos.\\n\\n- Pemex y los particulares podrán reportar a inversionistas y reguladores, así como al público en general, los proyectos que desarrollen en México y los beneficios esperados, siempre\\ny cuando se afirme en las asignaciones o contratos que el petróleo, el gas natural y los demás hidrocarburos que se encuentren en el subsuelo pertenecen únicamente a México y a los\\nmexicanos.\\n\\n- Se mantendrá y fortalecerá el papel estratégico de Pemex en la industria petrolera. Mediante\\n\\nla “Ronda Cero”, Pemex podrá elegir aquellos campos en producción y aquellas áreas en exploración que tengan interés en operar y donde demuestre tener capacidad técnica, financiera y de ejecución para desarrollarlos en forma eficiente y competitiva y podrá migrarlas hacia\\nun esquema de contratos, con los que podrá acceder a mejores condiciones fiscales.\\n\\n- Dada la relevancia que las actividades petroleras revisten para el desarrollo nacional, la reforma constitucional establece que todas las actividades de exploración y extracción de petróleo y de gas natural son de interés social y de orden público.\\n\\n- La reforma constitucional fortalece las instituciones del Estado en materia de exploración y\\n\\nexplotación de petróleo y gas natural, ya que distribuye eficientemente las de responsabilidades y facultades:\\n\\nLa Secretaría de Energía (SENER) se mantiene como la cabeza del sector y tiene entre sus\\nprincipales facultades: i) definir la política energética, ii) adjudicar asignaciones a Pemex y\\niii) seleccionar las áreas que podrán ser objeto de contratos para la exploración y extracción de petróleo y gas natural.\\n\\nLa Comisión Nacional de Hidrocarburos (CNH) será un Órgano Regulador Coordinado,\\ncon personalidad jurídica propia, autonomía técnica y de gestión y autosuficiencia presupuestaria. La CNH será la encargada de i) recopilar la información geológica y operativa; ii)\\nautorizar trabajos de reconocimiento y exploración superficial; y iii) llevar a cabo las licitaciones y asignar contratos de exploración y extracción de gas natural y petróleo, de suscribirlos y administrarlos de manera técnica.\\n\\n**Legislación Secundaria**\\n\\n- Para la realización de las actividades de exploración y extracción de hidrocarburos el Estado\\n\\ntiene la posibilidad de otorgar asignaciones o suscribir contratos.\\n\\n\\n### 5\\n\\n\\n-----\\n\\n### Asignaciones\\n\\n            - Se otorgarán a Pemex en la Ronda Cero.\\n\\n            - Posteriormente, se otorgan de forma excepcional a Pemex y a otras\\n\\nEmpresas Productivas del Estado.\\n\\n            - Las asignaciones permiten la adjudicación directa a Pemex de proyectos estratégicos tales como yacimientos transfronterizos.\\n\\n            - Los asignatarios podrán registrar el beneficio económico esperado\\n\\npara efectos financieros y contables.\\n\\n### Contratos para la Exploración y Extracción\\n\\n- Los hidrocarburos en el subsuelo son propiedad de la Nación.\\n\\n- Los contratos pueden ser suscritos con a) Pemex, b) Pemex asociado con particulares o c) particulares.\\n\\n- Adjudicación por licitación a quien ofrezca las mejores condiciones\\n\\neconómicas para el Estado y el mayor compromiso de inversión.\\n\\n- Se contempla la posibilidad de recisión administrativa por causas\\n\\ngraves específicas.\\n\\n- En caso de recisión el contratista podrá ser acreedor a un finiquito.\\n\\n- Los contratistas podrán registrar el beneficio económico esperado\\n\\npara efectos financieros y contables.\\n\\n- Se podrá establecer una participación directa del Estado (máximo\\n\\n30%) a través de Pemex o de un vehículo financiero de la SENER.\\n\\n- El Estado participará directamente en la inversión (al menos 20%) en las zonas donde pudiera haber un yacimiento transfronterizo.\\n\\n- En el proceso de diseño, otorgamiento, operación y administración de los contratos se propone un mecanismo institucional de pesos y contrapesos que contempla la participación de:\\nla SENER, la Secretaría de Hacienda y Crédito Público (SHCP), la CNH, la Agencia Nacional de\\nSeguridad Industrial y de Protección al Medio Ambiente del Sector Hidrocarburos y el Fondo\\nMexicano del Petróleo para la Estabilización y el Desarrollo. Sus responsabilidades se dividen\\nde la siguiente forma:\\n\\n1. La SENER se encargará de i) seleccionar las áreas para licitación de contratos, ii) determinar\\ny diseñar el tipo de contrato que aplicará a cada área contractual y iii) emitir los lineamientos\\ntécnicos para establecer las bases de licitación.\\n\\n2. La SHCP será responsable de determinar: i) los términos económicos y fiscales de los contratos; ii) las variables de adjudicación, que serán de carácter económico; y iii) verificar el correcto cumplimiento de las obligaciones fiscales y contractuales, incluyendo las operaciones que\\nrealice el Fondo Mexicano del Petróleo para la Estabilización y el Desarrollo.\\n\\n3. La CNH llevará a cabo las licitaciones para adjudicar contratos para la exploración y extracción de hidrocarburos y suscribirá los contratos con el ganador de la licitación. También aprobará los planes de exploración y extracción y autorizará la perforación de pozos.\\n\\n\\n### 6\\n\\n\\n-----\\n\\n4. La Agencia Nacional de Seguridad Industrial y de Protección al Medio Ambiente será la encargada de supervisar y, en su caso, sancionar a los contratistas y asignatarios en materia de\\nprotección de las personas, los bienes y el medio ambiente.\\n\\n5. El Fondo Mexicano del Petróleo para la Estabilización y el Desarrollo será el encargado de\\ni) recibir todos los ingresos, ii) realizar los pagos según lo establecido en cada contrato y\\niii) administrar los recursos que corresponden al Estado.\\n\\nEl régimen fiscal se detalla en la Ley de Ingresos sobre Hidrocarburos. Los elementos considerados son consistentes con los estándares internacionales para asegurar que la Nación capture\\nla renta petrolera e impulsar la exploración y extracción de hidrocarburos. En la Ley de Ingresos\\nsobre Hidrocarburos se norman, entre otros, las siguientes modalidades de contraprestaciones:\\n\\n1. El pago de regalías básicas y adicionales;\\n\\n2. Cuotas por la fase exploratoria;\\n\\n3. Para los contratos de licencia, un bono por la suscripción del contrato, y\\n\\n4. Pagos determinados como una proporción de la utilidad (en especie o en efectivo).\\n\\n- La iniciativa contempla que los contratos para la exploración y extracción de hidrocarburos\\n\\nse desarrollen de manera individual, en consorcio, es decir con un grupo de empresas, o en\\nasociación en participación. Los consorcios y asociaciones se podrán llevar a cabo de forma\\nlibre, durante la propuesta presentada en la licitación, o con autorización de la CNH, una vez\\nadjudicado el contrato. Cuando una asignación migre a un contrato podrá llevarse a cabo una\\nasociación entre Pemex y un partícular, y la CNH realizará una licitación para elegir al socio\\n(incluyendo las asignaciones de la Ronda Cero).\\n\\n- El modelo propuesto también considera que Pemex podrá migrar a la nueva modalidad de\\n\\ncontratación, aquellos contratos que en el pasado fueron otorgados por medio de una licitación.\\n\\n- Para asegurar el desarrollo eficiente del sector y la existencia de un mercado donde exista\\n\\ncompetencia, los contratos para la industria de hidrocarburos no podrán dar exclusividad o\\npreferencia ilícita que beneficie a organizaciones empresariales, sociales o sindicales.\\n\\n- Toda la información geológica del país será entregada a CNH, quien la administrará en el Centro Nacional de Información de Hidrocarburos. Pemex y las empresas productivas del Estado\\ny los particulares podrán realizar estudios de reconocimiento o exploración superficial, previa\\nautorización de CNH.\\n\\n- La legislación secundaria contempla que Pemex o los particulares podrán proponer a la SENER áreas a licitar en el futuro, con base en la información obtenida. Las propuestas no otorgan derechos ni ventajas para la suscripción de un contrato.\\n\\n\\n### 7\\n\\n\\n-----\\n\\n- Se propone que los operadores puedan comercializar libremente los hidrocarburos que reciban como contraprestación. El Estado colocará en los mercados los hidrocarburos que reciba,\\na través de un comercializador que la CNH contrate través de licitación pública.\\n\\n- Se reconoce la prevalencia de las actividades de exploración y extracción de hidrocarburos\\n\\nsobre cualquier otra actividad, incluyendo la actividad minera; tambien se reconoce el gas\\nasociado al carbón (gas grisú) como hidrocarburo más por lo que se elimina de la Ley Minera.\\n\\n- Se propone que los titulares de concesiones mineras que acrediten solvencia económica y\\n\\ncapacidad técnica podrán suscribir un contrato con la CNH, sin que medie ninguna licitación.\\nEsto sólo aplicará para minas en las que se esté extrayendo carbón actualmente y el contrato amparará únicamente la extracción del gas grisú.\\n\\n- Se considera que si la adjudicación de un contrato o asignación llegara a afectar los derechos\\n\\nde superficie de una concesión minera, donde se estén extrayendo minerales, el titular de la\\nconcesión recibirá una contraprestación, definida mediante una negociación, o una indemnización que determine CNH.\\n\\n\\n\\n- Para definir los términos y las condiciones de la contraprestación que se deberá cubrir por la\\n\\nocupación o afectación superficial, se privilegia la negociación entre operadores y propietarios de los terrenos. Esto se hace con la asistencia de la Procuraduría Agraria y de testigos sociales, y con criterios de referencia para la definición de las contraprestaciones, acordes con\\nlas mejores prácticas internacionales. Dichas contraprestaciones pueden contemplar, entre\\notros, el pago de un porcentaje del ingreso del operador después de realizados los pagos al\\nEstado.\\n\\n- Se establece que durante la ocupación temporal se respetarán en todo momento los derechos que la legislación y los tratados internacionales suscritos por México confieran a las comunidades indígenas.\\n\\n- Se prohíben las actividades de exploración y extracción de hidrocarburos en zonas naturales\\n\\nprotegidas.\\n\\n### ii) Nuevo modelo de producción de petrolíferos y petroquímicos\\n\\nHace 15 años, nuestro país importaba 25% de las gasolinas. En contraste, 49% de la gasolina\\nque se consumió en el país durante 2012 provino del exterior. En el caso de la petroquímica se\\npresenta una situación similar; mientras que en 1997 se importaba 41% de los petroquímicos\\nque se consumían en el país, para 2012 dicha cifra ascendió a 66%.\\n\\nPofr una parte, hasta diciembre de 2013, el marco constitucional no permitía a Pemex asociarse en México con otras empresas para mejorar su rendimiento sin embargo, este pero ese tipo\\nde asociaciones sí las podía hacer en el extranjero. Por otra parte, el marco jurídico dividía la petroquímica en básica, que no estaba abierta a la inversión privada, y secundaria, que sí lo estaba.\\nEsta división virtual no coincidía con los procesos industriales.\\n\\n\\n### 8\\n\\n\\n-----\\n\\nAunque hoy los privados ya participan en la petroquímica secundaria, se requiere de los insumos\\nde la petroquímica básica cuyo abasto resulta insuficiente, pues hasta antes de la Reforma Pemex debía desarrollarlos de manera exclusiva. Es por ello que algunas empresas mexicanas de\\npetroquímica han preferido invertir en el extranjero, generando inversiones, creando empleos y\\npagando impuestos fuera de México\\n\\n.\\n**La Reforma Energética Constitucional**\\n\\n- En el Artículo 28 Constitucional se eliminó a la petroquímica básica como una de las actividades reservadas al Estado para terminar con la división ficticia que la separaba de la petroquímica secundaria.\\n\\n- Se abre la posibilidad de que tanto Pemex como particulares participen en actividades de refinación, procesamiento de gas natural y petroquímica.\\n\\n- La SENER otorgará permisos, ya sea a Pemex o a particulares, para realizar las actividades de\\n\\ntratamiento y refinación del petróleo y para el procesamiento de gas natural.\\n\\n- Se integrarán cadenas productivas en nuestro país con inversión pública y privada para aumentar la oferta doméstica de combustibles, gasolinas y petroquímicos.\\n\\n**Legislación Secundaria**\\n\\n- Se permite la participación de particulares en refinación y procesamiento de gas natural, precio permiso de SENER pudiendo operar por su cuenta o en asociación con Empresas Productivas del Estado. Pemex también podrá asociarse, como actualmente ya lo hace en el extranjero.\\n\\n- Se establece la petroquímica en todas sus fases como actividad de libre concurrencia.\\n\\n- Se establecen atribuciones para las instituciones del Estado en materia de permisos y regulación.\\n\\n### iii) Nuevo modelo de transporte, almacenamiento y distribución de hidrocarburos y sus derivados.\\n\\nMéxico no cuenta con la infraestructura suficiente para transportar y distribuir el petróleo, el\\ngas natural y sus derivados. Esto implica que se transporten de manera poco eficiente y poco segura, generando mayores costos. A su vez, esto eleva los precios de estos productos y restringe\\nel crecimiento de la industria.\\n\\nEl Sistema Nacional de Gasoductos se encuentra a su máxima capacidad y en ocasiones ha sido\\nrebasado por las necesidades energéticas de nuestro país, afectando a la actividad industrial y\\ncomercial.\\n\\n**La Reforma Energética Constitucional**\\n\\n- En el Artículo 28 Constitucional:\\n\\nSe establece que en materia de hidrocarburos, sólo las actividades de exploración y extracción de petróleo y gas son exclusivas del Estado. Esto permite la participación de par\\n\\n### 9\\n\\n\\n-----\\n\\nticulares en el transporte, almacenamiento y distribución del petróleo, gas natural, petrolíferos y petroquímicos.\\n\\n- Se crea el Centro Nacional de Control del Gas Natural. Este centro será un organismo público\\n\\ndescentralizado encargado de administrar, coordinar y gestionar de forma eficiente la red de\\nductos y el almacenamiento del gas natural en nuestro país.\\n\\n- Se fortalecen las instituciones del Estado en materia de transporte, almacenamiento y distribución de hidrocarburos.\\n\\nLa Comisión Reguladora de Energía (CRE), se transforma en un Órgano Regulador Coordinado, con personalidad jurídica propia, autonomía técnica y de gestión, así como autosuficiencia presupuestaria.\\n\\n- La CRE otorgará permisos para el almacenamiento, transporte y distribución de petróleo, gas\\n\\nnatural y petrolíferos, así como de etano, propano, butano y naftas que se transporten exclusivamente por ducto. También garantizará el acceso abierto y en igualdad de circunstancias\\na la utilización de la infraestructura de transporte por ductos y almacenamiento de hidrocarburos y de sus derivados. De igual forma emitirá la regulación de las ventas de primera mano\\nde estos producto hasta en tanto exista competencia efectiva.\\n\\n**Iniciativa de Legislación Secundaria**\\n\\n- SENER y la CRE se encargarán de la regulación y expedición de permisos:\\n\\n- Los permisionarios que presten los servicios de transporte y distribución por medio de ductos\\n\\ny almacenamiento de hidrocarburos tendrán la obligación de dar acceso abierto a sus instalaciones y servicios.\\n\\n- La Reforma Constitucional en Materia Energética previó la creación del CENAGAS como\\norganismo público descentralizado. Con base en la Reforma, el CENAGAS será el gestor y ad\\n\\n### 10\\n\\n\\n-----\\n\\nministrador independiente del Sistema de Transporte y Almacenamiento Nacional Integrado de\\nGas Natural, mismo que se podrá estará conformar conformado por la siguiente infraestructura:\\n\\n1. Ductos de transporte e instalaciones de almacenamiento de gas natural, y\\n\\n2. Equipos de compresión, licuefacción, descompresión, regasificación y demás instalaciones\\nvinculadas a la infraestructura señalada en el mineral anterior.\\n\\n  - Se promoverá la existencia de precios competitivos para los usuarios y plena competencia\\n\\nen los servicios. Esto se hará a través de la inclusión de reglas que establezcan una clara\\nseparación entre las actividades que realice cada participante.\\n\\n  - Se proponen principios para evitar el acaparamiento y posibles conflictos de interés que\\n\\ninhiban el adecuado desarrollo del subsector.\\n\\n  - Se prevé una apertura gradual y progresiva en las actividades de expendio al público de gasolinas y diésel, así como para gas licuado de petróleo. Como parte del proceso ordenado\\nde apertura, se plantea que la importación de combustibles sea liberada a partid de 2016\\nen el caso del gas licuado de petróleo, y a partir de 2017 para gasolinas y diésel.\\n\\n**Apertura gradual en el mercado de gasolinas y diésel**\\n\\n**Apertura gradual en gas Licuado de Petróleo (LP)**\\n\\n\\n### 11\\n\\n\\n-----\\n\\n### iv) Nuevo modelo de generación, transmisión, distribución y comercialización de energía eléctrica.\\n\\nEn comparación con Estados Unidos, en México las tarifas promedio son 25% más altas, aun\\ncon el subsidio, sin el cual resultarían 73% más caras. Esto constituye un freno a la economía\\nmexicana, pues la electricidad es un insumo esencial para la actividad industrial, comercial y de\\nservicios.\\n\\nUno de los grandes retos que enfrenta el sector es la falta de inversión en la red nacional de\\ntransmisión eléctrica. Se requiere incrementar el mallado e interconectar zonas del país con alto\\npotencial de energías limpias.\\n\\nRespecto a la distribución, hoy se registran ineficiencias significativas. Las pérdidas técnicas y no\\ntécnicas de energía en México son alrededor del doble del promedio de los países de la OCDE.\\nAproximadamente 15% de la energía producida por la CFE no se cobra.\\n\\n**La Reforma Energética Constitucional**\\n\\n- En el Artículo 25 Constitucional:\\n\\nSe establece la categoría de Empresas Productivas del Estado para que la CFE pueda consolidarse como una empresa con altos estándares de competitividad.\\n\\n- En el Artículo 27 Constitucional:\\n\\nSe establece que la planeación y el control del Sistema Eléctrico Nacional, así como el servicio público de transmisión y distribución de electricidad son áreas exclusivas del Estado.\\nSe mantiene la prohibición expresa de otorgar concesiones en estas áreas y se permite\\nque el Estado celebre contratos con particulares. De esta forma, por cuenta de la Nación\\nse pueden llevar a cabo actividades para el servicio público de transmisión y distribución\\nde energía eléctrica.\\n\\n- En el Artículo 28 Constitucional:\\n\\nSe establece que la planeación y el control del Sistema Eléctrico Nacional (SEN) y el servicio público de transmisión y distribución de electricidad son áreas exclusivas del Estado.\\n\\n- La CFE y particulares podrán realizar actividades de generación de electricidad de forma libre,\\n\\ncon una regulación sólida y eficiente.\\n\\n- La CFE mantiene las actividades de generación eléctrica que realiza desde antes de la reforma, y podrá construir nuevas plantas, modernizando su base de generación.\\n\\n- Los particulares podrán instalar nuevas plantas sin requerir que CFE decida incluirlas dentro\\n\\nde la planeación de la empresa.\\n\\n- El Centro Nacional de Control de Energía (CENACE),que formaba parte de CFE se constituirá\\n\\ncomo un organismo público descentralizado encargado del control operativo del SEN. Tam\\n\\n### 12\\n\\n\\n-----\\n\\nbién será el encargado de operar el mercado eléctrico mayorista, y de garantizar a los generadores el acceso abierto a la red nacional de transmisión.\\n\\n- Se podrán celebrar contratos entre particulares y la CFE para el financiamiento, instalación,\\n\\nmantenimiento, gestión, operación, ampliación, modernización, vigilancia y conservación de\\nla infraestructura del servicio público de transmisión y distribución de energía eléctrica. De\\nesta forma se podrá aprovechar la tecnología y experiencia de particulares a fin de reducir\\ncostos y pérdidas de operación.\\n\\n- La Reforma Energética permitirá reducir el costo de la electricidad, que depende en 80% del\\n\\nprecio del combustible que se usa para generarla. El gas natural es 4 veces más barato y emite 68% menos emisiones de dióxido de carbono que el combustóleo, que es uno de los principales combustibles con los que se genera electricidad en México.\\n\\n- México tiene múltiples yacimientos de gas natural; sin embargo, su producción ha ido a la\\n\\nbaja y hoy importamos 30% de nuestro consumo. Con la Reforma Energética, tendremos\\nmúltiples operadores para extraer el gas natural que necesitamos, y así contaremos con insumos para generar electricidad de menor costo y más limpia.\\n\\n- La CRE se encargará de la regulación y el otorgamiento de permisos para la generación, así\\n\\ncomo de las tarifas de porteo para transmisión y distribución.\\n\\n**Legislación Secundaria**\\n\\n- Se permite la participación de privados en la generación y comercialización de energía eléctrica, manteniéndose como áreas estratégicas del Estado la planeación y el control del Sistema\\nEléctrico Nacional y el servicio público de transmisión y distribución de energía eléctrica.\\n\\n- Se expide la Ley de Energía Geotérmica que regulará el reconocimiento, exploración y explotación de recursos geotérmicos para su aprovechamiento con el fin de generar energía eléctrica o destinarla a usos diversos.\\n\\nLa nueva Ley de Energía Geotérmica propone que CFE indique a SENER las áreas geotérmicas de\\nsu interés para el otorgamiento de permiso o concesión. Esto lo que deberá realizar dentro de\\nlos 120 días posteriores al inicio de vigencia de la ley. CFE podrá establecer asociaciones o desarrollar por sí misma estos proyectos.\\n\\n- Se prevén modalidades de contratación entre el Estado y los particulares para que éstos contribuyan con su tecnología y experiencia a la expansión y mejoramiento de las redes de transmisión y distribución. Esto permitirá combatir las pérdidas de energía eléctrica y aumentar la\\neficiencia del proceso de distribución de energía eléctrica.\\n\\n\\n### 13\\n\\n\\n-----\\n\\n- La coordinación necesaria para satisfacer la demanda de energía al menor costo y proveer la\\n\\nestabilidad necesaria al sistema eléctrico seguirá en manos del CENACE. Su nuevo status de\\norganismo público descentralizado garantizará su imparcialidad al momento de despachar\\nenergía eléctrica.\\n\\n**Mercado Eléctrico**\\n\\n- El mercado eléctrico establecerá precios spot para la compraventa de energía a corto plazo\\n\\nentre los participantes mayoristas (generadores, comercializadores y usuarios calificados).\\n\\n- Los participantes podrán celebrar contratos de largo plazo entre ellos con precios energéticos negociados libremente. Los usuarios calificados podrán contratar su servicio a través de\\nsuministradores calificados, quienes fijarán sus precios a fin de competir por clientes.\\n\\n- La Secretaría de Hacienda y Crédito Público conservará la facultad de fijar las tarifas finales\\n\\nde los usuarios de servicio básico, mientras que la CRE regulará las tarifas de transmisión y\\ndistribución.\\n\\n- Se propone la creación de un Fondo de Servicio Universal Eléctrico para financiar la electrificación en las comunidades rurales y zonas urbanas marginadas. Entre otros ingresos, el Fondo\\nse integrará por los excedentes que resulten de la gestión de pérdidas de energía en el mercado eléctrico.\\n\\n- Se incluye un esquema de Certificados de Energías Limpias, a través del cual la SENER determinará el porcentaje de energía que debe generarse cada año a partir de fuentes limpias. El\\ncumplimiento se acreditará a través de la compra de Certificados de Energías Limpias.\\n\\n## III. Fondo Mexicano del Petróleo para la Estabilización y el Desarrollo\\n\\nDurante los últimos 30 años, la industria petrolera y sus ingresos han sido el pilar de las finanzas públicas y el motor de la actividad económica del país. Hoy, el principal reto a las finanzas\\npúblicas es revertir la caída en la producción de petróleo. Hasta ahora, los altos precios de dicho\\n\\n\\n### 14\\n\\n\\n-----\\n\\nproducto han permitido compensar la caída en la producción, sin embargo, en los próximos años\\nya no tendremos ese margen.\\n\\nSi bien desde hace un par de décadas existen diversos fondos destinados a administrar parte de\\nlos ingresos petroleros del país, sus alcances en la ley eran limitados y, más allá del ahorro en dichos fondos de estabilización, no se preveían mecanismos explícitos de ahorro.\\n\\n**La Reforma Energética Constitucional**\\n\\n- El Artículo 28 Constitucional establece la creación de un fideicomiso público sujeto a obligaciones de transparencia denominado Fondo Mexicano del Petróleo para la Estabilización y el\\nDesarrollo. La institución fiduciaria será el Banco de México.\\n\\n- El Fondo Mexicano del Petróleo para la Estabilización y el Desarrollo será un fideicomiso público para administrar la renta petrolera pensando en las futuras generaciones de mexicanos.\\n\\n- Con la creación del Fondo, los ingresos petroleros serán utilizados de manera eficiente, productiva y transparente para asegurar la estabilidad de las finanzas públicas y el ahorro de\\nlargo plazo. Los recursos petroleros se destinarán a disminuir pasivos, garantizar y expandir\\nla seguridad social, la educación y el desarrollo regional.\\n\\n**Iniciativa de Legislación Secundaria**\\n\\n- Para decidir la asignación de recursos, el Fondo contará con un Comité Técnico formado\\n\\npor dos miembros del Gobierno de la República: el Secretario de Hacienda y Crédito Público\\n(quien lo presidirá y contará con voto de calidad) y el Secretario de Energía, el Gobernador\\ndel Banco de México, y cuatro miembros independientes nombrados por el Presidente con la\\naprobación del Senado.\\n\\n- De los ingresos petroleros que reciba, el Fondo podrá transferir un monto de hasta el 4.7%\\n\\ndel PIB para el presupuesto. Los ingresos que se ubiquen por encima de ese nivel se mantendrán en el Fondo como ahorro de largo plazo.\\n\\n\\n### 15\\n\\n\\n-----\\n\\n- La distribución propuesta de los ingresos petroleros permitirá que generaciones futuras puedan beneficiarse de incrementos en los niveles de producción. Asimismo se contará con recursos para estabilizar las finanzas públicas y hacer frente a imprevistos.\\n\\n- Los recursos del Fondo Mexicano del Petróleo se considerarán recursos federales y quedarán\\n\\nsujetos a las facultades de fiscalización de las autoridades federales competentes, conforme\\na las disposiciones jurídicas aplicables.\\n\\n- Además, se establece que el Fondo deberá poner a disposición de la sociedad toda la información relativa a los ingresos que reciba, tanto por contratos como por asignaciones, los pagos que realice a los contratistas, y el destino de dichos recursos.\\n\\n## IV. Órganos reguladores coordinados en hidrocarburos y electricidad\\n\\nAntes de que se llevara a cabo la Reforma Constitucional en Materia Energética, la regulación\\ndel sector recaía en la SENER, a través de sus órganos desconcentrados (CNH y CRE). Por esto\\nno había una clara separación entre la entidad responsable del diseño de la política energética y\\naquéllas que debían dedicarse a promover una operación adecuada y eficiente.\\n\\nAdicionalmente, CNH y CRE operaban en un entorno en el que los principales proyectos en la\\nindustria de hidrocarburos y de electricidad eran responsabilidad de sólo dos entidades paraestatales: Pemex y la CFE. En consecuencia, la estructura del sector energético se enfocó a la regulación de sólo un actor en cada actividad sustantiva.\\n\\n**La Reforma Energética Constitucional**\\n\\n- En el Artículo 28 Constitucional se establece que la CNH y la CRE serán Órganos Reguladores Coordinados en Materia Energética. Esto implica que tendrán personalidad jurídica propia,\\nautonomía técnica y de gestión, así como autosuficiencia presupuestaria, pues dispondrán de\\nlos ingresos derivados de las contribuciones y aprovechamientos por sus servicios a través de\\nun fideicomiso público.\\n\\n- Los Órganos Reguladores Coordinados en Materia Energética remplazarán a los órganos desconcentrados que se tienen en la actualidad.\\n\\n**Legislación Secundaria**\\n\\n- Entre las atribuciones de los órganos reguladores coordinados se proponen: i) Regular, supervisar y sancionar en las materias de su competencia, ii) Aportar elementos técnicos al Ejecutivo Federal sobre la formulación de políticas energéticas, y iii) aprobar su anteproyecto de\\npresupuesto.\\n\\n\\n\\n- Los Órganos Reguladores Coordinados en Materia Energética se coordinarán con la SENER a\\n\\ntravés del Consejo de Coordinación del Sector Energético. Éste estará integrado por el titular de la SENER, quien fungirá como presidente del Consejo, los subsecretarios de la SENER,\\nlos presidentes de CNH y CRE, y así como por los directores generales del CENAGAS y del\\n\\n\\n### 16\\n\\n\\n-----\\n\\nCENACE. A las reuniones del Consejo se podrá invitar a los titulares de otras dependencias y\\nentidades gubernamentales.\\n\\n- El Consejo de Coordinación del Sector Energético tendrá como funciones: i) Dar a conocer la\\n\\npolítica energética establecida por la SENER a los órganos reguladores coordinados, ii) Analizar los programas de trabajo anual de CNH y CRE, así como su ejecución, iii) Implementar\\nsistemas de información compartida y de cooperación institucional, y iv) Analizar casos específicos que puedan afectar el desarrollo y cumplimiento de la política energética y v) proponer mecanismos de coordinación.\\n\\n## V. Empresas Productivas del Estado en hidrocarburos y electricidad\\n\\nPemex y la CFE, a pesar a ser las mayores empresas públicas del país, presentan grandes retos\\ny áreas de oportunidad en torno a su eficiencia y productividad. Esto se debe en gran medida a\\nque el anterior marco jurídico les impedía operar con la flexibilidad necesaria para potenciar sus\\ncapacidades productivas y así aumentar su rentabilidad. Tampoco se les permitía la asociación\\ncon particulares en las actividades reservadas al Estado, dejándoles la responsabilidad absoluta\\nde proveer de insumos energéticos y de electricidad al país, sin posibilidad de complementar sus\\nesfuerzos con terceros. Además, no podían actuar con agilidad ante los requerimientos de las\\nindustrias petrolera y eléctrica globales, lo que repercutió en elevados costos en sus procesos e\\ninversiones poco productivas y, como consecuencia, menor competitividad.\\n\\n**La Reforma Energética Constitucional**\\n\\n- El Artículo 25 Constitucional establece la transformación de Pemex y CFE en Empresas Productivas del Estado, cuyo objeto será la creación de valor económico e incrementar los ingresos de la Nación, con sentido de equidad y responsabilidad social y ambiental.\\n\\n- Pemex y la CFE se mantienen como empresas 100% mexicanas y 100% del Estado, cuya organización, administración, organización y estructura corporativa serán acordes con las mejores prácticas internacionales.\\n\\n**Legislación Secundaria**\\n\\n- Pemex y CFE contarán con un régimen presupuestario especial y exclusivo que les otorga autonomía presupuestaria y las sujeta sólo al balance financiero y al techo de servicios personales.\\n\\n- Para el manejo de su deuda, Pemex y CFE se regirán por lo dispuesto en un artículo especial de la Ley General de Deuda Pública. Ambas empresas podrán realizar negociaciones, así\\ncomo contratar los financiamientos externos e internos que requieran, para lo que deberán\\ncoordinarse con la SHCP, sin requerir de su autorización.\\n\\n- El Gobierno de la República dejará de ser el “administrador principal” de los órganos de gobierno de las Empresas Productivas del Estado para asumir el rol de propietario.\\n\\n\\n### 17\\n\\n\\n-----\\n\\n- El Gobierno de la República podrá absorber una parte del pasivo de pensiones y jubilaciones\\n\\nde PEMEX y CFE, sujeto a que acuerden con sus trabajadores un nuevo régimen de pensiones\\nque reduzca esos pasivos y la Auditoria Superior de la Federación audite la evolución de dichos pasivos.\\n\\n- Los Consejos de Administración de ambas empresas tendrán una nueva estructura organizacional y se encargarán de: i) Definir la visión estratégica del grupo corporativo; ii) Emitir las\\npolíticas en materia de inversiones, plan de negocios y contrataciones; iii) Emitir su estatuto\\norgánico; y iv) Vigilar y evaluar el desempeño de la empresa.\\n\\n## VI. Promoción de inversión privada, contenido nacional e impulso al desarrollo de las empresas mexicanas.\\n\\nEn el marco legal vigente con anterioridad a las reformas, las actividades de exploración, extracción y refinación de hidrocarburos, la petroquímica básica, así como las actividades de transmisión, distribución y comercialización de energía eléctrica, se encontraban reservadas de forma\\nexclusiva al Estado. Si bien en la ley permitía la participación de particulares en la generación\\neléctrica, ésta se encontraba limitada a la capacidad de contratación por parte de la CFE y unas\\nmodalidades limitadas de autoabastecimiento, cogeneración y exportación.\\n\\nLas necesidades energéticas del país, las exigencias de un entorno internacional cada vez más\\ncompetitivo, el notable incremento en los riesgos y el monto de las inversiones requeridas para\\nla producción de hidrocarburos y el abasto eléctrico, hacen prácticamente imposible que las empresas públicas, por eficientes que resulten, sean capaces de hacerlo todo por sí mismas.\\n\\n**La Reforma Energética Constitucional**\\n\\n- Se permite la participación de inversión privada en hidrocarburos y electricidad, para elevar la\\n\\nproducción de energéticos a nivel nacional, generar mayor riqueza y aumentar el número de\\nempleos productivos en el país.\\n\\n- Se establece la obligación de prever en la ley porcentajes de contenido nacional en la proveeduría, para que en las asignaciones y contratos que se otorguen a las empresas públicas\\ny privadas se fomente la industria nacional.\\n\\n- La expansión de las industrias petrolera y eléctrica generará empleos directos. Además, impulsará a otras industrias, promoverá la creación de empleos indirectos y acelerará el desarrollo económico a nivel regional y nacional.\\n\\n\\n### 18\\n\\n\\n-----\\n\\n**Legislación Secundaria**\\n\\n- Se adecua la Ley de Inversión Extranjera con un doble propósito: (i) reflejar en ley el nuevo\\n\\nmarco constitucional en lo que se refiere a las áreas estratégicas y (ii) fomentar la participación de la inversión nacional y extranjera en actividades relacionadas con la industria energética.\\n\\n- Se propone establecer un promedio mínimo de contenido nacional de 35% para el conjunto de las asignaciones y contratos de exploración y extracción de hidrocarburos (no aplicará\\npara proyectos de aguas profundas y ultraprofundas que recibirán un tratamiento diferente).\\nEl porcentaje se alcanzará gradualmente, a más tardar en 2025, con el objeto de desarrollar\\nproveedores y cadenas productivas. Los contratos relativos al servicio público de transmisión\\ny distribución de energía eléctrica también establecerán un porcentaje mínimo de contenido\\nnacional.\\n\\n- Se propone establecer reglas para dar preferencia a nacionales cuando ofrezcan condiciones\\n\\nsimilares en precios, calidad y entrega oportuna para la adquisición de bienes y la contratación de servicios y obras, así como la contratación y capacitación de personal.\\n\\n- La Secretaría de Economía creará una unidad especializada que se encargará de: i) dar seguimiento a las estrategias para el fomento industrial y de la inversión directa en la industria, así\\ncomo elaborar y publicar un informe sobre los avances de las mismas, ii) proponer la metodología para medir el grado de contenido nacional, y iii) verificar el cumplimiento de las metas\\nde grado de contenido nacional establecidas en las asignaciones y contratos.\\n\\n- Se prevé la creación de un Fideicomiso Público para Promover el Desarrollo de Proveedores y\\n\\nContratistas Nacionales de la Industria Energética, el cual promoverá el desarrollo de proveedores a través de financiamiento y apoyos para programas de capacitación, investigación y\\ncertificación.\\n\\n## VII. Seguridad, sustentabilidad, compromiso con el medio ambiente, uso de tecnologías y combustibles más limpios.\\n\\nLas actividades del sector energético deben realizarse mediante una operación compatible con\\nel cuidado y la protección del medio ambiente.\\n\\n\\n### 19\\n\\n\\n-----\\n\\n**Características del nuevo modelo**\\n\\n- En el Artículo 25 Constitucional se plasma el principio de sustentabilidad como uno de los criterios para el desarrollo de los proyectos de infraestructura energética.\\n\\n- El Ejecutivo Federal deberá incluir en el Programa Nacional para el Aprovechamiento Sustentable de la Energía los pasos a seguir, así como las condiciones de operación y financiamiento\\npara promover el uso de tecnologías y combustibles más limpios.\\n\\n- En el sector eléctrico se establecieron obligaciones para el uso de energías limpias y la reducción de emisiones contaminantes.\\n\\n- Se crea la Agencia Nacional de Seguridad Industrial y Protección al Medio Ambiente del Sector Hidrocarburos. Ésta regulará la seguridad industrial para minimizar el riesgo de accidentes\\nen instalaciones o afectaciones al medio ambiente causadas por la actividad petrolera.\\n\\n**Legislación Secundaria**\\n\\n- La Agencia Nacional de Seguridad Industrial y Protección al Medio Ambiente del Sector Hidrocarburos será un órgano desconcentrado de la Secretaría de Medio Ambiente y Recursos\\nNaturales (SEMARNAT), especializado técnicamente y que contará con autonomía de\\ngestión.\\n\\n- Se propone que dicha Agencia tenga las atribuciones de regular, supervisar y sancionar en\\n\\nmateria de seguridad industrial y operativa, así como de protección al medio ambiente. Asimismo, participará en coordinación con la Secretaría de Marina y la SEMARNAT en la contención de derrames y atención a contingencias o emergencias en el sector hidrocarburos, así\\ncomo en la investigación de sus causas.\\n\\n- La Ley de la Industria Eléctrica crea un esquema de obligaciones para los usuarios calificados\\n\\ny para las empresas de suministro eléctrico, así como los titulares de permisos de generación\\notorgados en los términos del marco legal anterior, relacionado a la adquisición de Certificados de Energías Limpias. Estos certificados, aunados a una interconexión más transparente y\\nexpedita, permitirán la expansión acelerada de proyectos de energías limpias y contribuirán a\\nla reducción de emisiones contaminantes.\\n\\n- También se prevén mecanismos que permitirán a pequeños generadores producir electricidad con fuentes renovables en sus casas u otros edificios y vender su producción a los suministradores a cambio de contraprestaciones reguladas, o bien, precios de mercado.\\n\\n## VIII. Ocupación de la superficie, sustentabilidad y enfoque de derechos\\n\\n### La Reforma Energética Constitucional\\n\\n- La Reforma Energética dispone en el Artículo 8 Transitorio que las actividades de exploración\\n\\ny extracción del petróleo y de los demás hidrocarburos, así como el servicio público de trans\\n\\n### 20\\n\\n\\n-----\\n\\nmisión y distribución de la energía eléctrica, derivado de su carácter estratégico, se consideran de interés social y orden público, por lo que tendrán preferencia sobre cualquier otra que\\nimplique el aprovechamiento de la superficie y del subsuelo de los terrenos afectos a aquéllas.\\n\\n- El mismo artículo señala que la Ley preverá los términos y las condiciones generales de la\\n\\ncontraprestación que se deberá cubrir por la afectación u ocupación superficial o, en su caso,\\nla indemnización respectiva. Por otra parte, la Reforma Energética dispone en su Artículo 25\\nque se apoyará e impulsará a las empresas de los sectores sociales y privado de la economía,\\nbajo criterios de equidad social, productividad y sustentabilidad, sujetándolos a las modalidades que dicte el interés público y al uso, en beneficio general, de los recursos productivos,\\ncuidando su conservación y el medio ambiente.\\n\\n### La Legislación Secundaria\\n\\n- El Artículo 118 de la Ley de Hidrocarburos señala que el desarrollo del sector energético se\\n\\nrealizará atendiendo principios de sostenibilidad y respeto a los derechos humanos. Para implementar dicho enfoque dispone de tres instrumentos fundamentales: mecanismo para los\\ntérminos y condiciones del uso superficial de las tierras, estudios y evaluaciones de impacto\\nsocial, consultas previas, libres e informadas a pueblos y comunidades indígenas\\n- La Ley de Hidrocarburos dispone en su Capítulo V. Del impacto Social, establece que la Secretaría de Energía, previo al otorgamiento de una Asignación, o de la publicación de una convocatoria para la licitación de un Contrato para la Exploración y Extracción, realizará un estudio\\nde impacto social respecto de las áreas objeto de Asignación o Contrato, a fin de que se pueda prever la presencia de grupos poblacionales en situación de vulnerabilidad y la necesidad\\nde realizar acciones para salvaguardar sus derechos.\\n\\n- Además dispone en su Artículo 121 que los interesados en desarrollar proyectos en el sector hidrocarburos deberán presentar ante la Secretaría de Energía una evaluación de impacto social que deberá contener la identificación, caracterización, predicción y valoración de los\\nimpactos sociales que podrían derivarse de las actividades que se pretenden desarrollar, así\\ncomo las medidas de mitigación correspondientes, en los términos que habrán de precisarse\\nen el reglamento de la Ley correspondiente.\\n\\n- Con la finalidad de salvaguardar los intereses y derechos de las comunidades en las que se desarrollen proyectos del sector hidrocarburos, el Artículo 120 establece que deberán llevarse\\na cabo los procedimientos de consulta, en los cuales podrán participar las Empresas Productivas del Estado y sus subsidiarias y filiales, así como particulares, conforme a la normatividad\\naplicable.\\n\\n\\n\\n- En lo relativo al uso y ocupación superficial, la legislación secundaria establece el mecanismo\\n\\nbasado en principios de transparencia y equidad para definir los términos y las condiciones\\ngenerales de la contraprestación, los términos y las condiciones para el uso, goce o afectación de los terrenos, bienes o derechos necesarios para realizar las actividades.\\n\\n- El mecanismo plantea la negociación inicial de 180 días entre particulares y, cuando sea necesario, esquemas alternativos consistentes en un proceso de mediación o de constitución\\nde una servidumbre legal de hidrocarburos. Los Asignatarios y Contratistas deberán dar aviso\\n\\n\\n### 21\\n\\n\\n-----\\n\\na la Secretaría de Energía y a la Secretaría de Desarrollo Agrario, Territorial y Urbano, con el\\nobjeto de que las mismas generen las acciones necesarias de acompañamiento y protección\\nde derechos, a través de las figuras de los testigos sociales, modelos de contratos, asesoría y\\nrepresentación legal de la Procuraduría Agraria.\\n\\n- En la negociación inicial las partes podrán acordar la práctica de avalúos, a cargo del Instituto\\n\\nde Administración y Avalúos de Bienes Nacionales, o de instituciones crédito, corredores públicos o profesionistas en valuación. Los avalúos deberán considerar la plusvalía que generarán los proyectos, la idoneidad de los terrenos, los gastos complementarios en caso de emigración, etc.\\n\\n- Los titulares de los terrenos, bienes o derechos tendrán derecho a que la contraprestación cubra, según sea el caso, un pago por la renta, un pago por las afectaciones y en el caso de proyectos que alcancen producción comercial, una participación en las utilidades del proyecto.\\n\\n- La Legislación prevé mecanismos alternativos en caso de que no se alcancen acuerdos en la\\n\\netapa de negociación inicial. En primera instancia, contempla un proceso de mediación, a cargo de la Secretaría de Desarrollo Territorial y Urbano, y en última instancia, prevé la figura de\\nla “Servidumbre Legal de Hidrocarburos”, la cual podrá ser decretada por la vía judicial o administrativa.\\n\\n## IX. Medidas efectivas de transparencia y combate a la corrupción\\n\\nUn modelo energético agotado como el que prevalecía en México previo a la Reforma, no sólo\\ngenera ineficiencias de productividad, sino incentivos poco adecuados para una industria energética transparente y abierta a la rendición de cuentas.\\n\\n**Características del nuevo modelo**\\n\\n- Se establecen mecanismos legales efectivos para prevenir, identificar y sancionar a quienes realicen actos u omisiones que constituyan conductas ilícitas o prácticas indebidas, para obtener\\nbeneficios económicos ilegítimos.\\n\\n- Los ciudadanos tendremos acceso al contenido de los contratos y contaremos con información precisa y clara sobre la explotación de los hidrocarburos y los recursos que éstos generan.\\n\\n**Legislación Secundaria**\\n\\n- Con respecto a las licitaciones y los contratos para la exploración y extracción de hidrocarburos, se propone que el diseño y adjudicación de los mismos se lleve a cabo a través de un\\nmecanismo institucional de pesos y contrapesos en el que participan SENER, CNH y SHCP.\\n\\n- En relación con las contraprestaciones y los pagos de los contratos, la SHCP verificará que los\\n\\ncostos que presenta el operador reflejen las condiciones de mercado. Adicionalmente, se podrá implementar un sistema de auditorías externas para supervisar la efectiva recuperación\\nde los costos.\\n\\n\\n### 22\\n\\n\\n-----\\n\\n- Se prevé que la SENER, CNH y SHCP publiquen periódicamente y por medios electrónicos indicadores respecto de los resultados económicos de cada contrato.\\n\\n- Se publicarán los insumos utilizados para calcular los precios del Mercado Eléctrico Mayorista,\\n\\nlas tarifas eléctricas y los programas de expansión de la Red Nacional de Transmisión.\\n\\n- Los Órganos Reguladores Coordinados en Materia Energética se sujetarán a reglas claras de\\n\\ntransparencia y combate a la corrupción. Sus sesiones, acuerdos y resoluciones serán públicos, sus miembros habrán de adherirse a un código de conducta y tendrán la prohibición de\\nrecibir, proponer, autorizar o consentir la recepción de cualquier clase de beneficios que se relacionen directa o indirectamente con el ejercicio de sus atribuciones o funciones.\\n\\n- Las Empresas Productivas del Estado contarán con un nuevo esquema de vigilancia, auditoría y control, a través de su Comité de Auditoría. Los sistemas de transparencia y rendición\\nde cuentas se fortalecerán, homologando la revelación de información de conformidad con la\\nLey del Mercado de Valores, aun cuando las Empresas Productivas del Estado no coticen en la\\nBolsa.\\n\\n## X. Conclusión\\n\\nLas modificaciones derivadas de la Reforma Energética permitirán modernizar nuestra industria\\nenergética, volverla más competitiva y devolverle su carácter de palanca de desarrollo. Con la\\nReforma Energética se incrementará la renta petrolera del Estado, se impulsará el crecimiento\\neconómico, se crearán empleos, se fortalecerá a Pemex y a la CFE, para que los mexicanos tengamos acceso a energéticos y electricidad de menor costo y más competitivos.\\n\\nSin duda, la Reforma Energética constituye un gran paso hacia el desarrollo económico y el fortalecimiento de la soberanía de nuestro país, con un sentido claro de responsabilidad por el futuro. Por ello, también establece que, para crecer como Nación, debemos desarrollar de manera\\nsustentable el gran potencial energético que tiene nuestro país.\\n\\nLa Reforma Constitucional, aprobada por el Congreso de la Unión y publicada en el Diario Oficial\\nde la Federación en diciembre de 2013, representó el primer paso firme y decidido de la Reforma Energética. Por su parte, la legislación secundaria tiene como guía la reforma constitucional\\nrealizada por el Congreso, y se apega todas a sus disposiciones. En conjunto, representan una\\nrenovación profunda de nuestro marco jurídico en materia energética.\\n\\nEn suma, la Reforma Energética establece las bases para la modernización y transformación del\\nsector energético nacional. Los mexicanos ahora contamos con las herramientas necesarias\\npara i) detonar mayores inversiones, ii) generar más empleos, iii) impulsar el crecimiento económico y iv) suministrar energía confiable, limpia y de bajo costo. Es momento de aprovechar\\nel nuevo modelo energético; con la implementación exitosa de la Reforma Energética, México\\npodrá convertir su amplio potencial en resultados y oportunidades de crecimiento y desarrollo\\npara todos los mexicanos.\\n\\n\\n### 23\\n\\n\\n-----\\n\\n',\n",
       " 'title': 'resumen_reforma_energetica',\n",
       " 'gcs_path': 'documents/summaries/resumen_reforma_energetica.pdf',\n",
       " 'chunk_size': 256,\n",
       " 'vector_id': '53b8a16e-ef04-4378-84db-2de76c979326',\n",
       " 'vector': array([ 1.35017466e-02,  5.68341115e-04, -3.83079387e-02, -3.60679324e-03,\n",
       "         4.12362218e-02,  3.45231453e-03,  1.16428724e-02, -8.06118269e-03,\n",
       "        -5.54102026e-02,  1.51574388e-02,  5.43207601e-02, -3.07505447e-02,\n",
       "        -2.17682458e-02, -2.37644780e-02,  8.00202936e-02, -5.64269722e-03,\n",
       "        -2.37582009e-02,  1.67346164e-03, -3.65309529e-02,  7.11983293e-02,\n",
       "         1.29483104e-01, -3.70039679e-02, -2.98984628e-02,  3.74200940e-02,\n",
       "         7.37351552e-03, -4.21820441e-03, -5.05912676e-02,  4.48187627e-02,\n",
       "        -9.96643901e-02, -3.49775963e-02, -2.30630152e-02,  5.56468442e-02,\n",
       "         5.56163676e-02,  1.35714160e-02,  6.54210895e-02,  5.08819818e-02,\n",
       "         3.16081308e-02,  1.80639848e-02, -2.07532831e-02,  1.05358653e-01,\n",
       "        -1.16305344e-01, -7.05335289e-02, -5.09621389e-02, -7.05973208e-02,\n",
       "        -8.23148191e-02, -3.71260047e-02,  5.24718501e-02,  6.83081089e-05,\n",
       "        -5.62455039e-03, -9.40526426e-02, -4.08008345e-04, -1.05074840e-02,\n",
       "        -4.07095291e-02,  3.22788358e-02,  2.99991295e-02, -5.95175177e-02,\n",
       "         2.70998757e-02, -1.68779977e-02,  2.37910189e-02,  4.00499925e-02,\n",
       "         4.30773990e-03,  3.23340967e-02, -2.41289865e-02,  8.78334686e-05,\n",
       "         2.87907082e-03, -5.21984771e-02,  4.59123701e-02,  2.59989891e-02,\n",
       "        -4.83609773e-02, -2.64442824e-02,  4.05100286e-02, -7.85509199e-02,\n",
       "         1.99449551e-03, -4.94189300e-02, -8.24085250e-02,  2.18607057e-02,\n",
       "        -5.36777778e-03,  9.87709463e-02,  5.31573445e-02, -1.37409374e-01,\n",
       "         7.45501667e-02,  2.25057025e-02, -2.85763647e-02, -8.44788328e-02,\n",
       "         3.92863667e-03,  6.12525605e-02, -5.14009632e-02, -5.61547652e-02,\n",
       "         3.03636584e-02,  3.63653116e-02, -5.77970520e-02,  6.33148700e-02,\n",
       "         4.24234085e-02,  1.63030941e-02,  7.51136988e-02,  3.09178084e-02,\n",
       "         4.07134444e-02, -5.70089333e-02,  6.62613511e-02, -2.18910351e-03,\n",
       "         6.69907629e-02,  5.50494082e-02, -1.59072857e-02, -3.23521085e-02,\n",
       "        -8.62540454e-02, -4.88187112e-02, -1.73821412e-02,  5.99601269e-02,\n",
       "         4.82325666e-02,  4.32058610e-02,  5.81430178e-03, -3.12388036e-02,\n",
       "        -8.28614086e-02, -6.69412687e-02, -1.06609523e-01,  1.22051481e-02,\n",
       "        -1.37090357e-02, -2.84020081e-02,  6.87772930e-02,  2.20238068e-03,\n",
       "         2.35674251e-02, -3.22775766e-02, -2.43072845e-02, -2.19119322e-02,\n",
       "         5.49987964e-02, -2.08870601e-03, -1.88028999e-02,  7.35934328e-33,\n",
       "        -1.24553420e-01,  2.19704714e-02, -3.71807627e-02,  7.56664649e-02,\n",
       "        -4.87202480e-02,  4.83606309e-02, -3.34004387e-02,  6.12672744e-03,\n",
       "         1.32550206e-03,  4.62835506e-02, -2.85236482e-02,  1.57002330e-01,\n",
       "         2.72853114e-02,  6.75625652e-02,  8.89439881e-02, -8.72709677e-02,\n",
       "        -3.39861587e-02, -1.57156857e-04,  3.66324373e-02, -4.68462370e-02,\n",
       "         6.23261416e-03,  1.18171357e-01,  3.84038091e-02, -2.40579322e-02,\n",
       "         3.68112028e-02,  5.43187484e-02,  3.77508602e-03, -9.38733146e-02,\n",
       "        -7.44054392e-02,  5.24946600e-02,  3.11270542e-02,  2.10331846e-02,\n",
       "         1.94944087e-02, -3.02922148e-02, -2.16876436e-02, -6.13686480e-02,\n",
       "         7.98970833e-02, -1.59762297e-02, -5.38857980e-03, -1.83259286e-02,\n",
       "        -6.87117279e-02,  8.22725706e-03, -6.47127023e-03,  1.24293361e-02,\n",
       "         4.04759869e-02,  5.35009094e-02,  5.90209477e-02,  5.13914637e-02,\n",
       "         5.45463152e-02, -2.99196914e-02, -5.14363348e-02,  2.34851474e-03,\n",
       "         1.81800667e-02, -8.73582736e-02,  1.62708536e-02,  1.86963025e-02,\n",
       "        -5.94287068e-02,  1.43355113e-02, -7.94264674e-03, -9.39084440e-02,\n",
       "        -4.05873172e-02,  6.31920248e-02, -5.88357821e-03, -3.58903259e-02,\n",
       "        -4.06813668e-03,  9.02790204e-03, -6.42493889e-02,  1.90378651e-02,\n",
       "         8.75965878e-02,  4.55051586e-02, -8.37821737e-02, -1.35535542e-02,\n",
       "        -1.49143748e-02,  6.80043399e-02,  5.12314476e-02,  1.13914988e-03,\n",
       "        -1.86531581e-02,  5.18960841e-02, -8.53384510e-02, -3.06230448e-02,\n",
       "        -1.15956426e-01, -5.36518730e-03, -2.24463344e-02,  2.69447546e-02,\n",
       "         5.68603016e-02, -2.66901441e-02,  1.71311982e-02,  9.60187986e-02,\n",
       "         1.19401384e-02,  6.47627264e-02, -4.76973839e-02,  2.15456057e-02,\n",
       "         4.98910025e-02,  1.26161026e-02,  4.32883315e-02, -1.09501237e-32,\n",
       "         1.23008210e-02,  4.81362715e-02, -7.54820183e-02, -1.53586622e-02,\n",
       "         3.93733010e-02,  1.41438907e-02, -5.65537401e-02, -9.21806470e-02,\n",
       "        -3.36004049e-02, -1.03960238e-01, -7.76509792e-02, -3.76870446e-02,\n",
       "        -2.97039673e-02, -7.61789531e-02, -8.75491127e-02,  2.53456645e-02,\n",
       "        -8.99548754e-02, -8.65253247e-03, -8.47047344e-02,  3.84919867e-02,\n",
       "        -4.86480892e-02,  7.54005508e-03, -2.78701400e-03,  4.55026627e-02,\n",
       "         1.79654360e-02, -4.55656983e-02, -3.44387740e-02, -2.13988591e-02,\n",
       "         3.00115235e-02,  6.90936949e-03,  1.75042842e-02,  1.27902841e-02,\n",
       "        -2.26749107e-02,  1.00848317e-01, -7.36780018e-02,  1.37039535e-02,\n",
       "         9.28326789e-03, -6.89522475e-02, -4.61818511e-03,  4.59743068e-02,\n",
       "        -8.91144574e-03,  4.78422306e-02,  2.46591121e-02, -1.74745452e-02,\n",
       "        -4.60738763e-02,  1.69438019e-03, -6.55730739e-02, -1.37339413e-01,\n",
       "        -2.42094956e-02, -2.97033880e-02,  1.27436414e-01, -3.78495753e-02,\n",
       "        -8.12534690e-02, -1.97074972e-02, -5.26527269e-03, -9.18915030e-03,\n",
       "         2.38238256e-02, -3.09828632e-02, -1.05554722e-01, -1.36522613e-02,\n",
       "         6.86528161e-02,  3.28769200e-02,  4.70912792e-02,  3.30902264e-02,\n",
       "         2.19243560e-02, -5.51850908e-02, -2.07016505e-02,  9.28516127e-03,\n",
       "         5.95409274e-02,  4.04651277e-03,  7.25506023e-02, -7.03539420e-03,\n",
       "        -1.39264494e-01,  3.76283526e-02, -2.67562717e-02,  4.96587008e-02,\n",
       "        -3.23388316e-02, -1.87298991e-02, -1.57792475e-02,  9.05373786e-03,\n",
       "         2.19924236e-03,  2.21872926e-02, -4.10772674e-02, -1.07797295e-01,\n",
       "         6.83575869e-03,  6.16789944e-02,  9.20952857e-03, -4.31941962e-03,\n",
       "         2.66074240e-02, -9.15687252e-03, -1.22116460e-02, -5.06117009e-02,\n",
       "         7.91059341e-03,  5.23742773e-02, -5.27134687e-02, -5.88675313e-08,\n",
       "         6.94707921e-03,  9.04255360e-03,  5.88221196e-03,  3.55512300e-03,\n",
       "        -3.21182944e-02, -5.81775159e-02, -5.80493510e-02,  7.23485509e-03,\n",
       "         2.41671093e-02, -2.89470647e-02,  1.10117741e-01,  2.69088987e-02,\n",
       "         4.63611521e-02,  1.69760082e-02,  1.22093307e-02, -5.08172698e-02,\n",
       "         6.35473337e-03,  1.23859227e-01, -4.46224026e-02, -2.78553423e-02,\n",
       "         1.63263269e-02, -1.05923311e-04, -1.47851437e-01, -1.58227179e-02,\n",
       "         8.31673890e-02, -4.62426394e-02, -2.44812779e-02,  3.11877136e-03,\n",
       "         4.32029739e-02,  6.67952746e-02, -5.49810752e-02,  6.62044855e-03,\n",
       "        -2.21542474e-02, -7.61186853e-02, -1.86801869e-02, -1.31946406e-03,\n",
       "        -1.96299981e-03, -2.57882681e-02, -4.20418903e-02, -2.46126018e-02,\n",
       "         9.77565497e-02, -3.06443181e-02, -6.98436126e-02, -2.07897667e-02,\n",
       "        -7.67709464e-02, -1.24368459e-01, -3.61841358e-02,  1.64159480e-02,\n",
       "         4.25842814e-02,  2.10896786e-02,  1.79142335e-05,  1.19296415e-02,\n",
       "        -2.53242981e-02,  4.19548154e-02, -3.71811050e-03,  1.16636939e-02,\n",
       "        -6.86425790e-02,  6.86336905e-02, -5.75104021e-02, -8.96845236e-02,\n",
       "         6.41254485e-02,  4.68503758e-02,  5.18742539e-02,  1.67740490e-02],\n",
       "       dtype=float32)}"
      ]
     },
     "execution_count": 12,
     "metadata": {},
     "output_type": "execute_result"
    }
   ],
   "source": [
    "chunks_data[0]"
   ]
  },
  {
   "cell_type": "code",
   "execution_count": 13,
   "metadata": {},
   "outputs": [
    {
     "data": {
      "text/plain": [
       "384"
      ]
     },
     "execution_count": 13,
     "metadata": {},
     "output_type": "execute_result"
    }
   ],
   "source": [
    "vector_size = len(chunks_data[0][\"vector\"])\n",
    "\n",
    "vector_size"
   ]
  },
  {
   "cell_type": "markdown",
   "metadata": {},
   "source": [
    "Connect to the Qdrant Vector DB"
   ]
  },
  {
   "cell_type": "code",
   "execution_count": 14,
   "metadata": {},
   "outputs": [],
   "source": [
    "qdrant_client = QdrantClient(url = qdrant_config.URL, api_key = qdrant_config.API_KEY.get_secret_value())"
   ]
  },
  {
   "cell_type": "markdown",
   "metadata": {},
   "source": [
    "Create a new collection"
   ]
  },
  {
   "cell_type": "code",
   "execution_count": 15,
   "metadata": {},
   "outputs": [],
   "source": [
    "collection_name = \"energy_expert_v1\""
   ]
  },
  {
   "cell_type": "code",
   "execution_count": 16,
   "metadata": {},
   "outputs": [
    {
     "name": "stdout",
     "output_type": "stream",
     "text": [
      "Collection already exists\n"
     ]
    }
   ],
   "source": [
    "if not qdrant_client.collection_exists(collection_name):\n",
    "    qdrant_client.create_collection(\n",
    "        collection_name = collection_name,\n",
    "        vectors_config = VectorParams(size = vector_size, distance = Distance.DOT),\n",
    "    )\n",
    "\n",
    "else:\n",
    "    print(\"Collection already exists\")\n"
   ]
  },
  {
   "cell_type": "markdown",
   "metadata": {},
   "source": [
    "Generate a list of PointStruct objects"
   ]
  },
  {
   "cell_type": "code",
   "execution_count": 17,
   "metadata": {},
   "outputs": [
    {
     "data": {
      "text/plain": [
       "309"
      ]
     },
     "execution_count": 17,
     "metadata": {},
     "output_type": "execute_result"
    }
   ],
   "source": [
    "points = [PointStruct(\n",
    "                    id = chunk_data[\"vector_id\"],\n",
    "                    vector = chunk_data[\"vector\"],\n",
    "                    payload = { key: value for key, value in chunk_data.items() if key not in [\"vector_id\", \"vector\"]}  \n",
    "                       ) for chunk_data in chunks_data]\n",
    "\n",
    "len(points)"
   ]
  },
  {
   "cell_type": "code",
   "execution_count": 18,
   "metadata": {},
   "outputs": [],
   "source": [
    "points_title = points[0].payload[\"title\"]"
   ]
  },
  {
   "cell_type": "code",
   "execution_count": 28,
   "metadata": {},
   "outputs": [
    {
     "name": "stdout",
     "output_type": "stream",
     "text": [
      "The document that is being trying to index is already in the collection.\n"
     ]
    }
   ],
   "source": [
    "# Get the document's title\n",
    "chunks_title = points[0]\n",
    "\n",
    "# Finding if the document is already in the collection\n",
    "\n",
    "# Create a filter to match payload\n",
    "title_filter = Filter(\n",
    "    must=[\n",
    "        FieldCondition(\n",
    "            key=\"title\",\n",
    "            match=MatchValue(value=points_title)\n",
    "        )\n",
    "    ]\n",
    ")\n",
    "\n",
    "# Scroll through all matching vectors\n",
    "scroll_result = qdrant_client.scroll(\n",
    "    collection_name=collection_name,\n",
    "    scroll_filter=title_filter,\n",
    "    limit=1 # In this case, I only need 1 vector to know if the document is already indexed\n",
    ")\n",
    "\n",
    "# Access the points\n",
    "vectors = scroll_result[0]  # List of PointStruct\n",
    "\n",
    "if len(vectors) > 0:\n",
    "    print(\"The document that is being trying to index is already in the collection.\")\n",
    "\n",
    "else:\n",
    "    print(\"Indexing document\")\n",
    "    qdrant_client.upsert(\n",
    "        collection_name = collection_name,\n",
    "        wait = True, \n",
    "        points = points,\n",
    "    )"
   ]
  },
  {
   "cell_type": "markdown",
   "metadata": {},
   "source": [
    "## Indexing a PDF into a vector DB\n",
    "\n",
    "This section shows the whole steps to load a PDF into a vector DB. The PDF file is stored in GCS"
   ]
  },
  {
   "cell_type": "code",
   "execution_count": 3,
   "metadata": {},
   "outputs": [],
   "source": [
    "gcs_file_path = f\"gs://{gcp_config.BUCKET_NAME}/documents/summaries/resumen_reforma_energetica.pdf\""
   ]
  },
  {
   "cell_type": "code",
   "execution_count": 4,
   "metadata": {},
   "outputs": [
    {
     "name": "stderr",
     "output_type": "stream",
     "text": [
      "\u001b[32m2025-04-08 12:15:38.929\u001b[0m | \u001b[1mINFO    \u001b[0m | \u001b[36mrag_llm_energy_expert.ingest_document\u001b[0m:\u001b[36mparse_file\u001b[0m:\u001b[36m41\u001b[0m - \u001b[1mParsing file...\u001b[0m\n",
      "\u001b[32m2025-04-08 12:15:38.933\u001b[0m | \u001b[1mINFO    \u001b[0m | \u001b[36mrag_llm_energy_expert.parsers_auxiliars\u001b[0m:\u001b[36mextract_pdf_content\u001b[0m:\u001b[36m32\u001b[0m - \u001b[1mExtracting PDF content...\u001b[0m\n",
      "\u001b[32m2025-04-08 12:15:38.935\u001b[0m | \u001b[1mINFO    \u001b[0m | \u001b[36mrag_llm_energy_expert.parsers_auxiliars\u001b[0m:\u001b[36mextract_pdf_content\u001b[0m:\u001b[36m48\u001b[0m - \u001b[1mgoogle cloud storage path detected\u001b[0m\n",
      "\u001b[32m2025-04-08 12:15:40.200\u001b[0m | \u001b[1mINFO    \u001b[0m | \u001b[36mrag_llm_energy_expert.parsers_auxiliars\u001b[0m:\u001b[36mextract_pdf_content\u001b[0m:\u001b[36m86\u001b[0m - \u001b[1mConverting PDF content to a markdown format...\u001b[0m\n",
      "\u001b[32m2025-04-08 12:16:03.353\u001b[0m | \u001b[1mINFO    \u001b[0m | \u001b[36mrag_llm_energy_expert.parsers_auxiliars\u001b[0m:\u001b[36mextract_pdf_content\u001b[0m:\u001b[36m102\u001b[0m - \u001b[1mPDF content successfully extracted\u001b[0m\n",
      "\u001b[32m2025-04-08 12:16:03.353\u001b[0m | \u001b[1mINFO    \u001b[0m | \u001b[36mrag_llm_energy_expert.parsers_auxiliars\u001b[0m:\u001b[36mchunk_by_md_headers\u001b[0m:\u001b[36m119\u001b[0m - \u001b[1mChunking the text by markdown headers...\u001b[0m\n",
      "\u001b[32m2025-04-08 12:16:03.369\u001b[0m | \u001b[1mINFO    \u001b[0m | \u001b[36mrag_llm_energy_expert.parsers_auxiliars\u001b[0m:\u001b[36mchunk_by_md_headers\u001b[0m:\u001b[36m141\u001b[0m - \u001b[1mChunks based on markdown headers successfully created\u001b[0m\n",
      "\u001b[32m2025-04-08 12:16:03.369\u001b[0m | \u001b[1mINFO    \u001b[0m | \u001b[36mrag_llm_energy_expert.parsers_auxiliars\u001b[0m:\u001b[36msize_md_chunks\u001b[0m:\u001b[36m162\u001b[0m - \u001b[1mSizing markdown chunks...\u001b[0m\n",
      "\u001b[32m2025-04-08 12:16:03.394\u001b[0m | \u001b[1mINFO    \u001b[0m | \u001b[36mrag_llm_energy_expert.parsers_auxiliars\u001b[0m:\u001b[36msize_md_chunks\u001b[0m:\u001b[36m176\u001b[0m - \u001b[1mMarkdown chunks sized successfully\u001b[0m\n",
      "\u001b[32m2025-04-08 12:16:03.394\u001b[0m | \u001b[1mINFO    \u001b[0m | \u001b[36mrag_llm_energy_expert.parsers_auxiliars\u001b[0m:\u001b[36mprepare_chunks_for_embeddings\u001b[0m:\u001b[36m194\u001b[0m - \u001b[1mPreparing chunks for embedding...\u001b[0m\n",
      "\u001b[32m2025-04-08 12:16:03.396\u001b[0m | \u001b[1mINFO    \u001b[0m | \u001b[36mrag_llm_energy_expert.parsers_auxiliars\u001b[0m:\u001b[36mprepare_chunks_for_embeddings\u001b[0m:\u001b[36m216\u001b[0m - \u001b[1mCreating chunks to embed...\u001b[0m\n",
      "\u001b[32m2025-04-08 12:16:03.398\u001b[0m | \u001b[1mINFO    \u001b[0m | \u001b[36mrag_llm_energy_expert.parsers_auxiliars\u001b[0m:\u001b[36mprepare_chunks_for_embeddings\u001b[0m:\u001b[36m224\u001b[0m - \u001b[1mChunks ready to be embedded\u001b[0m\n"
     ]
    }
   ],
   "source": [
    "chunks = parse_file(gcs_file_path,\n",
    "                    chunk_size=256,\n",
    "                    chunk_overlap=0)"
   ]
  },
  {
   "cell_type": "code",
   "execution_count": 7,
   "metadata": {},
   "outputs": [
    {
     "name": "stderr",
     "output_type": "stream",
     "text": [
      "\u001b[32m2025-04-08 12:16:34.750\u001b[0m | \u001b[1mINFO    \u001b[0m | \u001b[36mrag_llm_energy_expert.ingest_document\u001b[0m:\u001b[36mcreate_points\u001b[0m:\u001b[36m83\u001b[0m - \u001b[1mCreating points from chunks file...\u001b[0m\n",
      "\u001b[32m2025-04-08 12:16:34.754\u001b[0m | \u001b[1mINFO    \u001b[0m | \u001b[36mrag_llm_energy_expert.ingest_document\u001b[0m:\u001b[36mcreate_points\u001b[0m:\u001b[36m95\u001b[0m - \u001b[1mEmbedding chunks...\u001b[0m\n",
      "\u001b[32m2025-04-08 12:16:42.155\u001b[0m | \u001b[1mINFO    \u001b[0m | \u001b[36mrag_llm_energy_expert.ingest_document\u001b[0m:\u001b[36mcreate_points\u001b[0m:\u001b[36m114\u001b[0m - \u001b[1mEmbeddings created\u001b[0m\n"
     ]
    }
   ],
   "source": [
    "points=create_points(chunks=chunks, embedding_model=SentenceTransformer(qdrant_config.EMBEDDING_MODEL))"
   ]
  },
  {
   "cell_type": "code",
   "execution_count": 8,
   "metadata": {},
   "outputs": [
    {
     "data": {
      "text/plain": [
       "PointStruct(id='4056b616-187f-497a-a6b1-ff4e804b91d2', vector=[-0.08761797845363617, 0.07058341056108475, 0.013568367809057236, -0.007789564784616232, -0.0325322300195694, 0.06386642158031464, 0.02928394265472889, 0.07830828428268433, -0.02154732309281826, -0.04089831933379173, 0.046019986271858215, -0.014016227796673775, -0.11006162315607071, -0.024974362924695015, -0.050907693803310394, -0.05500343441963196, -0.04999767616391182, 0.03196965157985687, 0.0260700061917305, 0.04113233461976051, 0.06488081067800522, 0.025954028591513634, 0.006191559601575136, 0.0009083159966394305, -0.029840033501386642, -0.017980486154556274, 0.02115805447101593, -0.007033641915768385, 0.011362326331436634, -0.07433632016181946, 0.03645186498761177, -0.010294289328157902, 0.04713594168424606, -0.013658802025020123, 0.0075075747445225716, 0.06611251085996628, -0.05643364414572716, 0.008608045987784863, 0.007552890572696924, 0.02792053297162056, -0.08371800929307938, -0.14766690135002136, -0.08526746183633804, -0.0619034618139267, 0.01213731337338686, -0.07657838612794876, -0.05162178725004196, 0.06285160034894943, -0.0422569178044796, 0.017145076766610146, -0.09016788750886917, -0.09444466978311539, -0.01866999827325344, -0.020534532144665718, -0.001794836251065135, 0.00885822158306837, 0.03371141850948334, -0.022632570937275887, 0.00933802966028452, 0.005221347790211439, 0.011756175197660923, -0.007703612558543682, -0.077287457883358, 0.019248152151703835, -0.042901620268821716, -0.022957541048526764, 0.004224696662276983, 0.030206268653273582, -0.1254100650548935, 0.13517118990421295, 0.04456600546836853, -0.07444573193788528, -0.04168451577425003, 0.012452684342861176, -0.02986779250204563, 0.04346109554171562, -0.02463594079017639, 0.05258660390973091, 0.04467746615409851, 0.008957354351878166, 0.07387864589691162, -0.08910861611366272, -0.061092935502529144, 0.018131043761968613, -0.01257416047155857, 0.029760364443063736, -0.025585386902093887, -0.032838065177202225, 0.02242140844464302, 0.011738209053874016, -0.0017355447635054588, -0.01673884317278862, -0.034069374203681946, 0.04774172976613045, -0.07766829431056976, 0.0005251074326224625, 0.0172951091080904, 0.07221833616495132, 0.03268022835254669, 0.08029942214488983, 0.02900090627372265, 0.01812511309981346, -0.013850313611328602, 0.018897853791713715, -0.15439443290233612, -0.010921727865934372, 0.09400957077741623, -0.06801848858594894, 0.08882945775985718, 0.020485877990722656, -0.040695205330848694, -0.04377398267388344, -0.07815403491258621, -0.0816919207572937, 0.026303499937057495, -0.00892626866698265, -0.02911708876490593, -0.0358731634914875, 0.04259457439184189, -0.0068081701174378395, 0.09231933951377869, 0.032338984310626984, -0.013137727044522762, 0.008204570971429348, -0.03168409317731857, -0.045089077204465866, 0.049870580434799194, -4.339509679451267e-33, 0.008943060413002968, -7.653312786715105e-05, -0.024989137426018715, 0.08418852090835571, 0.012974239885807037, 0.029315434396266937, -0.08820246905088425, 0.027497747913002968, -0.03548291325569153, -0.006899882573634386, -0.04707349091768265, 0.03955680876970291, -0.04170474037528038, 0.05115404725074768, -0.02700210176408291, 0.0100471843034029, 0.0773344337940216, 0.03991140425205231, -0.004200576338917017, 0.034114111214876175, -0.010199561715126038, 0.005775416735559702, 0.013124162331223488, 0.050064388662576675, -0.00929404515773058, 0.025525275617837906, -0.01038874126970768, -0.03857283666729927, -0.0696813315153122, 0.026335855945944786, 0.04078328236937523, -0.013545962050557137, 0.021400880068540573, 0.015533169731497765, 0.019516238942742348, -0.026816852390766144, 0.043898019939661026, -0.0032855451572686434, -0.015078328549861908, -0.04234619438648224, 0.04206402227282524, 0.06463190913200378, 0.0027153892442584038, -0.03603675961494446, 0.0598069466650486, -0.09040398895740509, 0.1036161556839943, 0.07546239346265793, 0.0733908861875534, 0.07341838628053665, -0.039594218134880066, 0.02712245099246502, 0.013757315464317799, -0.034957610070705414, 0.02388959378004074, 0.05177592113614082, -0.07232589274644852, 0.1261892020702362, 0.03163115307688713, -0.07959456741809845, -0.00910493079572916, 0.04304895177483559, 0.030461620539426804, -0.041257768869400024, 0.03759978711605072, 0.006612825207412243, 0.018690908327698708, 0.042105983942747116, 0.03343871235847473, -0.023126011714339256, -0.0334428995847702, -0.016955962404608727, -0.004286669660359621, 0.07498742640018463, -0.07697825878858566, 0.05179202929139137, -0.06826397031545639, 0.05221521481871605, -0.04354436695575714, 0.02723558060824871, -0.010447713546454906, -0.02545027807354927, -0.023601891472935677, -0.10804444551467896, 0.12628567218780518, 0.11942485719919205, 0.029381634667515755, -0.08516862243413925, 0.023593159392476082, 0.07091885060071945, 0.00929178111255169, -0.012247041799128056, -0.03911832347512245, -0.031104667112231255, 0.01829962059855461, -2.066060120853532e-34, 0.09262716770172119, -0.005700226407498121, -0.0737621858716011, 0.022382568567991257, -0.054254110902547836, 0.019629912450909615, -0.023485567420721054, 0.020328328013420105, -0.10707735270261765, -0.0005186496418900788, 0.010761464945971966, -0.05714438110589981, 0.08156094700098038, -0.01380147598683834, -0.0035307896323502064, 0.036163073033094406, 0.02201627567410469, -0.013150726445019245, -0.06590299308300018, 0.004784883465617895, 0.026378680020570755, -0.10452299565076828, -0.02437002770602703, 0.11139993369579315, 0.009915859438478947, -0.007190226577222347, 0.0341854952275753, 0.0017561462009325624, -0.06982142478227615, -0.04142589867115021, 0.026005826890468597, -0.021962512284517288, -0.019083164632320404, 0.027401145547628403, -0.0019362333696335554, -0.017715977504849434, -0.0019744436722248793, 0.01749221794307232, 0.027375943958759308, 0.07980156689882278, 0.08649197220802307, 0.02130119688808918, 0.012347839772701263, 0.015584399923682213, 0.004194116685539484, -0.017840227112174034, -0.04904253035783768, -0.08579393476247787, -0.08106278628110886, -0.02560339868068695, 0.01829622872173786, 0.01876896433532238, -0.06844349950551987, -0.0746108666062355, 0.08313505351543427, 0.018537960946559906, 0.007227217312902212, -0.041716381907463074, -0.1019321158528328, 0.000660790188703686, 0.07917997241020203, 0.01852111890912056, -0.021837908774614334, 0.0343046709895134, 0.13732105493545532, -0.080951988697052, -0.04234869033098221, 0.01323680393397808, -0.014440992847084999, -0.026228465139865875, 0.07720594853162766, -0.0544707253575325, -0.06300367414951324, 0.0005807162378914654, -0.10410497337579727, -0.005300418008118868, -0.0036434256471693516, 0.045756638050079346, 0.0035599006805568933, 0.02813287079334259, -0.03613904491066933, -0.07652637362480164, -0.016946353018283844, -0.09301970899105072, -0.03998494893312454, -0.01567484810948372, -0.030373703688383102, -0.003914316184818745, -0.02346063032746315, -0.039837032556533813, 0.014391684904694557, 0.038173332810401917, -0.0027267313562333584, -0.030158720910549164, -0.011550691910088062, -2.7837369742655937e-08, 0.004097035154700279, -0.08093561977148056, 0.005648813676089048, -0.026806965470314026, 0.06628701090812683, -0.08456651866436005, -0.041833408176898956, -0.0616774745285511, -0.032746944576501846, 0.020866012200713158, -0.01705002598464489, -0.027589917182922363, -0.023142535239458084, 0.06301872432231903, 0.06842657178640366, 0.040879033505916595, 0.05556395649909973, 0.14684002101421356, -0.021712159737944603, 0.002085315529257059, 0.017908142879605293, -0.005464870948344469, -0.05720358341932297, -0.05547185614705086, 0.03238397091627121, 0.03657575696706772, -0.05627065524458885, 0.10294719785451889, 0.035887137055397034, -0.04095602408051491, -0.0057663824409246445, 0.05360502377152443, 0.017283936962485313, -0.08918154239654541, -0.1294706165790558, 0.04012581333518028, 0.0677325576543808, -0.017657065764069557, -0.004371555522084236, -0.06650292128324509, 0.06768853962421417, 0.06487259268760681, 0.0811367854475975, 0.006557216867804527, -0.00505908764898777, -0.04854671284556389, 0.012802342884242535, 0.0747680589556694, -0.009034160524606705, -0.0416545569896698, -0.14243564009666443, -0.025725245475769043, 0.038145761936903, -0.018904080614447594, -0.0020145566668361425, -0.009874756447970867, 0.04411867633461952, 0.056848179548978806, -0.012042472139000893, -0.019761886447668076, 0.09894976764917374, 0.03593024984002113, -0.02593209408223629, -0.026300927624106407], payload={'Header 1': 'Resumen Ejecutivo', 'text': '# Resumen Ejecutivo  \\n-----  \\n-----', 'upload_date': '2025-04-08', 'title': 'resumen_reforma_energetica', 'storage_path': 'gs://rag_llm_energy_expert/documents/summaries/resumen_reforma_energetica.pdf'})"
      ]
     },
     "execution_count": 8,
     "metadata": {},
     "output_type": "execute_result"
    }
   ],
   "source": [
    "points[0]"
   ]
  },
  {
   "cell_type": "code",
   "execution_count": 9,
   "metadata": {},
   "outputs": [
    {
     "name": "stderr",
     "output_type": "stream",
     "text": [
      "\u001b[32m2025-04-08 12:16:52.629\u001b[0m | \u001b[1mINFO    \u001b[0m | \u001b[36mrag_llm_energy_expert.ingest_document\u001b[0m:\u001b[36mupload_document\u001b[0m:\u001b[36m146\u001b[0m - \u001b[1membedding model successfully initialized\u001b[0m\n",
      "\u001b[32m2025-04-08 12:16:52.632\u001b[0m | \u001b[1mINFO    \u001b[0m | \u001b[36mrag_llm_energy_expert.ingest_document\u001b[0m:\u001b[36mparse_file\u001b[0m:\u001b[36m41\u001b[0m - \u001b[1mParsing file...\u001b[0m\n",
      "\u001b[32m2025-04-08 12:16:52.633\u001b[0m | \u001b[1mINFO    \u001b[0m | \u001b[36mrag_llm_energy_expert.parsers_auxiliars\u001b[0m:\u001b[36mextract_pdf_content\u001b[0m:\u001b[36m32\u001b[0m - \u001b[1mExtracting PDF content...\u001b[0m\n",
      "\u001b[32m2025-04-08 12:16:52.636\u001b[0m | \u001b[1mINFO    \u001b[0m | \u001b[36mrag_llm_energy_expert.parsers_auxiliars\u001b[0m:\u001b[36mextract_pdf_content\u001b[0m:\u001b[36m48\u001b[0m - \u001b[1mgoogle cloud storage path detected\u001b[0m\n",
      "\u001b[32m2025-04-08 12:16:52.983\u001b[0m | \u001b[1mINFO    \u001b[0m | \u001b[36mrag_llm_energy_expert.parsers_auxiliars\u001b[0m:\u001b[36mextract_pdf_content\u001b[0m:\u001b[36m86\u001b[0m - \u001b[1mConverting PDF content to a markdown format...\u001b[0m\n",
      "\u001b[32m2025-04-08 12:17:14.716\u001b[0m | \u001b[1mINFO    \u001b[0m | \u001b[36mrag_llm_energy_expert.parsers_auxiliars\u001b[0m:\u001b[36mextract_pdf_content\u001b[0m:\u001b[36m102\u001b[0m - \u001b[1mPDF content successfully extracted\u001b[0m\n",
      "\u001b[32m2025-04-08 12:17:14.716\u001b[0m | \u001b[1mINFO    \u001b[0m | \u001b[36mrag_llm_energy_expert.parsers_auxiliars\u001b[0m:\u001b[36mchunk_by_md_headers\u001b[0m:\u001b[36m119\u001b[0m - \u001b[1mChunking the text by markdown headers...\u001b[0m\n",
      "\u001b[32m2025-04-08 12:17:14.737\u001b[0m | \u001b[1mINFO    \u001b[0m | \u001b[36mrag_llm_energy_expert.parsers_auxiliars\u001b[0m:\u001b[36mchunk_by_md_headers\u001b[0m:\u001b[36m141\u001b[0m - \u001b[1mChunks based on markdown headers successfully created\u001b[0m\n",
      "\u001b[32m2025-04-08 12:17:14.741\u001b[0m | \u001b[1mINFO    \u001b[0m | \u001b[36mrag_llm_energy_expert.parsers_auxiliars\u001b[0m:\u001b[36msize_md_chunks\u001b[0m:\u001b[36m162\u001b[0m - \u001b[1mSizing markdown chunks...\u001b[0m\n",
      "\u001b[32m2025-04-08 12:17:14.771\u001b[0m | \u001b[1mINFO    \u001b[0m | \u001b[36mrag_llm_energy_expert.parsers_auxiliars\u001b[0m:\u001b[36msize_md_chunks\u001b[0m:\u001b[36m176\u001b[0m - \u001b[1mMarkdown chunks sized successfully\u001b[0m\n",
      "\u001b[32m2025-04-08 12:17:14.774\u001b[0m | \u001b[1mINFO    \u001b[0m | \u001b[36mrag_llm_energy_expert.parsers_auxiliars\u001b[0m:\u001b[36mprepare_chunks_for_embeddings\u001b[0m:\u001b[36m194\u001b[0m - \u001b[1mPreparing chunks for embedding...\u001b[0m\n",
      "\u001b[32m2025-04-08 12:17:14.778\u001b[0m | \u001b[1mINFO    \u001b[0m | \u001b[36mrag_llm_energy_expert.parsers_auxiliars\u001b[0m:\u001b[36mprepare_chunks_for_embeddings\u001b[0m:\u001b[36m216\u001b[0m - \u001b[1mCreating chunks to embed...\u001b[0m\n",
      "\u001b[32m2025-04-08 12:17:14.782\u001b[0m | \u001b[1mINFO    \u001b[0m | \u001b[36mrag_llm_energy_expert.parsers_auxiliars\u001b[0m:\u001b[36mprepare_chunks_for_embeddings\u001b[0m:\u001b[36m224\u001b[0m - \u001b[1mChunks ready to be embedded\u001b[0m\n",
      "\u001b[32m2025-04-08 12:17:14.787\u001b[0m | \u001b[1mINFO    \u001b[0m | \u001b[36mrag_llm_energy_expert.ingest_document\u001b[0m:\u001b[36mcreate_points\u001b[0m:\u001b[36m83\u001b[0m - \u001b[1mCreating points from chunks file...\u001b[0m\n",
      "\u001b[32m2025-04-08 12:17:14.789\u001b[0m | \u001b[1mINFO    \u001b[0m | \u001b[36mrag_llm_energy_expert.ingest_document\u001b[0m:\u001b[36mcreate_points\u001b[0m:\u001b[36m95\u001b[0m - \u001b[1mEmbedding chunks...\u001b[0m\n",
      "\u001b[32m2025-04-08 12:17:21.789\u001b[0m | \u001b[1mINFO    \u001b[0m | \u001b[36mrag_llm_energy_expert.ingest_document\u001b[0m:\u001b[36mcreate_points\u001b[0m:\u001b[36m114\u001b[0m - \u001b[1mEmbeddings created\u001b[0m\n",
      "\u001b[32m2025-04-08 12:17:21.789\u001b[0m | \u001b[1mINFO    \u001b[0m | \u001b[36mutils.vector_db.qdrant\u001b[0m:\u001b[36mupdate_points\u001b[0m:\u001b[36m158\u001b[0m - \u001b[1mUpdating points...\u001b[0m\n",
      "\u001b[32m2025-04-08 12:17:22.122\u001b[0m | \u001b[1mINFO    \u001b[0m | \u001b[36mutils.vector_db.qdrant\u001b[0m:\u001b[36mdelete_document\u001b[0m:\u001b[36m83\u001b[0m - \u001b[1mDeleting document...\u001b[0m\n",
      "\u001b[32m2025-04-08 12:17:22.367\u001b[0m | \u001b[1mINFO    \u001b[0m | \u001b[36mutils.vector_db.qdrant\u001b[0m:\u001b[36mdelete_document\u001b[0m:\u001b[36m103\u001b[0m - \u001b[1mDocument resumen_reforma_energetica deleted\u001b[0m\n",
      "\u001b[32m2025-04-08 12:17:22.383\u001b[0m | \u001b[1mINFO    \u001b[0m | \u001b[36mutils.vector_db.qdrant\u001b[0m:\u001b[36mupload_points\u001b[0m:\u001b[36m117\u001b[0m - \u001b[1mUploading points...\u001b[0m\n",
      "\u001b[32m2025-04-08 12:17:23.486\u001b[0m | \u001b[1mINFO    \u001b[0m | \u001b[36mutils.vector_db.qdrant\u001b[0m:\u001b[36mupload_points\u001b[0m:\u001b[36m144\u001b[0m - \u001b[1mPoints uploaded into the collection energy_expert_v1\u001b[0m\n"
     ]
    }
   ],
   "source": [
    "#  Previous execution time: 2 min, actual time: 1 min 11 s, only using batch embeddings\n",
    "upload_document(\n",
    "    file_path=gcs_file_path,\n",
    "    chunk_overlap=qdrant_config.CHUNK_OVERLAP,\n",
    "    embedding_model=qdrant_config.EMBEDDING_MODEL,\n",
    "    vectordb_collection=qdrant_config.COLLECTION_NAME + qdrant_config.COLLECTION_VERSION \n",
    "    )"
   ]
  },
  {
   "cell_type": "code",
   "execution_count": null,
   "metadata": {},
   "outputs": [],
   "source": []
  }
 ],
 "metadata": {
  "kernelspec": {
   "display_name": ".venv",
   "language": "python",
   "name": "python3"
  },
  "language_info": {
   "codemirror_mode": {
    "name": "ipython",
    "version": 3
   },
   "file_extension": ".py",
   "mimetype": "text/x-python",
   "name": "python",
   "nbconvert_exporter": "python",
   "pygments_lexer": "ipython3",
   "version": "3.11.10"
  }
 },
 "nbformat": 4,
 "nbformat_minor": 2
}
