{
 "cells": [
  {
   "cell_type": "markdown",
   "metadata": {},
   "source": [
    "# RAG Retrieve Context"
   ]
  },
  {
   "cell_type": "markdown",
   "metadata": {},
   "source": [
    "Once the data is uploaded into the vector DB, the next step is connect to an LLM and start retrieving context from the user's query"
   ]
  },
  {
   "cell_type": "markdown",
   "metadata": {},
   "source": [
    "## Import libraries"
   ]
  },
  {
   "cell_type": "code",
   "execution_count": 1,
   "metadata": {},
   "outputs": [],
   "source": [
    "from qdrant_client import QdrantClient, models\n",
    "import requests\n",
    "\n",
    "import sys\n",
    "\n",
    "sys.path.append(\"..\")\n",
    "\n",
    "from rag_llm_energy_expert.search.searchers_auxiliars import process_query, process_query_results\n",
    "from rag_llm_energy_expert.search.searchers import semantic_search\n",
    "from rag_llm_energy_expert.credentials import get_qdrant_config, get_gcp_config"
   ]
  },
  {
   "cell_type": "code",
   "execution_count": 2,
   "metadata": {},
   "outputs": [],
   "source": [
    "qdrant_config = get_qdrant_config()\n",
    "gcp_config = get_gcp_config()"
   ]
  },
  {
   "cell_type": "markdown",
   "metadata": {},
   "source": [
    "Vector DB connection"
   ]
  },
  {
   "cell_type": "code",
   "execution_count": 3,
   "metadata": {},
   "outputs": [],
   "source": [
    "qdrant_client = QdrantClient(url = qdrant_config.URL, api_key = qdrant_config.API_KEY.get_secret_value())"
   ]
  },
  {
   "cell_type": "markdown",
   "metadata": {},
   "source": [
    "Query to obtain the most relevant documents"
   ]
  },
  {
   "cell_type": "code",
   "execution_count": 4,
   "metadata": {},
   "outputs": [],
   "source": [
    "query = \"Se establecen mecanismos legales efectivos para prevenir\""
   ]
  },
  {
   "cell_type": "markdown",
   "metadata": {},
   "source": [
    "Embedding of the query"
   ]
  },
  {
   "cell_type": "code",
   "execution_count": 5,
   "metadata": {},
   "outputs": [],
   "source": [
    "payload = {\n",
    "    \"text\":query,\n",
    "}\n",
    "\n",
    "\n",
    "headers = {\"Authorization\": f\"Bearer {gcp_config.EMBEDDING_SERVICE_IDTOKEN.get_secret_value()}\"}\n",
    "\n",
    "response = requests.post(url = gcp_config.EMBEDDING_SERVICE_URL + gcp_config.EMBED_TEXT_ENDPOINT, json=payload, headers = headers)"
   ]
  },
  {
   "cell_type": "code",
   "execution_count": 6,
   "metadata": {},
   "outputs": [
    {
     "data": {
      "text/plain": [
       "'{\"chunks\":[{\"vector_id\":\"8702880b-c394-4ece-ac3d-df22a0302750\",\"vector\":[-0.10738659650087357,0.2562285363674164,-0.4657200276851654,-0.06869310885667801,0.07532059401273727,0.38594698905944824,-0.09326693415641785,0.1372416913509369,-0.008625430054962635,0.4161311388015747,0.265689492225647,0.35646137595176697,0.14466364681720734,-0.04870103672146797,-0.02861391194164753,-0.05373667553067207,-0.06363384425640106,0.2452787607908249,-0.09690675884485245,0.12638919055461884,0.41744673252105713,0.024091007187962532,0.007919087074697018,0.014006945304572582,-0.5610426068305969,0.12132805585861206,-0.2948296070098877,-0.14888982474803925,0.14998102188110352,-0.10311264544725418,-0.12275881320238113,-0.22059790790081024,-0.21566633880138397,0.05584513023495674,-0.20673984289169312,-0.5407423377037048,0.18498051166534424,0.2138666957616806,0.008598199114203453,-0.17691625654697418,-0.05485868453979492,0.04597483202815056,-0.21201592683792114,0.08601651340723038,-0.19417540729045868,0.06513221561908722,0.22368216514587402,0.14157074689865112,-0.3053179681301117,-0.29673945903778076,-0.13489921391010284,-0.22229863703250885,0.31299540400505066,0.1873493790626526,0.04461131617426872,-0.3649321496486664,0.2630326747894287,0.0534205324947834,-0.16439886391162872,0.007541045546531677,0.18837207555770874,-0.08553061634302139,-0.11958760023117065,-0.1891443133354187,-0.1305074840784073,0.296578049659729,-0.046530868858098984,0.06290037930011749,0.1924135684967041,0.4586261808872223,-0.14030981063842773,0.20971710979938507,-0.2471696138381958,0.11743545532226562,0.13734157383441925,0.10135170072317123,0.07570189237594604,0.17554253339767456,0.13394612073898315,-0.19510509073734283,0.013963202945888042,-0.05252143368124962,0.0849321186542511,0.23094289004802704,-0.32506194710731506,0.12910638749599457,0.18906211853027344,0.4229933023452759,0.2732526361942291,-0.09445574879646301,-0.05883764103055,-0.03990675508975983,0.46719226241111755,-0.17529113590717316,-0.012317388318479061,0.09477114677429199,0.1662546545267105,-0.10595020651817322,0.31519412994384766,0.22936630249023438,0.07392501085996628,0.08884546905755997,-0.12862536311149597,-0.2959705889225006,0.30309703946113586,-0.01651490293443203,0.3072221875190735,-0.1851816177368164,-0.042433034628629684,0.1687789410352707,0.080289326608181,0.10225654393434525,-0.16114208102226257,-0.17624109983444214,0.012527559883892536,0.21552757918834686,0.04596668481826782,0.3265427052974701,0.268800288438797,-0.2957604229450226,0.03068944253027439,-0.23114895820617676,0.25583821535110474,-0.14675185084342957,0.3701457679271698,0.0020609695930033922,-0.05532335117459297,-0.0036118945572525263,-0.2539205253124237,-0.10165166109800339,-0.11692631244659424,-0.22315847873687744,0.034372661262750626,0.04369184747338295,0.015055139549076557,-0.12647072970867157,-0.0927124097943306,0.17775647342205048,0.0961926057934761,0.10974634438753128,0.07886672019958496,0.0348404161632061,0.3117752969264984,0.17181403934955597,0.25275740027427673,0.0563957504928112,0.1964428424835205,-0.27160993218421936,0.36824944615364075,-0.2931387722492218,0.2857120633125305,0.0286641214042902,-0.05295349285006523,-0.030671032145619392,-0.04949082061648369,-0.05043685808777809,0.18269197642803192,0.011034752242267132,0.1968020796775818,0.10700813680887222,-0.14378702640533447,-0.02556104212999344,0.17570732533931732,0.34981682896614075,-0.1299724280834198,-0.29639509320259094,-0.06227952241897583,-0.19916056096553802,-0.2542083263397217,-0.05040987953543663,0.1548234075307846,-0.07007788121700287,0.04894498363137245,-0.1607924848794937,-0.25352486968040466,-0.2537689805030823,-0.32607516646385193,0.05232934653759003,-0.12190616130828857,0.18253381550312042,0.25219637155532837,-0.42159953713417053,-0.11695694923400879,-0.025228478014469147,-0.18410609662532806,0.053603675216436386,-0.12491824477910995,0.034297406673431396,0.1351010650396347,0.03806834667921066,-0.15349890291690826,0.04161570593714714,-0.12261631339788437,-0.04672597721219063,-0.05372275039553642,-0.37117353081703186,-0.22330236434936523,-0.2754653990268707,-0.13127300143241882,0.06480666995048523,-0.12210047990083694,0.17432761192321777,-0.27548691630363464,0.12051525712013245,0.05519692227244377,0.07909346371889114,0.16613534092903137,-0.3043079376220703,0.01665165275335312,0.007860754616558552,-0.07064200937747955,0.3049444854259491,0.11809936165809631,-0.4652646481990814,0.09129637479782104,-0.04948322847485542,-0.19797606766223907,0.012812793254852295,-0.17278076708316803,0.11345881223678589,0.0051012197509408,0.2653046250343323,0.3368492126464844,-0.30327942967414856,-0.002300875261425972,-0.2940290868282318,0.028275294229388237,-0.0819377675652504,-0.12838296592235565,-0.006073940545320511,-0.2342577576637268,-0.5850609540939331,0.022693390026688576,-0.062278132885694504,-0.32620489597320557,-0.3264748454093933,0.27778664231300354,0.058451708406209946,-0.08966980129480362,-0.4173429012298584,-0.06638487428426743,0.013841438107192516,-0.03342225402593613,-0.4442870616912842,-0.009454564191401005,-0.08759868144989014,-0.02635044790804386,0.4681018590927124,-0.032611142843961716,0.2387247085571289,-0.3864835202693939,-0.24150864779949188,0.1551084667444229,0.08019912987947464,-0.04211396351456642,0.07439195364713669,-0.3693971335887909,-0.05480960011482239,-0.38426434993743896,-0.36284658312797546,0.23398880660533905,0.006941795814782381,-0.17229856550693512,0.35377275943756104,0.35095569491386414,0.14258897304534912,0.17715080082416534,0.40702712535858154,-0.14267536997795105,0.21479655802249908,0.23246143758296967,0.02604050375521183,-0.24544470012187958,0.14082498848438263,0.06935354322195053,0.010887996293604374,0.06663837283849716,-0.307984322309494,-0.020081261172890663,0.33217671513557434,0.17922574281692505,-0.33999311923980713,-0.03412697836756706,-0.04546689614653587,0.24427706003189087,0.22433209419250488,-0.13002125918865204,0.10571923106908798,0.1452840119600296,0.12754280865192413,-0.22692333161830902,0.06785830110311508,0.41070863604545593,-0.3948446810245514,0.0010693821823224425,-0.06471797078847885,-0.13350550830364227,-0.11406590789556503,-0.071331687271595,-0.321748822927475,-0.10506996512413025,-0.13554449379444122,-0.2155306190252304,0.23552459478378296,0.38372135162353516,-0.18649880588054657,0.13770712912082672,0.010036754421889782,0.09721911698579788,0.1976664811372757,0.021782537922263145,-0.19599471986293793,0.169902041554451,0.189849853515625,-0.028979294002056122,0.11796184629201889,-0.4310731589794159,-0.0186257753521204,0.16750569641590118,-0.2433268427848816,0.001124663627706468,-0.08651097863912582,0.16012190282344818,0.07886103540658951,-0.12064696103334427,0.20039726793766022,-0.13126470148563385,-0.2445274144411087,-0.22270222008228302,-0.4005459249019623,0.09178800135850906,0.24279820919036865,0.3477803170681,-0.20457641780376434,-0.019304335117340088,0.158614382147789,-0.020318740978837013,-0.19934271275997162,-0.17295078933238983,0.1249767616391182,0.21950764954090118,0.1440679430961609,-0.2680334746837616,-0.0434805192053318,0.0017902612453326583,0.029627487063407898,0.05895083770155907,0.07437337934970856,0.04643737152218819,0.06696311384439468,0.25812050700187683,0.0039380392991006374,-0.02438484877347946,0.0322687141597271,-0.16701532900333405,-0.024746030569076538,0.022600660100579262,-0.0017252076650038362,-0.06821126490831375,-0.293459415435791,-0.031936898827552795,0.18319584429264069,-0.14090479910373688,0.1999858021736145,-0.07261794805526733,-0.0703999325633049,-0.19590197503566742,0.14478564262390137,0.19901002943515778,-0.20311212539672852,0.03857710584998131,-0.2489265650510788,0.15098132193088531,0.23949849605560303,-0.0008033185149542987,0.330535888671875,0.14524878561496735,0.08783987909555435,-0.17888730764389038,0.18908607959747314,0.09257622808218002,-0.2089470624923706,0.4879743158817291,0.24825705587863922],\"payload\":{\"text\":\"Se establecen mecanismos legales efectivos para prevenir\",\"metadata\":null}}]}'"
      ]
     },
     "execution_count": 6,
     "metadata": {},
     "output_type": "execute_result"
    }
   ],
   "source": [
    "response.text"
   ]
  },
  {
   "cell_type": "code",
   "execution_count": 7,
   "metadata": {},
   "outputs": [],
   "source": [
    "embeddings = response.json()[\"chunks\"]"
   ]
  },
  {
   "cell_type": "markdown",
   "metadata": {},
   "source": [
    "Getting the vectors generated"
   ]
  },
  {
   "cell_type": "code",
   "execution_count": 8,
   "metadata": {},
   "outputs": [],
   "source": [
    "vectors = [chunk[\"vector\"] for chunk in embeddings]"
   ]
  },
  {
   "cell_type": "code",
   "execution_count": 9,
   "metadata": {},
   "outputs": [
    {
     "data": {
      "text/plain": [
       "384"
      ]
     },
     "execution_count": 9,
     "metadata": {},
     "output_type": "execute_result"
    }
   ],
   "source": [
    "len(vectors[0])"
   ]
  },
  {
   "cell_type": "markdown",
   "metadata": {},
   "source": [
    "Preparing the vectors for semantic search"
   ]
  },
  {
   "cell_type": "code",
   "execution_count": 10,
   "metadata": {},
   "outputs": [
    {
     "data": {
      "text/plain": [
       "[QueryRequest(shard_key=None, prefetch=None, query=[-0.10738659650087357, 0.2562285363674164, -0.4657200276851654, -0.06869310885667801, 0.07532059401273727, 0.38594698905944824, -0.09326693415641785, 0.1372416913509369, -0.008625430054962635, 0.4161311388015747, 0.265689492225647, 0.35646137595176697, 0.14466364681720734, -0.04870103672146797, -0.02861391194164753, -0.05373667553067207, -0.06363384425640106, 0.2452787607908249, -0.09690675884485245, 0.12638919055461884, 0.41744673252105713, 0.024091007187962532, 0.007919087074697018, 0.014006945304572582, -0.5610426068305969, 0.12132805585861206, -0.2948296070098877, -0.14888982474803925, 0.14998102188110352, -0.10311264544725418, -0.12275881320238113, -0.22059790790081024, -0.21566633880138397, 0.05584513023495674, -0.20673984289169312, -0.5407423377037048, 0.18498051166534424, 0.2138666957616806, 0.008598199114203453, -0.17691625654697418, -0.05485868453979492, 0.04597483202815056, -0.21201592683792114, 0.08601651340723038, -0.19417540729045868, 0.06513221561908722, 0.22368216514587402, 0.14157074689865112, -0.3053179681301117, -0.29673945903778076, -0.13489921391010284, -0.22229863703250885, 0.31299540400505066, 0.1873493790626526, 0.04461131617426872, -0.3649321496486664, 0.2630326747894287, 0.0534205324947834, -0.16439886391162872, 0.007541045546531677, 0.18837207555770874, -0.08553061634302139, -0.11958760023117065, -0.1891443133354187, -0.1305074840784073, 0.296578049659729, -0.046530868858098984, 0.06290037930011749, 0.1924135684967041, 0.4586261808872223, -0.14030981063842773, 0.20971710979938507, -0.2471696138381958, 0.11743545532226562, 0.13734157383441925, 0.10135170072317123, 0.07570189237594604, 0.17554253339767456, 0.13394612073898315, -0.19510509073734283, 0.013963202945888042, -0.05252143368124962, 0.0849321186542511, 0.23094289004802704, -0.32506194710731506, 0.12910638749599457, 0.18906211853027344, 0.4229933023452759, 0.2732526361942291, -0.09445574879646301, -0.05883764103055, -0.03990675508975983, 0.46719226241111755, -0.17529113590717316, -0.012317388318479061, 0.09477114677429199, 0.1662546545267105, -0.10595020651817322, 0.31519412994384766, 0.22936630249023438, 0.07392501085996628, 0.08884546905755997, -0.12862536311149597, -0.2959705889225006, 0.30309703946113586, -0.01651490293443203, 0.3072221875190735, -0.1851816177368164, -0.042433034628629684, 0.1687789410352707, 0.080289326608181, 0.10225654393434525, -0.16114208102226257, -0.17624109983444214, 0.012527559883892536, 0.21552757918834686, 0.04596668481826782, 0.3265427052974701, 0.268800288438797, -0.2957604229450226, 0.03068944253027439, -0.23114895820617676, 0.25583821535110474, -0.14675185084342957, 0.3701457679271698, 0.0020609695930033922, -0.05532335117459297, -0.0036118945572525263, -0.2539205253124237, -0.10165166109800339, -0.11692631244659424, -0.22315847873687744, 0.034372661262750626, 0.04369184747338295, 0.015055139549076557, -0.12647072970867157, -0.0927124097943306, 0.17775647342205048, 0.0961926057934761, 0.10974634438753128, 0.07886672019958496, 0.0348404161632061, 0.3117752969264984, 0.17181403934955597, 0.25275740027427673, 0.0563957504928112, 0.1964428424835205, -0.27160993218421936, 0.36824944615364075, -0.2931387722492218, 0.2857120633125305, 0.0286641214042902, -0.05295349285006523, -0.030671032145619392, -0.04949082061648369, -0.05043685808777809, 0.18269197642803192, 0.011034752242267132, 0.1968020796775818, 0.10700813680887222, -0.14378702640533447, -0.02556104212999344, 0.17570732533931732, 0.34981682896614075, -0.1299724280834198, -0.29639509320259094, -0.06227952241897583, -0.19916056096553802, -0.2542083263397217, -0.05040987953543663, 0.1548234075307846, -0.07007788121700287, 0.04894498363137245, -0.1607924848794937, -0.25352486968040466, -0.2537689805030823, -0.32607516646385193, 0.05232934653759003, -0.12190616130828857, 0.18253381550312042, 0.25219637155532837, -0.42159953713417053, -0.11695694923400879, -0.025228478014469147, -0.18410609662532806, 0.053603675216436386, -0.12491824477910995, 0.034297406673431396, 0.1351010650396347, 0.03806834667921066, -0.15349890291690826, 0.04161570593714714, -0.12261631339788437, -0.04672597721219063, -0.05372275039553642, -0.37117353081703186, -0.22330236434936523, -0.2754653990268707, -0.13127300143241882, 0.06480666995048523, -0.12210047990083694, 0.17432761192321777, -0.27548691630363464, 0.12051525712013245, 0.05519692227244377, 0.07909346371889114, 0.16613534092903137, -0.3043079376220703, 0.01665165275335312, 0.007860754616558552, -0.07064200937747955, 0.3049444854259491, 0.11809936165809631, -0.4652646481990814, 0.09129637479782104, -0.04948322847485542, -0.19797606766223907, 0.012812793254852295, -0.17278076708316803, 0.11345881223678589, 0.0051012197509408, 0.2653046250343323, 0.3368492126464844, -0.30327942967414856, -0.002300875261425972, -0.2940290868282318, 0.028275294229388237, -0.0819377675652504, -0.12838296592235565, -0.006073940545320511, -0.2342577576637268, -0.5850609540939331, 0.022693390026688576, -0.062278132885694504, -0.32620489597320557, -0.3264748454093933, 0.27778664231300354, 0.058451708406209946, -0.08966980129480362, -0.4173429012298584, -0.06638487428426743, 0.013841438107192516, -0.03342225402593613, -0.4442870616912842, -0.009454564191401005, -0.08759868144989014, -0.02635044790804386, 0.4681018590927124, -0.032611142843961716, 0.2387247085571289, -0.3864835202693939, -0.24150864779949188, 0.1551084667444229, 0.08019912987947464, -0.04211396351456642, 0.07439195364713669, -0.3693971335887909, -0.05480960011482239, -0.38426434993743896, -0.36284658312797546, 0.23398880660533905, 0.006941795814782381, -0.17229856550693512, 0.35377275943756104, 0.35095569491386414, 0.14258897304534912, 0.17715080082416534, 0.40702712535858154, -0.14267536997795105, 0.21479655802249908, 0.23246143758296967, 0.02604050375521183, -0.24544470012187958, 0.14082498848438263, 0.06935354322195053, 0.010887996293604374, 0.06663837283849716, -0.307984322309494, -0.020081261172890663, 0.33217671513557434, 0.17922574281692505, -0.33999311923980713, -0.03412697836756706, -0.04546689614653587, 0.24427706003189087, 0.22433209419250488, -0.13002125918865204, 0.10571923106908798, 0.1452840119600296, 0.12754280865192413, -0.22692333161830902, 0.06785830110311508, 0.41070863604545593, -0.3948446810245514, 0.0010693821823224425, -0.06471797078847885, -0.13350550830364227, -0.11406590789556503, -0.071331687271595, -0.321748822927475, -0.10506996512413025, -0.13554449379444122, -0.2155306190252304, 0.23552459478378296, 0.38372135162353516, -0.18649880588054657, 0.13770712912082672, 0.010036754421889782, 0.09721911698579788, 0.1976664811372757, 0.021782537922263145, -0.19599471986293793, 0.169902041554451, 0.189849853515625, -0.028979294002056122, 0.11796184629201889, -0.4310731589794159, -0.0186257753521204, 0.16750569641590118, -0.2433268427848816, 0.001124663627706468, -0.08651097863912582, 0.16012190282344818, 0.07886103540658951, -0.12064696103334427, 0.20039726793766022, -0.13126470148563385, -0.2445274144411087, -0.22270222008228302, -0.4005459249019623, 0.09178800135850906, 0.24279820919036865, 0.3477803170681, -0.20457641780376434, -0.019304335117340088, 0.158614382147789, -0.020318740978837013, -0.19934271275997162, -0.17295078933238983, 0.1249767616391182, 0.21950764954090118, 0.1440679430961609, -0.2680334746837616, -0.0434805192053318, 0.0017902612453326583, 0.029627487063407898, 0.05895083770155907, 0.07437337934970856, 0.04643737152218819, 0.06696311384439468, 0.25812050700187683, 0.0039380392991006374, -0.02438484877347946, 0.0322687141597271, -0.16701532900333405, -0.024746030569076538, 0.022600660100579262, -0.0017252076650038362, -0.06821126490831375, -0.293459415435791, -0.031936898827552795, 0.18319584429264069, -0.14090479910373688, 0.1999858021736145, -0.07261794805526733, -0.0703999325633049, -0.19590197503566742, 0.14478564262390137, 0.19901002943515778, -0.20311212539672852, 0.03857710584998131, -0.2489265650510788, 0.15098132193088531, 0.23949849605560303, -0.0008033185149542987, 0.330535888671875, 0.14524878561496735, 0.08783987909555435, -0.17888730764389038, 0.18908607959747314, 0.09257622808218002, -0.2089470624923706, 0.4879743158817291, 0.24825705587863922], using=None, filter=None, params=None, score_threshold=None, limit=5, offset=None, with_vector=False, with_payload=True, lookup_from=None)]"
      ]
     },
     "execution_count": 10,
     "metadata": {},
     "output_type": "execute_result"
    }
   ],
   "source": [
    "search_queries = [models.QueryRequest(\n",
    "    query = vector, \n",
    "    with_payload = True,\n",
    "    with_vector = False,\n",
    "    limit = 5) for vector in vectors]\n",
    "\n",
    "search_queries"
   ]
  },
  {
   "cell_type": "markdown",
   "metadata": {},
   "source": [
    "Making the semantic search"
   ]
  },
  {
   "cell_type": "code",
   "execution_count": 11,
   "metadata": {},
   "outputs": [],
   "source": [
    "collection_name = qdrant_config.COLLECTION_NAME + qdrant_config.COLLECTION_VERSION\n",
    "\n",
    "results = qdrant_client.query_batch_points(\n",
    "    collection_name = collection_name,\n",
    "    requests= search_queries,\n",
    ")"
   ]
  },
  {
   "cell_type": "markdown",
   "metadata": {},
   "source": [
    "Obtaining the text of each document retrieved"
   ]
  },
  {
   "cell_type": "code",
   "execution_count": 12,
   "metadata": {},
   "outputs": [],
   "source": [
    "full_text = \"\"\n",
    "\n",
    "for query_response in results:\n",
    "\n",
    "    query_response_points = query_response.points\n",
    "\n",
    "    for point in query_response_points:\n",
    "\n",
    "        full_text += point.payload[\"text\"] + \"\\n\\n\""
   ]
  },
  {
   "cell_type": "code",
   "execution_count": 13,
   "metadata": {},
   "outputs": [
    {
     "name": "stdout",
     "output_type": "stream",
     "text": [
      " reglamento de la Ley correspondiente.\n",
      "• Con la finalidad de salvaguardar los intereses y derechos de las comunidades en las que se de-\n",
      "sarrollen proyectos del sector hidrocarburos, el Artículo 120 establece que deberán llevarse \n",
      "a cabo los procedimientos de consulta, en los cuales podrán participar las Empresas Produc-\n",
      "tivas del Estado y sus subsidiarias y filiales, así como partic\n",
      "\n",
      "\n",
      "• En el Artículo 27 Constitucional: \n",
      "\t\n",
      "Se establece que la planeación y el control del Sistema Eléctrico Nacional, así como el ser-\n",
      "vicio público de transmisión y distribución de electricidad son áreas exclusivas del Estado. \n",
      "Se mantiene la prohibición expresa de otorgar concesiones en estas áreas y se permite \n",
      "que el Estado celebre contratos con particulares. De\n",
      "\n",
      "ulares, conforme a la normatividad \n",
      "aplicable.\n",
      "• En lo relativo al uso y ocupación superficial, la legislación secundaria establece el mecanismo \n",
      "basado en principios de transparencia y equidad para definir los términos y las condiciones \n",
      "generales de la contraprestación, los términos y las condiciones para el uso, goce o afecta-\n",
      "ción de los terrenos, bienes o derechos necesarios para\n",
      "\n",
      "grario, Territorial y Urbano, con el \n",
      "objeto de que las mismas generen las acciones necesarias de acompañamiento y protección \n",
      "de derechos, a través de las figuras de los testigos sociales, modelos de contratos, asesoría y \n",
      "representación legal de la Procuraduría Agraria. \n",
      "• En la negociación inicial las partes podrán acordar la práctica de avalúos, a cargo del Instituto \n",
      "\n",
      "en actos u omisiones que constituyan conductas ilícitas o prácticas indebidas, para obtener \n",
      "beneficios económicos ilegítimos.\n",
      "• Los ciudadanos tendremos acceso al contenido de los contratos y contaremos con informa-\n",
      "ción precisa y clara sobre la explotación de los hidrocarburos y los recursos que éstos generan.\n",
      "Legislación Secundaria\n",
      "• Con respecto a las licitacion\n",
      "\n",
      "\n"
     ]
    }
   ],
   "source": [
    "print(full_text)"
   ]
  },
  {
   "cell_type": "markdown",
   "metadata": {},
   "source": [
    "## Semantic Search with the generated functions"
   ]
  },
  {
   "cell_type": "code",
   "execution_count": 14,
   "metadata": {},
   "outputs": [],
   "source": [
    "query = \"En el nuevo modelo, cómo se considera a Pemex?\""
   ]
  },
  {
   "cell_type": "markdown",
   "metadata": {},
   "source": [
    "Obtaining the vectors with the QueryRequest format"
   ]
  },
  {
   "cell_type": "code",
   "execution_count": 15,
   "metadata": {},
   "outputs": [
    {
     "name": "stderr",
     "output_type": "stream",
     "text": [
      "\u001b[32m2025-04-16 22:55:22.274\u001b[0m | \u001b[1mINFO    \u001b[0m | \u001b[36mrag_llm_energy_expert.search.searchers_auxiliars\u001b[0m:\u001b[36mprocess_query\u001b[0m:\u001b[36m37\u001b[0m - \u001b[1mPreprocessing query...\u001b[0m\n",
      "\u001b[32m2025-04-16 22:55:22.276\u001b[0m | \u001b[1mINFO    \u001b[0m | \u001b[36mrag_llm_energy_expert.search.searchers_auxiliars\u001b[0m:\u001b[36mprocess_query\u001b[0m:\u001b[36m74\u001b[0m - \u001b[1mGenerating embeddings...\u001b[0m\n",
      "\u001b[32m2025-04-16 22:55:26.405\u001b[0m | \u001b[1mINFO    \u001b[0m | \u001b[36mrag_llm_energy_expert.search.searchers_auxiliars\u001b[0m:\u001b[36mprocess_query\u001b[0m:\u001b[36m87\u001b[0m - \u001b[1mEmbeddings generated successfully\u001b[0m\n",
      "\u001b[32m2025-04-16 22:55:26.405\u001b[0m | \u001b[1mINFO    \u001b[0m | \u001b[36mrag_llm_energy_expert.search.searchers_auxiliars\u001b[0m:\u001b[36mprocess_query\u001b[0m:\u001b[36m95\u001b[0m - \u001b[1mPreparing embeddings for vector search\u001b[0m\n",
      "\u001b[32m2025-04-16 22:55:26.405\u001b[0m | \u001b[1mINFO    \u001b[0m | \u001b[36mrag_llm_energy_expert.search.searchers_auxiliars\u001b[0m:\u001b[36mprocess_query\u001b[0m:\u001b[36m106\u001b[0m - \u001b[1mQuery preprocessed successfully\u001b[0m\n"
     ]
    }
   ],
   "source": [
    "search_queries = process_query(\n",
    "    query=query,\n",
    "    embedding_model_name=None,\n",
    "    chunk_overlap=0,\n",
    "    documents_limit=3\n",
    ")"
   ]
  },
  {
   "cell_type": "code",
   "execution_count": 16,
   "metadata": {},
   "outputs": [],
   "source": [
    "collection_name = qdrant_config.COLLECTION_NAME + qdrant_config.COLLECTION_VERSION\n",
    "\n",
    "results = qdrant_client.query_batch_points(\n",
    "    collection_name = collection_name,\n",
    "    requests= search_queries,\n",
    ")"
   ]
  },
  {
   "cell_type": "markdown",
   "metadata": {},
   "source": [
    "Obtaining the text retrieved from semantic search"
   ]
  },
  {
   "cell_type": "code",
   "execution_count": 17,
   "metadata": {},
   "outputs": [
    {
     "name": "stderr",
     "output_type": "stream",
     "text": [
      "\u001b[32m2025-04-16 22:55:26.520\u001b[0m | \u001b[1mINFO    \u001b[0m | \u001b[36mrag_llm_energy_expert.search.searchers_auxiliars\u001b[0m:\u001b[36mprocess_query_results\u001b[0m:\u001b[36m120\u001b[0m - \u001b[1mProcessing query results...\u001b[0m\n",
      "\u001b[32m2025-04-16 22:55:26.524\u001b[0m | \u001b[1mINFO    \u001b[0m | \u001b[36mrag_llm_energy_expert.search.searchers_auxiliars\u001b[0m:\u001b[36mprocess_query_results\u001b[0m:\u001b[36m131\u001b[0m - \u001b[1mQuery results processed\u001b[0m\n"
     ]
    },
    {
     "name": "stdout",
     "output_type": "stream",
     "text": [
      "\n",
      "adjudicado el contrato. Cuando una asignación migre a un contrato podrá llevarse a cabo una \n",
      "asociación entre Pemex y un partícular, y la CNH realizará una licitación para elegir al socio \n",
      "(incluyendo las asignaciones de la Ronda Cero).\n",
      "• El modelo propuesto también considera que Pemex podrá migrar a la nueva modalidad de \n",
      "contratación\n",
      "\n",
      " Pemex en la industria petrolera. Mediante \n",
      "la “Ronda Cero”, Pemex podrá elegir aquellos campos en producción y aquellas áreas en ex-\n",
      "ploración que tengan interés en operar y donde demuestre tener capacidad técnica, financie-\n",
      "ra y de ejecución para desarrollarlos en forma eficiente y competitiva y podrá migrarlas hacia \n",
      "un esqu\n",
      "\n",
      " pensiones y jubilaciones \n",
      "de PEMEX y CFE, sujeto a que acuerden con sus trabajadores un nuevo régimen de pensiones \n",
      "que reduzca esos pasivos y la Auditoria Superior de la Federación audite la evolución de di-\n",
      "chos pasivos.\n",
      "• Los Consejos de Administración de ambas empresas tendrán una nueva estructura organi-\n",
      "zacional y se encargarán de: i) Definir\n",
      "\n",
      "\n"
     ]
    }
   ],
   "source": [
    "print(process_query_results(results))"
   ]
  },
  {
   "cell_type": "markdown",
   "metadata": {},
   "source": [
    "## Using the semantic search function"
   ]
  },
  {
   "cell_type": "code",
   "execution_count": 33,
   "metadata": {},
   "outputs": [],
   "source": [
    "query = \"Cuáles son los beneficios de la reforma energética?\""
   ]
  },
  {
   "cell_type": "code",
   "execution_count": 17,
   "metadata": {},
   "outputs": [],
   "source": [
    "collection_name = qdrant_config.COLLECTION_NAME + qdrant_config.COLLECTION_VERSION"
   ]
  },
  {
   "cell_type": "code",
   "execution_count": 34,
   "metadata": {},
   "outputs": [
    {
     "name": "stderr",
     "output_type": "stream",
     "text": [
      "\u001b[32m2025-04-20 19:00:07.682\u001b[0m | \u001b[1mINFO    \u001b[0m | \u001b[36mrag_llm_energy_expert.search.searchers_auxiliars\u001b[0m:\u001b[36mprocess_query\u001b[0m:\u001b[36m37\u001b[0m - \u001b[1mPreprocessing query...\u001b[0m\n",
      "\u001b[32m2025-04-20 19:00:07.684\u001b[0m | \u001b[1mINFO    \u001b[0m | \u001b[36mrag_llm_energy_expert.search.searchers_auxiliars\u001b[0m:\u001b[36mprocess_query\u001b[0m:\u001b[36m74\u001b[0m - \u001b[1mGenerating embeddings...\u001b[0m\n",
      "\u001b[32m2025-04-20 19:00:12.318\u001b[0m | \u001b[1mINFO    \u001b[0m | \u001b[36mrag_llm_energy_expert.search.searchers_auxiliars\u001b[0m:\u001b[36mprocess_query\u001b[0m:\u001b[36m87\u001b[0m - \u001b[1mEmbeddings generated successfully\u001b[0m\n",
      "\u001b[32m2025-04-20 19:00:12.318\u001b[0m | \u001b[1mINFO    \u001b[0m | \u001b[36mrag_llm_energy_expert.search.searchers_auxiliars\u001b[0m:\u001b[36mprocess_query\u001b[0m:\u001b[36m95\u001b[0m - \u001b[1mPreparing embeddings for vector search\u001b[0m\n",
      "\u001b[32m2025-04-20 19:00:12.318\u001b[0m | \u001b[1mINFO    \u001b[0m | \u001b[36mrag_llm_energy_expert.search.searchers_auxiliars\u001b[0m:\u001b[36mprocess_query\u001b[0m:\u001b[36m106\u001b[0m - \u001b[1mQuery preprocessed successfully\u001b[0m\n",
      "\u001b[32m2025-04-20 19:00:12.682\u001b[0m | \u001b[1mINFO    \u001b[0m | \u001b[36mrag_llm_energy_expert.search.searchers_auxiliars\u001b[0m:\u001b[36mprocess_query_results\u001b[0m:\u001b[36m120\u001b[0m - \u001b[1mProcessing query results...\u001b[0m\n",
      "\u001b[32m2025-04-20 19:00:12.682\u001b[0m | \u001b[1mINFO    \u001b[0m | \u001b[36mrag_llm_energy_expert.search.searchers_auxiliars\u001b[0m:\u001b[36mprocess_query_results\u001b[0m:\u001b[36m131\u001b[0m - \u001b[1mQuery results processed\u001b[0m\n"
     ]
    },
    {
     "name": "stdout",
     "output_type": "stream",
     "text": [
      "## I. Introducción  \n",
      "La Reforma Energética es un paso decidido rumbo a la modernización del sector energético de\n",
      "nuestro país, sin privatizar las empresas públicas dedicadas a la producción y al aprovechamiento de los hidrocarburos y de la electricidad. La Reforma Energética, tanto constitucional como a\n",
      "nivel legistlación secundarias, surge del estudio y valoración de las distintas iniciativas presentadas por los partidos políticos representados en el Congreso.\n",
      "\n",
      "## VIII. Ocupación de la superficie, sustentabilidad y enfoque de derechos  \n",
      "### La Reforma Energética Constitucional  \n",
      "- La Reforma Energética dispone en el Artículo 8 Transitorio que las actividades de exploración  \n",
      "y extracción del petróleo y de los demás hidrocarburos, así como el servicio público de trans\n",
      "\n",
      "sustentable el gran potencial energético que tiene nuestro país.  \n",
      "La Reforma Constitucional, aprobada por el Congreso de la Unión y publicada en el Diario Oficial\n",
      "de la Federación en diciembre de 2013, representó el primer paso firme y decidido de la Reforma Energética. Por su parte, la legislación secundaria tiene como guía la reforma constitucional\n",
      "realizada por el Congreso, y se apega todas a sus disposiciones. En conjunto, representan una\n",
      "renovación profunda de nuestro marco jurídico en materia energética.  \n",
      "En suma, la Reforma Energética establece las bases para la modernización y transformación del\n",
      "sector energético nacional. Los mexicanos ahora contamos con las herramientas necesarias\n",
      "para i) detonar mayores inversiones, ii) generar más empleos, iii) impulsar el crecimiento económico y iv) suministrar energía confiable, limpia y de bajo costo. Es momento de aprovechar\n",
      "el nuevo modelo energético; con la implementación exitosa de la Reforma Energética, México\n",
      "podrá convertir su amplio potencial en resultados y oportunidades de crecimiento y desarrollo\n",
      "para todos los mexicanos.\n",
      "\n",
      "**La Reforma Energética Constitucional**  \n",
      "- En el Artículo 28 Constitucional se establece que la CNH y la CRE serán Órganos Reguladores Coordinados en Materia Energética. Esto implica que tendrán personalidad jurídica propia,\n",
      "autonomía técnica y de gestión, así como autosuficiencia presupuestaria, pues dispondrán de\n",
      "los ingresos derivados de las contribuciones y aprovechamientos por sus servicios a través de\n",
      "un fideicomiso público.  \n",
      "- Los Órganos Reguladores Coordinados en Materia Energética remplazarán a los órganos desconcentrados que se tienen en la actualidad.  \n",
      "**Legislación Secundaria**  \n",
      "- Entre las atribuciones de los órganos reguladores coordinados se proponen: i) Regular, supervisar y sancionar en las materias de su competencia, ii) Aportar elementos técnicos al Ejecutivo Federal sobre la formulación de políticas energéticas, y iii) aprobar su anteproyecto de\n",
      "presupuesto.\n",
      "\n",
      "## X. Conclusión  \n",
      "Las modificaciones derivadas de la Reforma Energética permitirán modernizar nuestra industria\n",
      "energética, volverla más competitiva y devolverle su carácter de palanca de desarrollo. Con la\n",
      "Reforma Energética se incrementará la renta petrolera del Estado, se impulsará el crecimiento\n",
      "económico, se crearán empleos, se fortalecerá a Pemex y a la CFE, para que los mexicanos tengamos acceso a energéticos y electricidad de menor costo y más competitivos.  \n",
      "Sin duda, la Reforma Energética constituye un gran paso hacia el desarrollo económico y el fortalecimiento de la soberanía de nuestro país, con un sentido claro de responsabilidad por el futuro. Por ello, también establece que, para crecer como Nación, debemos desarrollar de manera\n",
      "sustentable el gran potencial energético que tiene nuestro país.  \n",
      "La Reforma Constitucional, aprobada por el Congreso de la Unión y publicada en el Diario Oficial\n",
      "de la Federación en diciembre de 2013, representó el primer paso firme y decidido de la Reforma Energética. Por su parte, la legislación secundaria tiene como guía la reforma constitucional\n",
      "\n",
      "### La Reforma Energética tiene los siguientes objetivos y premisas fundamentales:  \n",
      "1. Mantener la propiedad de la Nación sobre los hidrocarburos que se encuentran en el subsuelo.\n",
      "2. Modernizar y fortalecer, sin privatizar, a Petróleos Mexicanos (Pemex) y a la Comisión Federal de Electricidad (CFE) como Empresas Productivas del Estado, 100% públicas y 100%\n",
      "mexicanas.\n",
      "3. Reducir la exposición del país a los riesgos financieros, geológicos y ambientales en las actividades de exploración y extracción de petróleo y gas natural.\n",
      "4. Permitir que la Nación ejerza, de manera exclusiva, la planeación y control del Sistema\n",
      "Eléctrico Nacional, en beneficio de un sistema competitivo que permita reducir los precios\n",
      "de la energía eléctrica.\n",
      "5. Atraer mayor inversión al sector energético mexicano para impulsar el desarrollo del país.\n",
      "6. Contar con un mayor abasto de energéticos a mejores precios.\n",
      "7. Garantizar estándares internacionales de eficiencia, calidad y confiabilidad de suministro\n",
      "\n",
      "Eléctrico Nacional, en beneficio de un sistema competitivo que permita reducir los precios\n",
      "de la energía eléctrica.\n",
      "5. Atraer mayor inversión al sector energético mexicano para impulsar el desarrollo del país.\n",
      "6. Contar con un mayor abasto de energéticos a mejores precios.\n",
      "7. Garantizar estándares internacionales de eficiencia, calidad y confiabilidad de suministro\n",
      "energético, así como transparencia y rendición de cuentas en las distintas actividades de la\n",
      "industria energética.\n",
      "8. Combatir de manera efectiva la corrupción en el sector energético.\n",
      "9. Fortalecer la administración de los ingresos petroleros e impulsar el ahorro de largo plazo en\n",
      "beneficio de las futuras generaciones.\n",
      "10. Impulsar el desarrollo, con responsabilidad social y ambiental.  \n",
      "**Estos objetivos se verán traducidos en beneficios concretos para los mexicanos:**  \n",
      "1. Bajar las tarifas eléctricas y bajar el precio del gas natural.\n",
      "2. Lograr tasas de restitución de reservas probadas de petróleo y gas natural superiores a\n",
      "\n",
      "actualmente a 8 mil millones en 2018 y a 10 mil 400 millones en 2025.\n",
      "4. Generar cerca de un punto porcentual más de crecimiento económico en 2018 y aproximadamente 2 puntos porcentuales más para 2025.\n",
      "5. Crear cerca de medio millón de empleos adicionales en este sexenio, llegando a 2 millones\n",
      "y medio de empleos en 2025.\n",
      "6. Sustituir las centrales eléctricas más contaminantes con tecnologías limpias y fomentar la\n",
      "utilización de gas natural en la generación eléctrica.\n",
      "\n",
      "## VII. Seguridad, sustentabilidad, compromiso con el medio ambiente, uso de tecnologías y combustibles más limpios.  \n",
      "Las actividades del sector energético deben realizarse mediante una operación compatible con\n",
      "el cuidado y la protección del medio ambiente.\n",
      "\n",
      "beneficio de las futuras generaciones.\n",
      "10. Impulsar el desarrollo, con responsabilidad social y ambiental.  \n",
      "**Estos objetivos se verán traducidos en beneficios concretos para los mexicanos:**  \n",
      "1. Bajar las tarifas eléctricas y bajar el precio del gas natural.\n",
      "2. Lograr tasas de restitución de reservas probadas de petróleo y gas natural superiores a\n",
      "100%.\n",
      "3. Aumentar la producción de petróleo de 2.5 millones de barriles diarios que se producen actualmente, a 3 millones de barriles en 2018, y a 3.5 millones en 2025, asimismo aumentar\n",
      "la producción de gas natural de los 5 mil 700 millones de pies cúbicos diarios producidos\n",
      "actualmente a 8 mil millones en 2018 y a 10 mil 400 millones en 2025.\n",
      "4. Generar cerca de un punto porcentual más de crecimiento económico en 2018 y aproximadamente 2 puntos porcentuales más para 2025.\n",
      "5. Crear cerca de medio millón de empleos adicionales en este sexenio, llegando a 2 millones\n",
      "y medio de empleos en 2025.\n",
      "\n",
      "La nueva Ley de Energía Geotérmica propone que CFE indique a SENER las áreas geotérmicas de\n",
      "su interés para el otorgamiento de permiso o concesión. Esto lo que deberá realizar dentro de\n",
      "los 120 días posteriores al inicio de vigencia de la ley. CFE podrá establecer asociaciones o desarrollar por sí misma estos proyectos.  \n",
      "- Se prevén modalidades de contratación entre el Estado y los particulares para que éstos contribuyan con su tecnología y experiencia a la expansión y mejoramiento de las redes de transmisión y distribución. Esto permitirá combatir las pérdidas de energía eléctrica y aumentar la\n",
      "eficiencia del proceso de distribución de energía eléctrica.\n",
      "\n",
      "como en la investigación de sus causas.  \n",
      "- La Ley de la Industria Eléctrica crea un esquema de obligaciones para los usuarios calificados  \n",
      "y para las empresas de suministro eléctrico, así como los titulares de permisos de generación\n",
      "otorgados en los términos del marco legal anterior, relacionado a la adquisición de Certificados de Energías Limpias. Estos certificados, aunados a una interconexión más transparente y\n",
      "expedita, permitirán la expansión acelerada de proyectos de energías limpias y contribuirán a\n",
      "la reducción de emisiones contaminantes.  \n",
      "- También se prevén mecanismos que permitirán a pequeños generadores producir electricidad con fuentes renovables en sus casas u otros edificios y vender su producción a los suministradores a cambio de contraprestaciones reguladas, o bien, precios de mercado.\n",
      "\n",
      "- La CFE mantiene las actividades de generación eléctrica que realiza desde antes de la reforma, y podrá construir nuevas plantas, modernizando su base de generación.  \n",
      "- Los particulares podrán instalar nuevas plantas sin requerir que CFE decida incluirlas dentro  \n",
      "de la planeación de la empresa.  \n",
      "- El Centro Nacional de Control de Energía (CENACE),que formaba parte de CFE se constituirá  \n",
      "como un organismo público descentralizado encargado del control operativo del SEN. Tam\n",
      "\n",
      "- Pemex y los particulares podrán reportar a inversionistas y reguladores, así como al público en general, los proyectos que desarrollen en México y los beneficios esperados, siempre\n",
      "y cuando se afirme en las asignaciones o contratos que el petróleo, el gas natural y los demás hidrocarburos que se encuentren en el subsuelo pertenecen únicamente a México y a los\n",
      "mexicanos.  \n",
      "- Se mantendrá y fortalecerá el papel estratégico de Pemex en la industria petrolera. Mediante  \n",
      "la “Ronda Cero”, Pemex podrá elegir aquellos campos en producción y aquellas áreas en exploración que tengan interés en operar y donde demuestre tener capacidad técnica, financiera y de ejecución para desarrollarlos en forma eficiente y competitiva y podrá migrarlas hacia\n",
      "un esquema de contratos, con los que podrá acceder a mejores condiciones fiscales.  \n",
      "- Dada la relevancia que las actividades petroleras revisten para el desarrollo nacional, la reforma constitucional establece que todas las actividades de exploración y extracción de petróleo y de gas natural son de interés social y de orden público.\n",
      "\n",
      "## VI. Promoción de inversión privada, contenido nacional e impulso al desarrollo de las empresas mexicanas.  \n",
      "En el marco legal vigente con anterioridad a las reformas, las actividades de exploración, extracción y refinación de hidrocarburos, la petroquímica básica, así como las actividades de transmisión, distribución y comercialización de energía eléctrica, se encontraban reservadas de forma\n",
      "exclusiva al Estado. Si bien en la ley permitía la participación de particulares en la generación\n",
      "eléctrica, ésta se encontraba limitada a la capacidad de contratación por parte de la CFE y unas\n",
      "modalidades limitadas de autoabastecimiento, cogeneración y exportación.  \n",
      "Las necesidades energéticas del país, las exigencias de un entorno internacional cada vez más\n",
      "competitivo, el notable incremento en los riesgos y el monto de las inversiones requeridas para\n",
      "la producción de hidrocarburos y el abasto eléctrico, hacen prácticamente imposible que las empresas públicas, por eficientes que resulten, sean capaces de hacerlo todo por sí mismas.  \n",
      "**La Reforma Energética Constitucional**\n",
      "\n",
      "\n"
     ]
    }
   ],
   "source": [
    "context = semantic_search(\n",
    "    query = query,\n",
    "    collection_name=collection_name,\n",
    "    chunk_overlap=None,\n",
    "    embedding_model_name='sentence-transformers/LaBSE',\n",
    "    documents_limit=15\n",
    ")\n",
    "\n",
    "print(context)"
   ]
  },
  {
   "cell_type": "code",
   "execution_count": null,
   "metadata": {},
   "outputs": [],
   "source": []
  }
 ],
 "metadata": {
  "kernelspec": {
   "display_name": ".venv",
   "language": "python",
   "name": "python3"
  },
  "language_info": {
   "codemirror_mode": {
    "name": "ipython",
    "version": 3
   },
   "file_extension": ".py",
   "mimetype": "text/x-python",
   "name": "python",
   "nbconvert_exporter": "python",
   "pygments_lexer": "ipython3",
   "version": "3.11.10"
  }
 },
 "nbformat": 4,
 "nbformat_minor": 2
}
