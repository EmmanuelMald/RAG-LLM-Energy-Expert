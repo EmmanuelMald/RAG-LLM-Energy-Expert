{
 "cells": [
  {
   "cell_type": "markdown",
   "metadata": {},
   "source": [
    "# RAG Retrieve Context"
   ]
  },
  {
   "cell_type": "markdown",
   "metadata": {},
   "source": [
    "Once the data is uploaded into the vector DB, the next step is connect to an LLM and start retrieving context from the user's query"
   ]
  },
  {
   "cell_type": "markdown",
   "metadata": {},
   "source": [
    "## Import libraries"
   ]
  },
  {
   "cell_type": "code",
   "execution_count": 1,
   "metadata": {},
   "outputs": [],
   "source": [
    "from qdrant_client import QdrantClient, models\n",
    "import requests\n",
    "\n",
    "import sys\n",
    "\n",
    "sys.path.append(\"..\")\n",
    "\n",
    "from rag_llm_energy_expert.credentials import get_qdrant_config, generate_id_token\n",
    "from rag_llm_energy_expert.config import GCPConfig"
   ]
  },
  {
   "cell_type": "code",
   "execution_count": 2,
   "metadata": {},
   "outputs": [],
   "source": [
    "qdrant_config = get_qdrant_config()\n",
    "gcp_config = GCPConfig()"
   ]
  },
  {
   "cell_type": "code",
   "execution_count": 3,
   "metadata": {},
   "outputs": [],
   "source": [
    "qdrant_client = QdrantClient(url = qdrant_config.URL, api_key = qdrant_config.API_KEY.get_secret_value())"
   ]
  },
  {
   "cell_type": "code",
   "execution_count": 4,
   "metadata": {},
   "outputs": [],
   "source": [
    "def process_query_results(results: list):\n",
    "    full_text = \"\"\n",
    "\n",
    "    for query_response in results:\n",
    "\n",
    "        query_response_points = query_response.points\n",
    "\n",
    "        for point in query_response_points:\n",
    "\n",
    "            full_text += point.payload[\"text\"] + \"\\n\\n\"\n",
    "\n",
    "    return full_text  \n",
    "\n",
    "\n",
    "def semantic_search(\n",
    "        vectors:list,\n",
    "        collection_name:str, \n",
    "        limit:int\n",
    "        ):\n",
    "    \"\"\"\n",
    "    \n",
    "    \"\"\"\n",
    "\n",
    "    # Create a list of QueryRequest, each QueryRequest object is related to each chunk created from the query\n",
    "    search_queries = [models.QueryRequest(\n",
    "    query = vector, \n",
    "    with_payload = True,\n",
    "    with_vector = False,\n",
    "    limit = limit,\n",
    "    ) for vector in vectors]\n",
    "\n",
    "\n",
    "    # Get a list of results from the query batch\n",
    "    results = qdrant_client.query_batch_points(\n",
    "        collection_name = collection_name,\n",
    "        requests= search_queries,\n",
    "\n",
    "        )\n",
    "    \n",
    "    full_text = process_query_results(results)\n",
    "\n",
    "    return full_text"
   ]
  },
  {
   "cell_type": "code",
   "execution_count": 5,
   "metadata": {},
   "outputs": [],
   "source": [
    "query = \"Se establecen mecanismos legales efectivos para prevenir\""
   ]
  },
  {
   "cell_type": "code",
   "execution_count": 6,
   "metadata": {},
   "outputs": [],
   "source": [
    "payload = {\n",
    "    \"text\":query,\n",
    "}\n",
    "\n",
    "token = generate_id_token(audience=gcp_config.EMBEDDING_SERVICE_URL)\n",
    "\n",
    "headers = {\"Authorization\": f\"Bearer {token}\"}\n",
    "\n",
    "response = requests.post(url = gcp_config.EMBEDDING_SERVICE_URL + \"/embed-text\", json=payload, headers = headers)"
   ]
  },
  {
   "cell_type": "code",
   "execution_count": 7,
   "metadata": {},
   "outputs": [
    {
     "data": {
      "text/plain": [
       "'{\"chunks\":[{\"vector_id\":\"973298cd-999b-48f0-a78a-7109dcba6da7\",\"vector\":[0.0047289286740124226,0.09051237255334854,-0.09641570597887039,-0.08437274396419525,-0.05107889696955681,0.04406353458762169,0.014904397539794445,0.0817609652876854,-0.028519457206130028,0.10596425831317902,0.09042844921350479,-0.004646106157451868,-0.025427252054214478,0.05579032748937607,0.005898213945329189,-0.004864892922341824,0.04255739971995354,0.023159107193350792,-0.003328348509967327,0.092003233730793,0.0386924222111702,-0.0006987742963247001,-0.06964496523141861,0.044377997517585754,-0.10041674971580505,-0.012088440358638763,-0.027638353407382965,-0.05524108186364174,0.0703388899564743,-0.03877624124288559,0.01806848682463169,-0.00536686647683382,0.07843383401632309,0.050226371735334396,-0.03808055818080902,-0.034424714744091034,0.08294550329446793,-0.07974183559417725,-0.04581555351614952,0.0502239391207695,-0.05966775864362717,-0.06526314467191696,-0.08734866976737976,-0.020728779956698418,-0.014129257760941982,-0.03439514711499214,0.021035626530647278,0.08945004642009735,-0.027698885649442673,-0.059019770473241806,-0.0682106539607048,0.006426449865102768,-0.009064843878149986,0.034295789897441864,-0.000604662171099335,-0.13349288702011108,-0.004914410412311554,0.03015858493745327,0.04416477680206299,-0.033381685614585876,0.0551060326397419,0.054004743695259094,3.057549520235625e-06,-0.006760554388165474,0.013466011732816696,0.03204662725329399,0.019537808373570442,0.03247981145977974,-0.022629139944911003,0.05110594257712364,0.05629754438996315,-0.12487377226352692,-0.00034517658059485257,0.029885167255997658,0.004703836049884558,0.003525961423292756,0.008917059749364853,0.09711221605539322,-0.0519195981323719,-0.11429424583911896,-0.04567332938313484,-0.05418377369642258,-0.07962703704833984,-0.06512392312288284,0.016572080552577972,0.05275425314903259,-0.022198334336280823,0.0035363170318305492,0.13049188256263733,0.022560883313417435,-0.0006474854308180511,-0.015537237748503685,-0.003315308364108205,-0.06289936602115631,-0.023191316053271294,0.007567137014120817,0.0459485724568367,-0.09743833541870117,0.07500028610229492,0.03785063326358795,0.06624922901391983,-0.013438882306218147,-0.025507852435112,0.04753663390874863,-0.05150081589818001,0.0036274478770792484,-0.00044519122457131743,-0.026496198028326035,0.041935183107852936,0.07141247391700745,-0.05914163216948509,-0.022750066593289375,-0.041142065078020096,-0.03297548368573189,0.009886476211249828,0.03811178356409073,0.04335547238588333,-0.007310120388865471,0.041054993867874146,-0.09881357848644257,0.06050068140029907,0.006958688609302044,-0.014414237812161446,-0.09794250130653381,0.05431342124938965,-0.036613669246435165,0.0008330600685440004,1.7341950608246125e-33,-0.09656430780887604,-0.07613270729780197,-0.04863256961107254,0.02482897974550724,-0.004224066156893969,-0.0032882788218557835,-0.04906747490167618,0.014303426258265972,-0.009638916701078415,-0.024574821814894676,-0.016291562467813492,0.031343668699264526,-0.003518596524372697,0.015657881274819374,0.01663541980087757,-0.004422981292009354,-0.019534071907401085,-0.05485495924949646,0.04583964869379997,0.05930669233202934,-0.0032129809260368347,-0.07244261354207993,0.002705515129491687,0.03252403810620308,-0.0299825482070446,0.030609983950853348,-0.08430218696594238,-0.05679952725768089,-0.008931041695177555,0.027386566624045372,0.042923592031002045,0.05189723148941994,0.039035096764564514,0.018277980387210846,-0.05133238434791565,0.056490037590265274,0.0178011953830719,0.0300811305642128,0.023936394602060318,-0.03555859997868538,-0.02407745085656643,0.02354653738439083,0.08000952750444412,-0.006000152789056301,0.11036831140518188,-0.01725706271827221,-0.048478588461875916,0.0006246038246899843,0.01561539527028799,0.0256064273416996,0.00150411541108042,-0.03711400926113129,0.011840708553791046,-0.10150175541639328,-0.019245779141783714,0.04964989796280861,-0.15074926614761353,0.0896916538476944,-0.008307652547955513,-0.06907135248184204,-0.02537539042532444,0.00032668819767422974,-0.01671978458762169,-0.023576626554131508,-0.06932777911424637,-0.13070987164974213,0.061036884784698486,0.02502027340233326,0.0727577954530716,-0.022366704419255257,-0.06476769596338272,0.015688607469201088,-0.03500804677605629,0.05796808749437332,-0.04622097313404083,0.049096085131168365,0.023581182584166527,-0.022380996495485306,0.0036702181678265333,0.00563810346648097,-0.06303635239601135,0.010422310791909695,0.0329110287129879,0.010066653601825237,0.12023867666721344,0.03918268904089928,0.004358410369604826,-0.04459185153245926,0.05782238766551018,0.06597871333360672,0.010410710237920284,0.015792306512594223,0.024113710969686508,0.00410045962780714,0.03261232376098633,-5.4861074403944654e-33,-0.025585120543837547,-0.023600665852427483,-0.04852444678544998,0.0844581127166748,-0.007215490564703941,0.05722340941429138,0.002831370336934924,-0.029610855504870415,-0.05697941780090332,-0.08706329762935638,-0.1017397865653038,-0.1447766274213791,0.10768140852451324,-0.0011570538626983762,-0.038787271827459335,0.038602251559495926,-0.011024204082787037,-0.060892436653375626,-0.02175932005047798,0.0021302762906998396,-0.07061748206615448,0.039715930819511414,-0.006044187117367983,0.004733537323772907,-0.008471342734992504,-0.061886485666036606,-0.030257215723395348,-0.04283260181546211,-0.014192434959113598,-0.009573043324053288,0.028404315933585167,0.062356311827898026,-0.08208408951759338,0.005063896998763084,-0.052749890834093094,0.024454079568386078,0.0330544076859951,0.031867653131484985,0.01924925297498703,-0.0530543215572834,0.026736261323094368,0.08688822388648987,-0.010979730635881424,-0.026018865406513214,-0.08354012668132782,0.03341471031308174,0.00013573747128248215,0.012799346819519997,0.030107054859399796,-0.008344873785972595,0.09056145697832108,0.048992253839969635,0.024095755070447922,-0.06845492869615555,0.06553157418966293,-0.06482487916946411,0.026255784556269646,-0.09281304478645325,-0.05979146435856819,0.05348179116845131,0.049997251480817795,0.021859578788280487,-0.07810817658901215,-0.028476206585764885,0.03894500434398651,-0.026224996894598007,-0.039506103843450546,0.06339719146490097,0.053324174135923386,-0.03585460036993027,0.11614353954792023,-0.1014665886759758,-0.0822141021490097,-0.06813950836658478,0.004183569457381964,-0.07956984639167786,-0.004036385100334883,0.029225874692201614,0.04347546771168709,-0.0252897497266531,-0.029914403334259987,-0.0085527915507555,-0.034158509224653244,-0.009848309680819511,-0.05321672931313515,-0.06366279721260071,-0.005216718185693026,-0.03439601883292198,0.0572684183716774,0.0400700606405735,-0.004529872909188271,0.050845593214035034,-0.01772778294980526,0.0002327149559278041,-0.003140852553769946,-2.665840526105967e-08,0.01631990633904934,-0.05111389979720116,0.041839271783828735,0.015614387579262257,-0.039374012500047684,-0.026088299229741096,-0.02553603984415531,0.012761435471475124,-0.01985255628824234,0.05719168856739998,-0.011994383297860622,-0.009536848403513432,0.04342697188258171,-0.013979590497910976,-0.05885294824838638,0.029785454273223877,0.05014367401599884,0.036301277577877045,-0.04217049106955528,0.02013546973466873,-0.0004907958791591227,-0.006116662174463272,-0.021755244582891464,-0.0731072723865509,0.062360454350709915,-0.043634332716464996,0.006122944410890341,-0.02031140960752964,0.03693828731775284,0.052308280020952225,-0.10162955522537231,0.05390505492687225,-0.03327815607190132,-0.0827498659491539,-0.04101613909006119,-0.06235351786017418,0.007626330014318228,0.05627921596169472,0.01863553375005722,-0.06532537192106247,0.07710278034210205,0.04912310093641281,0.036619558930397034,-0.013786343857645988,-0.07872212678194046,-0.06384748965501785,-0.0722825899720192,0.09764810651540756,0.028299367055296898,-0.0057491823099553585,-0.04566602036356926,-0.024912521243095398,0.11143514513969421,-0.002277315128594637,-0.0042296890169382095,0.014730672352015972,0.08053930103778839,0.06001286581158638,-0.020979350432753563,-0.02874285914003849,0.06869784742593765,0.05767721310257912,0.13216666877269745,-0.035364434123039246],\"payload\":{\"text\":\"Se establecen mecanismos legales efectivos para prevenir\",\"metadata\":null}}]}'"
      ]
     },
     "execution_count": 7,
     "metadata": {},
     "output_type": "execute_result"
    }
   ],
   "source": [
    "response.text"
   ]
  },
  {
   "cell_type": "code",
   "execution_count": 8,
   "metadata": {},
   "outputs": [],
   "source": [
    "embeddings = response.json()[\"chunks\"]"
   ]
  },
  {
   "cell_type": "code",
   "execution_count": 9,
   "metadata": {},
   "outputs": [],
   "source": [
    "vectors = [chunk[\"vector\"] for chunk in embeddings]"
   ]
  },
  {
   "cell_type": "code",
   "execution_count": 10,
   "metadata": {},
   "outputs": [
    {
     "data": {
      "text/plain": [
       "384"
      ]
     },
     "execution_count": 10,
     "metadata": {},
     "output_type": "execute_result"
    }
   ],
   "source": [
    "len(vectors[0])"
   ]
  },
  {
   "cell_type": "code",
   "execution_count": 11,
   "metadata": {},
   "outputs": [
    {
     "data": {
      "text/plain": [
       "1"
      ]
     },
     "execution_count": 11,
     "metadata": {},
     "output_type": "execute_result"
    }
   ],
   "source": [
    "len(vectors)"
   ]
  },
  {
   "cell_type": "code",
   "execution_count": 12,
   "metadata": {},
   "outputs": [
    {
     "data": {
      "text/plain": [
       "[QueryRequest(shard_key=None, prefetch=None, query=[0.0047289286740124226, 0.09051237255334854, -0.09641570597887039, -0.08437274396419525, -0.05107889696955681, 0.04406353458762169, 0.014904397539794445, 0.0817609652876854, -0.028519457206130028, 0.10596425831317902, 0.09042844921350479, -0.004646106157451868, -0.025427252054214478, 0.05579032748937607, 0.005898213945329189, -0.004864892922341824, 0.04255739971995354, 0.023159107193350792, -0.003328348509967327, 0.092003233730793, 0.0386924222111702, -0.0006987742963247001, -0.06964496523141861, 0.044377997517585754, -0.10041674971580505, -0.012088440358638763, -0.027638353407382965, -0.05524108186364174, 0.0703388899564743, -0.03877624124288559, 0.01806848682463169, -0.00536686647683382, 0.07843383401632309, 0.050226371735334396, -0.03808055818080902, -0.034424714744091034, 0.08294550329446793, -0.07974183559417725, -0.04581555351614952, 0.0502239391207695, -0.05966775864362717, -0.06526314467191696, -0.08734866976737976, -0.020728779956698418, -0.014129257760941982, -0.03439514711499214, 0.021035626530647278, 0.08945004642009735, -0.027698885649442673, -0.059019770473241806, -0.0682106539607048, 0.006426449865102768, -0.009064843878149986, 0.034295789897441864, -0.000604662171099335, -0.13349288702011108, -0.004914410412311554, 0.03015858493745327, 0.04416477680206299, -0.033381685614585876, 0.0551060326397419, 0.054004743695259094, 3.057549520235625e-06, -0.006760554388165474, 0.013466011732816696, 0.03204662725329399, 0.019537808373570442, 0.03247981145977974, -0.022629139944911003, 0.05110594257712364, 0.05629754438996315, -0.12487377226352692, -0.00034517658059485257, 0.029885167255997658, 0.004703836049884558, 0.003525961423292756, 0.008917059749364853, 0.09711221605539322, -0.0519195981323719, -0.11429424583911896, -0.04567332938313484, -0.05418377369642258, -0.07962703704833984, -0.06512392312288284, 0.016572080552577972, 0.05275425314903259, -0.022198334336280823, 0.0035363170318305492, 0.13049188256263733, 0.022560883313417435, -0.0006474854308180511, -0.015537237748503685, -0.003315308364108205, -0.06289936602115631, -0.023191316053271294, 0.007567137014120817, 0.0459485724568367, -0.09743833541870117, 0.07500028610229492, 0.03785063326358795, 0.06624922901391983, -0.013438882306218147, -0.025507852435112, 0.04753663390874863, -0.05150081589818001, 0.0036274478770792484, -0.00044519122457131743, -0.026496198028326035, 0.041935183107852936, 0.07141247391700745, -0.05914163216948509, -0.022750066593289375, -0.041142065078020096, -0.03297548368573189, 0.009886476211249828, 0.03811178356409073, 0.04335547238588333, -0.007310120388865471, 0.041054993867874146, -0.09881357848644257, 0.06050068140029907, 0.006958688609302044, -0.014414237812161446, -0.09794250130653381, 0.05431342124938965, -0.036613669246435165, 0.0008330600685440004, 1.7341950608246125e-33, -0.09656430780887604, -0.07613270729780197, -0.04863256961107254, 0.02482897974550724, -0.004224066156893969, -0.0032882788218557835, -0.04906747490167618, 0.014303426258265972, -0.009638916701078415, -0.024574821814894676, -0.016291562467813492, 0.031343668699264526, -0.003518596524372697, 0.015657881274819374, 0.01663541980087757, -0.004422981292009354, -0.019534071907401085, -0.05485495924949646, 0.04583964869379997, 0.05930669233202934, -0.0032129809260368347, -0.07244261354207993, 0.002705515129491687, 0.03252403810620308, -0.0299825482070446, 0.030609983950853348, -0.08430218696594238, -0.05679952725768089, -0.008931041695177555, 0.027386566624045372, 0.042923592031002045, 0.05189723148941994, 0.039035096764564514, 0.018277980387210846, -0.05133238434791565, 0.056490037590265274, 0.0178011953830719, 0.0300811305642128, 0.023936394602060318, -0.03555859997868538, -0.02407745085656643, 0.02354653738439083, 0.08000952750444412, -0.006000152789056301, 0.11036831140518188, -0.01725706271827221, -0.048478588461875916, 0.0006246038246899843, 0.01561539527028799, 0.0256064273416996, 0.00150411541108042, -0.03711400926113129, 0.011840708553791046, -0.10150175541639328, -0.019245779141783714, 0.04964989796280861, -0.15074926614761353, 0.0896916538476944, -0.008307652547955513, -0.06907135248184204, -0.02537539042532444, 0.00032668819767422974, -0.01671978458762169, -0.023576626554131508, -0.06932777911424637, -0.13070987164974213, 0.061036884784698486, 0.02502027340233326, 0.0727577954530716, -0.022366704419255257, -0.06476769596338272, 0.015688607469201088, -0.03500804677605629, 0.05796808749437332, -0.04622097313404083, 0.049096085131168365, 0.023581182584166527, -0.022380996495485306, 0.0036702181678265333, 0.00563810346648097, -0.06303635239601135, 0.010422310791909695, 0.0329110287129879, 0.010066653601825237, 0.12023867666721344, 0.03918268904089928, 0.004358410369604826, -0.04459185153245926, 0.05782238766551018, 0.06597871333360672, 0.010410710237920284, 0.015792306512594223, 0.024113710969686508, 0.00410045962780714, 0.03261232376098633, -5.4861074403944654e-33, -0.025585120543837547, -0.023600665852427483, -0.04852444678544998, 0.0844581127166748, -0.007215490564703941, 0.05722340941429138, 0.002831370336934924, -0.029610855504870415, -0.05697941780090332, -0.08706329762935638, -0.1017397865653038, -0.1447766274213791, 0.10768140852451324, -0.0011570538626983762, -0.038787271827459335, 0.038602251559495926, -0.011024204082787037, -0.060892436653375626, -0.02175932005047798, 0.0021302762906998396, -0.07061748206615448, 0.039715930819511414, -0.006044187117367983, 0.004733537323772907, -0.008471342734992504, -0.061886485666036606, -0.030257215723395348, -0.04283260181546211, -0.014192434959113598, -0.009573043324053288, 0.028404315933585167, 0.062356311827898026, -0.08208408951759338, 0.005063896998763084, -0.052749890834093094, 0.024454079568386078, 0.0330544076859951, 0.031867653131484985, 0.01924925297498703, -0.0530543215572834, 0.026736261323094368, 0.08688822388648987, -0.010979730635881424, -0.026018865406513214, -0.08354012668132782, 0.03341471031308174, 0.00013573747128248215, 0.012799346819519997, 0.030107054859399796, -0.008344873785972595, 0.09056145697832108, 0.048992253839969635, 0.024095755070447922, -0.06845492869615555, 0.06553157418966293, -0.06482487916946411, 0.026255784556269646, -0.09281304478645325, -0.05979146435856819, 0.05348179116845131, 0.049997251480817795, 0.021859578788280487, -0.07810817658901215, -0.028476206585764885, 0.03894500434398651, -0.026224996894598007, -0.039506103843450546, 0.06339719146490097, 0.053324174135923386, -0.03585460036993027, 0.11614353954792023, -0.1014665886759758, -0.0822141021490097, -0.06813950836658478, 0.004183569457381964, -0.07956984639167786, -0.004036385100334883, 0.029225874692201614, 0.04347546771168709, -0.0252897497266531, -0.029914403334259987, -0.0085527915507555, -0.034158509224653244, -0.009848309680819511, -0.05321672931313515, -0.06366279721260071, -0.005216718185693026, -0.03439601883292198, 0.0572684183716774, 0.0400700606405735, -0.004529872909188271, 0.050845593214035034, -0.01772778294980526, 0.0002327149559278041, -0.003140852553769946, -2.665840526105967e-08, 0.01631990633904934, -0.05111389979720116, 0.041839271783828735, 0.015614387579262257, -0.039374012500047684, -0.026088299229741096, -0.02553603984415531, 0.012761435471475124, -0.01985255628824234, 0.05719168856739998, -0.011994383297860622, -0.009536848403513432, 0.04342697188258171, -0.013979590497910976, -0.05885294824838638, 0.029785454273223877, 0.05014367401599884, 0.036301277577877045, -0.04217049106955528, 0.02013546973466873, -0.0004907958791591227, -0.006116662174463272, -0.021755244582891464, -0.0731072723865509, 0.062360454350709915, -0.043634332716464996, 0.006122944410890341, -0.02031140960752964, 0.03693828731775284, 0.052308280020952225, -0.10162955522537231, 0.05390505492687225, -0.03327815607190132, -0.0827498659491539, -0.04101613909006119, -0.06235351786017418, 0.007626330014318228, 0.05627921596169472, 0.01863553375005722, -0.06532537192106247, 0.07710278034210205, 0.04912310093641281, 0.036619558930397034, -0.013786343857645988, -0.07872212678194046, -0.06384748965501785, -0.0722825899720192, 0.09764810651540756, 0.028299367055296898, -0.0057491823099553585, -0.04566602036356926, -0.024912521243095398, 0.11143514513969421, -0.002277315128594637, -0.0042296890169382095, 0.014730672352015972, 0.08053930103778839, 0.06001286581158638, -0.020979350432753563, -0.02874285914003849, 0.06869784742593765, 0.05767721310257912, 0.13216666877269745, -0.035364434123039246], using=None, filter=None, params=None, score_threshold=None, limit=5, offset=None, with_vector=False, with_payload=True, lookup_from=None)]"
      ]
     },
     "execution_count": 12,
     "metadata": {},
     "output_type": "execute_result"
    }
   ],
   "source": [
    "search_queries = [models.QueryRequest(\n",
    "    query = vector, \n",
    "    with_payload = True,\n",
    "    with_vector = False,\n",
    "    limit = 5) for vector in vectors]\n",
    "\n",
    "search_queries"
   ]
  },
  {
   "cell_type": "code",
   "execution_count": 13,
   "metadata": {},
   "outputs": [],
   "source": [
    "collection_name = qdrant_config.COLLECTION_NAME + qdrant_config.COLLECTION_VERSION\n",
    "\n",
    "results = qdrant_client.query_batch_points(\n",
    "    collection_name = collection_name,\n",
    "    requests= search_queries,\n",
    ")"
   ]
  },
  {
   "cell_type": "code",
   "execution_count": 14,
   "metadata": {},
   "outputs": [],
   "source": [
    "full_text = \"\"\n",
    "\n",
    "for query_response in results:\n",
    "\n",
    "    query_response_points = query_response.points\n",
    "\n",
    "    for point in query_response_points:\n",
    "\n",
    "        full_text += point.payload[\"text\"] + \"\\n\\n\""
   ]
  },
  {
   "cell_type": "code",
   "execution_count": 15,
   "metadata": {},
   "outputs": [
    {
     "name": "stdout",
     "output_type": "stream",
     "text": [
      "ación en las utilidades del proyecto. \n",
      "• La Legislación prevé mecanismos alternativos en caso de que no se alcancen acuerdos en la \n",
      "etapa de negociación inicial. En primera instancia, contempla un proceso de mediación, a car-\n",
      "go de la Secretaría de Desarrollo Territorial y Urbano, y en última instancia, prevé la figura de \n",
      "la “Servidumbre Legal de Hidrocarburos”, la cual podrá ser decretada por la vía judicial o ad-\n",
      "ministrativa.\n",
      "IX. \t Medidas efectivas de transparencia y combate a la corrupción\n",
      "Un modelo energético agotado como el que prevalecía en México previo a la Reforma, no sólo \n",
      "genera ineficiencias de productividad, sino incentivos poco adecuados para una industria ener-\n",
      "gética transparente y abierta a\n",
      "\n",
      "ética transparente y abierta a la rendición de cuentas.\n",
      "Características del nuevo modelo\n",
      "• Se establecen mecanismos legales efectivos para prevenir, identificar y sancionar a quienes rea-\n",
      "licen actos u omisiones que constituyan conductas ilícitas o prácticas indebidas, para obtener \n",
      "beneficios económicos ilegítimos.\n",
      "• Los ciudadanos tendremos acceso al contenido de los contratos y contaremos con informa-\n",
      "ción precisa y clara sobre la explotación de los hidrocarburos y los recursos que éstos generan.\n",
      "Legislación Secundaria\n",
      "• Con respecto a las licitaciones y los contratos para la exploración y extracción de hidrocar-\n",
      "buros, se propone que el diseño y adjudicación de los mismos se lleve a cabo a través de un \n",
      "mec\n",
      "\n",
      "érminos y las condiciones para el uso, goce o afecta-\n",
      "ción de los terrenos, bienes o derechos necesarios para realizar las actividades.\n",
      "• El mecanismo plantea la negociación inicial de 180 días entre particulares y, cuando sea ne-\n",
      "cesario, esquemas alternativos consistentes en un proceso de mediación o de constitución \n",
      "de una servidumbre legal de hidrocarburos. Los Asignatarios y Contratistas deberán dar aviso \n",
      "\n",
      "22\n",
      "a la Secretaría de Energía y a la Secretaría de Desarrollo Agrario, Territorial y Urbano, con el \n",
      "objeto de que las mismas generen las acciones necesarias de acompañamiento y protección \n",
      "de derechos, a través de las figuras de los testigos sociales, modelos de contratos, asesoría y \n",
      "representación legal de la Procuradur\n",
      "\n",
      "representación legal de la Procuraduría Agraria. \n",
      "• En la negociación inicial las partes podrán acordar la práctica de avalúos, a cargo del Instituto \n",
      "de Administración y Avalúos de Bienes Nacionales, o de instituciones crédito, corredores pú-\n",
      "blicos o profesionistas en valuación. Los avalúos deberán considerar la plusvalía que genera-\n",
      "rán los proyectos, la idoneidad de los terrenos, los gastos complementarios en caso de emi-\n",
      "gración, etc.\n",
      "• Los titulares de los terrenos, bienes o derechos tendrán derecho a que la contraprestación cu-\n",
      "bra, según sea el caso, un pago por la renta, un pago por las afectaciones y en el caso de pro-\n",
      "yectos que alcancen producción comercial, una participación en las utilidades del proy\n",
      "\n",
      " licencia, un bono por la suscripción del contrato, y\n",
      "4.\tPagos determinados como una proporción de la utilidad (en especie o en efectivo).\n",
      "• La iniciativa contempla que los contratos para la exploración y extracción de hidrocarburos \n",
      "se desarrollen de manera individual, en consorcio, es decir con un grupo de empresas, o en \n",
      "asociación en participación. Los consorcios y asociaciones se podrán llevar a cabo de forma \n",
      "libre, durante la propuesta presentada en la licitación, o con autorización de la CNH, una vez \n",
      "adjudicado el contrato. Cuando una asignación migre a un contrato podrá llevarse a cabo una \n",
      "asociación entre Pemex y un partícular, y la CNH realizará una licitación para elegir al socio \n",
      "(incluy\n",
      "\n",
      "\n"
     ]
    }
   ],
   "source": [
    "print(full_text)"
   ]
  },
  {
   "cell_type": "code",
   "execution_count": 16,
   "metadata": {},
   "outputs": [
    {
     "name": "stdout",
     "output_type": "stream",
     "text": [
      " elegir al socio \n",
      "(incluyendo las asignaciones de la Ronda Cero).\n",
      "• El modelo propuesto también considera que Pemex podrá migrar a la nueva modalidad de \n",
      "contratación, aquellos contratos que en el pasado fueron otorgados por medio de una licita-\n",
      "ción. \n",
      "• Para asegurar el desarrollo eficiente del sector y la existencia de un mercado donde exista \n",
      "competencia, los contratos para la industria de hidrocarburos no podrán dar exclusividad  o \n",
      "preferencia ilícita que beneficie a organizaciones empresariales, sociales o sindicales.\n",
      "• Toda la información geológica del país será entregada a CNH, quien la administrará en el Cen-\n",
      "tro Nacional de Información de Hidrocarburos. Pemex y las empresas productivas del Estado \n",
      "y los\n",
      "\n",
      "raprestación para lo-\n",
      "grar el mayor beneficio para el desarrollo de largo plazo del país. \n",
      "• Toda la información de los contratos estará disponible para todos los mexicanos.\n",
      "• Pemex y los particulares podrán reportar a inversionistas y reguladores, así como al públi-\n",
      "co en general, los proyectos que desarrollen en México y los beneficios esperados, siempre \n",
      "y cuando se afirme en las asignaciones o contratos que el petróleo, el gas natural y los de-\n",
      "más hidrocarburos que se encuentren en el subsuelo pertenecen únicamente a México y a los \n",
      "mexicanos.\n",
      "• Se mantendrá y fortalecerá el papel estratégico de Pemex en la industria petrolera. Mediante \n",
      "la “Ronda Cero”, Pemex podrá elegir aquellos\n",
      "\n",
      " incrementar los ingre-\n",
      "sos de la Nación, con sentido de equidad y responsabilidad social y ambiental.\n",
      "• Pemex y la CFE se mantienen como empresas 100% mexicanas y 100% del Estado, cuya or-\n",
      "ganización, administración, organización y estructura corporativa serán acordes con las me-\n",
      "jores prácticas internacionales.\n",
      "Legislación Secundaria\n",
      "• Pemex y CFE contarán con un régimen presupuestario especial y exclusivo que les otorga auto-\n",
      "nomía presupuestaria y las sujeta sólo al balance financiero y al techo de servicios personales.\n",
      "• Para el manejo de su deuda, Pemex y CFE se regirán por lo dispuesto en un artículo espe-\n",
      "cial de la Ley General de Deuda Pública. Ambas empresas podrán realizar negociaciones, así \n",
      "como contr\n",
      "\n",
      "os \n",
      "que se consumían en el país, para 2012 dicha cifra ascendió a 66%.\n",
      "Pofr una parte, hasta diciembre de 2013, el marco constitucional no permitía a Pemex asociar-\n",
      "se en México con otras empresas para mejorar su rendimiento sin embargo, este pero ese tipo \n",
      "de asociaciones sí las podía hacer en el extranjero. Por otra parte, el marco jurídico dividía la pe-\n",
      "troquímica en básica, que no estaba abierta a la inversión privada, y secundaria, que sí lo estaba. \n",
      "Esta división virtual no coincidía con los procesos industriales. \n",
      "\n",
      "9\n",
      "Aunque hoy los privados ya participan en la petroquímica secundaria, se requiere de los insumos \n",
      "de la petroquímica básica cuyo abasto resulta insuficiente,\n",
      "\n",
      " licencia, un bono por la suscripción del contrato, y\n",
      "4.\tPagos determinados como una proporción de la utilidad (en especie o en efectivo).\n",
      "• La iniciativa contempla que los contratos para la exploración y extracción de hidrocarburos \n",
      "se desarrollen de manera individual, en consorcio, es decir con un grupo de empresas, o en \n",
      "asociación en participación. Los consorcios y asociaciones se podrán llevar a cabo de forma \n",
      "libre, durante la propuesta presentada en la licitación, o con autorización de la CNH, una vez \n",
      "adjudicado el contrato. Cuando una asignación migre a un contrato podrá llevarse a cabo una \n",
      "asociación entre Pemex y un partícular, y la CNH realizará una licitación para elegir al socio \n",
      "(incluy\n",
      "\n",
      "\n"
     ]
    }
   ],
   "source": [
    "collection_name = qdrant_config.COLLECTION_NAME + qdrant_config.COLLECTION_VERSION\n",
    "\n",
    "query = \"En el nuevo modelo, cómo se considera a Pemex?\"\n",
    "#El modelo propuesto también considera que Pemex podrá migrar a la nueva modalidad\n",
    "payload = {\n",
    "    \"text\":query,\n",
    "}\n",
    "\n",
    "token = generate_id_token(audience=gcp_config.EMBEDDING_SERVICE_URL)\n",
    "\n",
    "headers = {\"Authorization\": f\"Bearer {token}\"}\n",
    "\n",
    "response = requests.post(url = gcp_config.EMBEDDING_SERVICE_URL + \"/embed-text\", json=payload, headers=headers)\n",
    "embeddings = response.json()[\"chunks\"]\n",
    "vectors = [chunk[\"vector\"] for chunk in embeddings]\n",
    "context = semantic_search(vectors, collection_name=collection_name, limit = 5)\n",
    "\n",
    "print(context)"
   ]
  },
  {
   "cell_type": "code",
   "execution_count": null,
   "metadata": {},
   "outputs": [],
   "source": []
  }
 ],
 "metadata": {
  "kernelspec": {
   "display_name": ".venv",
   "language": "python",
   "name": "python3"
  },
  "language_info": {
   "codemirror_mode": {
    "name": "ipython",
    "version": 3
   },
   "file_extension": ".py",
   "mimetype": "text/x-python",
   "name": "python",
   "nbconvert_exporter": "python",
   "pygments_lexer": "ipython3",
   "version": "3.11.10"
  }
 },
 "nbformat": 4,
 "nbformat_minor": 2
}
