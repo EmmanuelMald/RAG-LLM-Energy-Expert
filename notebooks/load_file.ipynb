{
 "cells": [
  {
   "cell_type": "markdown",
   "metadata": {},
   "source": [
    "# RAG LLM: Parsing - Chunking - Embedding - Indexing files\n",
    "\n",
    "In this notebook it is shown how to upload a PDF document into a vector DB, mainly consists in 4 steps:\n",
    "\n",
    "- **Parsing** is the process of extracting raw text from documents such as PDFs, .docx files, youtube videos and so on. It depends on the type of data you want to parse. For this LLM, only pdfs will be parsed.\n",
    "\n",
    "- **Chunking** is the process of splitting the parsed text into small chunks, which will be then embedded.\n",
    "\n",
    "- **Embedding** is the process of convertir the chunked text into a dense vector.\n",
    "\n",
    "- **Indexing** is the process of inserting the embeddings into a vector database collection."
   ]
  },
  {
   "cell_type": "markdown",
   "metadata": {},
   "source": [
    "## Load libraries"
   ]
  },
  {
   "cell_type": "code",
   "execution_count": 18,
   "metadata": {},
   "outputs": [],
   "source": [
    "import pymupdf\n",
    "from langchain_text_splitters import TokenTextSplitter \n",
    "from transformers import AutoTokenizer\n",
    "from sentence_transformers import SentenceTransformer\n",
    "from qdrant_client.models import PointStruct\n",
    "import numpy as np\n",
    "import uuid\n",
    "from datetime import datetime\n",
    "\n",
    "import sys\n",
    "\n",
    "sys.path.append(\"..\")\n",
    "\n",
    "from utils.gcp.gcs import get_file\n",
    "from utils.vector_db.qdrant import create_collection, update_points\n",
    "from rag_llm_energy_expert.config import GCP_CONFIG, QDRANT_CONFIG"
   ]
  },
  {
   "cell_type": "markdown",
   "metadata": {},
   "source": [
    "## Initialize config classes"
   ]
  },
  {
   "cell_type": "code",
   "execution_count": 19,
   "metadata": {},
   "outputs": [],
   "source": [
    "gcp_config = GCP_CONFIG()\n",
    "qdrant_config = QDRANT_CONFIG()"
   ]
  },
  {
   "cell_type": "markdown",
   "metadata": {},
   "source": [
    "### Parsing PDFs\n",
    "\n",
    "There are tons of libraries to extract data from PDFs, nevertheless, [*PyMuPDF*](https://pypi.org/project/pymupdf4llm/) is one of the best libraries because:\n",
    "\n",
    "- Detects standard text and tables\n",
    "- Header lines are identified via de font size and appropiately prefixed with one or more '#' tags.\n",
    "- Bold, italic, mono-spaced text and code blocks are detected and formatted accordingly.\n",
    "- By default, all document pages are processed.\n",
    "- Support for pages with multiple text columns.\n",
    "- Support image or vector graphic on the page and they're stored as an image.\n",
    "- ***Support for page chunks***. Instead of returning one large string for the whole document, a list of dictionaries can be generated. One for each page.\n",
    "\n",
    "*All the data parsed here comes from GCP*"
   ]
  },
  {
   "cell_type": "markdown",
   "metadata": {},
   "source": [
    "Reading into memory is faster than download the pdf into a file system, and then read the file from there. Moreover, it's useful when you do not have a persistent memory or you want to work directly with the file."
   ]
  },
  {
   "cell_type": "markdown",
   "metadata": {},
   "source": [
    "### Extracting data from PDF"
   ]
  },
  {
   "cell_type": "markdown",
   "metadata": {},
   "source": [
    "First, set the path to the PDF stored in GCS"
   ]
  },
  {
   "cell_type": "code",
   "execution_count": 20,
   "metadata": {},
   "outputs": [],
   "source": [
    "file_to_read = f\"gs://{gcp_config.BUCKET_NAME}/documents/summaries/resumen_reforma_energetica.pdf\"\n",
    "\n",
    "#local path\n",
    "#file_to_read = \"../data/Mexico_energy_profile.pdf\""
   ]
  },
  {
   "cell_type": "markdown",
   "metadata": {},
   "source": [
    "Obtaining some metadata from the text, such as the title and the storage path that will be used as metadata within a chunk. Nevertheless, any data can be set in the metadata."
   ]
  },
  {
   "cell_type": "code",
   "execution_count": 21,
   "metadata": {},
   "outputs": [],
   "source": [
    "# Get the name / title of the file\n",
    "title = file_to_read.split(\"/\")[-1].split(\".\")[0]\n",
    "\n",
    "useful_gcs_path = file_to_read[5:]\n",
    "\n",
    "pdf_path_parts = useful_gcs_path.split(\"/\", maxsplit= 1)\n",
    "        \n",
    "\n",
    "bucket_name = pdf_path_parts[0]\n",
    "blob_name = pdf_path_parts[1]"
   ]
  },
  {
   "cell_type": "markdown",
   "metadata": {},
   "source": [
    "Download in memory the PDF as bytes"
   ]
  },
  {
   "cell_type": "code",
   "execution_count": 22,
   "metadata": {},
   "outputs": [],
   "source": [
    "#Loads in memory a pdf stored in GCS\n",
    "pdf_bytes = get_file(gcs_file_path=blob_name, bucket_name = bucket_name)"
   ]
  },
  {
   "cell_type": "markdown",
   "metadata": {},
   "source": [
    "Read the PDF using pymupdf, which creates a Document, each Document is made of Pages.\n",
    "\n",
    "Then, using pymupdf4llm, convert the PDF text into a markdown format, returning a string with the 'markdowned' text"
   ]
  },
  {
   "cell_type": "code",
   "execution_count": 23,
   "metadata": {},
   "outputs": [],
   "source": [
    "# Create a Document object, it can be constructed from a file or from memory\n",
    "# pymupdf.Document() method is exactly the same as pymupdf.open()\n",
    "doc = pymupdf.Document(stream = pdf_bytes)\n",
    "\n",
    "# When comes from local:\n",
    "#doc = pymupdf.Document(file_to_read)"
   ]
  },
  {
   "cell_type": "code",
   "execution_count": 24,
   "metadata": {},
   "outputs": [
    {
     "data": {
      "text/plain": [
       "' Resumen Ejecutivo\\n\\n\\n3\\nI. Introducción\\nLa Reforma Energética es un paso decidido rumbo a la modernización del sector energético de \\nnuestro país, sin privatizar las empresas públicas dedicadas a la producción y al aprovechamien-\\nto de los hidrocarburos y de la electricidad. La Reforma Energética, tanto constitucional como a \\nnivel legistlación secundarias, surge del estudio y valoración de las distintas iniciativas presenta-\\ndas por los partidos políticos representados en el Congreso.\\nLa Reforma Energética tiene los siguientes objetivos y premisas fundamentales:\\n1.\\t\\nMantener la propiedad de la Nación sobre los hidrocarburos que se encuentran en el sub-\\nsuelo.\\n2.\\t\\nModernizar y fortalecer, sin privatizar, a Petróleos Mexicanos (Pemex) y a la Comisión Fe-\\nderal de Electricidad (CFE) como Empresas Productivas del Estado, 100% públicas y 100% \\nmexicanas.\\n3.\\t\\nReducir la exposición del país a los riesgos financieros, geológicos y ambientales en las ac-\\ntividades de exploración y extracción de petróleo y gas natural.\\n4.\\t\\nPermitir que la Nación ejerza, de manera exclusiva, la planeación y control del Sistema \\nEléctrico Nacional, en beneficio de un sistema competitivo que permita reducir los precios \\nde la energía eléctrica.\\n5.\\t\\nAtraer mayor inversión al sector energético mexicano para impulsar el desarrollo del país.\\n6.\\t\\nContar con un mayor abasto de energéticos a mejores precios.\\n7. \\t Garantizar estándares internacionales de eficiencia, calidad y confiabilidad de suministro \\nenergético, así como transparencia y rendición de cuentas en las distintas actividades de la \\nindustria energética.\\n8.\\t\\nCombatir de manera efectiva la corrupción en el sector energético.\\n9.\\t\\nFortalecer la administración de los ingresos petroleros e impulsar el ahorro de largo plazo en \\nbeneficio de las futuras generaciones.\\n10.\\t Impulsar el desarrollo, con responsabilidad social y ambiental.\\nEstos objetivos se verán traducidos en beneficios concretos para los mexicanos:\\n1.\\t\\nBajar las tarifas eléctricas y bajar el precio del gas natural.\\n2.\\t\\nLograr tasas de restitución de reservas probadas de petróleo y gas natural superiores a \\n100%. \\n3.\\t\\nAumentar la producción de petróleo de 2.5 millones de barriles diarios que se producen ac-\\ntualmente, a 3 millones de barriles en 2018, y a 3.5 millones en 2025, asimismo aumentar \\nla producción de gas natural de los 5 mil 700 millones de pies cúbicos diarios producidos \\nactualmente a 8 mil millones en 2018 y a 10 mil 400 millones en 2025.\\n4.\\t\\nGenerar cerca de un punto porcentual más de crecimiento económico en 2018 y aproxima-\\ndamente 2 puntos porcentuales más para 2025. \\n5.\\t\\nCrear cerca de medio millón de empleos adicionales en este sexenio, llegando a 2 millones \\ny medio de empleos en 2025.\\n6.\\t\\nSustituir las centrales eléctricas más contaminantes con tecnologías limpias y fomentar la \\nutilización de gas natural en la generación eléctrica.\\n\\n4\\nII. Abasto de energéticos a precios competitivos\\ni) \\t Nuevo modelo de producción de petróleo y gas natural\\nMéxico, al igual que muchos otros países con abundantes recursos naturales, sustenta en gran \\nmedida su desarrollo económico y social en la riqueza energética. Sin embargo, el sector petro-\\nlero mexicano enfrenta retos considerables y urgentes por atender, entre los que se encuentran \\nla caída de la producción y la necesidad de mayor inversión a nivel industria.\\nA pesar de invertir más en exploración y extracción de petróleo y gas natural, la producción de \\npetróleo pasó de 3.4 millones de barriles diarios en 2004, a 2.5 millones de barriles diarios en \\n2013. Con respecto al gas natural, en 1997 México era prácticamente autosuficiente, pues \\nsólo importábamos 3% del consumo nacional. En la actualidad importamos 30% del gas natu-\\nral que consumimos en el país.\\nEl petróleo y gas natural del futuro provendrán de los llamados “recursos no convencionales”, \\nque se encuentran en cuencas de lutitas y en aguas profundas. Aunque México cuenta con gran-\\ndes reservas de estos recursos, carece de la capacidad técnica, financiera y de ejecución para \\nextraer estos hidrocarburos de forma competitiva.\\nEl principal obstáculo para materializar plenamente el potencial de nuestro país en este tipo de \\nyacimientos era el marco constitucional. Antes de la Reforma, la Constitución obligaba a Pemex \\na llevar a cabo, por sí solo, todas las actividades de la industria petrolera, sin importar las restric-\\nciones financieras, operativas o tecnológicas a las que estuviera sujeto.\\nDe acuerdo con estimaciones de Pemex, desarrollar el potencial la industria nacional de explo-\\nración y extracción requeriría de aproximadamente 60 mil millones de dólares al año dado el \\nportafolio de inversión que se tiene identificado. Sin embargo, hoy Pemex sólo cuenta en su pre-\\nsupuesto anual con alrededor de 27 mil millones de dólares. Incluso un régimen fiscal más atrac-\\ntivo para Pemex sería insuficiente para desarrollar el portafolio identificado. \\nLa Reforma Energética a Nivel Constitucional\\n• En el Artículo 27 Constitucional:\\n\\t\\nSe reafirma la propiedad inalienable e imprescriptible de la Nación sobre los hidrocarburos \\nen el subsuelo y la prohibición expresa de otorgar concesiones para exploración y extrac-\\nción. \\n\\t\\nSe establece la posibilidad de que la Nación otorgue asignaciones o contratos a Pemex e \\nincorpora también la posibilidad de otorgar contratos a empresas privadas. Esto permiti-\\nrá poner en producción yacimientos de hidrocarburos que en la actualidad se encuentran \\nociosos por falta de inversión, de capacidad de ejecución y de tecnología. \\n\\t\\nSe establece que la propiedad de la Nación sobre los hidrocarburos en el subsuelo deberá \\nafirmarse en las asignaciones o contratos.\\n\\n5\\n• En el Artículo 28 Constitucional se establece que la exploración y extracción de petróleo y \\ngas son actividades estratégicas.\\n• La reforma constitucional establece que la ley regulará las modalidades de contraprestación \\npor las actividades de exploración y extracción de petróleo y gas natural, incluyendo contra-\\ntos de utilidad o de producción compartida, de licencia o de servicios. El Estado definirá el tipo \\nde contrato que más convenga al país y escogerá la modalidad de contraprestación para lo-\\ngrar el mayor beneficio para el desarrollo de largo plazo del país. \\n• Toda la información de los contratos estará disponible para todos los mexicanos.\\n• Pemex y los particulares podrán reportar a inversionistas y reguladores, así como al públi-\\nco en general, los proyectos que desarrollen en México y los beneficios esperados, siempre \\ny cuando se afirme en las asignaciones o contratos que el petróleo, el gas natural y los de-\\nmás hidrocarburos que se encuentren en el subsuelo pertenecen únicamente a México y a los \\nmexicanos.\\n• Se mantendrá y fortalecerá el papel estratégico de Pemex en la industria petrolera. Mediante \\nla “Ronda Cero”, Pemex podrá elegir aquellos campos en producción y aquellas áreas en ex-\\nploración que tengan interés en operar y donde demuestre tener capacidad técnica, financie-\\nra y de ejecución para desarrollarlos en forma eficiente y competitiva y podrá migrarlas hacia \\nun esquema de contratos, con los que podrá acceder a mejores condiciones fiscales.\\n• Dada la relevancia que las actividades petroleras revisten para el desarrollo nacional, la refor-\\nma constitucional establece que todas las actividades de exploración y extracción de petró-\\nleo y de gas natural son de interés social y de orden público.\\n• La reforma constitucional fortalece las instituciones del Estado en materia de exploración y \\nexplotación de petróleo y gas natural , ya que distribuye eficientemente las de responsabili-\\ndades y facultades:\\n\\t\\nLa Secretaría de Energía (SENER) se mantiene como la cabeza del sector y tiene entre sus \\nprincipales facultades: i) definir la política energética, ii) adjudicar asignaciones a Pemex y \\niii) seleccionar las áreas que podrán ser objeto de contratos para la exploración y extrac-\\nción de petróleo y gas natural.\\n\\t\\n\\tLa Comisión Nacional de Hidrocarburos (CNH) será un Órgano Regulador Coordinado, \\ncon personalidad jurídica propia, autonomía técnica y de gestión y autosuficiencia presu-\\npuestaria. La CNH será la encargada de i) recopilar la información geológica y operativa; ii) \\nautorizar trabajos de reconocimiento y exploración superficial; y iii) llevar a cabo las licita-\\nciones y asignar contratos de exploración y extracción de gas natural y petróleo, de sus-\\ncribirlos y administrarlos de manera técnica.\\nLegislación Secundaria\\n• Para la realización de las actividades de exploración y extracción de hidrocarburos el Estado \\ntiene la posibilidad de otorgar asignaciones o suscribir contratos.\\n\\n6\\nAsignaciones \\n• Se otorgarán a Pemex en la Ronda Cero.\\n• Posteriormente, se otorgan de forma excepcional a Pemex y a otras \\nEmpresas Productivas del Estado.\\n• Las asignaciones permiten la adjudicación directa a Pemex de pro-\\nyectos estratégicos tales como yacimientos transfronterizos.\\n• Los asignatarios podrán registrar el beneficio económico esperado \\npara efectos financieros y contables.\\nContratos para la Exploración y Extracción\\n \\n• Los hidrocarburos en el subsuelo son propiedad de la Nación.\\n• Los contratos pueden ser suscritos con a) Pemex, b) Pemex asocia-\\ndo con particulares o c) particulares.\\n• Adjudicación por licitación a quien ofrezca las mejores condiciones \\neconómicas para el Estado y el mayor compromiso de inversión. \\n• Se contempla la posibilidad de recisión administrativa por causas \\ngraves específicas.\\n• En caso de recisión el contratista podrá ser acreedor a un finiquito.\\n• Los contratistas podrán registrar el beneficio económico esperado \\npara efectos financieros y contables.\\n• Se podrá establecer una participación directa del Estado (máximo \\n30%) a través de Pemex o de un vehículo financiero de la SENER.\\n• El Estado participará directamente en la inversión (al menos 20%) en las zonas donde pudie-\\nra haber un yacimiento transfronterizo.\\t  \\n• En el proceso de diseño, otorgamiento, operación y administración de los contratos se pro-\\npone un mecanismo institucional de pesos y contrapesos que contempla la participación de: \\nla SENER, la Secretaría de Hacienda y Crédito Público (SHCP), la CNH, la Agencia Nacional de \\nSeguridad Industrial y de Protección al Medio Ambiente del Sector Hidrocarburos y el Fondo \\nMexicano del Petróleo para la Estabilización y el Desarrollo. Sus responsabilidades se dividen \\nde la siguiente forma:\\n1.\\tLa SENER se encargará de i) seleccionar las áreas para licitación de contratos, ii) determinar \\ny diseñar el tipo de contrato que aplicará a cada área contractual y iii) emitir los lineamientos \\ntécnicos para establecer las bases de licitación.\\n2. La SHCP será responsable de determinar: i) los términos económicos y fiscales de los contra-\\ntos; ii) las variables de adjudicación, que serán de carácter económico; y iii) verificar el correc-\\nto cumplimiento de las obligaciones fiscales y contractuales, incluyendo las operaciones que \\nrealice el Fondo Mexicano del Petróleo para la Estabilización y el Desarrollo.\\n \\n3. La CNH llevará a cabo las licitaciones para adjudicar contratos para la exploración y extrac-\\nción de hidrocarburos y suscribirá los contratos con el ganador de la licitación. También apro-\\nbará los planes de exploración y extracción y autorizará la perforación de pozos.\\n\\n7\\n4.\\tLa Agencia Nacional de Seguridad Industrial y de Protección al Medio Ambiente será la en-\\ncargada de supervisar y, en su caso, sancionar a los contratistas y asignatarios en materia de \\nprotección de las personas, los bienes y el medio ambiente.\\n5.\\tEl Fondo Mexicano del Petróleo para la Estabilización y el Desarrollo será el encargado de \\ni) recibir todos los ingresos, ii) realizar los pagos según lo establecido en cada contrato y \\niii) administrar los recursos que corresponden al Estado.\\nEl régimen fiscal se detalla en la Ley de Ingresos sobre Hidrocarburos. Los elementos conside-\\nrados son consistentes con los estándares internacionales para asegurar que la Nación capture \\nla renta petrolera e impulsar la exploración y extracción de hidrocarburos. En la Ley de Ingresos \\nsobre Hidrocarburos se norman, entre otros, las siguientes modalidades de contraprestaciones: \\n1.\\tEl pago de regalías básicas y adicionales;\\n2.\\tCuotas por la fase exploratoria;\\n3.\\tPara los contratos de licencia, un bono por la suscripción del contrato, y\\n4.\\tPagos determinados como una proporción de la utilidad (en especie o en efectivo).\\n• La iniciativa contempla que los contratos para la exploración y extracción de hidrocarburos \\nse desarrollen de manera individual, en consorcio, es decir con un grupo de empresas, o en \\nasociación en participación. Los consorcios y asociaciones se podrán llevar a cabo de forma \\nlibre, durante la propuesta presentada en la licitación, o con autorización de la CNH, una vez \\nadjudicado el contrato. Cuando una asignación migre a un contrato podrá llevarse a cabo una \\nasociación entre Pemex y un partícular, y la CNH realizará una licitación para elegir al socio \\n(incluyendo las asignaciones de la Ronda Cero).\\n• El modelo propuesto también considera que Pemex podrá migrar a la nueva modalidad de \\ncontratación, aquellos contratos que en el pasado fueron otorgados por medio de una licita-\\nción. \\n• Para asegurar el desarrollo eficiente del sector y la existencia de un mercado donde exista \\ncompetencia, los contratos para la industria de hidrocarburos no podrán dar exclusividad  o \\npreferencia ilícita que beneficie a organizaciones empresariales, sociales o sindicales.\\n• Toda la información geológica del país será entregada a CNH, quien la administrará en el Cen-\\ntro Nacional de Información de Hidrocarburos. Pemex y las empresas productivas del Estado \\ny los particulares podrán realizar estudios de reconocimiento o exploración superficial, previa \\nautorización de CNH.\\n• La legislación secundaria contempla que Pemex o los particulares podrán proponer a la SE-\\nNER áreas a licitar en el futuro, con base en la información obtenida. Las propuestas no otor-\\ngan derechos ni ventajas para la suscripción de un contrato.\\n\\n8\\n• Se propone que los operadores puedan comercializar libremente los hidrocarburos que reci-\\nban como contraprestación. El Estado colocará en los mercados los hidrocarburos que reciba, \\na través de un comercializador que la CNH contrate través de licitación pública. \\n• Se reconoce la prevalencia de las actividades de exploración y extracción de hidrocarburos \\nsobre cualquier otra actividad, incluyendo la actividad minera; tambien se reconoce el gas \\nasociado al carbón (gas grisú) como hidrocarburo más por lo que se elimina de la Ley Minera.\\n• Se propone que los titulares de concesiones mineras que acrediten solvencia económica y \\ncapacidad técnica podrán suscribir un contrato con la CNH, sin que medie ninguna licitación. \\nEsto sólo aplicará para minas en las que se esté extrayendo carbón actualmente y el contra-\\nto amparará únicamente la extracción del gas grisú.\\n• Se considera que si la adjudicación de un contrato o asignación llegara a afectar los derechos \\nde superficie de una concesión minera, donde se estén extrayendo minerales, el titular de la \\nconcesión recibirá una contraprestación, definida mediante una negociación, o una indemni-\\nzación que determine CNH.\\n• Para definir los términos y las condiciones de la contraprestación que se deberá cubrir por la \\nocupación o afectación superficial, se privilegia la negociación entre operadores y propieta-\\nrios de los terrenos. Esto se hace con la asistencia de la Procuraduría Agraria y de testigos so-\\nciales, y con criterios de referencia para la definición de las contraprestaciones, acordes con \\nlas mejores prácticas internacionales. Dichas contraprestaciones pueden contemplar, entre \\notros,  el pago de un porcentaje del ingreso del operador después de realizados los pagos al \\nEstado.  \\n• Se establece que durante la ocupación temporal se respetarán en todo momento los dere-\\nchos que la legislación y los tratados internacionales suscritos por México confieran a las co-\\nmunidades indígenas.\\n• Se prohíben las actividades de exploración y extracción de hidrocarburos en zonas naturales \\nprotegidas.\\nii) \\t Nuevo modelo de producción de petrolíferos y petroquímicos\\nHace 15 años, nuestro país importaba 25% de las gasolinas. En contraste, 49% de la gasolina \\nque se consumió en el país durante 2012 provino del exterior. En el caso de la petroquímica se \\npresenta una situación similar; mientras que en 1997 se importaba 41% de los petroquímicos \\nque se consumían en el país, para 2012 dicha cifra ascendió a 66%.\\nPofr una parte, hasta diciembre de 2013, el marco constitucional no permitía a Pemex asociar-\\nse en México con otras empresas para mejorar su rendimiento sin embargo, este pero ese tipo \\nde asociaciones sí las podía hacer en el extranjero. Por otra parte, el marco jurídico dividía la pe-\\ntroquímica en básica, que no estaba abierta a la inversión privada, y secundaria, que sí lo estaba. \\nEsta división virtual no coincidía con los procesos industriales. \\n\\n9\\nAunque hoy los privados ya participan en la petroquímica secundaria, se requiere de los insumos \\nde la petroquímica básica cuyo abasto resulta insuficiente, pues hasta antes de la Reforma  Pe-\\nmex debía desarrollarlos de manera exclusiva. Es por ello que algunas empresas mexicanas de \\npetroquímica han preferido invertir en el extranjero, generando inversiones, creando empleos y \\npagando impuestos fuera de México\\n.\\nLa Reforma Energética Constitucional\\n• En el Artículo 28 Constitucional se eliminó a la petroquímica básica como una de las activida-\\ndes reservadas al Estado para terminar con la división ficticia que la separaba de la petroquí-\\nmica secundaria. \\n• Se abre la posibilidad de que tanto Pemex como particulares participen en actividades de re-\\nfinación, procesamiento de gas natural y petroquímica.\\n• La SENER otorgará permisos, ya sea a Pemex o a particulares, para realizar las actividades de \\ntratamiento y refinación del petróleo y para el procesamiento de gas natural.\\n• Se integrarán cadenas productivas en nuestro país con inversión pública y privada para au-\\nmentar la oferta doméstica de combustibles, gasolinas y petroquímicos.\\nLegislación Secundaria\\n• Se permite la participación de particulares en refinación y procesamiento de gas natural, pre-\\ncio permiso de SENER pudiendo operar por su cuenta o en asociación con Empresas Produc-\\ntivas del Estado. Pemex también podrá asociarse, como actualmente ya lo hace en el extran-\\njero.\\n• Se establece la petroquímica en todas sus fases como actividad de libre concurrencia.\\n• Se establecen atribuciones para las instituciones del Estado en materia de permisos y regula-\\nción.\\niii) \\tNuevo modelo de transporte, almacenamiento y distribución de \\nhidrocarburos y sus derivados.\\nMéxico no cuenta con la infraestructura suficiente para transportar y distribuir el petróleo, el \\ngas natural y sus derivados. Esto implica que se transporten de manera poco eficiente y poco se-\\ngura, generando mayores costos. A su vez, esto eleva los precios de estos productos y restringe \\nel crecimiento de la industria.\\nEl Sistema Nacional de Gasoductos se encuentra a su máxima capacidad y en ocasiones ha sido \\nrebasado por las necesidades energéticas de nuestro país, afectando a la actividad industrial y \\ncomercial.\\nLa Reforma Energética Constitucional\\n• En el Artículo 28 Constitucional: \\n\\t\\nSe establece que en materia de hidrocarburos, sólo las actividades de exploración y ex-\\ntracción de petróleo y gas son exclusivas del Estado. Esto permite la participación de par-\\n\\n10\\nticulares en el transporte, almacenamiento y distribución del petróleo, gas natural, petro-\\nlíferos y petroquímicos.\\n• Se crea el Centro Nacional de Control del Gas Natural. Este centro será un organismo público \\ndescentralizado encargado de administrar, coordinar y gestionar de forma eficiente la red de \\nductos y el almacenamiento del gas natural en nuestro país.\\n• Se fortalecen las instituciones del Estado en materia de transporte, almacenamiento y distri-\\nbución de hidrocarburos.\\n\\t\\nLa Comisión Reguladora de Energía (CRE), se transforma en un Órgano Regulador Coordina-\\ndo, con personalidad jurídica propia, autonomía técnica y de gestión, así como autosuficien-\\ncia presupuestaria.\\n• La CRE otorgará permisos para el almacenamiento, transporte y distribución de petróleo, gas \\nnatural y petrolíferos, así como de etano, propano, butano y naftas que se transporten exclu-\\nsivamente por ducto. También garantizará el acceso abierto y en igualdad de circunstancias \\na la utilización de la infraestructura de transporte por ductos y almacenamiento de hidrocar-\\nburos y de sus derivados. De igual forma emitirá la regulación de las ventas de primera mano \\nde estos producto hasta en tanto exista competencia efectiva.\\nIniciativa de Legislación Secundaria\\n• SENER y la CRE se encargarán de la regulación y expedición de permisos:\\n• Los permisionarios que presten los servicios de transporte y distribución por medio de ductos \\ny almacenamiento de hidrocarburos tendrán la obligación de dar acceso abierto a sus insta-\\nlaciones y servicios.\\n• \\nLa Reforma Constitucional en Materia Energética previó la creación del CENAGAS como \\norganismo público descentralizado. Con base en la Reforma, el CENAGAS será el gestor y ad-\\n\\n11\\nministrador independiente del Sistema de Transporte y Almacenamiento Nacional Integrado de \\nGas Natural, mismo que se podrá estará conformar conformado por la siguiente infraestructura:\\n1.\\tDuctos de transporte e instalaciones de almacenamiento de gas natural, y\\n2.\\tEquipos de compresión, licuefacción, descompresión, regasificación y demás instalaciones \\nvinculadas a la infraestructura señalada en el mineral anterior.\\n• Se promoverá la existencia de precios competitivos para los usuarios y plena competencia \\nen los servicios. Esto se hará a través de la inclusión de reglas que establezcan una clara \\nseparación entre las actividades que realice cada participante.\\n• Se proponen principios para evitar el acaparamiento y posibles conflictos de interés que \\ninhiban el adecuado desarrollo del subsector.\\n• Se prevé una apertura gradual y progresiva en las actividades de expendio al público de ga-\\nsolinas y diésel, así como para gas licuado de petróleo. Como parte del proceso ordenado \\nde apertura, se plantea que la importación de combustibles sea liberada a partid de 2016 \\nen el caso del gas licuado de petróleo, y a partir de 2017 para gasolinas y diésel.\\nApertura gradual en el mercado de gasolinas y diésel\\nApertura gradual en gas Licuado de Petróleo (LP)\\n\\n12\\niv) \\tNuevo modelo de generación, transmisión, distribución y comercialización \\nde energía eléctrica.\\nEn comparación con Estados Unidos, en México las tarifas promedio son 25% más altas, aun \\ncon el subsidio, sin el cual resultarían 73% más caras. Esto constituye un freno a la economía \\nmexicana, pues la electricidad es un insumo esencial para la actividad industrial, comercial y de \\nservicios.\\nUno de los grandes retos que enfrenta el sector es la falta de inversión en la red nacional de \\ntransmisión eléctrica. Se requiere incrementar el mallado e interconectar zonas del país con alto \\npotencial de energías limpias.\\nRespecto a la distribución, hoy se registran ineficiencias significativas. Las pérdidas técnicas y no \\ntécnicas de energía en México son alrededor del doble del promedio de los países de la OCDE. \\nAproximadamente 15% de la energía producida por la CFE no se cobra.\\nLa Reforma Energética Constitucional\\n• En el Artículo 25 Constitucional: \\n\\t\\nSe establece la categoría de Empresas Productivas del Estado para que la CFE pueda con-\\nsolidarse como una empresa con altos estándares de competitividad.\\n• En el Artículo 27 Constitucional: \\n\\t\\nSe establece que la planeación y el control del Sistema Eléctrico Nacional, así como el ser-\\nvicio público de transmisión y distribución de electricidad son áreas exclusivas del Estado. \\nSe mantiene la prohibición expresa de otorgar concesiones en estas áreas y se permite \\nque el Estado celebre contratos con particulares. De esta forma, por cuenta de la Nación \\nse pueden llevar a cabo actividades para el servicio público de transmisión y distribución \\nde energía eléctrica.\\n• En el Artículo 28 Constitucional: \\n\\t\\nSe establece que la planeación y el control del Sistema Eléctrico Nacional (SEN) y el servi-\\ncio público de transmisión y distribución de electricidad son áreas exclusivas del Estado.\\n• La CFE y particulares podrán realizar actividades de generación de electricidad de forma libre, \\ncon una regulación sólida y eficiente.\\n• La CFE mantiene las actividades de generación eléctrica que realiza desde antes de la refor-\\nma, y podrá construir nuevas plantas, modernizando su base de generación.\\n• Los particulares podrán instalar nuevas plantas sin requerir que CFE decida incluirlas dentro \\nde la planeación de la empresa.\\n• El Centro Nacional de Control de Energía (CENACE),que formaba parte de CFE se constituirá \\ncomo un organismo público descentralizado encargado del control operativo del SEN. Tam-\\n\\n13\\nbién será el encargado de operar el mercado eléctrico mayorista, y de garantizar a los gene-\\nradores el acceso abierto a la red nacional de transmisión.\\n• Se podrán celebrar contratos entre particulares y la CFE para el financiamiento, instalación, \\nmantenimiento, gestión, operación, ampliación, modernización, vigilancia y conservación de \\nla infraestructura del servicio público de transmisión y distribución de energía eléctrica. De \\nesta forma se podrá aprovechar la tecnología y experiencia de particulares a fin de reducir \\ncostos y pérdidas de operación.\\n• La Reforma Energética permitirá reducir el costo de la electricidad, que depende en 80% del \\nprecio del combustible que se usa para generarla. El gas natural es 4 veces más barato y emi-\\nte 68% menos emisiones de dióxido de carbono que el combustóleo, que es uno de los prin-\\ncipales combustibles con los que se genera electricidad en México.  \\n• México tiene múltiples yacimientos de gas natural; sin embargo, su producción ha ido a la \\nbaja y hoy importamos 30% de nuestro consumo. Con la Reforma Energética, tendremos \\nmúltiples operadores para extraer el gas natural que necesitamos, y así contaremos con in-\\nsumos para generar electricidad de menor costo y más limpia.\\n• La CRE se encargará de la regulación y el otorgamiento de permisos para la generación, así \\ncomo de las tarifas de porteo para transmisión y distribución.\\nLegislación Secundaria\\n• Se permite la participación de privados en la generación y comercialización de energía eléctri-\\nca, manteniéndose como áreas estratégicas del Estado la planeación y el control del Sistema \\nEléctrico Nacional y el servicio público de transmisión y distribución de energía eléctrica.\\n• Se expide la Ley de Energía Geotérmica que regulará el reconocimiento, exploración y explo-\\ntación de recursos geotérmicos para su aprovechamiento con el fin de generar energía eléc-\\ntrica o destinarla a usos diversos. \\nLa nueva Ley de Energía Geotérmica propone que CFE indique a SENER las áreas geotérmicas de \\nsu interés para el otorgamiento de permiso o concesión. Esto lo que deberá realizar dentro de \\nlos 120 días posteriores al inicio de vigencia de la ley. CFE podrá establecer asociaciones o de-\\nsarrollar por sí misma estos proyectos.\\n• Se prevén modalidades de contratación entre el Estado y los particulares para que éstos con-\\ntribuyan con su tecnología y experiencia a la expansión y mejoramiento de las redes de trans-\\nmisión y distribución. Esto permitirá combatir las pérdidas de energía eléctrica y aumentar la \\neficiencia del proceso de distribución de energía eléctrica.\\n\\n14\\n• La coordinación necesaria para satisfacer la demanda de energía al menor costo y proveer la \\nestabilidad necesaria al sistema eléctrico seguirá en manos del CENACE. Su nuevo status de \\norganismo público descentralizado garantizará su imparcialidad al momento de despachar \\nenergía eléctrica.\\nMercado Eléctrico\\n• El mercado eléctrico establecerá precios spot para la compraventa de energía a corto plazo \\nentre los participantes mayoristas (generadores, comercializadores y usuarios calificados).\\n \\n• Los participantes podrán celebrar contratos de largo plazo entre ellos con precios energéti-\\ncos negociados libremente. Los usuarios calificados podrán contratar su servicio a través de \\nsuministradores calificados, quienes fijarán sus precios a fin de competir por clientes.\\n• La Secretaría de Hacienda y Crédito Público conservará la facultad de fijar las tarifas finales \\nde los usuarios de servicio básico, mientras que la CRE regulará las tarifas de transmisión y \\ndistribución.\\n• Se propone la creación de un Fondo de Servicio Universal Eléctrico para financiar la electrifica-\\nción en las comunidades rurales y zonas urbanas marginadas. Entre otros ingresos, el Fondo \\nse integrará por los excedentes que resulten de la gestión de pérdidas de energía en el mer-\\ncado eléctrico.\\n• Se incluye un esquema de Certificados de Energías Limpias, a través del cual la SENER deter-\\nminará el porcentaje de energía que debe generarse cada año a partir de fuentes limpias. El \\ncumplimiento se acreditará a través de la compra de Certificados de Energías Limpias.\\nIII. \\t Fondo Mexicano del Petróleo para la Estabilización y el Desarrollo\\nDurante los últimos 30 años, la industria petrolera y sus ingresos han sido el pilar de las finan-\\nzas públicas y el motor de la actividad económica del país. Hoy, el principal reto a las finanzas \\npúblicas es revertir la caída en la producción de petróleo. Hasta ahora, los altos precios de dicho \\n\\n15\\nproducto han permitido compensar la caída en la producción, sin embargo, en los próximos años \\nya no tendremos ese margen.\\nSi bien desde hace un par de décadas existen diversos fondos destinados a administrar parte de \\nlos ingresos petroleros del país, sus alcances en la ley eran limitados y, más allá del ahorro en di-\\nchos fondos de estabilización, no se preveían mecanismos explícitos de ahorro. \\nLa Reforma Energética Constitucional\\n• El Artículo 28 Constitucional establece la creación de un fideicomiso público sujeto a obliga-\\nciones de transparencia denominado Fondo Mexicano del Petróleo para la Estabilización y el \\nDesarrollo. La institución fiduciaria será el Banco de México.\\n• El Fondo Mexicano del Petróleo para la Estabilización y el Desarrollo será un fideicomiso pú-\\nblico para administrar la renta petrolera pensando en las futuras generaciones de mexicanos.\\n• Con la creación del Fondo, los ingresos petroleros serán utilizados de manera eficiente, pro-\\nductiva y transparente para asegurar la estabilidad de las finanzas públicas y el ahorro de \\nlargo plazo. Los recursos petroleros se destinarán a disminuir pasivos, garantizar y expandir \\nla seguridad social, la educación y el desarrollo regional. \\nIniciativa de Legislación Secundaria\\n• Para decidir la asignación de recursos, el Fondo contará con un Comité Técnico formado \\npor dos miembros del Gobierno de la República: el Secretario de Hacienda y Crédito Público \\n(quien lo presidirá y contará con voto de calidad) y el Secretario de Energía, el Gobernador \\ndel Banco de México, y cuatro miembros independientes nombrados por el Presidente con la \\naprobación del Senado.\\n• De los ingresos petroleros que reciba, el Fondo podrá transferir un monto de hasta el 4.7% \\ndel PIB para el presupuesto. Los ingresos que se ubiquen por encima de ese nivel se manten-\\ndrán en el Fondo como ahorro de largo plazo.\\n\\n16\\n• La distribución propuesta de los ingresos petroleros permitirá que generaciones futuras pue-\\ndan beneficiarse de incrementos en los niveles de producción. Asimismo se contará con re-\\ncursos para estabilizar las finanzas públicas y hacer frente a imprevistos.\\n• Los recursos del Fondo Mexicano del Petróleo se considerarán recursos federales y quedarán \\nsujetos a las facultades de fiscalización de las autoridades federales competentes, conforme \\na las disposiciones jurídicas aplicables. \\n• Además, se establece que el Fondo deberá poner a disposición de la sociedad toda la infor-\\nmación relativa a los ingresos que reciba, tanto por contratos como por asignaciones, los pa-\\ngos que realice a los contratistas, y el destino de dichos recursos.\\nIV. \\t Órganos reguladores coordinados en hidrocarburos y electricidad \\nAntes de que se llevara a cabo la Reforma Constitucional en Materia Energética, la regulación \\ndel sector recaía en la SENER, a través de sus órganos desconcentrados (CNH y CRE). Por esto \\nno había una clara separación entre la entidad responsable del diseño de la política energética y \\naquéllas que debían dedicarse a promover una operación adecuada y eficiente.\\nAdicionalmente, CNH y CRE operaban en un entorno en el que los principales proyectos en la \\nindustria de hidrocarburos y de electricidad eran responsabilidad de sólo dos entidades paraes-\\ntatales: Pemex y la CFE. En consecuencia, la estructura del sector energético se enfocó a la re-\\ngulación de sólo un actor en cada actividad sustantiva.\\nLa Reforma Energética Constitucional\\n• En el Artículo 28 Constitucional se establece que la CNH y la CRE serán Órganos Regulado-\\nres Coordinados en Materia Energética. Esto implica que tendrán personalidad jurídica propia, \\nautonomía técnica y de gestión, así como autosuficiencia presupuestaria, pues dispondrán de \\nlos ingresos derivados de las contribuciones y aprovechamientos por sus servicios a través de \\nun fideicomiso público.\\n• Los Órganos Reguladores Coordinados en Materia Energética remplazarán a los órganos des-\\nconcentrados que se tienen en la actualidad.\\nLegislación Secundaria\\n• Entre las atribuciones de los órganos reguladores coordinados se proponen: i) Regular, super-\\nvisar y sancionar en las materias de su competencia, ii) Aportar elementos técnicos al Ejecu-\\ntivo Federal sobre la formulación de políticas energéticas, y iii) aprobar su anteproyecto de \\npresupuesto.\\n• Los Órganos Reguladores Coordinados en Materia Energética se coordinarán con la SENER a \\ntravés del Consejo de Coordinación del Sector Energético. Éste estará integrado por el titu-\\nlar de la SENER, quien fungirá como presidente del Consejo, los subsecretarios de la SENER, \\nlos presidentes de CNH y CRE, y así como por los directores generales del CENAGAS y del \\n\\n17\\nCENACE. A las reuniones del Consejo se podrá invitar a los titulares de otras dependencias y \\nentidades gubernamentales.\\n• El Consejo de Coordinación del Sector Energético tendrá como funciones: i) Dar a conocer la \\npolítica energética establecida por la SENER a los órganos reguladores coordinados, ii) Ana-\\nlizar los programas de trabajo anual de CNH y CRE, así como su ejecución, iii) Implementar \\nsistemas de información compartida y de cooperación institucional, y iv) Analizar casos es-\\npecíficos que puedan afectar el desarrollo y cumplimiento de la política energética y v) pro-\\nponer mecanismos de coordinación.\\nV. \\t Empresas Productivas del Estado en hidrocarburos y electricidad\\nPemex y la CFE, a pesar a ser las mayores empresas públicas del país, presentan grandes retos \\ny áreas de oportunidad en torno a su eficiencia y productividad. Esto se debe en gran medida a \\nque el anterior marco jurídico les impedía operar con la flexibilidad necesaria para potenciar sus \\ncapacidades productivas y así aumentar su rentabilidad. Tampoco se les permitía la asociación \\ncon particulares en las actividades reservadas al Estado, dejándoles la responsabilidad absoluta \\nde proveer de insumos energéticos y de electricidad al país, sin posibilidad de complementar sus \\nesfuerzos con terceros. Además, no podían actuar con agilidad ante los requerimientos de las \\nindustrias petrolera y eléctrica globales, lo que repercutió en elevados costos en sus procesos e \\ninversiones poco productivas y, como consecuencia, menor competitividad.\\nLa Reforma Energética Constitucional\\n• El Artículo 25 Constitucional establece la transformación de Pemex y CFE en Empresas Pro-\\nductivas del Estado, cuyo objeto será la creación de valor económico e incrementar los ingre-\\nsos de la Nación, con sentido de equidad y responsabilidad social y ambiental.\\n• Pemex y la CFE se mantienen como empresas 100% mexicanas y 100% del Estado, cuya or-\\nganización, administración, organización y estructura corporativa serán acordes con las me-\\njores prácticas internacionales.\\nLegislación Secundaria\\n• Pemex y CFE contarán con un régimen presupuestario especial y exclusivo que les otorga auto-\\nnomía presupuestaria y las sujeta sólo al balance financiero y al techo de servicios personales.\\n• Para el manejo de su deuda, Pemex y CFE se regirán por lo dispuesto en un artículo espe-\\ncial de la Ley General de Deuda Pública. Ambas empresas podrán realizar negociaciones, así \\ncomo contratar los financiamientos externos e internos que requieran, para lo que deberán \\ncoordinarse con la SHCP, sin requerir de su autorización.\\n• El Gobierno de la República dejará de ser el “administrador principal” de los órganos de gobier-\\nno de las Empresas Productivas del Estado para asumir el rol de propietario.\\n\\n18\\n• El Gobierno de la República podrá absorber una parte del pasivo de pensiones y jubilaciones \\nde PEMEX y CFE, sujeto a que acuerden con sus trabajadores un nuevo régimen de pensiones \\nque reduzca esos pasivos y la Auditoria Superior de la Federación audite la evolución de di-\\nchos pasivos.\\n• Los Consejos de Administración de ambas empresas tendrán una nueva estructura organi-\\nzacional y se encargarán de: i) Definir la visión estratégica del grupo corporativo; ii) Emitir las \\npolíticas en materia de inversiones, plan de negocios y contrataciones; iii) Emitir su estatuto \\norgánico; y iv) Vigilar y evaluar el desempeño de la empresa.\\nVI. \\t Promoción de inversión privada, contenido nacional e impulso al \\ndesarrollo de las empresas mexicanas.\\nEn el marco legal vigente con anterioridad a las reformas, las actividades de exploración, extrac-\\nción y refinación de hidrocarburos, la petroquímica básica, así como las actividades de transmi-\\nsión, distribución y comercialización de energía eléctrica, se encontraban reservadas de forma \\nexclusiva al Estado. Si bien en la ley permitía la participación de particulares en la generación \\neléctrica, ésta se encontraba limitada a la capacidad de contratación por parte de la CFE y unas \\nmodalidades limitadas de autoabastecimiento, cogeneración y exportación.\\nLas necesidades energéticas del país, las exigencias de un entorno internacional cada vez más \\ncompetitivo, el notable incremento en los riesgos y el monto de las inversiones requeridas para \\nla producción de hidrocarburos y el abasto eléctrico, hacen prácticamente imposible que las em-\\npresas públicas, por eficientes que resulten, sean capaces de hacerlo todo por sí mismas.\\nLa Reforma Energética Constitucional\\n• Se permite la participación de inversión privada en hidrocarburos y electricidad, para elevar la \\nproducción de energéticos a nivel nacional, generar mayor riqueza y aumentar el número de \\nempleos productivos en el país.\\n• Se establece la obligación de prever en la ley porcentajes de contenido nacional en la pro-\\nveeduría, para que en las asignaciones y contratos que se otorguen a las empresas públicas \\ny privadas se fomente la industria nacional.\\n• La expansión de las industrias petrolera y eléctrica generará empleos directos. Además, im-\\npulsará a otras industrias, promoverá la creación de empleos indirectos y acelerará el desa-\\nrrollo económico a nivel regional y nacional.\\n\\n19\\nLegislación Secundaria\\n• Se adecua la Ley de Inversión Extranjera con un doble propósito: (i) reflejar en ley el nuevo \\nmarco constitucional en lo que se refiere a las áreas estratégicas y (ii)  fomentar la participa-\\nción de la inversión nacional y extranjera en actividades relacionadas con la industria energé-\\ntica.\\n• Se propone establecer un promedio mínimo de contenido nacional de 35% para el conjun-\\nto de las asignaciones y contratos de exploración y extracción de hidrocarburos (no aplicará \\npara proyectos de aguas profundas y ultraprofundas que recibirán un tratamiento diferente). \\nEl porcentaje se alcanzará gradualmente, a más tardar en 2025, con el objeto de desarrollar \\nproveedores y cadenas productivas. Los contratos relativos al servicio público de transmisión \\ny distribución de energía eléctrica también establecerán un porcentaje mínimo de contenido \\nnacional.\\n• Se propone establecer reglas para dar preferencia a nacionales cuando ofrezcan condiciones \\nsimilares en precios, calidad y entrega oportuna para la adquisición de bienes y la contrata-\\nción de servicios y obras, así como la contratación y capacitación de personal.\\n• La Secretaría de Economía creará una unidad especializada que se encargará de: i) dar segui-\\nmiento a las estrategias para el fomento industrial y de la inversión directa en la industria, así \\ncomo elaborar y publicar un informe sobre los avances de las mismas, ii) proponer la meto-\\ndología para medir el grado de contenido nacional, y iii) verificar el cumplimiento de las metas \\nde grado de contenido nacional establecidas en las asignaciones y contratos.\\n• Se prevé la creación de un Fideicomiso Público para Promover el Desarrollo de Proveedores y \\nContratistas Nacionales de la Industria Energética, el cual promoverá el desarrollo de provee-\\ndores a través de financiamiento y apoyos para programas de capacitación, investigación y \\ncertificación.\\nVII. \\tSeguridad, sustentabilidad, compromiso con el medio ambiente, uso \\nde tecnologías y combustibles más limpios.\\nLas actividades del sector energético deben realizarse mediante una operación compatible con \\nel cuidado y la protección del medio ambiente.\\n\\n20\\nCaracterísticas del nuevo modelo\\n• En el Artículo 25 Constitucional se plasma el principio de sustentabilidad como uno de los cri-\\nterios para el desarrollo de los proyectos de infraestructura energética.\\n• El Ejecutivo Federal deberá incluir en el Programa Nacional para el Aprovechamiento Susten-\\ntable de la Energía los pasos a seguir, así como las condiciones de operación y financiamiento \\npara promover el uso de tecnologías y combustibles más limpios.\\n• En el sector eléctrico se establecieron obligaciones para el uso de energías limpias y la reduc-\\nción de emisiones contaminantes.\\n• Se crea la Agencia Nacional de Seguridad Industrial y Protección al Medio Ambiente del Sec-\\ntor Hidrocarburos. Ésta regulará la seguridad industrial para minimizar el riesgo de accidentes \\nen instalaciones o afectaciones al medio ambiente causadas por la actividad petrolera.\\nLegislación Secundaria\\n• La Agencia Nacional de Seguridad Industrial y Protección al Medio Ambiente del Sector Hi-\\ndrocarburos será un órgano desconcentrado de la Secretaría de Medio Ambiente y Recursos \\nNaturales (SEMARNAT), especializado técnicamente y que contará con autonomía de \\ngestión.\\n• Se propone que dicha Agencia tenga las atribuciones de regular, supervisar y sancionar en \\nmateria de seguridad industrial y operativa, así como de protección al medio ambiente. Asi-\\nmismo, participará en coordinación con la Secretaría de Marina y la SEMARNAT en la conten-\\nción de derrames y atención a contingencias o emergencias en el sector hidrocarburos, así \\ncomo en la investigación de sus causas.\\n• La Ley de la Industria Eléctrica crea un esquema de obligaciones para los usuarios calificados \\ny para las empresas de suministro eléctrico , así como los titulares de permisos de generación \\notorgados en los términos del marco legal anterior, relacionado a la adquisición de Certifica-\\ndos de Energías Limpias. Estos certificados, aunados a una interconexión más transparente y \\nexpedita, permitirán la expansión acelerada de proyectos de energías limpias y contribuirán a \\nla reducción de emisiones contaminantes. \\n• También se prevén mecanismos que permitirán a pequeños generadores producir electrici-\\ndad con fuentes renovables en sus casas u otros edificios y vender su producción a los sumi-\\nnistradores a cambio de contraprestaciones reguladas, o bien, precios de mercado.\\nVIII. Ocupación de la superficie, sustentabilidad y enfoque de derechos\\nLa Reforma Energética Constitucional\\n• La Reforma Energética dispone en el Artículo 8 Transitorio que las actividades de exploración \\ny extracción del petróleo y de los demás hidrocarburos, así como el servicio público de trans-\\n\\n21\\nmisión y distribución de la energía eléctrica, derivado de su carácter estratégico, se conside-\\nran de interés social y orden público, por lo que tendrán preferencia sobre cualquier otra que \\nimplique el aprovechamiento de la superficie y del subsuelo de los terrenos afectos a aquéllas. \\n• El mismo artículo señala que la Ley preverá los términos y las condiciones generales de la \\ncontraprestación que se deberá cubrir por la afectación u ocupación superficial o, en su caso, \\nla indemnización respectiva. Por otra parte, la Reforma Energética dispone en su Artículo 25 \\nque se apoyará e impulsará a las empresas de los sectores sociales y privado de la economía, \\nbajo criterios de equidad social, productividad y sustentabilidad, sujetándolos a las modali-\\ndades que dicte el interés público y al uso, en beneficio general, de los recursos productivos, \\ncuidando su conservación y el medio ambiente.\\nLa Legislación Secundaria\\n• El Artículo 118 de la Ley de Hidrocarburos señala que el desarrollo del sector energético se \\nrealizará atendiendo principios de sostenibilidad y respeto a los derechos humanos. Para im-\\nplementar dicho enfoque dispone de tres instrumentos fundamentales: mecanismo para los \\ntérminos y condiciones del uso superficial de las tierras, estudios y evaluaciones de impacto \\nsocial, consultas previas, libres e informadas a pueblos y comunidades indígenas-\\n• La Ley de Hidrocarburos dispone en su Capítulo V. Del impacto Social, establece que la Secre-\\ntaría de Energía, previo al otorgamiento de una Asignación, o de la publicación de una convo-\\ncatoria para la licitación de un Contrato para la Exploración y Extracción, realizará un estudio \\nde impacto social respecto de las áreas objeto de Asignación o Contrato, a fin de que se pue-\\nda prever la presencia de grupos poblacionales en situación de vulnerabilidad y la necesidad \\nde realizar acciones para salvaguardar sus derechos.\\n• Además dispone en su Artículo 121 que los interesados en desarrollar proyectos en el sec-\\ntor hidrocarburos deberán presentar ante la Secretaría de Energía una evaluación de impac-\\nto social que deberá contener la identificación, caracterización, predicción y valoración de los \\nimpactos sociales que podrían derivarse de las actividades que se pretenden desarrollar, así \\ncomo las medidas de mitigación correspondientes, en los términos que habrán de precisarse \\nen el reglamento de la Ley correspondiente.\\n• Con la finalidad de salvaguardar los intereses y derechos de las comunidades en las que se de-\\nsarrollen proyectos del sector hidrocarburos, el Artículo 120 establece que deberán llevarse \\na cabo los procedimientos de consulta, en los cuales podrán participar las Empresas Produc-\\ntivas del Estado y sus subsidiarias y filiales, así como particulares, conforme a la normatividad \\naplicable.\\n• En lo relativo al uso y ocupación superficial, la legislación secundaria establece el mecanismo \\nbasado en principios de transparencia y equidad para definir los términos y las condiciones \\ngenerales de la contraprestación, los términos y las condiciones para el uso, goce o afecta-\\nción de los terrenos, bienes o derechos necesarios para realizar las actividades.\\n• El mecanismo plantea la negociación inicial de 180 días entre particulares y, cuando sea ne-\\ncesario, esquemas alternativos consistentes en un proceso de mediación o de constitución \\nde una servidumbre legal de hidrocarburos. Los Asignatarios y Contratistas deberán dar aviso \\n\\n22\\na la Secretaría de Energía y a la Secretaría de Desarrollo Agrario, Territorial y Urbano, con el \\nobjeto de que las mismas generen las acciones necesarias de acompañamiento y protección \\nde derechos, a través de las figuras de los testigos sociales, modelos de contratos, asesoría y \\nrepresentación legal de la Procuraduría Agraria. \\n• En la negociación inicial las partes podrán acordar la práctica de avalúos, a cargo del Instituto \\nde Administración y Avalúos de Bienes Nacionales, o de instituciones crédito, corredores pú-\\nblicos o profesionistas en valuación. Los avalúos deberán considerar la plusvalía que genera-\\nrán los proyectos, la idoneidad de los terrenos, los gastos complementarios en caso de emi-\\ngración, etc.\\n• Los titulares de los terrenos, bienes o derechos tendrán derecho a que la contraprestación cu-\\nbra, según sea el caso, un pago por la renta, un pago por las afectaciones y en el caso de pro-\\nyectos que alcancen producción comercial, una participación en las utilidades del proyecto. \\n• La Legislación prevé mecanismos alternativos en caso de que no se alcancen acuerdos en la \\netapa de negociación inicial. En primera instancia, contempla un proceso de mediación, a car-\\ngo de la Secretaría de Desarrollo Territorial y Urbano, y en última instancia, prevé la figura de \\nla “Servidumbre Legal de Hidrocarburos”, la cual podrá ser decretada por la vía judicial o ad-\\nministrativa.\\nIX. \\t Medidas efectivas de transparencia y combate a la corrupción\\nUn modelo energético agotado como el que prevalecía en México previo a la Reforma, no sólo \\ngenera ineficiencias de productividad, sino incentivos poco adecuados para una industria ener-\\ngética transparente y abierta a la rendición de cuentas.\\nCaracterísticas del nuevo modelo\\n• Se establecen mecanismos legales efectivos para prevenir, identificar y sancionar a quienes rea-\\nlicen actos u omisiones que constituyan conductas ilícitas o prácticas indebidas, para obtener \\nbeneficios económicos ilegítimos.\\n• Los ciudadanos tendremos acceso al contenido de los contratos y contaremos con informa-\\nción precisa y clara sobre la explotación de los hidrocarburos y los recursos que éstos generan.\\nLegislación Secundaria\\n• Con respecto a las licitaciones y los contratos para la exploración y extracción de hidrocar-\\nburos, se propone que el diseño y adjudicación de los mismos se lleve a cabo a través de un \\nmecanismo institucional de pesos y contrapesos en el que participan SENER, CNH y SHCP. \\n• En relación con las contraprestaciones y los pagos de los contratos, la SHCP verificará que los \\ncostos que presenta el operador reflejen las condiciones de mercado. Adicionalmente, se po-\\ndrá implementar un sistema de auditorías externas para supervisar la efectiva recuperación \\nde los costos. \\n\\n23\\n• Se prevé que la SENER, CNH y SHCP publiquen periódicamente y por medios electrónicos in-\\ndicadores respecto de los resultados económicos de cada contrato.\\n• Se publicarán los insumos utilizados para calcular los precios del Mercado Eléctrico Mayorista, \\nlas tarifas eléctricas y los programas de expansión de la Red Nacional de Transmisión.\\n• Los Órganos Reguladores Coordinados en Materia Energética se sujetarán a reglas claras de \\ntransparencia y combate a la corrupción. Sus sesiones, acuerdos y resoluciones serán públi-\\ncos, sus miembros habrán de adherirse a un código de conducta y tendrán la prohibición de \\nrecibir, proponer, autorizar o consentir la recepción de cualquier clase de beneficios que se re-\\nlacionen directa o indirectamente con el ejercicio de sus atribuciones o funciones.\\n• Las Empresas Productivas del Estado contarán con un nuevo esquema de vigilancia, audito-\\nría y control, a través de su Comité de Auditoría. Los sistemas de transparencia y rendición \\nde cuentas se fortalecerán, homologando la revelación de información de conformidad con la \\nLey del Mercado de Valores, aun cuando las Empresas Productivas del Estado no coticen en la \\nBolsa.\\nX. \\t Conclusión\\nLas modificaciones derivadas de la Reforma Energética permitirán modernizar nuestra industria \\nenergética, volverla más competitiva y devolverle su carácter de palanca de desarrollo. Con la \\nReforma Energética se incrementará la renta petrolera del Estado, se impulsará el crecimiento \\neconómico, se crearán empleos, se fortalecerá a Pemex y a la CFE, para que los mexicanos ten-\\ngamos acceso a energéticos y electricidad de menor costo y más competitivos.\\nSin duda, la Reforma Energética constituye un gran paso hacia el desarrollo económico y el for-\\ntalecimiento de la soberanía de nuestro país, con un sentido claro de responsabilidad por el fu-\\nturo. Por ello, también establece que, para crecer como Nación, debemos desarrollar de manera \\nsustentable el gran potencial energético que tiene nuestro país. \\nLa Reforma Constitucional, aprobada por el Congreso de la Unión y publicada en el Diario Oficial \\nde la Federación en diciembre de 2013, representó el primer paso firme y decidido de la Refor-\\nma Energética. Por su parte, la legislación secundaria tiene como guía la reforma constitucional \\nrealizada por el Congreso, y se apega todas a sus disposiciones. En conjunto, representan una \\nrenovación profunda de nuestro marco jurídico en materia energética.\\nEn suma, la Reforma Energética establece las bases para la modernización y transformación del \\nsector energético nacional. Los mexicanos ahora contamos con las herramientas necesarias \\npara i) detonar mayores inversiones, ii) generar más empleos, iii) impulsar el crecimiento eco-\\nnómico y iv) suministrar energía confiable, limpia y de bajo costo. Es momento de aprovechar \\nel nuevo modelo energético; con la implementación exitosa de la Reforma Energética, México \\npodrá convertir su amplio potencial en resultados y oportunidades de crecimiento y desarrollo \\npara todos los mexicanos.\\n'"
      ]
     },
     "execution_count": 24,
     "metadata": {},
     "output_type": "execute_result"
    }
   ],
   "source": [
    "pdf_text = '\\n'.join([doc.get_page_text(pno = page_num) for page_num in range(len(doc))])\n",
    "\n",
    "pdf_text"
   ]
  },
  {
   "cell_type": "markdown",
   "metadata": {},
   "source": [
    "## Chunking"
   ]
  },
  {
   "cell_type": "markdown",
   "metadata": {},
   "source": [
    "**Chunking depends of how many tokens an embedding model supports**\n",
    "\n",
    "There's a [HuggingFace dashboard](https://huggingface.co/spaces/mteb/leaderboard) that compares the performance of different embedding models. Some metrics to focus on are:\n",
    "\n",
    "- Number of Parameters: \n",
    "\n",
    "    A higher value means the model requires more CPU/GPU memory to run\n",
    "\n",
    "- Embedding Dimension:\n",
    "\n",
    "    The dimension of the vectors produced\n",
    "\n",
    "- Max tokens:\n",
    "\n",
    "    How many tokens the model can process, the higher the better.\n",
    "\n",
    "\n",
    "For this time, we'll be using the [*sentence-transformers/paraphrase-multilingual-MiniLM-L12-v2*](https://huggingface.co/sentence-transformers/paraphrase-multilingual-MiniLM-L12-v2) model:\n",
    "\n",
    "- Number of Parameters: 118M\n",
    "- Embedding Dimension: 768\n",
    "- Max tokens: 512\n",
    "\n",
    "\n",
    "\n",
    "[*Langchain*](https://python.langchain.com/api_reference/text_splitters/base/langchain_text_splitters.base.TextSplitter.html#textsplitter) contains many *text splitters*. Most of them uses string characters to split the data, nevertheless, an *embedding model* uses *tokens* to delimit the amount of text to be embedded into a vector. To fix this, we can use a Langchain [*TokenTextSplitter*](https://python.langchain.com/api_reference/text_splitters/base/langchain_text_splitters.base.TokenTextSplitter.html) class.\n",
    "\n",
    "\n",
    "The *TokenTextSplitter* object splits the text into tokens using a model tokenizer. We can use a [*HuggingFace Tokenizer*](https://huggingface.co/docs/transformers/en/main_classes/tokenizer) as an imput parameter for the TokenTextSplitter. A *tokenizer* is in charge of preparing the inputs for a model. The library contains tokenizers for all the embedding models."
   ]
  },
  {
   "cell_type": "code",
   "execution_count": 25,
   "metadata": {},
   "outputs": [
    {
     "data": {
      "text/plain": [
       "'nomic-ai/nomic-embed-text-v2-moe'"
      ]
     },
     "execution_count": 25,
     "metadata": {},
     "output_type": "execute_result"
    }
   ],
   "source": [
    "qdrant_config.EMBEDDING_MODEL"
   ]
  },
  {
   "cell_type": "code",
   "execution_count": 26,
   "metadata": {},
   "outputs": [],
   "source": [
    "#Initialize the model using the transformer library\n",
    "model = SentenceTransformer(qdrant_config.EMBEDDING_MODEL, trust_remote_code=True)"
   ]
  },
  {
   "cell_type": "code",
   "execution_count": 27,
   "metadata": {},
   "outputs": [],
   "source": [
    "# Initialize an AutoTokenizer instance, this will tokenize the data based on \n",
    "# the embedding model used\n",
    "tokenizer = AutoTokenizer.from_pretrained(qdrant_config.EMBEDDING_MODEL)\n",
    "\n",
    "# Create a TokenTextSplitter instance, this will use the Tokenizer to\n",
    "# tokenize the text, split it based on the max tokens supported by the\n",
    "# embedding model, and then convert the tokens into text again, but now splitted.\n",
    "splitter = TokenTextSplitter.from_huggingface_tokenizer(\n",
    "    tokenizer,\n",
    "    chunk_size=model.max_seq_length,\n",
    "    chunk_overlap = qdrant_config.CHUNK_OVERLAP,\n",
    ")"
   ]
  },
  {
   "cell_type": "code",
   "execution_count": 28,
   "metadata": {},
   "outputs": [],
   "source": [
    "chunks = splitter.split_text(pdf_text)"
   ]
  },
  {
   "cell_type": "code",
   "execution_count": 29,
   "metadata": {},
   "outputs": [
    {
     "data": {
      "text/plain": [
       "[' Resumen Ejecutivo\\n\\n\\n3\\nI. Introducción\\nLa Reforma Energética es un paso decidido rumbo a la modernización del sector energético de \\nnuestro país, sin privatizar las empresas públicas dedicadas a la producción y al aprovechamien-\\nto de los hidrocarburos y de la electricidad. La Reforma Energética, tanto constitucional como a \\nnivel legistlación secundarias, surge del estudio y valoración de las distintas iniciativas presenta-\\ndas por los partidos políticos representados en el Congreso.\\nLa Reforma Energética tiene los siguientes objetivos y premisas fundamentales:\\n1.\\t\\nMantener la propiedad de la Nación sobre los hidrocarburos que se encuentran en el sub-\\nsuelo.\\n2.\\t\\nModernizar y fortalecer, sin privatizar, a Petróleos Mexicanos (Pemex) y a la Comisión Fe-\\nderal de Electricidad (CFE) como Empresas Productivas del Estado, 100% públicas y 100% \\nmexicanas.\\n3.\\t\\nReducir la exposición del país a los riesgos financieros, geológicos y ambientales en las ac-\\ntividades de exploración y extracción de petróleo y gas natural.\\n4.\\t\\nPermitir que la Nación ejerza, de manera exclusiva, la planeación y control del Sistema \\nEléctrico Nacional, en beneficio de un sistema competitivo que permita reducir los precios \\nde la energía eléctrica.\\n5.\\t\\nAtraer mayor inversión al sector energético mexicano para impulsar el desarrollo del país.\\n6.\\t\\nContar con un mayor abasto de energéticos a mejores precios.\\n7',\n",
       " ' a mejores precios.\\n7. \\t Garantizar estándares internacionales de eficiencia, calidad y confiabilidad de suministro \\nenergético, así como transparencia y rendición de cuentas en las distintas actividades de la \\nindustria energética.\\n8.\\t\\nCombatir de manera efectiva la corrupción en el sector energético.\\n9.\\t\\nFortalecer la administración de los ingresos petroleros e impulsar el ahorro de largo plazo en \\nbeneficio de las futuras generaciones.\\n10.\\t Impulsar el desarrollo, con responsabilidad social y ambiental.\\nEstos objetivos se verán traducidos en beneficios concretos para los mexicanos:\\n1.\\t\\nBajar las tarifas eléctricas y bajar el precio del gas natural.\\n2.\\t\\nLograr tasas de restitución de reservas probadas de petróleo y gas natural superiores a \\n100%. \\n3.\\t\\nAumentar la producción de petróleo de 2.5 millones de barriles diarios que se producen ac-\\ntualmente, a 3 millones de barriles en 2018, y a 3.5 millones en 2025, asimismo aumentar \\nla producción de gas natural de los 5 mil 700 millones de pies cúbicos diarios producidos \\nactualmente a 8 mil millones en 2018 y a 10 mil 400 millones en 2025.\\n4.\\t\\nGenerar cerca de un punto porcentual más de crecimiento económico en 2018 y aproxima-\\ndamente 2 puntos porcentuales más para 2025. \\n5.\\t\\nCrear cerca de medio millón de empleos adicionales en este sexenio, llegando a 2 millones \\ny medio de empleos en 2025.\\n6.\\t\\nSustituir las centrales eléctricas más',\n",
       " ' las centrales eléctricas más contaminantes con tecnologías limpias y fomentar la \\nutilización de gas natural en la generación eléctrica.\\n\\n4\\nII. Abasto de energéticos a precios competitivos\\ni) \\t Nuevo modelo de producción de petróleo y gas natural\\nMéxico, al igual que muchos otros países con abundantes recursos naturales, sustenta en gran \\nmedida su desarrollo económico y social en la riqueza energética. Sin embargo, el sector petro-\\nlero mexicano enfrenta retos considerables y urgentes por atender, entre los que se encuentran \\nla caída de la producción y la necesidad de mayor inversión a nivel industria.\\nA pesar de invertir más en exploración y extracción de petróleo y gas natural, la producción de \\npetróleo pasó de 3.4 millones de barriles diarios en 2004, a 2.5 millones de barriles diarios en \\n2013. Con respecto al gas natural, en 1997 México era prácticamente autosuficiente, pues \\nsólo importábamos 3% del consumo nacional. En la actualidad importamos 30% del gas natu-\\nral que consumimos en el país.\\nEl petróleo y gas natural del futuro provendrán de los llamados “recursos no convencionales”, \\nque se encuentran en cuencas de lutitas y en aguas profundas. Aunque México cuenta con gran-\\ndes reservas de estos recursos, carece de la capacidad técnica, financiera y de ejecución para \\nextraer estos hidrocarburos de forma competitiva.\\nEl principal obstáculo para materializar plenamente el potencial de nuestro país en este tipo de \\nyacimient']"
      ]
     },
     "execution_count": 29,
     "metadata": {},
     "output_type": "execute_result"
    }
   ],
   "source": [
    "chunks[:3]"
   ]
  },
  {
   "cell_type": "code",
   "execution_count": 30,
   "metadata": {},
   "outputs": [
    {
     "name": "stdout",
     "output_type": "stream",
     "text": [
      "Number of chunks: 38 \n",
      "mean chunk size (in characters): 1436.8421\n",
      "max chunk size (in characters): 1523\n"
     ]
    }
   ],
   "source": [
    "chunks_sizes = [len(chunk) for chunk in chunks]\n",
    "\n",
    "print(f\"Number of chunks: {len(chunks)} \\n\"\n",
    "      f\"mean chunk size (in characters): {np.mean(chunks_sizes):.4f}\\n\"\n",
    "      f\"max chunk size (in characters): {max(chunks_sizes)}\"\n",
    "      )"
   ]
  },
  {
   "cell_type": "markdown",
   "metadata": {},
   "source": [
    "## Embedding"
   ]
  },
  {
   "cell_type": "markdown",
   "metadata": {},
   "source": [
    "Now that the data is splitted based on the chunk size of each embedding model. We must notice that a vector DB is the place where we will store the chunks to create the semantic search, to do so, each chunk must be embedded into a vector using the embedding model that fits the chunking size.\n",
    "\n",
    "There are 3 key elements that define a vector in a vector DB:\n",
    "\n",
    "- ID\n",
    "- Dimensions\n",
    "- Payload\n",
    "\n",
    "The payload contains all the metadata and the text that was embedded in the vector DB. This is because once the text has been encoded, you cannot retrieve the original data from the vector. So it is necessary to store the text as metadata.\n",
    "\n",
    "In the next sections, we'll be adding metadata to the chunks created."
   ]
  },
  {
   "cell_type": "code",
   "execution_count": 31,
   "metadata": {},
   "outputs": [],
   "source": [
    "# Adding info such as title, and the date of chunking\n",
    "extra_metadata = {\n",
    "    \"upload_date\": datetime.now().strftime(r\"%Y-%m-%d\"),\n",
    "    \"title\": title,\n",
    "    \"storage_path\": file_to_read,\n",
    "    }"
   ]
  },
  {
   "cell_type": "markdown",
   "metadata": {},
   "source": [
    "Adding the extra metadata to each chunk"
   ]
  },
  {
   "cell_type": "code",
   "execution_count": 32,
   "metadata": {},
   "outputs": [
    {
     "data": {
      "text/plain": [
       "[{'text': ' Resumen Ejecutivo\\n\\n\\n3\\nI. Introducción\\nLa Reforma Energética es un paso decidido rumbo a la modernización del sector energético de \\nnuestro país, sin privatizar las empresas públicas dedicadas a la producción y al aprovechamien-\\nto de los hidrocarburos y de la electricidad. La Reforma Energética, tanto constitucional como a \\nnivel legistlación secundarias, surge del estudio y valoración de las distintas iniciativas presenta-\\ndas por los partidos políticos representados en el Congreso.\\nLa Reforma Energética tiene los siguientes objetivos y premisas fundamentales:\\n1.\\t\\nMantener la propiedad de la Nación sobre los hidrocarburos que se encuentran en el sub-\\nsuelo.\\n2.\\t\\nModernizar y fortalecer, sin privatizar, a Petróleos Mexicanos (Pemex) y a la Comisión Fe-\\nderal de Electricidad (CFE) como Empresas Productivas del Estado, 100% públicas y 100% \\nmexicanas.\\n3.\\t\\nReducir la exposición del país a los riesgos financieros, geológicos y ambientales en las ac-\\ntividades de exploración y extracción de petróleo y gas natural.\\n4.\\t\\nPermitir que la Nación ejerza, de manera exclusiva, la planeación y control del Sistema \\nEléctrico Nacional, en beneficio de un sistema competitivo que permita reducir los precios \\nde la energía eléctrica.\\n5.\\t\\nAtraer mayor inversión al sector energético mexicano para impulsar el desarrollo del país.\\n6.\\t\\nContar con un mayor abasto de energéticos a mejores precios.\\n7',\n",
       "  'metadata': {'upload_date': '2025-04-09',\n",
       "   'title': 'resumen_reforma_energetica',\n",
       "   'storage_path': 'gs://rag_llm_energy_expert/documents/summaries/resumen_reforma_energetica.pdf'}},\n",
       " {'text': ' a mejores precios.\\n7. \\t Garantizar estándares internacionales de eficiencia, calidad y confiabilidad de suministro \\nenergético, así como transparencia y rendición de cuentas en las distintas actividades de la \\nindustria energética.\\n8.\\t\\nCombatir de manera efectiva la corrupción en el sector energético.\\n9.\\t\\nFortalecer la administración de los ingresos petroleros e impulsar el ahorro de largo plazo en \\nbeneficio de las futuras generaciones.\\n10.\\t Impulsar el desarrollo, con responsabilidad social y ambiental.\\nEstos objetivos se verán traducidos en beneficios concretos para los mexicanos:\\n1.\\t\\nBajar las tarifas eléctricas y bajar el precio del gas natural.\\n2.\\t\\nLograr tasas de restitución de reservas probadas de petróleo y gas natural superiores a \\n100%. \\n3.\\t\\nAumentar la producción de petróleo de 2.5 millones de barriles diarios que se producen ac-\\ntualmente, a 3 millones de barriles en 2018, y a 3.5 millones en 2025, asimismo aumentar \\nla producción de gas natural de los 5 mil 700 millones de pies cúbicos diarios producidos \\nactualmente a 8 mil millones en 2018 y a 10 mil 400 millones en 2025.\\n4.\\t\\nGenerar cerca de un punto porcentual más de crecimiento económico en 2018 y aproxima-\\ndamente 2 puntos porcentuales más para 2025. \\n5.\\t\\nCrear cerca de medio millón de empleos adicionales en este sexenio, llegando a 2 millones \\ny medio de empleos en 2025.\\n6.\\t\\nSustituir las centrales eléctricas más',\n",
       "  'metadata': {'upload_date': '2025-04-09',\n",
       "   'title': 'resumen_reforma_energetica',\n",
       "   'storage_path': 'gs://rag_llm_energy_expert/documents/summaries/resumen_reforma_energetica.pdf'}}]"
      ]
     },
     "execution_count": 32,
     "metadata": {},
     "output_type": "execute_result"
    }
   ],
   "source": [
    "# Updating the metadata with the extra metadata. This list will return None, because the update\n",
    "# method does not return the dictionary itself\n",
    "final_chunks = [{\"text\": chunk_text, \"metadata\": extra_metadata,} for chunk_text in chunks]\n",
    "\n",
    "final_chunks[:2]"
   ]
  },
  {
   "cell_type": "markdown",
   "metadata": {},
   "source": [
    "Now we will use batch embedding to create the vectors for each chunk due to its faster than creating them one by one"
   ]
  },
  {
   "cell_type": "code",
   "execution_count": 33,
   "metadata": {},
   "outputs": [],
   "source": [
    "# Creating a list of chunk's data to be embedded into vectors\n",
    "chunk_text = [chunk_data[\"text\"] for chunk_data in final_chunks]\n",
    "\n",
    "vectors = model.encode(chunk_text)"
   ]
  },
  {
   "cell_type": "markdown",
   "metadata": {},
   "source": [
    "Now we weill create a PointStruct object for each chunk\n",
    "\n",
    "Each PointStruct has:\n",
    "\n",
    "- id: uuid string or integer\n",
    "- vector: Embedding data\n",
    "- payload: all the metadata associated to the vector"
   ]
  },
  {
   "cell_type": "code",
   "execution_count": 34,
   "metadata": {},
   "outputs": [
    {
     "data": {
      "text/plain": [
       "{'text': ' Resumen Ejecutivo\\n\\n\\n3\\nI. Introducción\\nLa Reforma Energética es un paso decidido rumbo a la modernización del sector energético de \\nnuestro país, sin privatizar las empresas públicas dedicadas a la producción y al aprovechamien-\\nto de los hidrocarburos y de la electricidad. La Reforma Energética, tanto constitucional como a \\nnivel legistlación secundarias, surge del estudio y valoración de las distintas iniciativas presenta-\\ndas por los partidos políticos representados en el Congreso.\\nLa Reforma Energética tiene los siguientes objetivos y premisas fundamentales:\\n1.\\t\\nMantener la propiedad de la Nación sobre los hidrocarburos que se encuentran en el sub-\\nsuelo.\\n2.\\t\\nModernizar y fortalecer, sin privatizar, a Petróleos Mexicanos (Pemex) y a la Comisión Fe-\\nderal de Electricidad (CFE) como Empresas Productivas del Estado, 100% públicas y 100% \\nmexicanas.\\n3.\\t\\nReducir la exposición del país a los riesgos financieros, geológicos y ambientales en las ac-\\ntividades de exploración y extracción de petróleo y gas natural.\\n4.\\t\\nPermitir que la Nación ejerza, de manera exclusiva, la planeación y control del Sistema \\nEléctrico Nacional, en beneficio de un sistema competitivo que permita reducir los precios \\nde la energía eléctrica.\\n5.\\t\\nAtraer mayor inversión al sector energético mexicano para impulsar el desarrollo del país.\\n6.\\t\\nContar con un mayor abasto de energéticos a mejores precios.\\n7',\n",
       " 'metadata': {'upload_date': '2025-04-09',\n",
       "  'title': 'resumen_reforma_energetica',\n",
       "  'storage_path': 'gs://rag_llm_energy_expert/documents/summaries/resumen_reforma_energetica.pdf'}}"
      ]
     },
     "execution_count": 34,
     "metadata": {},
     "output_type": "execute_result"
    }
   ],
   "source": [
    "final_chunks[0]"
   ]
  },
  {
   "cell_type": "code",
   "execution_count": 35,
   "metadata": {},
   "outputs": [],
   "source": [
    "points = [PointStruct(\n",
    "            id = str(uuid.uuid4()),\n",
    "            vector = vectors[x],\n",
    "            payload = final_chunks[x],\n",
    "        )\n",
    "        for x in range(len(final_chunks))]"
   ]
  },
  {
   "cell_type": "code",
   "execution_count": 36,
   "metadata": {},
   "outputs": [
    {
     "data": {
      "text/plain": [
       "{'text': ' Resumen Ejecutivo\\n\\n\\n3\\nI. Introducción\\nLa Reforma Energética es un paso decidido rumbo a la modernización del sector energético de \\nnuestro país, sin privatizar las empresas públicas dedicadas a la producción y al aprovechamien-\\nto de los hidrocarburos y de la electricidad. La Reforma Energética, tanto constitucional como a \\nnivel legistlación secundarias, surge del estudio y valoración de las distintas iniciativas presenta-\\ndas por los partidos políticos representados en el Congreso.\\nLa Reforma Energética tiene los siguientes objetivos y premisas fundamentales:\\n1.\\t\\nMantener la propiedad de la Nación sobre los hidrocarburos que se encuentran en el sub-\\nsuelo.\\n2.\\t\\nModernizar y fortalecer, sin privatizar, a Petróleos Mexicanos (Pemex) y a la Comisión Fe-\\nderal de Electricidad (CFE) como Empresas Productivas del Estado, 100% públicas y 100% \\nmexicanas.\\n3.\\t\\nReducir la exposición del país a los riesgos financieros, geológicos y ambientales en las ac-\\ntividades de exploración y extracción de petróleo y gas natural.\\n4.\\t\\nPermitir que la Nación ejerza, de manera exclusiva, la planeación y control del Sistema \\nEléctrico Nacional, en beneficio de un sistema competitivo que permita reducir los precios \\nde la energía eléctrica.\\n5.\\t\\nAtraer mayor inversión al sector energético mexicano para impulsar el desarrollo del país.\\n6.\\t\\nContar con un mayor abasto de energéticos a mejores precios.\\n7',\n",
       " 'metadata': {'upload_date': '2025-04-09',\n",
       "  'title': 'resumen_reforma_energetica',\n",
       "  'storage_path': 'gs://rag_llm_energy_expert/documents/summaries/resumen_reforma_energetica.pdf'}}"
      ]
     },
     "execution_count": 36,
     "metadata": {},
     "output_type": "execute_result"
    }
   ],
   "source": [
    "points[0].payload"
   ]
  },
  {
   "cell_type": "markdown",
   "metadata": {},
   "source": [
    "## Indexing\n",
    "\n",
    "In this last step, all the embeddings generated are stored into a vector DB collection"
   ]
  },
  {
   "cell_type": "code",
   "execution_count": 37,
   "metadata": {},
   "outputs": [],
   "source": [
    "# Creating a collection inside the vector db\n",
    "collection_name=qdrant_config.COLLECTION_NAME + qdrant_config.COLLECTION_VERSION"
   ]
  },
  {
   "cell_type": "code",
   "execution_count": 38,
   "metadata": {},
   "outputs": [
    {
     "name": "stderr",
     "output_type": "stream",
     "text": [
      "\u001b[32m2025-04-09 23:51:55.791\u001b[0m | \u001b[1mINFO    \u001b[0m | \u001b[36mutils.vector_db.qdrant\u001b[0m:\u001b[36mcreate_collection\u001b[0m:\u001b[36m200\u001b[0m - \u001b[1mCreating collection...\u001b[0m\n",
      "\u001b[32m2025-04-09 23:51:56.035\u001b[0m | \u001b[1mINFO    \u001b[0m | \u001b[36mutils.vector_db.qdrant\u001b[0m:\u001b[36mcreate_collection\u001b[0m:\u001b[36m212\u001b[0m - \u001b[1mThe collection already exists\u001b[0m\n",
      "\u001b[32m2025-04-09 23:51:56.036\u001b[0m | \u001b[1mINFO    \u001b[0m | \u001b[36mutils.vector_db.qdrant\u001b[0m:\u001b[36mupdate_points\u001b[0m:\u001b[36m160\u001b[0m - \u001b[1mUpdating points...\u001b[0m\n",
      "\u001b[32m2025-04-09 23:51:56.198\u001b[0m | \u001b[1mINFO    \u001b[0m | \u001b[36mutils.vector_db.qdrant\u001b[0m:\u001b[36mdelete_document\u001b[0m:\u001b[36m85\u001b[0m - \u001b[1mDeleting previous points in the Vector DB related to the document...\u001b[0m\n",
      "\u001b[32m2025-04-09 23:51:56.443\u001b[0m | \u001b[1mINFO    \u001b[0m | \u001b[36mutils.vector_db.qdrant\u001b[0m:\u001b[36mdelete_document\u001b[0m:\u001b[36m105\u001b[0m - \u001b[1mDocument resumen_reforma_energetica deleted\u001b[0m\n",
      "\u001b[32m2025-04-09 23:51:56.443\u001b[0m | \u001b[1mINFO    \u001b[0m | \u001b[36mutils.vector_db.qdrant\u001b[0m:\u001b[36mupload_points\u001b[0m:\u001b[36m119\u001b[0m - \u001b[1mUploading points...\u001b[0m\n",
      "\u001b[32m2025-04-09 23:51:57.486\u001b[0m | \u001b[1mINFO    \u001b[0m | \u001b[36mutils.vector_db.qdrant\u001b[0m:\u001b[36mupload_points\u001b[0m:\u001b[36m146\u001b[0m - \u001b[1mPoints uploaded into the collection energy_expert_v1\u001b[0m\n"
     ]
    }
   ],
   "source": [
    "# This step is optional\n",
    "create_collection(\n",
    "    collection_name=collection_name, \n",
    "    vector_size=model[1].word_embedding_dimension, # Length of the vector\n",
    "    )\n",
    "\n",
    "# Update points is capable of update documents and upload a new one\n",
    "update_points(\n",
    "    collection_name=collection_name,\n",
    "    points=points,\n",
    ")"
   ]
  }
 ],
 "metadata": {
  "kernelspec": {
   "display_name": ".venv",
   "language": "python",
   "name": "python3"
  },
  "language_info": {
   "codemirror_mode": {
    "name": "ipython",
    "version": 3
   },
   "file_extension": ".py",
   "mimetype": "text/x-python",
   "name": "python",
   "nbconvert_exporter": "python",
   "pygments_lexer": "ipython3",
   "version": "3.11.10"
  }
 },
 "nbformat": 4,
 "nbformat_minor": 2
}
