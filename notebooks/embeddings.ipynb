{
 "cells": [
  {
   "cell_type": "markdown",
   "id": "ce0de037",
   "metadata": {},
   "source": [
    "# Embedding Service\n",
    "\n",
    "In this notebook will be tested the functionality of the embedding service.\n",
    "\n",
    "This service must do two main steps:\n",
    "\n",
    "- chunk a raw text\n",
    "- embed the chunked text into vectors\n",
    "\n",
    "To do so, both services requires of an [*embedding model*](https://huggingface.co/blog/getting-started-with-embeddings):\n",
    "\n",
    "- chunking: Uses the embedding model to generate tokens, this is due to tokenization can has multiple approaches.\n",
    "- embedding: Uses the embedding model to create the vectors that will represent the data of each chunk generated."
   ]
  },
  {
   "cell_type": "code",
   "execution_count": 1,
   "id": "4cc39521",
   "metadata": {},
   "outputs": [
    {
     "name": "stderr",
     "output_type": "stream",
     "text": [
      "c:\\Users\\Emmanuel\\Desktop\\git_repos\\RAG-LLM-Energy-Expert\\.venv\\Lib\\site-packages\\tqdm\\auto.py:21: TqdmWarning: IProgress not found. Please update jupyter and ipywidgets. See https://ipywidgets.readthedocs.io/en/stable/user_install.html\n",
      "  from .autonotebook import tqdm as notebook_tqdm\n"
     ]
    }
   ],
   "source": [
    "from langchain_text_splitters import TokenTextSplitter\n",
    "from transformers import AutoTokenizer\n",
    "from sentence_transformers import SentenceTransformer\n",
    "import numpy as np\n",
    "import uuid\n",
    "from datetime import datetime\n",
    "import requests\n",
    "from google.cloud.iam_credentials_v1 import IAMCredentialsClient\n",
    "\n",
    "import sys\n",
    "\n",
    "sys.path.append(\"..\")\n",
    "\n",
    "from rag_llm_energy_expert.services.embeddings.config import EmbeddingsConfig\n",
    "from rag_llm_energy_expert.credentials import get_gcp_config"
   ]
  },
  {
   "cell_type": "code",
   "execution_count": 2,
   "id": "57cd1f9e",
   "metadata": {},
   "outputs": [],
   "source": [
    "embeddings_config = EmbeddingsConfig()\n",
    "gcp_config = get_gcp_config()"
   ]
  },
  {
   "cell_type": "markdown",
   "id": "c0a810ea",
   "metadata": {},
   "source": [
    "The following text will be used:"
   ]
  },
  {
   "cell_type": "code",
   "execution_count": 3,
   "id": "70ede0a3",
   "metadata": {},
   "outputs": [
    {
     "name": "stdout",
     "output_type": "stream",
     "text": [
      "\n",
      "Resumen Ejecutivo\n",
      "\n",
      "\n",
      "3\n",
      "I. Introducción\n",
      "La Reforma Energética es un paso decidido rumbo a la modernización del sector energético de \n",
      "nuestro país, sin privatizar las empresas públicas dedicadas a la producción y al aprovechamien-\n",
      "to de los hidrocarburos y de la electricidad. La Reforma Energética, tanto constitucional como a \n",
      "nivel legistlación secundarias, surge del estudio y valoración de las distintas iniciativas presenta-\n",
      "das por los partidos políticos representados en el Congreso.\n",
      "La Reforma Energética tiene los siguientes objetivos y premisas fundamentales:\n",
      "1.\t\n",
      "Mantener la propiedad de la Nación sobre los hidrocarburos que se encuentran en el sub-\n",
      "suelo.\n",
      "2.\t\n",
      "Modernizar y fortalecer, sin privatizar, a Petróleos Mexicanos (Pemex) y a la Comisión Fe-\n",
      "deral de Electricidad (CFE) como Empresas Productivas del Estado, 100% públicas y 100% \n",
      "mexicanas.\n",
      "3.\t\n",
      "Reducir la exposición del país a los riesgos financieros, geológicos y ambientales en las ac-\n",
      "tividades de exploración y extracción de petróleo y gas natural.\n",
      "4.\t\n",
      "Permitir que la Nación ejerza, de manera exclusiva, la planeación y control del Sistema \n",
      "Eléctrico Nacional, en beneficio de un sistema competitivo que permita reducir los precios \n",
      "de la energía eléctrica.\n",
      "5.\t\n",
      "Atraer mayor inversión al sector energético mexicano para impulsar el desarrollo del país.\n",
      "6.\t\n",
      "Contar con un mayor abasto de energéticos a mejores precios.\n",
      "7. \t Garantizar estándares internacionales de eficiencia, calidad y confiabilidad de suministro \n",
      "energético, así como transparencia y rendición de cuentas en las distintas actividades de la \n",
      "industria energética.\n",
      "8.\t\n",
      "Combatir de manera efectiva la corrupción en el sector energético.\n",
      "9.\t\n",
      "Fortalecer la administración de los ingresos petroleros e impulsar el ahorro de largo plazo en \n",
      "beneficio de las futuras generaciones.\n",
      "10.\t Impulsar el desarrollo, con responsabilidad social y ambiental.\n",
      "Estos objetivos se verán traducidos en beneficios concretos para los mexicanos:\n",
      "\n",
      "\n"
     ]
    }
   ],
   "source": [
    "text = \"\"\"\n",
    "Resumen Ejecutivo\\n\\n\\n3\\nI. Introducción\\nLa Reforma Energética es un paso decidido rumbo a la modernización del sector energético de \\nnuestro país, sin privatizar las empresas públicas dedicadas a la producción y al aprovechamien-\\nto de los hidrocarburos y de la electricidad. La Reforma Energética, tanto constitucional como a \\nnivel legistlación secundarias, surge del estudio y valoración de las distintas iniciativas presenta-\\ndas por los partidos políticos representados en el Congreso.\\nLa Reforma Energética tiene los siguientes objetivos y premisas fundamentales:\\n1.\\t\\nMantener la propiedad de la Nación sobre los hidrocarburos que se encuentran en el sub-\\nsuelo.\\n2.\\t\\nModernizar y fortalecer, sin privatizar, a Petróleos Mexicanos (Pemex) y a la Comisión Fe-\\nderal de Electricidad (CFE) como Empresas Productivas del Estado, 100% públicas y 100% \\nmexicanas.\\n3.\\t\\nReducir la exposición del país a los riesgos financieros, geológicos y ambientales en las ac-\\ntividades de exploración y extracción de petróleo y gas natural.\\n4.\\t\\nPermitir que la Nación ejerza, de manera exclusiva, la planeación y control del Sistema \\nEléctrico Nacional, en beneficio de un sistema competitivo que permita reducir los precios \\nde la energía eléctrica.\\n5.\\t\\nAtraer mayor inversión al sector energético mexicano para impulsar el desarrollo del país.\\n6.\\t\\nContar con un mayor abasto de energéticos a mejores precios.\\n7. \\t Garantizar estándares internacionales de eficiencia, calidad y confiabilidad de suministro \\nenergético, así como transparencia y rendición de cuentas en las distintas actividades de la \\nindustria energética.\\n8.\\t\\nCombatir de manera efectiva la corrupción en el sector energético.\\n9.\\t\\nFortalecer la administración de los ingresos petroleros e impulsar el ahorro de largo plazo en \\nbeneficio de las futuras generaciones.\\n10.\\t Impulsar el desarrollo, con responsabilidad social y ambiental.\\nEstos objetivos se verán traducidos en beneficios concretos para los mexicanos:\\n\n",
    "\"\"\"\n",
    "\n",
    "print(text)"
   ]
  },
  {
   "cell_type": "markdown",
   "id": "60b315de",
   "metadata": {},
   "source": [
    "## Chunking"
   ]
  },
  {
   "cell_type": "markdown",
   "id": "6a64f32e",
   "metadata": {},
   "source": [
    "**Chunking depends of how many tokens an embedding model supports**\n",
    "\n",
    "There's a [HuggingFace dashboard](https://huggingface.co/spaces/mteb/leaderboard) that compares the performance of different embedding models. Some metrics to focus on are:\n",
    "\n",
    "- Number of Parameters: \n",
    "\n",
    "    A higher value means the model requires more CPU/GPU memory to run\n",
    "\n",
    "- Embedding Dimension:\n",
    "\n",
    "    The dimension of the vectors produced\n",
    "\n",
    "- Max tokens:\n",
    "\n",
    "    How many tokens the model can process, the higher the better.\n",
    "\n",
    "\n",
    "For this time, we'll be using the [*nomic-ai/nomic-embed-text-v2-moe*](https://huggingface.co/nomic-ai/nomic-embed-text-v2-moe) model:\n",
    "\n",
    "- Number of Parameters: 475M\n",
    "- Embedding Dimension: 768\n",
    "- Max tokens: 512\n",
    "\n",
    "\n",
    "\n",
    "[*Langchain*](https://python.langchain.com/api_reference/text_splitters/base/langchain_text_splitters.base.TextSplitter.html#textsplitter) contains many *text splitters*. Most of them uses string characters to split the data. Nevertheless, an *embedding model* uses *tokens* to delimit the amount of text to be embedded into a vector. To fix this, we can use a Langchain [*TokenTextSplitter*](https://python.langchain.com/api_reference/text_splitters/base/langchain_text_splitters.base.TokenTextSplitter.html) class.\n",
    "\n",
    "\n",
    "The *TokenTextSplitter* object splits the text into tokens using a model tokenizer. We can use a [*HuggingFace Tokenizer*](https://huggingface.co/docs/transformers/en/main_classes/tokenizer) as an imput parameter for the TokenTextSplitter. A *tokenizer* is in charge of preparing the inputs for a model, this is, convert the text into tokens, then the TokenTextSplitter split the tokens into the chunk_size (max tokens that an embedding model can handle), and then the tokenizer decode the tokens to convert them again into text. \n",
    "\n",
    "The [*HuggingFace Tokenizer*](https://huggingface.co/docs/transformers/en/main_classes/tokenizer) library contains tokenizers for all the embedding models."
   ]
  },
  {
   "cell_type": "code",
   "execution_count": 62,
   "id": "416c1bda",
   "metadata": {},
   "outputs": [],
   "source": [
    "model = SentenceTransformer(embeddings_config.EMBEDDING_MODEL, trust_remote_code=True)"
   ]
  },
  {
   "cell_type": "code",
   "execution_count": 63,
   "id": "0b256d62",
   "metadata": {},
   "outputs": [],
   "source": [
    "# Initialize an AutoTokenizer instance, this will tokenize the data based on \n",
    "# the embedding model used\n",
    "tokenizer = AutoTokenizer.from_pretrained(embeddings_config.EMBEDDING_MODEL)\n",
    "\n",
    "# Create a TokenTextSplitter instance, this will use the Tokenizer to\n",
    "# tokenize the text, split it based on the max tokens supported by the\n",
    "# embedding model, and then convert the tokens into text again, but now splitted.\n",
    "splitter = TokenTextSplitter.from_huggingface_tokenizer(\n",
    "    tokenizer,\n",
    "    chunk_size=model.max_seq_length,\n",
    "    chunk_overlap = embeddings_config.CHUNK_OVERLAP,\n",
    ")"
   ]
  },
  {
   "cell_type": "code",
   "execution_count": 64,
   "id": "a5a0ede2",
   "metadata": {},
   "outputs": [],
   "source": [
    "# Returns a list of strings, each entry of the list is a chunk\n",
    "chunks = splitter.split_text(text)"
   ]
  },
  {
   "cell_type": "code",
   "execution_count": 65,
   "id": "ba27b8ea",
   "metadata": {},
   "outputs": [
    {
     "data": {
      "text/plain": [
       "['\\nResumen Ejecutivo\\n\\n\\n3\\nI. Introducción\\nLa Reforma Energética es un paso decidido rumbo a la modernización del sector energético de \\nnuestro país, sin privatizar las empresas públicas dedicadas a la producción y al aprovechamien-\\nto de los hidrocarburos y de la electricidad. La Reforma Energética, tanto constitucional como a \\nnivel legistlación secundarias, surge del estudio y valoración de las distintas iniciativas presenta-\\ndas por los partidos políticos representados en el Congreso.\\nLa Reforma Energética tiene los siguientes objetivos y premisas fundamentales:\\n1.\\t\\nMantener la propiedad de la Nación sobre los hidrocarburos que se encuentran en el sub-\\nsuelo.\\n2.\\t\\nModernizar y fortalecer, sin privatizar, a Petr',\n",
       " 'ecer, sin privatizar, a Petróleos Mexicanos (Pemex) y a la Comisión Fe-\\nderal de Electricidad (CFE) como Empresas Productivas del Estado, 100% públicas y 100% \\nmexicanas.\\n3.\\t\\nReducir la exposición del país a los riesgos financieros, geológicos y ambientales en las ac-\\ntividades de exploración y extracción de petróleo y gas natural.\\n4.\\t\\nPermitir que la Nación ejerza, de manera exclusiva, la planeación y control del Sistema \\nEléctrico Nacional, en beneficio de un sistema competitivo que permita reducir los precios \\nde la energía eléctrica.\\n5.\\t\\nAtraer mayor inversión al sector energético mexicano para impulsar el desarrollo del país.\\n6.\\t\\nContar con un mayor abasto de energétic',\n",
       " ' con un mayor abasto de energéticos a mejores precios.\\n7. \\t Garantizar estándares internacionales de eficiencia, calidad y confiabilidad de suministro \\nenergético, así como transparencia y rendición de cuentas en las distintas actividades de la \\nindustria energética.\\n8.\\t\\nCombatir de manera efectiva la corrupción en el sector energético.\\n9.\\t\\nFortalecer la administración de los ingresos petroleros e impulsar el ahorro de largo plazo en \\nbeneficio de las futuras generaciones.\\n10.\\t Impulsar el desarrollo, con responsabilidad social y ambiental.\\nEstos objetivos se verán traducidos en beneficios concretos para los mexicanos:\\n\\n']"
      ]
     },
     "execution_count": 65,
     "metadata": {},
     "output_type": "execute_result"
    }
   ],
   "source": [
    "chunks"
   ]
  },
  {
   "cell_type": "code",
   "execution_count": 66,
   "id": "8dead872",
   "metadata": {},
   "outputs": [
    {
     "name": "stdout",
     "output_type": "stream",
     "text": [
      "Number of chunks: 3 \n",
      "mean chunk size (in characters): 676.3333\n",
      "max chunk size (in characters): 719\n"
     ]
    }
   ],
   "source": [
    "chunks_sizes = [len(chunk) for chunk in chunks]\n",
    "\n",
    "print(f\"Number of chunks: {len(chunks)} \\n\"\n",
    "      f\"mean chunk size (in characters): {np.mean(chunks_sizes):.4f}\\n\"\n",
    "      f\"max chunk size (in characters): {max(chunks_sizes)}\"\n",
    "      )"
   ]
  },
  {
   "cell_type": "markdown",
   "id": "8e246e4d",
   "metadata": {},
   "source": [
    "## Embedding"
   ]
  },
  {
   "cell_type": "markdown",
   "id": "5b111526",
   "metadata": {},
   "source": [
    "Now that the data is splitted based on the chunk size of each embedding model. We must notice that a vector DB is the place where we will store the chunks to create the semantic search, to do so, each chunk must be embedded into a vector using the embedding model that fits the chunking size.\n",
    "\n",
    "There are 3 key elements that define a vector in a vector DB:\n",
    "\n",
    "- ID\n",
    "- Dimensions\n",
    "- Payload\n",
    "\n",
    "The payload contains all the metadata and the text that was embedded in the vector DB. This is because once the text has been encoded, you cannot retrieve the original data from the vector. So it is necessary to store the text as metadata.\n",
    "\n",
    "In the next sections, we'll be adding metadata to the chunks created."
   ]
  },
  {
   "cell_type": "code",
   "execution_count": 67,
   "id": "845b6f67",
   "metadata": {},
   "outputs": [],
   "source": [
    "# Adding info such as title, and the date of chunking\n",
    "metadata = {\n",
    "    \"upload_date\": datetime.now().strftime(r\"%Y-%m-%d\"),\n",
    "    \"title\": \"Title of the text\",\n",
    "    \"storage_path\": \"path/where/the/text/was/stored.pdf\",\n",
    "    }"
   ]
  },
  {
   "cell_type": "markdown",
   "id": "35d94f28",
   "metadata": {},
   "source": [
    "Then, from the list of strings obtained (chunks), it will be created a more structured chunk, to comply with the necessary of each chunk to be indexed in any vector database"
   ]
  },
  {
   "cell_type": "code",
   "execution_count": 68,
   "id": "282d9f7d",
   "metadata": {},
   "outputs": [],
   "source": [
    "# Embedding the chunk text using batch embedding\n",
    "chunks_embedded = model.encode(chunks)\n",
    "\n",
    "# Create a list of dictionaries, which each dictionary is a chunk with all the necessary to be\n",
    "# indexed into a vector DB\n",
    "final_chunks = [\n",
    "    {\n",
    "        \"id\": str(uuid.uuid4()),\n",
    "        \"vector\": chunks_embedded[i],\n",
    "        \"payload\": {\n",
    "            \"text\": chunk_text,\n",
    "            \"metadata\": metadata,\n",
    "        },\n",
    "    }\n",
    "    for i, chunk_text in enumerate(chunks)\n",
    "] "
   ]
  },
  {
   "cell_type": "code",
   "execution_count": 69,
   "id": "613a6136",
   "metadata": {},
   "outputs": [
    {
     "data": {
      "text/plain": [
       "{'id': '4b14d92a-986c-42f6-9fb0-dfd8f4e2ae24',\n",
       " 'vector': array([ 2.59235669e-02,  2.15934832e-02, -5.43275476e-02, -1.02517745e-02,\n",
       "         8.65479888e-05,  1.96502870e-03, -5.38319582e-03, -2.79700123e-02,\n",
       "        -5.68942577e-02,  3.46788019e-02,  2.07133107e-02,  2.04562545e-02,\n",
       "        -4.09352779e-02, -4.51724641e-02,  8.72723088e-02, -5.99049171e-03,\n",
       "        -2.09121685e-02,  1.56430770e-02, -3.40188369e-02,  3.68277319e-02,\n",
       "         7.70786032e-02, -5.30065261e-02,  4.77712089e-03,  3.70628908e-02,\n",
       "         2.19494272e-02,  2.65949755e-03, -2.78133228e-02,  4.56800498e-02,\n",
       "        -6.83012977e-02, -5.53951897e-02,  1.25349052e-02,  1.50524303e-02,\n",
       "         7.73917735e-02, -1.00018512e-02,  4.73577380e-02,  7.45450631e-02,\n",
       "         7.29841879e-04,  4.21403721e-02, -3.87443928e-03,  1.14909917e-01,\n",
       "        -8.28416422e-02, -7.46538490e-02, -5.30142672e-02, -1.15530670e-01,\n",
       "        -9.75029245e-02, -2.46479874e-03,  1.87393054e-02, -2.57697348e-02,\n",
       "        -5.63675212e-03, -9.68827531e-02, -1.13913063e-02, -1.51266018e-02,\n",
       "        -2.61832420e-02,  8.50478653e-03,  2.76269782e-02, -8.78347233e-02,\n",
       "         1.57964341e-02,  6.43941900e-03,  8.02099332e-03,  1.71598382e-02,\n",
       "        -3.85153876e-03,  3.74823213e-02, -2.65441593e-02, -1.98789928e-02,\n",
       "         2.00583600e-02, -4.84796576e-02,  5.29985912e-02,  5.25490083e-02,\n",
       "        -1.39939226e-02, -6.55643865e-02,  6.42335787e-02, -8.72476175e-02,\n",
       "         3.66920931e-03, -1.10650599e-01, -1.20484300e-01, -9.86713916e-03,\n",
       "        -6.56863069e-03,  1.29378170e-01,  5.17836660e-02, -1.05365559e-01,\n",
       "         8.53011534e-02, -1.50490750e-03, -6.57395720e-02, -5.37082553e-02,\n",
       "        -1.93768907e-02,  5.12420014e-02, -6.25461861e-02, -5.20777628e-02,\n",
       "         5.21699116e-02,  3.38368006e-02, -5.08284457e-02,  5.11253998e-02,\n",
       "         8.92465636e-02, -1.35193244e-02,  6.82709590e-02,  5.00823893e-02,\n",
       "         3.70586216e-02, -8.43880326e-02,  7.83058107e-02,  1.63153429e-02,\n",
       "         7.07677528e-02,  8.84702057e-02, -9.95509047e-03, -2.81461999e-02,\n",
       "        -6.86120018e-02, -8.75935927e-02, -3.82679850e-02,  8.30438063e-02,\n",
       "         6.26631528e-02,  8.15640539e-02, -1.39393443e-02, -2.09153630e-02,\n",
       "        -7.54142925e-02, -9.29206684e-02, -9.74107534e-02,  7.75851426e-04,\n",
       "        -1.05849467e-02, -2.66876183e-02,  3.62852216e-02, -2.93496326e-02,\n",
       "         2.33110264e-02, -4.53536436e-02,  8.88585858e-03, -1.38083538e-02,\n",
       "         7.96955079e-02, -7.58473948e-03, -1.68756843e-02,  7.40297396e-33,\n",
       "        -1.20843448e-01,  4.48196717e-02, -2.20579989e-02,  8.35311040e-02,\n",
       "        -8.67931321e-02,  5.08295223e-02, -4.48380373e-02, -2.30226815e-02,\n",
       "         2.07298789e-02,  2.18249997e-03,  5.70153631e-03,  1.28845572e-01,\n",
       "         7.63433352e-02,  4.99587841e-02,  7.40420371e-02, -8.44261572e-02,\n",
       "        -3.57025005e-02,  2.24353373e-02,  5.72384112e-02, -5.00125289e-02,\n",
       "        -2.75555775e-02,  8.24969634e-02,  4.31783348e-02, -2.06353795e-02,\n",
       "         5.94131611e-02,  6.50289208e-02,  4.18545753e-02, -7.08165616e-02,\n",
       "        -7.88736194e-02,  3.86324786e-02,  9.48732942e-02,  2.59851664e-02,\n",
       "        -3.47519410e-04, -4.27748784e-02, -3.88470665e-02, -4.77285013e-02,\n",
       "         5.66622280e-02, -1.43523933e-02,  2.79755704e-02, -9.73216072e-03,\n",
       "        -5.22899404e-02,  4.21233568e-03, -6.35717576e-03,  3.18348943e-03,\n",
       "         3.82629931e-02,  9.65444520e-02,  7.48806149e-02,  3.68732698e-02,\n",
       "         2.33222768e-02, -5.16016260e-02, -5.15175946e-02,  2.19243336e-02,\n",
       "         2.98521928e-02, -6.51712790e-02,  8.47927947e-03,  4.24005883e-03,\n",
       "        -3.49269472e-02, -2.45052855e-02, -1.94616802e-02, -9.33926329e-02,\n",
       "        -2.40177400e-02,  6.00795895e-02, -5.54422208e-04, -3.86121832e-02,\n",
       "        -1.34849017e-02, -2.92812437e-02, -6.89748749e-02,  3.34920175e-02,\n",
       "         5.98370247e-02,  2.95404568e-02, -4.72984947e-02, -4.36908938e-02,\n",
       "        -2.52117869e-02,  5.43207936e-02,  1.60832908e-02, -8.97016376e-03,\n",
       "        -4.16938066e-02,  4.15045843e-02, -8.03698972e-02, -4.17002738e-02,\n",
       "        -8.33512843e-02, -8.48182756e-03,  3.89136821e-02,  2.72093602e-02,\n",
       "         7.27680475e-02, -3.94550674e-02,  2.90225260e-02,  7.86645785e-02,\n",
       "         2.45316569e-02,  6.96980879e-02, -4.69602980e-02,  1.37597276e-02,\n",
       "         5.20873778e-02,  5.46723865e-02,  7.33443052e-02, -1.14876824e-32,\n",
       "         7.71147804e-03,  3.40410434e-02, -8.29495415e-02, -1.83592420e-02,\n",
       "         2.47479174e-02,  2.52164081e-02, -5.50332852e-02, -1.18148744e-01,\n",
       "        -4.45724130e-02, -4.69617657e-02, -6.97712302e-02, -7.11580291e-02,\n",
       "        -3.77436504e-02, -4.88943383e-02, -4.53497879e-02,  1.58567838e-02,\n",
       "        -3.96220572e-02,  7.01383268e-03, -5.41012734e-02,  2.02566497e-02,\n",
       "        -2.85785347e-02, -2.07103807e-02, -3.44993882e-02,  3.94689701e-02,\n",
       "        -1.55646103e-02, -3.75970826e-02, -4.06995090e-03, -5.09063266e-02,\n",
       "         2.12785657e-02,  9.87312640e-04,  1.83342658e-02,  1.32763749e-02,\n",
       "        -3.80831361e-02,  1.03255995e-01, -6.07450642e-02,  1.15865739e-02,\n",
       "         2.06221361e-02, -7.02257603e-02, -9.12381615e-03,  1.90832242e-02,\n",
       "        -1.16650146e-02,  5.26654460e-02,  3.28652486e-02, -2.33635809e-02,\n",
       "        -5.56336716e-02, -4.39732336e-02, -5.81123568e-02, -8.68978128e-02,\n",
       "        -4.68649007e-02, -6.13391511e-02,  1.40234202e-01, -5.11604100e-02,\n",
       "        -4.90277074e-02, -3.10484320e-02,  4.19383286e-04, -3.20068491e-03,\n",
       "         1.80945285e-02, -2.20156386e-02, -9.61999372e-02, -2.81728134e-02,\n",
       "         3.64956483e-02,  2.65489239e-02,  4.43743132e-02,  6.20546117e-02,\n",
       "        -2.25673094e-02, -4.18077372e-02,  5.91369625e-03, -2.64974106e-02,\n",
       "         5.55752590e-02, -3.78028974e-02,  3.76201980e-02, -2.76550725e-02,\n",
       "        -1.05460636e-01,  6.67170286e-02, -8.73352960e-03,  5.61676808e-02,\n",
       "        -4.30214703e-02, -2.91768438e-03, -8.03960208e-03, -2.50556059e-02,\n",
       "        -8.53973627e-03,  2.84133013e-02, -2.81925946e-02, -1.48675397e-01,\n",
       "         4.04067198e-03,  5.00929952e-02,  2.56490707e-02, -2.34409887e-02,\n",
       "        -1.97863560e-02, -4.63684835e-02, -1.22196460e-02, -3.85612547e-02,\n",
       "         6.74093561e-03,  7.02514723e-02, -3.69309448e-02, -5.96307856e-08,\n",
       "         1.00567071e-02, -1.49803124e-02,  3.38932350e-02,  1.54154813e-02,\n",
       "        -4.82553942e-03, -6.86277375e-02, -3.99265103e-02,  1.47681413e-02,\n",
       "         1.63406152e-02, -2.42027501e-03,  8.42835084e-02,  1.54008484e-02,\n",
       "         3.48037407e-02,  1.67121310e-02,  3.04828770e-02, -6.67152330e-02,\n",
       "         1.79548357e-02,  1.14557900e-01, -4.47566546e-02, -3.79997827e-02,\n",
       "         2.64795981e-02, -1.49951642e-02, -1.38764501e-01, -4.99376431e-02,\n",
       "         9.17673856e-02, -1.52936885e-02, -1.05645861e-02,  4.19486361e-03,\n",
       "         3.59896943e-02,  5.91856726e-02, -6.28936291e-02,  1.18246144e-02,\n",
       "         1.11562796e-02, -8.69763717e-02, -2.96915835e-03, -5.79906534e-03,\n",
       "        -1.08120800e-03, -1.36977872e-02, -3.44576575e-02, -1.58941727e-02,\n",
       "         5.96205704e-02, -1.00414225e-04, -4.38551940e-02, -2.98321201e-03,\n",
       "        -1.14013344e-01, -1.08926140e-01, -5.65742254e-02,  2.72526797e-02,\n",
       "         3.27704735e-02,  2.54676882e-02, -5.02434606e-03,  2.21145917e-02,\n",
       "        -3.15606804e-03,  2.47242786e-02, -5.78872021e-03,  2.52621546e-02,\n",
       "        -8.57329816e-02,  5.50172441e-02, -6.96090460e-02, -5.29526994e-02,\n",
       "         9.94092822e-02,  2.09090486e-02, -2.45418530e-02,  3.38100307e-02],\n",
       "       dtype=float32),\n",
       " 'payload': {'text': '\\nResumen Ejecutivo\\n\\n\\n3\\nI. Introducción\\nLa Reforma Energética es un paso decidido rumbo a la modernización del sector energético de \\nnuestro país, sin privatizar las empresas públicas dedicadas a la producción y al aprovechamien-\\nto de los hidrocarburos y de la electricidad. La Reforma Energética, tanto constitucional como a \\nnivel legistlación secundarias, surge del estudio y valoración de las distintas iniciativas presenta-\\ndas por los partidos políticos representados en el Congreso.\\nLa Reforma Energética tiene los siguientes objetivos y premisas fundamentales:\\n1.\\t\\nMantener la propiedad de la Nación sobre los hidrocarburos que se encuentran en el sub-\\nsuelo.\\n2.\\t\\nModernizar y fortalecer, sin privatizar, a Petr',\n",
       "  'metadata': {'upload_date': '2025-04-15',\n",
       "   'title': 'Title of the text',\n",
       "   'storage_path': 'path/where/the/text/was/stored.pdf'}}}"
      ]
     },
     "execution_count": 69,
     "metadata": {},
     "output_type": "execute_result"
    }
   ],
   "source": [
    "final_chunks[0]"
   ]
  },
  {
   "cell_type": "markdown",
   "id": "0eb56eef",
   "metadata": {},
   "source": [
    "At this time, this service would return a json which one of its entries is the list of chunks created"
   ]
  },
  {
   "cell_type": "markdown",
   "id": "11e3c230",
   "metadata": {},
   "source": [
    "## Testing Embedding Service on CloudRun"
   ]
  },
  {
   "cell_type": "markdown",
   "id": "ecdd7f64",
   "metadata": {},
   "source": [
    "Generating the payload"
   ]
  },
  {
   "cell_type": "code",
   "execution_count": 4,
   "id": "6a017805",
   "metadata": {},
   "outputs": [],
   "source": [
    "payload={\n",
    "    \"text\": text,\n",
    "    \"metadata\":None,\n",
    "    \"embedding_model_name\":None,\n",
    "    \"chunk_overlap\":None\n",
    "}"
   ]
  },
  {
   "cell_type": "markdown",
   "id": "44746b4e",
   "metadata": {},
   "source": [
    "To generate the token to access the CloudRun service, check [this documentation](https://googleapis.dev/python/iamcredentials/0.3.0/gapic/v1/api.html)\n"
   ]
  },
  {
   "cell_type": "code",
   "execution_count": 5,
   "id": "f307ef14",
   "metadata": {},
   "outputs": [],
   "source": [
    "cred_client = IAMCredentialsClient()\n",
    "\n",
    "name = f\"projects/-/serviceAccounts/{gcp_config.DEV_SA}\"\n",
    "\n",
    "#The audience in CloudRun is the endpoint generated\n",
    "audience = gcp_config.EMBEDDING_SERVICE_URL\n",
    "\n",
    "response_token = cred_client.generate_id_token(name=name, audience=audience)"
   ]
  },
  {
   "cell_type": "markdown",
   "id": "a98c4f5e",
   "metadata": {},
   "source": [
    "Making the request to CloudRun"
   ]
  },
  {
   "cell_type": "code",
   "execution_count": 7,
   "id": "22b22025",
   "metadata": {},
   "outputs": [
    {
     "name": "stdout",
     "output_type": "stream",
     "text": [
      "Status: 200\n",
      "Response: {'chunks': [{'vector_id': '8b4888e8-197c-428f-949e-687a0af7d10e', 'vector': [-0.11347070336341858, 0.25393956899642944, 0.03306970000267029, 0.10691597312688828, 0.17449574172496796, 0.06688634306192398, -0.2650560438632965, -0.12446554005146027, -0.07913144677877426, 0.1888415813446045, 0.08613520860671997, 0.1941351592540741, 0.05391628295183182, -0.21664971113204956, 0.008360812440514565, 0.0407993383705616, -0.26555952429771423, -0.16027694940567017, -0.03783317655324936, -0.03648250922560692, 0.16131503880023956, -0.10059614479541779, 0.040442679077386856, -0.11047914624214172, 0.12081494927406311, -0.07247960567474365, 0.10752815008163452, 0.01451638713479042, -0.04356928914785385, -0.2906053960323334, -0.0018907961202785373, 0.04177204519510269, 0.004718713462352753, 0.15675894916057587, 0.007394932210445404, -0.10911721736192703, 0.05657612904906273, 0.03571989759802818, 0.09132791310548782, 0.1601267158985138, -0.05500364303588867, -0.4454881250858307, 0.059283297508955, -0.12255871295928955, 0.014785508625209332, 0.1545308381319046, 0.12751789391040802, -0.25728079676628113, -0.29446983337402344, -0.14349736273288727, 0.1590663343667984, -0.14861774444580078, -0.05798441916704178, 0.017666064202785492, 0.23341640830039978, -0.04721153527498245, 0.03325267881155014, -0.05582389980554581, 0.07562652975320816, -0.4144905209541321, 0.11421338468790054, -0.0411822646856308, 0.009409439750015736, 0.016399575397372246, 0.08409738540649414, -0.09754425287246704, 0.10916521400213242, 0.1352202147245407, 0.10765274614095688, 0.13261893391609192, -0.030187739059329033, -0.1298442929983139, -0.11094678938388824, -0.2828933596611023, -0.07866570353507996, -0.1670590490102768, -0.0024292562156915665, 0.12350087612867355, 0.13546667993068695, -0.004256398417055607, 0.2606893479824066, -0.0018151089316233993, -0.16718001663684845, -0.0747954323887825, -0.061069585382938385, 0.06841637194156647, 0.15414997935295105, -0.24177272617816925, 0.09588129073381424, 0.025753889232873917, -0.1103925108909607, 0.0393211767077446, 0.3333829641342163, -0.03455444052815437, 0.15713222324848175, 0.03807064890861511, -0.1447538584470749, -0.15939044952392578, -0.012080611661076546, 0.07494770735502243, -0.13843688368797302, 0.27964916825294495, -0.10448186844587326, -0.14903783798217773, 0.008261321112513542, -0.20659279823303223, -0.06775441765785217, 0.22362300753593445, 0.22130978107452393, -0.08389998972415924, 0.1374015063047409, 0.10113279521465302, -0.06792400777339935, -0.08378957211971283, -0.04678414389491081, -0.03960045427083969, 0.03583007678389549, -0.10767124593257904, 0.04163622111082077, -0.05827660486102104, -0.06117948517203331, -0.015077181160449982, 0.06585914641618729, -0.011728710494935513, -0.03878137469291687, -0.0381321907043457, 0.005387251265347004, 0.00931146927177906, -0.14661221206188202, -0.061746541410684586, -0.02749532088637352, -0.03577703237533569, -0.27121251821517944, 0.0554172582924366, -0.030917944386601448, -0.16504378616809845, -0.004520262125879526, -0.014383719302713871, 0.1586960405111313, 0.2751061022281647, 0.16777470707893372, 0.24428275227546692, 0.03269499912858009, -0.08559446036815643, -0.06097879260778427, 0.09035331755876541, 0.23559589684009552, -0.061723776161670685, -0.05171094089746475, 0.06570827215909958, 0.22776664793491364, -0.07468167692422867, 0.02904965542256832, -0.008091004565358162, 0.3022705912590027, -0.1734764724969864, -0.028203371912240982, -0.005693295504897833, 0.2601083219051361, 0.13992062211036682, -0.17628245055675507, 0.1389485001564026, -0.13883109390735626, -0.10078389942646027, 0.02831920236349106, -0.21894095838069916, 0.0006625789683312178, -0.040088802576065063, 0.15584133565425873, -0.003234323812648654, 0.14725340902805328, -0.05613510310649872, 0.2642441391944885, 0.054605837911367416, 0.274962842464447, -0.007477499544620514, -0.05880669504404068, -0.11598705500364304, -0.2259790450334549, 0.28036072850227356, 0.28246545791625977, -0.20159000158309937, 0.13863423466682434, -0.18205960094928741, 0.13662059605121613, -0.06838216632604599, 0.07703761011362076, -0.035486795008182526, -0.3068157732486725, 0.0876307412981987, -0.09762711822986603, 0.08951365947723389, 0.03133578971028328, 0.27602893114089966, -0.1007315143942833, -0.11601126194000244, -0.023216942325234413, 0.24338780343532562, 0.11882093548774719, -0.26750898361206055, -0.35593917965888977, 0.0739355981349945, -0.004592838231474161, 0.03911887854337692, -0.19392310082912445, -0.09231023490428925, -0.02637636289000511, -0.17521384358406067, -0.07606112957000732, -0.11936111748218536, 0.053681809455156326, -0.07760082185268402, 0.03476978465914726, -0.029164548963308334, -0.009627660736441612, 0.11552368104457855, 0.2171759009361267, 0.019001230597496033, -0.21793681383132935, -0.03694785013794899, 0.1889428049325943, 0.23459956049919128, 0.20587870478630066, -0.11555115133523941, -0.031109442934393883, 0.10078150033950806, -0.29908645153045654, 0.15262556076049805, 0.11730672419071198, 0.0048502348363399506, -0.35195448994636536, -0.2487151026725769, 0.05205691233277321, 0.049737393856048584, -0.22965572774410248, 0.032871466130018234, 0.050883930176496506, -0.05729455128312111, 0.05439722165465355, -0.006410815753042698, 0.04416707158088684, -0.3660911023616791, -0.15497833490371704, 0.0402618832886219, 0.20039132237434387, 0.1325562298297882, -0.24101662635803223, 0.27327775955200195, -0.07576034963130951, 0.15097403526306152, -0.031108612194657326, -0.022215690463781357, 0.1261497437953949, -0.018317116424441338, 0.011641585268080235, -0.030764108523726463, -0.04892981797456741, 0.12650814652442932, -0.25621816515922546, 0.014762439765036106, 0.04126220569014549, -0.19525021314620972, -0.11285396665334702, 0.15519775450229645, 0.19473682343959808, -0.10359112173318863, -0.17415070533752441, 0.10890266299247742, -0.21250495314598083, -0.03096705861389637, -0.003687003394588828, -0.023849617689847946, -0.08499763906002045, -0.07745416462421417, 0.1656004637479782, -0.2057631015777588, 0.08860910683870316, -0.2031315714120865, 0.07226671278476715, 0.02044110745191574, 0.24129025638103485, 0.14018112421035767, -0.05711575224995613, -0.008969432674348354, 0.19466786086559296, 0.13809800148010254, 0.2818312644958496, -0.07631735503673553, -0.048829905688762665, -0.16137126088142395, 0.06125938519835472, 0.06039793789386749, 0.15235741436481476, -0.0912996158003807, 0.14584869146347046, 0.22443604469299316, -0.11198928952217102, -0.15118451416492462, 0.038339368999004364, 0.145155668258667, 0.12714068591594696, 0.05103261396288872, 0.0024411140475422144, -0.1740320473909378, -0.05441918596625328, 0.027544675394892693, 0.3369588255882263, -0.19579876959323883, 0.09880262613296509, -0.1716679483652115, -0.10728509724140167, -0.23133373260498047, 0.011788927018642426, 0.17746372520923615, -0.14215676486492157, 0.011924765072762966, -0.13215278089046478, 0.006066160276532173, -0.029888473451137543, -0.12138082087039948, 0.1648780256509781, 0.17260771989822388, 0.06565238535404205, -0.022667327895760536, 0.0499107763171196, 0.039013441652059555, 0.05591358244419098, 0.14952588081359863, 0.07832833379507065, -0.24820758402347565, 0.09011691808700562, 0.021334687247872353, 0.32365682721138, -0.006002777721732855, -0.018574286252260208, 0.059520378708839417, -0.10236422717571259, 0.06619188189506531, -0.014033230021595955, 0.17558597028255463, 0.30203700065612793, 0.10859362035989761, -0.0932975709438324, 0.044025447219610214, 0.13843116164207458, -0.011561617255210876, 0.15531951189041138, -0.030727090314030647, 0.08726882934570312, -0.03738955780863762, -0.1006300300359726, -0.02089303359389305, 0.11835287511348724, 0.02439188025891781, -0.1654168963432312, 0.0069621242582798, 0.07735595107078552, -0.03299723193049431, -0.03350354731082916, -0.3008403480052948, -0.03368246182799339, 0.03254896402359009, -0.03859550505876541, 0.07775405049324036, -0.39574164152145386, -0.15885184705257416, -0.22310376167297363, -0.10336608439683914, -0.13675037026405334, 0.15591271221637726, 0.1595677137374878, -0.07698549330234528, 0.13068415224552155, -0.052810315042734146, 0.2817865312099457, -0.18496295809745789, 0.027284108102321625, 0.14842693507671356, -0.2050471007823944, -0.20832522213459015, 0.09490318596363068, 0.013295214623212814, 0.077491395175457, 0.052896592766046524], 'payload': {'text': '\\nResumen Ejecutivo\\n\\n\\n3\\nI. Introducción\\nLa Reforma Energética es un paso decidido rumbo a la modernización del sector energético de \\nnuestro país, sin privatizar las empresas públicas dedicadas a la producción y al aprovechamien-\\nto de los hidrocarburos y de la electricidad. La Reforma Energética, tanto constitucional como a \\nnivel legistlación secundarias,', 'metadata': None}}, {'vector_id': 'fc1fec41-b8c6-458b-ae19-639d0f8c385c', 'vector': [-0.10183718055486679, 0.3767467141151428, -0.04916273429989815, 0.08557353168725967, 0.18827879428863525, 0.15723171830177307, -0.20195426046848297, 0.008140391670167446, -0.12326741218566895, 0.08042636513710022, -0.05204223468899727, 0.17367124557495117, 0.05908442661166191, -0.15385057032108307, -0.04013712331652641, -0.0035556249786168337, -0.1605263352394104, -0.10167725384235382, 0.04795868322253227, 0.15291763842105865, 0.1820797324180603, -0.09483928233385086, 0.014820585027337074, -0.036847636103630066, 0.005440964363515377, -0.04773613438010216, -0.02576322667300701, 0.002484773751348257, 0.06422128528356552, -0.35873943567276, 0.13165044784545898, 0.06347300112247467, -0.08007682114839554, 0.1605907678604126, 0.10077383369207382, -0.09345164149999619, 0.12212743610143661, -0.042085953056812286, 0.17168782651424408, 0.11436289548873901, -0.08559166640043259, -0.4577278792858124, 0.09507351368665695, -0.10008567571640015, -0.07100170105695724, 0.06729481369256973, 0.16214539110660553, -0.2060873955488205, -0.2793600559234619, -0.07678599655628204, 0.13165231049060822, -0.18384306132793427, 0.004353701137006283, 0.03034873679280281, 0.14741523563861847, -0.06779373437166214, 0.09615164250135422, -0.06651292741298676, 0.14288683235645294, -0.4691016972064972, 0.1464807242155075, 0.004002267494797707, -0.042707908898591995, -0.003714660182595253, 0.04382353648543358, -0.03982873633503914, 0.06526079028844833, 0.13027836382389069, 0.06721971929073334, 0.12862928211688995, -0.011117467656731606, 0.018387820571660995, -0.032560188323259354, -0.3703707158565521, -0.021581189706921577, -0.1357760727405548, -0.0065373871475458145, 0.2178199142217636, 0.04341961070895195, -0.17757157981395721, 0.3248486816883087, 0.03312423825263977, -0.170403853058815, -0.061320651322603226, -0.02999779023230076, 0.06970275193452835, 0.13978025317192078, -0.06683427095413208, 0.10715783387422562, -0.07465939968824387, -0.10873880237340927, 0.15239346027374268, 0.32796186208724976, -0.04561391472816467, 0.14791518449783325, 0.03619737923145294, -0.054892364889383316, -0.17455749213695526, 0.060420989990234375, 0.09412207454442978, -0.11450088769197464, 0.24967633187770844, -0.08159102499485016, -0.13654114305973053, 0.037614885717630386, -0.18294291198253632, -0.111396424472332, 0.11865708976984024, 0.24539706110954285, -0.058582957834005356, 0.16779425740242004, 0.11697003990411758, -0.13157682120800018, -0.1530609130859375, -0.009158187545835972, -0.1337517648935318, -0.02771524339914322, -0.12089547514915466, 0.050081439316272736, -0.06720245629549026, -0.1148013323545456, -0.1562768965959549, 0.13202343881130219, 0.020154627040028572, 0.0195247121155262, 0.00534844258800149, -0.046515434980392456, -0.16816531121730804, -0.2029293030500412, -0.1417517513036728, -0.0677763819694519, 0.012349080294370651, -0.21004390716552734, 0.05907846614718437, 0.009809412062168121, -0.18869376182556152, -0.006011832505464554, -0.04700694605708122, 0.15787792205810547, 0.3679220378398895, 0.09641223400831223, 0.2887401580810547, 0.06382293254137039, -0.0605715811252594, -0.15934081375598907, 0.12335898727178574, 0.08685194700956345, -0.12753944098949432, 0.02404112182557583, 0.14927828311920166, 0.30769672989845276, -0.12086259573698044, 0.12672960758209229, -0.01838064379990101, 0.2717154622077942, -0.029098328202962875, -0.21130195260047913, -0.020404094830155373, 0.2882106602191925, 0.1594715416431427, -0.17308293282985687, 0.20702038705348969, -0.16469323635101318, 0.018694154918193817, -0.11110667139291763, -0.27242031693458557, -0.08595915883779526, -0.061698317527770996, 0.1285063773393631, 0.07183846831321716, 0.2671663463115692, -0.022168191149830818, 0.23356181383132935, 0.06406796723604202, 0.1364881694316864, 0.04370609298348427, -0.10583295673131943, -0.09819699078798294, -0.09374402463436127, 0.3328237533569336, 0.1880185455083847, -0.2932513356208801, 0.20012107491493225, -0.21539588272571564, -0.002772359410300851, -0.10713061690330505, 0.09946608543395996, -0.15391412377357483, -0.2906453013420105, 0.05410356819629669, -0.10739292949438095, -0.016084900125861168, -0.0486304834485054, 0.3765844404697418, -0.12834201753139496, -0.11015564203262329, 0.0573856346309185, 0.18585780262947083, 0.003831892041489482, -0.26481541991233826, -0.22735695540905, 0.10473640263080597, -0.2533707618713379, 0.04915713518857956, -0.18684811890125275, -0.16800394654273987, 0.0836695209145546, -0.08094048500061035, -0.028521493077278137, -0.1633516550064087, 0.12909989058971405, -0.031776443123817444, -0.030937019735574722, -0.06491243839263916, 0.023919129744172096, 0.05021006986498833, 0.20342975854873657, 0.015429668128490448, -0.28086361289024353, -0.13372552394866943, 0.1734900176525116, 0.10861394554376602, 0.2117375284433365, -0.10657039284706116, -0.21645385026931763, 0.055308662354946136, -0.34397009015083313, 0.1402694284915924, 0.12430042773485184, 0.04587704688310623, -0.31842243671417236, -0.41257721185684204, 0.07146477699279785, 0.07234903424978256, -0.23275665938854218, -0.020363101735711098, 0.05937139689922333, -0.020075518637895584, -0.0040231612510979176, -0.02908940613269806, 0.00011769877892220393, -0.33489689230918884, -0.08366391807794571, -0.07412214577198029, 0.12663578987121582, 0.18890072405338287, -0.19444787502288818, 0.3527394235134125, -0.09303676337003708, 0.17843830585479736, 0.07883961498737335, -0.3007504940032959, 0.1585608571767807, -0.10945954918861389, -0.12184449285268784, -0.05880323052406311, -0.2029447853565216, 0.007062272168695927, -0.179835245013237, 0.10254815965890884, 0.03839346021413803, -0.12153447419404984, -0.1581624448299408, 0.12300513684749603, 0.2960734963417053, -0.15535053610801697, -0.007270715665072203, 0.10855916887521744, -0.10023055970668793, 0.015917211771011353, -0.06457757949829102, -0.07057804614305496, -0.1243034303188324, -0.04200606420636177, 0.12949176132678986, -0.1459800899028778, 0.0684613287448883, -0.22353538870811462, 0.15287193655967712, 0.08485772460699081, 0.22616343200206757, 0.14135652780532837, 0.0767250508069992, 0.059006426483392715, 0.12969829142093658, 0.0697111114859581, 0.22822599112987518, -0.07991111278533936, -0.1812828928232193, -0.10006708651781082, -0.04509590566158295, -0.016971416771411896, 0.11391062289476395, -0.05709047242999077, -0.04935789853334427, 0.07743678241968155, -0.09611624479293823, -0.13773556053638458, 0.03245700150728226, 0.14861255884170532, 0.22324953973293304, 0.09534664452075958, -0.021285977214574814, -0.023890500888228416, -0.023979637771844864, 0.026608511805534363, 0.23541708290576935, -0.13988767564296722, 0.14586907625198364, -0.10308907926082611, -0.09521705657243729, -0.2669795751571655, 0.023345038294792175, 0.211323082447052, -0.09453821927309036, 0.043072011321783066, -0.12725380063056946, -0.012449672445654869, 0.1357312649488449, -0.07818804681301117, 0.19017469882965088, 0.20898088812828064, -0.048830632120370865, 0.014649201184511185, -0.0312095507979393, 0.10091133415699005, 0.052205268293619156, 0.16346889734268188, 0.0800585150718689, -0.1348692774772644, 0.2128254920244217, 0.09859409183263779, 0.3822006285190582, -0.062469299882650375, -0.03672583028674126, 0.15793073177337646, 0.02641017735004425, 0.12923488020896912, 0.035275984555482864, 0.1596667468547821, 0.27087393403053284, 0.01760813035070896, -0.16576966643333435, 0.015820028260350227, 0.09135124832391739, 0.046778786927461624, 0.13797636330127716, 0.016806285828351974, 0.05217590928077698, 0.02644035965204239, -0.061481308192014694, -0.050794024020433426, -0.032724831253290176, -0.07596045732498169, 0.11744403839111328, 0.04935755953192711, 0.008882133290171623, 0.07169796526432037, 0.03222927078604698, -0.21591517329216003, -0.05052202194929123, 0.06605511158704758, -0.09861700236797333, 0.07290154695510864, -0.3662787973880768, -0.13436174392700195, -0.3176131844520569, -0.03320285677909851, 0.004813897889107466, 0.058784209191799164, 0.046298980712890625, -0.1622743308544159, 0.11520618945360184, -0.0035654071252793074, 0.20868322253227234, 0.07329187542200089, -0.010320511646568775, 0.17398948967456818, -0.22244204580783844, -0.1520683765411377, 0.10079589486122131, -0.02974616549909115, 0.05092403292655945, 0.0847051814198494], 'payload': {'text': ' surge del estudio y valoración de las distintas iniciativas presenta-\\ndas por los partidos políticos representados en el Congreso.\\nLa Reforma Energética tiene los siguientes objetivos y premisas fundamentales:\\n1.\\t\\nMantener la propiedad de la Nación sobre los hidrocarburos que se encuentran en el sub-\\nsuelo.\\n2.\\t\\nModernizar y fortalecer, sin privatizar, a Petr', 'metadata': None}}, {'vector_id': '26b401bb-b706-434f-b93e-681e41474f88', 'vector': [-0.1462511271238327, 0.1204548105597496, 0.10535583645105362, 0.15841969847679138, 0.2945060431957245, 0.02417287975549698, -0.019833963364362717, 0.16193297505378723, -0.01876690238714218, 0.028826873749494553, -0.0206963662058115, -0.11956414580345154, -0.07966890186071396, -0.058808840811252594, -0.16922177374362946, -0.012973814271390438, 0.01928834244608879, -0.1471472978591919, 0.23705211281776428, -0.11237917095422745, 0.3238505721092224, -0.03385373204946518, -0.012246509082615376, -0.11176756769418716, -0.0963413193821907, 0.12292580306529999, -0.1507822573184967, -0.0054210578091442585, -0.019694775342941284, -0.224099799990654, 0.058746885508298874, 0.05386067554354668, -0.1155625581741333, 0.2798053026199341, -0.0825570598244667, -0.25469958782196045, 0.21472802758216858, -0.16815203428268433, 0.2795172333717346, 0.0908949002623558, 0.03215441480278969, -0.13362807035446167, -0.06302031874656677, -0.03078594245016575, -0.09022431075572968, -0.27770236134529114, 0.1176525130867958, 0.016383858397603035, -0.15094596147537231, -0.15014222264289856, 0.27579233050346375, -0.01282847486436367, -0.15353573858737946, -0.10416825860738754, 0.06038554757833481, -0.10255784541368484, 0.10826253890991211, 0.005375510547310114, 0.06934297829866409, 0.10186959058046341, 0.18288077414035797, 0.1615142673254013, -0.15273921191692352, 0.1621282994747162, 0.1022043451666832, -0.2005997598171234, 0.203872948884964, 0.3015184700489044, -0.12985731661319733, -0.0050901006907224655, 0.14994750916957855, -0.057666219770908356, -0.07869608700275421, -0.1421516239643097, -0.06916140764951706, 0.1750023365020752, -0.022958049550652504, 0.22101153433322906, -0.01727760210633278, -0.35083603858947754, 0.18780657649040222, 0.10365931689739227, -0.14457181096076965, -0.14746885001659393, -0.13102425634860992, 0.18304918706417084, 0.13947968184947968, -0.008608628995716572, 0.2730904817581177, -0.04285470396280289, 0.19504877924919128, -0.024799413979053497, 0.17104953527450562, -0.10041456669569016, 0.3445698916912079, 0.14756867289543152, -0.10804980248212814, -0.11063939332962036, 0.1379104107618332, -0.03242535516619682, 0.062220655381679535, 0.3163425326347351, -0.11585358530282974, -0.3511585295200348, -0.17082881927490234, 0.16959495842456818, -0.020359504967927933, 0.17475441098213196, 0.08133570849895477, 0.018358666449785233, -0.02697383053600788, -0.0354158841073513, -0.16274207830429077, -0.26796525716781616, -0.15926532447338104, -0.18461984395980835, 0.07315738499164581, -0.0033807200379669666, 0.17638187110424042, 0.060045160353183746, -0.08457785099744797, 0.08001136034727097, 0.12240598350763321, -0.07901410013437271, 0.22627758979797363, -0.13170410692691803, 0.03349332883954048, 0.05019352585077286, -0.16194294393062592, 0.059034597128629684, 0.0631997287273407, -0.19442930817604065, -0.3227027952671051, 0.20026248693466187, -0.24100975692272186, 0.03287911042571068, -0.11298567801713943, 0.1100737452507019, -0.11842682212591171, 0.38207170367240906, -0.032620176672935486, 0.3867460787296295, 0.32478368282318115, -0.020098265260457993, 0.14111880958080292, 0.07078554481267929, 0.08163122832775116, -0.14421160519123077, -0.09913074970245361, -0.07098374515771866, 0.11867434531450272, 0.06415737420320511, 0.07581733167171478, 0.18069952726364136, -0.1299000382423401, -0.16744907200336456, -0.008638551458716393, 0.03999371454119682, 0.2732096016407013, 0.037860941141843796, -0.00930258072912693, 0.05339808389544487, 0.11186769604682922, 0.19160887598991394, 0.039801549166440964, -0.023620445281267166, -0.3593830168247223, 0.14692571759223938, -0.040280021727085114, -0.04695306345820427, 0.037193309515714645, 0.0889807939529419, 0.07140286266803741, 0.05938008055090904, 0.2566480040550232, -0.03378702700138092, -0.0627053827047348, -0.09989538043737411, -0.31898626685142517, 0.027161238715052605, -0.058759789913892746, -0.2134024202823639, -0.08907397836446762, -0.14122505486011505, -0.06983372569084167, -0.041383303701877594, 0.009576424956321716, -0.1360107958316803, -0.1576879918575287, 0.25210854411125183, -0.2288719266653061, 0.06576862931251526, 0.09323594719171524, 0.25212693214416504, -0.07026065140962601, -0.0855443999171257, 0.03722085803747177, 0.2662293314933777, -0.011592441238462925, -0.30297455191612244, 0.017142465338110924, 0.002925575478002429, -0.29124242067337036, -0.028112083673477173, -0.13824976980686188, 0.08311879634857178, 0.3303464949131012, -0.1438325196504593, -0.17837513983249664, -0.2901375889778137, 0.17682713270187378, -0.152711883187294, 0.02740601822733879, 0.06250450015068054, 0.19756470620632172, 0.2154296189546585, -0.05593341588973999, 0.22440943121910095, -0.2908499240875244, 0.18873125314712524, 0.3196337819099426, 0.05953440070152283, 0.11115744709968567, -0.1773110330104828, -0.19766290485858917, 0.18452876806259155, -0.06084616109728813, 0.14775271713733673, -0.010718589648604393, 0.03645394742488861, -0.24987824261188507, -0.39590609073638916, 0.2119278609752655, -0.03195393830537796, -0.3177182674407959, -0.05018509924411774, 0.3743412494659424, -0.2753683924674988, -0.11425802111625671, 0.005542190745472908, -0.13488568365573883, -0.08387073129415512, -0.32118865847587585, -0.02045321650803089, -0.10578655451536179, 0.0030308919958770275, 0.046513672918081284, 0.45254653692245483, -0.09701243042945862, 0.09587328135967255, -0.16894234716892242, -0.41955530643463135, -0.14368215203285217, 0.09211871773004532, 0.09668926894664764, 0.04863410070538521, -0.10709106177091599, 0.08618781715631485, -0.32664597034454346, -0.1653337925672531, -0.21869072318077087, 0.06046196445822716, 0.022351576015353203, 0.18603971600532532, 0.06028847396373749, 0.08345526456832886, 0.004757641348987818, 0.043779585510492325, -0.3146280348300934, 0.0292653925716877, 0.020767604932188988, -0.26462873816490173, 0.017955955117940903, -0.13543018698692322, 0.2742806673049927, -0.1377258449792862, -0.11596330255270004, -0.10090356320142746, 0.01738213188946247, 0.2357427477836609, 0.14232245087623596, 0.1381077617406845, -0.13437987864017487, 0.09459874778985977, 0.19624310731887817, 0.21992851793766022, 0.11993169784545898, -0.15513649582862854, -0.03329552710056305, -0.11841095238924026, 0.15150853991508484, 0.1819194108247757, 0.3579387962818146, -0.12633353471755981, 0.3020462989807129, 0.05846355855464935, -0.16101087629795074, -0.009759804233908653, -0.20835821330547333, 0.07110891491174698, -0.25290176272392273, -0.09011656790971756, -0.1871165782213211, 0.12849897146224976, 0.12765219807624817, 0.14049488306045532, 0.09425883740186691, -0.045509930700063705, 0.2111511379480362, -0.03447677195072174, -0.09177107363939285, -0.3499070107936859, 0.23426605761051178, 0.10602538287639618, -0.2116168737411499, -0.053190071135759354, -0.02651106007397175, -0.1393933892250061, -0.10262688994407654, -0.15290890634059906, -0.01869274489581585, -0.004991614725440741, 0.13985386490821838, 0.1765669882297516, -0.031144313514232635, 0.016072869300842285, -0.050471216440200806, 0.10150284320116043, 0.010930650867521763, -0.05925053730607033, 0.10751805454492569, 0.002364454558119178, -0.09646182507276535, -0.13017576932907104, 0.021224940195679665, 0.08849026262760162, -0.011893569491803646, 0.21603471040725708, 0.03703252226114273, 0.0039324453100562096, 0.10070396214723587, 0.09480848908424377, 0.013265307992696762, -0.16562825441360474, 0.10240700840950012, 0.040263403207063675, 0.14928962290287018, 0.04185161367058754, 0.03556741774082184, 0.13034796714782715, -0.041421595960855484, -0.04845602437853813, -0.14808319509029388, -0.22727495431900024, 0.05899268388748169, 0.04400182142853737, -0.04960807040333748, 0.11863072216510773, -0.29556843638420105, -0.12552528083324432, -0.014648227021098137, 0.08298841118812561, -0.06584266573190689, 0.07278700917959213, -0.24869734048843384, -0.1317424178123474, -0.24200263619422913, -0.06367962062358856, 0.1289990395307541, 0.14462777972221375, 0.23320497572422028, -0.22202913463115692, -0.10069436579942703, 0.1369851529598236, 0.17994418740272522, -0.16469766199588776, 0.01923312060534954, -0.01841307431459427, -0.06847787648439407, -0.20495723187923431, 0.015544465743005276, -0.17230366170406342, 0.3447449207305908, 0.01642768085002899], 'payload': {'text': 'óleos Mexicanos (Pemex) y a la Comisión Fe-\\nderal de Electricidad (CFE) como Empresas Productivas del Estado, 100% públicas y 100% \\nmexicanas.\\n3.\\t\\nReducir la exposición del país a los riesgos financieros, geológicos y ambientales en las ac-\\ntividades de exploración y extracción de petróleo y gas natural.\\n4.\\t\\nPermitir que', 'metadata': None}}, {'vector_id': '618fdae2-6442-4a64-b376-fd84e152b853', 'vector': [-0.14319323003292084, 0.2155914008617401, 0.032606299966573715, 0.01611483469605446, 0.14734657108783722, -0.04335536062717438, -0.08451565355062485, 0.07158017158508301, -0.05009851232171059, 0.18898162245750427, 0.0392441600561142, 0.1732904314994812, -0.010929892770946026, -0.05725620687007904, -0.12348400056362152, 0.022487130016088486, -0.11696556955575943, -0.07354117929935455, -0.022560959681868553, 0.0178847536444664, 0.13467955589294434, -0.057186439633369446, -0.07885614782571793, -0.1076180711388588, 0.0180201455950737, 0.01570797711610794, -0.015190616250038147, -0.023734867572784424, 0.05674910917878151, -0.21899451315402985, -0.054277434945106506, 0.05056034401059151, 0.028048736974596977, 0.19750475883483887, -0.09217923879623413, -0.19450870156288147, 0.21331222355365753, 0.018637998029589653, 0.10599710047245026, -0.010815302841365337, 0.009397491812705994, -0.12705577909946442, 0.0003761592088267207, 0.004627974238246679, 0.054271623492240906, 0.029460664838552475, 0.10879462957382202, -0.04189687222242355, -0.2139917016029358, -0.13623374700546265, 0.12585125863552094, -0.04429277405142784, -0.07229584455490112, -0.00491928867995739, 0.10465887188911438, 0.041053496301174164, 0.0995926484465599, -0.0619526244699955, -0.009816442616283894, -0.12075027078390121, 0.03203124925494194, 0.04326209798455238, -0.016568105667829514, 0.011523246765136719, 0.10531758517026901, 0.02682248130440712, 0.15956224501132965, 0.1964593231678009, -0.13354291021823883, 0.15905025601387024, 0.042477648705244064, 0.013530218042433262, -0.016724243760108948, -0.09576235711574554, 0.0073645031079649925, -0.023984938859939575, 0.06334246695041656, 0.11243227124214172, 0.10870733857154846, -0.015017444267868996, 0.263208270072937, 0.1813485026359558, -0.16738261282444, -0.08520228415727615, -0.038212213665246964, 0.14025001227855682, 0.01120181754231453, -0.11669479310512543, 0.12051443755626678, -0.19023878872394562, 0.02940189279615879, 0.11671019345521927, 0.27975913882255554, -0.08202879130840302, 0.15434248745441437, 0.07726086676120758, -0.03899894654750824, -0.2376115620136261, -0.07027199119329453, 0.042657576501369476, 0.052885014563798904, 0.17769582569599152, 0.01852176897227764, -0.14791339635849, -0.016547443345189095, 0.025250637903809547, -0.12385101616382599, 0.12164034694433212, -0.0462513342499733, -0.09477011859416962, 0.0688282698392868, 0.046728137880563736, -0.19968174397945404, -0.0640210509300232, -0.053820714354515076, -0.1298038512468338, 0.05712953209877014, 0.09676528722047806, 0.09527093917131424, -0.04399208351969719, -0.06905431300401688, -0.09315855801105499, 0.010230430401861668, 0.010576211847364902, 0.2376813292503357, -0.03809370473027229, 0.03533248230814934, -0.03825519606471062, -0.16542033851146698, -0.08693432062864304, -0.013402208685874939, -0.12141799926757812, -0.18376600742340088, 0.032405100762844086, -0.08231629431247711, -0.0841185450553894, 0.04344165325164795, 0.09640621393918991, -0.15903785824775696, 0.14640873670578003, 0.0379902720451355, 0.36181461811065674, 0.37912964820861816, 0.017154887318611145, -0.04811295121908188, 0.0819021612405777, 0.11898134648799896, -0.044967394322156906, 0.06277208775281906, -0.06931913644075394, 0.19069766998291016, -0.10396642982959747, 0.14666800200939178, 0.042713843286037445, -0.08869872242212296, -0.1444340944290161, -0.03281697630882263, -0.03182707726955414, 0.11915501952171326, 0.14772000908851624, -0.11899987608194351, 0.08140621334314346, -0.06362036615610123, 6.810932973166928e-05, -0.025911178439855576, 0.041333477944135666, -0.08994917571544647, -0.02488970197737217, -0.027253324165940285, 0.045203689485788345, 0.05225546285510063, 0.014508533291518688, 0.07819800078868866, 0.03473132476210594, 0.1890738606452942, -0.04185478016734123, -0.12201831489801407, 0.016935067251324654, -0.15352857112884521, -0.05347219854593277, 0.042741332203149796, -0.2420465648174286, 0.20293815433979034, -0.04661506414413452, -0.032243914902210236, -0.09422120451927185, 0.009088837541639805, 0.04492519423365593, -0.06803573668003082, -0.06282646209001541, -0.10349840670824051, 0.07002110779285431, 0.13824127614498138, 0.23191708326339722, -0.038153793662786484, -0.19912341237068176, -0.0055143143981695175, 0.1198468953371048, 0.1032419502735138, -0.19444864988327026, -0.14844556152820587, 0.09055957198143005, -0.16458746790885925, 0.04041510075330734, -0.01004048716276884, 0.033713601529598236, 0.12462123483419418, -0.20203623175621033, -0.20347018539905548, -0.05172896012663841, 0.07347265630960464, 0.015895431861281395, 0.08203058689832687, 0.06171277537941933, 0.04564845561981201, 0.03514312207698822, 0.011649280786514282, 0.10283610969781876, -0.26070159673690796, 0.14729243516921997, 0.054547861218452454, 0.08458366245031357, 0.11850656569004059, -0.13655507564544678, -0.23288053274154663, 0.0727422758936882, -0.13458754122257233, 0.17668093740940094, 0.042066410183906555, 0.03902139514684677, -0.2535665035247803, -0.3978312313556671, 0.05485881492495537, 0.01862393692135811, -0.19481495022773743, -0.0913541242480278, 0.1848372370004654, -0.0009749397286213934, -0.07446106523275375, -0.10422085970640182, -0.04367976635694504, -0.1776922345161438, -0.08613923192024231, 0.0030633220449090004, 0.04866904020309448, 0.00800647959113121, -0.08382498472929001, 0.14348486065864563, 0.05246250703930855, 0.03290538489818573, -0.07051855325698853, -0.240583598613739, -0.017002319917082787, -0.12335903942584991, -0.10907476395368576, -0.08552426099777222, -0.003976711072027683, -0.01809227466583252, -0.05442223325371742, -0.022711027413606644, -0.02100646309554577, -0.01530593354254961, -0.04932776838541031, 0.16339382529258728, 0.15455199778079987, -0.00991179421544075, -0.027561429888010025, 0.18140357732772827, -0.07798469066619873, -0.042032159864902496, -0.0067658331245183945, -0.04838837683200836, -0.13603194057941437, -0.021644296124577522, 0.18646806478500366, -0.1070689857006073, -0.11157140135765076, -0.13011544942855835, 0.09934075176715851, 0.1168796494603157, 0.18905697762966156, 0.07815816253423691, 0.020556513220071793, -0.08338665962219238, 0.11539209634065628, -0.07966402918100357, 0.11318810284137726, 0.0009678849019110203, 0.07955919206142426, 0.024853983893990517, 0.16448354721069336, -0.0035748654045164585, 0.31243860721588135, -0.12384268641471863, 0.011964134871959686, -0.10108373314142227, -0.05723271146416664, 0.045145709067583084, -0.07896603643894196, 0.15945392847061157, 0.07147684693336487, 0.009158026427030563, -0.15692198276519775, -0.0008872567559592426, -0.02730049006640911, 0.09921776503324509, 0.1538158655166626, -0.08356111496686935, -0.04717477411031723, 0.02006920985877514, 0.019407033920288086, -0.1817561686038971, 0.07821930944919586, 0.11359093338251114, -0.03922697901725769, 0.007914613001048565, -0.10378517210483551, -0.013528271578252316, -0.01266442984342575, -0.12222551554441452, 0.026999957859516144, 0.045838017016649246, 0.019855182617902756, -0.02567593939602375, -0.03728773817420006, -0.038543280214071274, 0.08991439640522003, 0.03844838589429855, 0.08012496680021286, -0.09391715377569199, 0.1578022986650467, 0.04773818701505661, 0.09713861346244812, 0.02986387349665165, -0.0023948729503899813, 0.15838584303855896, -0.024055082350969315, 0.20666469633579254, -0.04687339439988136, 0.08332294970750809, 0.20260024070739746, 0.14582352340221405, -0.21956148743629456, -0.07117734849452972, 0.11031191051006317, 0.08848369121551514, 0.0651048794388771, 0.029822882264852524, -0.10118799656629562, -0.019087092950940132, -0.022689005360007286, -0.093791164457798, -0.10374077409505844, -0.1593712717294693, -0.0722481906414032, 0.049517903476953506, -0.025742480531334877, 0.040028173476457596, -0.11020105332136154, -0.28568461537361145, 0.09952142089605331, 0.16608750820159912, -0.07273447513580322, 0.09723075479269028, -0.15620501339435577, -0.29758355021476746, -0.05257498100399971, -0.1167791560292244, 0.05435539782047272, 0.15393489599227905, -0.03147617727518082, -0.1343088299036026, 0.05508756637573242, 0.03599102050065994, 0.22305765748023987, -0.06738463789224625, -0.06801185011863708, -0.07786785811185837, -0.17165416479110718, -0.07643299549818039, -0.029403287917375565, -0.01679382286965847, 0.05246889218688011, 0.062240175902843475], 'payload': {'text': ' la Nación ejerza, de manera exclusiva, la planeación y control del Sistema \\nEléctrico Nacional, en beneficio de un sistema competitivo que permita reducir los precios \\nde la energía eléctrica.\\n5.\\t\\nAtraer mayor inversión al sector energético mexicano para impulsar el desarrollo del país.\\n6.\\t\\nContar con un mayor abasto de energéticos a mejores precios.\\n', 'metadata': None}}, {'vector_id': 'c9f5dd1e-6e52-4468-808f-68e5ba2abb39', 'vector': [-0.043453995138406754, 0.21095779538154602, -0.010474853217601776, 0.0508805587887764, 0.12320250272750854, 0.07928500324487686, -0.10800902545452118, 0.028855126351118088, -0.16498054563999176, -0.008202731609344482, 0.01867041178047657, -0.0603356696665287, 0.18966540694236755, -0.0723503977060318, 0.001679397071711719, -0.021603459492325783, -0.03670676797628403, -0.009825360961258411, -0.08843349665403366, -0.0692070946097374, 0.14796239137649536, -0.1635148525238037, 0.07614804059267044, -0.05422305315732956, -0.03232423961162567, 0.0458451509475708, -0.024316444993019104, -0.051469121128320694, -0.028473885729908943, -0.21454203128814697, -0.0005391123704612255, -0.11423783749341965, -0.022761467844247818, 0.07843669503927231, -0.004930022172629833, -0.07833664119243622, 0.04217570647597313, 0.026245055720210075, 0.18716463446617126, 0.17685028910636902, -0.12900002300739288, -0.2929999828338623, 0.03733262047171593, -0.030530614778399467, 0.027999432757496834, -0.024658216163516045, 0.26060476899147034, -0.08968613296747208, -0.40215134620666504, -0.17368829250335693, 0.04187920689582825, -0.08688894659280777, -0.18653090298175812, -0.033479802310466766, 0.05141409486532211, -0.10785745084285736, 0.038486383855342865, -0.09161806106567383, -0.06065552309155464, -0.274975061416626, 0.21838173270225525, -0.01843329146504402, 0.016428953036665916, 0.12697868049144745, 0.08649555593729019, 0.05299314484000206, 0.21993005275726318, 0.2446414679288864, -0.15021616220474243, 0.18615375459194183, 0.12262096256017685, -0.08350998163223267, -0.09840542078018188, -0.22034016251564026, -0.09410360455513, -0.030225714668631554, -0.00531337084248662, 0.005806000903248787, 0.11749155819416046, 0.01324282307177782, 0.2903731167316437, 0.03613791987299919, -0.049552563577890396, 0.024785473942756653, -0.015771128237247467, 0.03980283811688423, 0.15396438539028168, -0.19323207437992096, 0.18274696171283722, -0.14395549893379211, -0.0030233608558773994, 0.10388873517513275, 0.21962857246398926, 0.028745191171765327, 0.14702725410461426, 0.022014303132891655, -0.17012476921081543, -0.19761650264263153, 0.0016596554778516293, 0.09579473733901978, -0.048928163945674896, 0.1928994357585907, -0.1868990659713745, -0.1581653356552124, 0.06962505728006363, 0.04707425460219383, -0.11168006807565689, 0.09664852172136307, 0.1266952008008957, -0.07322462648153305, -0.10133971273899078, 0.14978352189064026, -0.22701655328273773, -0.032415974885225296, -0.008605839684605598, -0.0005989026394672692, 0.13792884349822998, 0.008658269420266151, 0.09085376560688019, 0.040769994258880615, 0.03447804972529411, -0.08591853827238083, 0.27841389179229736, 0.10799489915370941, 0.21317555010318756, 0.0008159457356669009, 0.11967988312244415, -0.06761408597230911, -0.09890919923782349, -0.13586336374282837, 0.11601343005895615, -0.20063626766204834, -0.2861528694629669, 0.1675230860710144, -0.01955481432378292, -0.12073051184415817, -0.009742270223796368, 0.018887216225266457, 0.05066049098968506, 0.2889452278614044, 0.006325662136077881, 0.09632539004087448, 0.17835888266563416, 0.031978949904441833, 0.23910236358642578, 0.19583149254322052, 0.11987436562776566, -0.021516283974051476, 0.18816383183002472, -0.0780142992734909, 0.2180674970149994, -0.08200051635503769, 0.16719010472297668, -0.014723695814609528, 0.21706369519233704, -0.12078659981489182, 0.054261669516563416, -0.039294157177209854, 0.20960719883441925, 0.07997947931289673, -0.09259866178035736, 0.11372792720794678, -0.17473016679286957, -0.030726460739970207, -0.3352015018463135, -0.11097368597984314, -0.084686778485775, -0.19068016111850739, -0.15196986496448517, 0.13363473117351532, 0.15846985578536987, 0.021764561533927917, 0.1896786093711853, 0.09685838222503662, 0.07796383649110794, -0.09862282872200012, -0.10632722079753876, -0.04421042278409004, -0.1937924176454544, 0.09359638392925262, 0.03299560770392418, -0.1266510784626007, 0.169653981924057, -0.19761453568935394, 0.13266627490520477, 0.13229705393314362, 0.03039884939789772, 0.04630258306860924, -0.20314602553844452, 0.08540952205657959, -0.2007526159286499, -0.06480812281370163, 0.11877209693193436, 0.22735270857810974, -0.11919474601745605, -0.17019692063331604, 0.06870067864656448, 0.09146547317504883, -0.011790215969085693, -0.0664917454123497, -0.26921939849853516, 0.10965514928102493, -0.10771430283784866, 0.01957162283360958, -0.10577966272830963, -0.02783786505460739, 0.05146127939224243, -0.15283778309822083, -0.15903343260288239, 0.014969426207244396, 0.0485086664557457, -0.06866826117038727, -0.08127158135175705, -0.00550558976829052, 0.1487562656402588, -0.020428383722901344, 0.08648867905139923, 0.13599509000778198, -0.20043964684009552, -0.07034861296415329, 0.15560919046401978, 0.09156495332717896, 0.1101103201508522, -0.17883341014385223, -0.0470581129193306, 0.0584799125790596, -0.24739529192447662, 0.1969810575246811, -0.04361939802765846, -0.023821519687771797, -0.27417078614234924, -0.3657970428466797, 0.15238523483276367, 0.07095968723297119, -0.20644725859165192, 0.04094386845827103, 0.14772914350032806, -0.07861364632844925, -0.05158378183841705, -0.13225094974040985, -0.032560624182224274, -0.27344968914985657, -0.1516060084104538, 0.03448322042822838, 0.12645022571086884, 0.08974085748195648, -0.1348477303981781, 0.19281139969825745, -0.2338162362575531, 0.20837286114692688, -0.09275703877210617, -0.3177656829357147, -0.005930733866989613, -0.006037543993443251, 0.0682138130068779, 0.16921603679656982, -0.0977955088019371, 0.023814508691430092, -0.15511174499988556, -0.05225619673728943, 0.054241932928562164, -0.13143882155418396, -0.13431937992572784, 0.23658527433872223, 0.2662092447280884, 0.010101348161697388, -0.17919909954071045, -0.033757273107767105, -0.20878955721855164, -0.18917885422706604, -0.015230260789394379, -0.1388554722070694, -0.06773676723241806, -0.14062705636024475, 0.2172386348247528, -0.16281919181346893, -0.0027875308878719807, -0.1290842592716217, 0.008001482114195824, 0.2614648640155792, 0.15028169751167297, 0.17991644144058228, 0.03757647052407265, -0.0568721666932106, 0.11407462507486343, -0.024288510903716087, 0.25850847363471985, 0.06302593648433685, -0.0017340424237772822, -0.027011079713702202, 0.1375884711742401, -0.0271627027541399, 0.1455981582403183, -0.08701186627149582, 0.08609450608491898, -0.00038089833105914295, -0.04471643641591072, -0.005735152866691351, -0.11122004687786102, 0.182716965675354, -0.06235717982053757, -0.011813586577773094, -0.08814671635627747, 0.03076150082051754, 0.07944590598344803, 0.07119672000408173, 0.21168003976345062, -0.11386653035879135, 0.11009468883275986, -0.03982359543442726, 0.030601585283875465, -0.2956739664077759, 0.04347642883658409, -0.050328854471445084, -0.01771026849746704, 0.08918648213148117, -0.04930691793560982, -0.08005255460739136, 0.08035563677549362, -0.161308154463768, -0.024540847167372704, -0.025128912180662155, 0.11743611097335815, 0.10030468553304672, -0.2639387249946594, -0.008867659606039524, -0.0824669674038887, 0.03465154767036438, 0.09265779703855515, -0.21022260189056396, 0.2066677212715149, -0.07570303231477737, 0.06180163100361824, -0.1888028085231781, -9.099437738768756e-05, 0.10358171910047531, -0.1559493988752365, 0.10678242892026901, -0.06069790571928024, 0.10652641206979752, 0.17868410050868988, 0.08642775565385818, -0.15931233763694763, -0.03899727761745453, 0.096833236515522, 0.10040337592363358, 0.1793876439332962, 0.0642242580652237, 0.036947328597307205, 0.059271953999996185, 0.008094842545688152, 0.08389414101839066, 0.13872484862804413, -0.09113185852766037, -0.03209685906767845, 0.039912525564432144, 0.04650656878948212, 0.011972072534263134, -0.04441508278250694, -0.12666311860084534, 0.0733937919139862, 0.04506709426641464, 0.0037508439272642136, 0.15517528355121613, -0.16984306275844574, -0.2256200611591339, -0.02378995157778263, -0.019017603248357773, -0.040731281042099, 0.13736985623836517, -0.013057882897555828, -0.17163264751434326, -0.016757164150476456, -0.018168121576309204, 0.07102936506271362, -0.04272880777716637, 0.0866621881723404, -0.013597060926258564, -0.07112877070903778, -0.10637259483337402, 0.13350948691368103, -0.10959179699420929, 0.09459470957517624, 0.06349669396877289], 'payload': {'text': '7. \\t Garantizar estándares internacionales de eficiencia, calidad y confiabilidad de suministro \\nenergético, así como transparencia y rendición de cuentas en las distintas actividades de la \\nindustria energética.\\n8.\\t\\nCombatir de manera efectiva la corrupción en el sector energético.\\n9.\\t\\nFortalecer la administración de los ingresos petroleros e impulsar el ahor', 'metadata': None}}, {'vector_id': '07959066-ad3e-4a18-b099-771a48cd6075', 'vector': [-0.1381845772266388, 0.2201945185661316, 0.02382621355354786, 0.049526236951351166, 0.3268301486968994, 0.09112834930419922, -0.09792540222406387, 0.015844333916902542, -0.10047320276498795, 0.23707064986228943, 0.2217414230108261, 0.06335435807704926, 0.023960420861840248, 0.01744716241955757, 0.03849897161126137, 0.27027592062950134, -0.05886977165937424, -0.08239516615867615, -0.0641712099313736, 0.06558099389076233, 0.04894431307911873, 0.028744615614414215, 0.07858842611312866, -0.0298605989664793, 0.015118200331926346, -0.06234244629740715, -0.09911976754665375, -0.024609271436929703, 0.0641964003443718, -0.11660350114107132, 0.018490156158804893, 0.10077673941850662, -0.08023327589035034, 0.12790286540985107, -0.19443745911121368, -0.11475329101085663, 0.14926429092884064, -0.003184871282428503, 0.1316198855638504, -0.02121085114777088, -0.03182682394981384, -0.027306536212563515, -0.10277479887008667, 0.08369451761245728, -0.03531487286090851, -0.3171001374721527, 0.14260666072368622, -0.037114087492227554, -0.2575852572917938, -0.10460691154003143, 0.11548960953950882, -0.2355986386537552, -0.17638815939426422, 0.10778999328613281, 0.04284397140145302, 0.03233051672577858, 0.07221731543540955, -0.07670988142490387, -0.054464083164930344, 0.08015032857656479, 0.17358264327049255, -0.08093491941690445, -0.037477027624845505, 0.07268937677145004, 0.038707345724105835, -0.05286380276083946, -0.0031329442281275988, 0.2672952115535736, -0.18658135831356049, 0.1645151674747467, 0.026934141293168068, -0.03388740122318268, 0.11164041608572006, -0.07338351756334305, 0.08316786587238312, -0.06996890157461166, 0.1773080825805664, 0.15829889476299286, -0.10639937967061996, -0.22711627185344696, 0.2540464997291565, 0.0928354486823082, -0.27224475145339966, -0.16559097170829773, -0.20663011074066162, 0.08526793867349625, -0.19469156861305237, -0.096656434237957, 0.15427517890930176, -0.06631221622228622, 0.02163083478808403, 0.19679905474185944, 0.20830214023590088, -0.27119186520576477, 0.20650112628936768, 0.16321605443954468, -0.15213921666145325, -0.23231415450572968, -0.08614309877157211, 0.07784176617860794, 0.053631991147994995, 0.2546807527542114, 0.058139801025390625, -0.2431635558605194, -0.14911583065986633, 0.077247254550457, -0.14510010182857513, 0.04484621062874794, -0.054286275058984756, 0.17004439234733582, 0.09668543189764023, -0.04905332997441292, -0.19407841563224792, -0.08035086840391159, -0.09699660539627075, -0.09186071157455444, 0.10180770605802536, -0.09833399206399918, 0.04160972312092781, -0.09221889823675156, 0.06875529885292053, 0.055280834436416626, -0.03369365260004997, -0.1901668757200241, 0.17953340709209442, -0.09023572504520416, 0.030790027230978012, -0.04211834445595741, -0.15215711295604706, 0.25787684321403503, 0.007635802961885929, 0.023354720324277878, 0.09040702879428864, -0.058588117361068726, -0.2247989922761917, -0.10743056982755661, 0.10046681761741638, 0.0809546634554863, -0.3008076250553131, 0.025583630427718163, 0.12175045907497406, 0.5530396699905396, 0.3782224655151367, 0.08627506345510483, -0.19697634875774384, 0.023816514760255814, 0.13032609224319458, -0.05396617203950882, 0.0763738602399826, -0.03534676507115364, 0.06983860582113266, -0.0281467717140913, 0.1821129471063614, 0.040059227496385574, -0.10426445305347443, -0.050937850028276443, -0.10707180947065353, -0.11590287834405899, 0.15836790204048157, 0.26842057704925537, 0.01766730286180973, -0.012094215489923954, 0.10222221910953522, 0.027067342773079872, -0.011279873549938202, -0.1299012005329132, -0.1617307960987091, 0.0656861886382103, 0.18521304428577423, 0.007063216529786587, 0.2019365429878235, 0.12566210329532623, 0.13747327029705048, 0.05913292244076729, 0.34881356358528137, 0.10655282437801361, -0.12052801996469498, 0.06659548729658127, -0.18398793041706085, -0.10454127937555313, 0.06675618886947632, -0.3356625735759735, -0.17842113971710205, -0.0760762095451355, -0.31463098526000977, -0.10759628564119339, -0.15608757734298706, -0.06450676172971725, 0.08533323556184769, -0.06013065204024315, -0.18961575627326965, 0.11134324967861176, 0.018269941210746765, 0.23653534054756165, 0.04864116013050079, -0.13503223657608032, 0.10262659937143326, 0.041958246380090714, 0.16248378157615662, -0.05489783734083176, -0.257100909948349, -0.07621053606271744, -0.19905368983745575, 0.07427693903446198, -0.012163559906184673, 0.12702755630016327, 0.5172657370567322, 0.03912676125764847, -0.1616932600736618, -0.23856794834136963, 0.047539982944726944, 0.11089649796485901, 0.33361631631851196, 0.2594965398311615, 0.05939367786049843, -0.11977698653936386, 0.03731381893157959, 0.1713566929101944, -0.2198173850774765, 0.3027363419532776, 0.11452202498912811, 0.013340671546757221, 0.14518721401691437, -0.14987139403820038, -0.16191981732845306, 0.25825759768486023, -0.09538871049880981, 0.13603071868419647, 0.16697748005390167, -0.10950719565153122, -0.36362242698669434, -0.3486170172691345, 0.05977460369467735, 0.004217064008116722, -0.4104423522949219, -0.06481127440929413, 0.3625345826148987, 0.047512419521808624, -0.36537623405456543, -0.04904088005423546, -0.05753291770815849, -0.13151784241199493, -0.2163834273815155, -0.07673432677984238, -0.11746200919151306, 0.2619272768497467, -0.0024497820995748043, 0.1274225115776062, -0.02457943931221962, 0.06465286016464233, -0.09538178145885468, -0.3744596242904663, 0.020953847095370293, -0.17224158346652985, 0.03312911465764046, -0.06654135137796402, -0.23344998061656952, -0.12292233854532242, -0.12160766869783401, 0.18591593205928802, -0.02512943185865879, -0.14163298904895782, -0.008915597572922707, 0.3787267208099365, 0.1074729785323143, -0.09553471207618713, -0.18383681774139404, 0.05234341323375702, -0.10209428519010544, 0.17044299840927124, 0.05977286770939827, -0.07879811525344849, -0.08830791711807251, -0.02767472341656685, 0.36161181330680847, -0.03896598145365715, -0.22313335537910461, 0.01618233509361744, 0.17642438411712646, 0.1182350292801857, 0.1811801642179489, -0.10356525331735611, 0.004373862873762846, -0.03959636390209198, -0.1733095943927765, 0.30917808413505554, -0.025286370888352394, -0.09831012785434723, -0.022385183721780777, -0.013243786059319973, 0.178419291973114, 0.06547538191080093, 0.18903817236423492, -0.15667085349559784, 0.12014845758676529, -0.12492552399635315, -0.3646010756492615, -0.08591891825199127, -0.18633349239826202, 0.07929003983736038, 0.05512314662337303, -0.05202013999223709, -0.23865781724452972, -0.053824663162231445, -0.061370451003313065, 0.023232294246554375, 0.11148836463689804, 0.02550646848976612, 0.07028237730264664, -0.027794258669018745, -0.07529205083847046, -0.26291269063949585, 0.1634153127670288, 0.2779482901096344, -0.26470306515693665, -0.017680833116173744, -0.28284749388694763, -0.0808381512761116, -0.06779593229293823, -0.025233224034309387, 0.1925797462463379, 0.24788029491901398, -0.29600077867507935, 0.017432672902941704, -0.0821479931473732, 0.043533165007829666, -0.045257046818733215, 0.04681263491511345, 0.04228817671537399, 0.013655324466526508, -0.044222719967365265, 0.12576445937156677, 0.1317780315876007, 0.07308612763881683, -0.0010815120767802, 0.09318310022354126, 0.0059769777581095695, 0.3175109326839447, -0.0590960755944252, -0.04717143252491951, 0.17632168531417847, 0.1385415494441986, -0.20404493808746338, -0.07552488148212433, -0.017071980983018875, -0.007576522417366505, -0.2125893086194992, 0.12136301398277283, -0.12397120147943497, -0.023226972669363022, 0.04753398150205612, 0.07648865133523941, -0.22723254561424255, -0.27427250146865845, 0.14230389893054962, -0.17400899529457092, -0.0028433960396796465, 0.07573875039815903, -0.03881296515464783, -0.17551098763942719, -0.03266818821430206, 0.24132469296455383, -0.02158319391310215, 0.27942952513694763, -0.26920512318611145, -0.22275297343730927, -0.06118833273649216, -0.04626346379518509, 0.07579944282770157, 0.12115844339132309, -0.04540739580988884, -0.05899867042899132, 0.10466410964727402, 0.072705939412117, 0.07660709321498871, -0.015414138324558735, -0.03329016640782356, 0.045953717082738876, -0.10688476264476776, -0.09433954954147339, 0.1960197240114212, 0.04071866720914841, 0.20076005160808563, 0.08406709879636765], 'payload': {'text': 'ro de largo plazo en \\nbeneficio de las futuras generaciones.\\n10.\\t Impulsar el desarrollo, con responsabilidad social y ambiental.\\nEstos objetivos se verán traducidos en beneficios concretos para los mexicanos:\\n\\n', 'metadata': None}}]}\n"
     ]
    }
   ],
   "source": [
    "url = gcp_config.EMBEDDING_SERVICE_URL + gcp_config.EMBED_TEXT_ENDPOINT\n",
    "\n",
    "response = requests.post(url, json=payload, headers={\"Authorization\": f\"Bearer {response_token.token}\"})\n",
    "\n",
    "print(\"Status:\", response.status_code)\n",
    "print(\"Response:\", response.json())"
   ]
  },
  {
   "cell_type": "code",
   "execution_count": null,
   "id": "05f44722",
   "metadata": {},
   "outputs": [],
   "source": []
  }
 ],
 "metadata": {
  "kernelspec": {
   "display_name": ".venv",
   "language": "python",
   "name": "python3"
  },
  "language_info": {
   "codemirror_mode": {
    "name": "ipython",
    "version": 3
   },
   "file_extension": ".py",
   "mimetype": "text/x-python",
   "name": "python",
   "nbconvert_exporter": "python",
   "pygments_lexer": "ipython3",
   "version": "3.11.10"
  }
 },
 "nbformat": 4,
 "nbformat_minor": 5
}
