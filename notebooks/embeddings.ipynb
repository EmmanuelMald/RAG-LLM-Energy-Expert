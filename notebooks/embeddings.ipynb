{
 "cells": [
  {
   "cell_type": "markdown",
   "id": "ce0de037",
   "metadata": {},
   "source": [
    "# Embedding Service\n",
    "\n",
    "In this notebook will be tested the functionality of the embedding service.\n",
    "\n",
    "This service must do two main steps:\n",
    "\n",
    "- chunk a raw text\n",
    "- embed the chunked text into vectors\n",
    "\n",
    "To do so, both services requires of an [*embedding model*](https://huggingface.co/blog/getting-started-with-embeddings):\n",
    "\n",
    "- chunking: Uses the embedding model to generate tokens, this is due to tokenization can has multiple approaches.\n",
    "- embedding: Uses the embedding model to create the vectors that will represent the data of each chunk generated."
   ]
  },
  {
   "cell_type": "code",
   "execution_count": 13,
   "id": "4cc39521",
   "metadata": {},
   "outputs": [],
   "source": [
    "from langchain_text_splitters import TokenTextSplitter\n",
    "from transformers import AutoTokenizer\n",
    "from sentence_transformers import SentenceTransformer\n",
    "import numpy as np\n",
    "import uuid\n",
    "from loguru import logger\n",
    "from typing import Union\n",
    "from datetime import datetime\n",
    "\n",
    "import sys\n",
    "\n",
    "sys.path.append(\"..\")\n",
    "\n",
    "from rag_llm_energy_expert.services.embeddings.config import EMBEDDINGS_CONFIG"
   ]
  },
  {
   "cell_type": "code",
   "execution_count": 3,
   "id": "57cd1f9e",
   "metadata": {},
   "outputs": [],
   "source": [
    "embeddings_config = EMBEDDINGS_CONFIG()"
   ]
  },
  {
   "cell_type": "markdown",
   "id": "c0a810ea",
   "metadata": {},
   "source": [
    "The following text will be used:"
   ]
  },
  {
   "cell_type": "code",
   "execution_count": 6,
   "id": "70ede0a3",
   "metadata": {},
   "outputs": [
    {
     "name": "stdout",
     "output_type": "stream",
     "text": [
      "\n",
      "Resumen Ejecutivo\n",
      "\n",
      "\n",
      "3\n",
      "I. Introducción\n",
      "La Reforma Energética es un paso decidido rumbo a la modernización del sector energético de \n",
      "nuestro país, sin privatizar las empresas públicas dedicadas a la producción y al aprovechamien-\n",
      "to de los hidrocarburos y de la electricidad. La Reforma Energética, tanto constitucional como a \n",
      "nivel legistlación secundarias, surge del estudio y valoración de las distintas iniciativas presenta-\n",
      "das por los partidos políticos representados en el Congreso.\n",
      "La Reforma Energética tiene los siguientes objetivos y premisas fundamentales:\n",
      "1.\t\n",
      "Mantener la propiedad de la Nación sobre los hidrocarburos que se encuentran en el sub-\n",
      "suelo.\n",
      "2.\t\n",
      "Modernizar y fortalecer, sin privatizar, a Petróleos Mexicanos (Pemex) y a la Comisión Fe-\n",
      "deral de Electricidad (CFE) como Empresas Productivas del Estado, 100% públicas y 100% \n",
      "mexicanas.\n",
      "3.\t\n",
      "Reducir la exposición del país a los riesgos financieros, geológicos y ambientales en las ac-\n",
      "tividades de exploración y extracción de petróleo y gas natural.\n",
      "4.\t\n",
      "Permitir que la Nación ejerza, de manera exclusiva, la planeación y control del Sistema \n",
      "Eléctrico Nacional, en beneficio de un sistema competitivo que permita reducir los precios \n",
      "de la energía eléctrica.\n",
      "5.\t\n",
      "Atraer mayor inversión al sector energético mexicano para impulsar el desarrollo del país.\n",
      "6.\t\n",
      "Contar con un mayor abasto de energéticos a mejores precios.\n",
      "7. \t Garantizar estándares internacionales de eficiencia, calidad y confiabilidad de suministro \n",
      "energético, así como transparencia y rendición de cuentas en las distintas actividades de la \n",
      "industria energética.\n",
      "8.\t\n",
      "Combatir de manera efectiva la corrupción en el sector energético.\n",
      "9.\t\n",
      "Fortalecer la administración de los ingresos petroleros e impulsar el ahorro de largo plazo en \n",
      "beneficio de las futuras generaciones.\n",
      "10.\t Impulsar el desarrollo, con responsabilidad social y ambiental.\n",
      "Estos objetivos se verán traducidos en beneficios concretos para los mexicanos:\n",
      "\n",
      "\n"
     ]
    }
   ],
   "source": [
    "text = \"\"\"\n",
    "Resumen Ejecutivo\\n\\n\\n3\\nI. Introducción\\nLa Reforma Energética es un paso decidido rumbo a la modernización del sector energético de \\nnuestro país, sin privatizar las empresas públicas dedicadas a la producción y al aprovechamien-\\nto de los hidrocarburos y de la electricidad. La Reforma Energética, tanto constitucional como a \\nnivel legistlación secundarias, surge del estudio y valoración de las distintas iniciativas presenta-\\ndas por los partidos políticos representados en el Congreso.\\nLa Reforma Energética tiene los siguientes objetivos y premisas fundamentales:\\n1.\\t\\nMantener la propiedad de la Nación sobre los hidrocarburos que se encuentran en el sub-\\nsuelo.\\n2.\\t\\nModernizar y fortalecer, sin privatizar, a Petróleos Mexicanos (Pemex) y a la Comisión Fe-\\nderal de Electricidad (CFE) como Empresas Productivas del Estado, 100% públicas y 100% \\nmexicanas.\\n3.\\t\\nReducir la exposición del país a los riesgos financieros, geológicos y ambientales en las ac-\\ntividades de exploración y extracción de petróleo y gas natural.\\n4.\\t\\nPermitir que la Nación ejerza, de manera exclusiva, la planeación y control del Sistema \\nEléctrico Nacional, en beneficio de un sistema competitivo que permita reducir los precios \\nde la energía eléctrica.\\n5.\\t\\nAtraer mayor inversión al sector energético mexicano para impulsar el desarrollo del país.\\n6.\\t\\nContar con un mayor abasto de energéticos a mejores precios.\\n7. \\t Garantizar estándares internacionales de eficiencia, calidad y confiabilidad de suministro \\nenergético, así como transparencia y rendición de cuentas en las distintas actividades de la \\nindustria energética.\\n8.\\t\\nCombatir de manera efectiva la corrupción en el sector energético.\\n9.\\t\\nFortalecer la administración de los ingresos petroleros e impulsar el ahorro de largo plazo en \\nbeneficio de las futuras generaciones.\\n10.\\t Impulsar el desarrollo, con responsabilidad social y ambiental.\\nEstos objetivos se verán traducidos en beneficios concretos para los mexicanos:\\n\n",
    "\"\"\"\n",
    "\n",
    "print(text)"
   ]
  },
  {
   "cell_type": "markdown",
   "id": "60b315de",
   "metadata": {},
   "source": [
    "## Chunking"
   ]
  },
  {
   "cell_type": "markdown",
   "id": "6a64f32e",
   "metadata": {},
   "source": [
    "**Chunking depends of how many tokens an embedding model supports**\n",
    "\n",
    "There's a [HuggingFace dashboard](https://huggingface.co/spaces/mteb/leaderboard) that compares the performance of different embedding models. Some metrics to focus on are:\n",
    "\n",
    "- Number of Parameters: \n",
    "\n",
    "    A higher value means the model requires more CPU/GPU memory to run\n",
    "\n",
    "- Embedding Dimension:\n",
    "\n",
    "    The dimension of the vectors produced\n",
    "\n",
    "- Max tokens:\n",
    "\n",
    "    How many tokens the model can process, the higher the better.\n",
    "\n",
    "\n",
    "For this time, we'll be using the [*nomic-ai/nomic-embed-text-v2-moe*](https://huggingface.co/nomic-ai/nomic-embed-text-v2-moe) model:\n",
    "\n",
    "- Number of Parameters: 475M\n",
    "- Embedding Dimension: 768\n",
    "- Max tokens: 512\n",
    "\n",
    "\n",
    "\n",
    "[*Langchain*](https://python.langchain.com/api_reference/text_splitters/base/langchain_text_splitters.base.TextSplitter.html#textsplitter) contains many *text splitters*. Most of them uses string characters to split the data. Nevertheless, an *embedding model* uses *tokens* to delimit the amount of text to be embedded into a vector. To fix this, we can use a Langchain [*TokenTextSplitter*](https://python.langchain.com/api_reference/text_splitters/base/langchain_text_splitters.base.TokenTextSplitter.html) class.\n",
    "\n",
    "\n",
    "The *TokenTextSplitter* object splits the text into tokens using a model tokenizer. We can use a [*HuggingFace Tokenizer*](https://huggingface.co/docs/transformers/en/main_classes/tokenizer) as an imput parameter for the TokenTextSplitter. A *tokenizer* is in charge of preparing the inputs for a model, this is, convert the text into tokens, then the TokenTextSplitter split the tokens into the chunk_size (max tokens that an embedding model can handle), and then the tokenizer decode the tokens to convert them again into text. \n",
    "\n",
    "The [*HuggingFace Tokenizer*](https://huggingface.co/docs/transformers/en/main_classes/tokenizer) library contains tokenizers for all the embedding models."
   ]
  },
  {
   "cell_type": "code",
   "execution_count": 4,
   "id": "416c1bda",
   "metadata": {},
   "outputs": [
    {
     "name": "stderr",
     "output_type": "stream",
     "text": [
      "!!!!!!!!!!!!megablocks not available, using torch.matmul instead\n"
     ]
    }
   ],
   "source": [
    "model = SentenceTransformer(embeddings_config.EMBEDDING_MODEL, trust_remote_code=True)"
   ]
  },
  {
   "cell_type": "code",
   "execution_count": 5,
   "id": "0b256d62",
   "metadata": {},
   "outputs": [],
   "source": [
    "# Initialize an AutoTokenizer instance, this will tokenize the data based on \n",
    "# the embedding model used\n",
    "tokenizer = AutoTokenizer.from_pretrained(embeddings_config.EMBEDDING_MODEL)\n",
    "\n",
    "# Create a TokenTextSplitter instance, this will use the Tokenizer to\n",
    "# tokenize the text, split it based on the max tokens supported by the\n",
    "# embedding model, and then convert the tokens into text again, but now splitted.\n",
    "splitter = TokenTextSplitter.from_huggingface_tokenizer(\n",
    "    tokenizer,\n",
    "    chunk_size=model.max_seq_length,\n",
    "    chunk_overlap = embeddings_config.CHUNK_OVERLAP,\n",
    ")"
   ]
  },
  {
   "cell_type": "code",
   "execution_count": 9,
   "id": "a5a0ede2",
   "metadata": {},
   "outputs": [],
   "source": [
    "# Returns a list of strings, each entry of the list is a chunk\n",
    "chunks = splitter.split_text(text)"
   ]
  },
  {
   "cell_type": "code",
   "execution_count": 10,
   "id": "ba27b8ea",
   "metadata": {},
   "outputs": [
    {
     "data": {
      "text/plain": [
       "['\\nResumen Ejecutivo\\n\\n\\n3\\nI. Introducción\\nLa Reforma Energética es un paso decidido rumbo a la modernización del sector energético de \\nnuestro país, sin privatizar las empresas públicas dedicadas a la producción y al aprovechamien-\\nto de los hidrocarburos y de la electricidad. La Reforma Energética, tanto constitucional como a \\nnivel legistlación secundarias, surge del estudio y valoración de las distintas iniciativas presenta-\\ndas por los partidos políticos representados en el Congreso.\\nLa Reforma Energética tiene los siguientes objetivos y premisas fundamentales:\\n1.\\t\\nMantener la propiedad de la Nación sobre los hidrocarburos que se encuentran en el sub-\\nsuelo.\\n2.\\t\\nModernizar y fortalecer, sin privatizar, a Petróleos Mexicanos (Pemex) y a la Comisión Fe-\\nderal de Electricidad (CFE) como Empresas Productivas del Estado, 100% públicas y 100% \\nmexicanas.\\n3.\\t\\nReducir la exposición del país a los riesgos financieros, geológicos y ambientales en las ac-\\ntividades de exploración y extracción de petróleo y gas natural.\\n4.\\t\\nPermitir que la Nación ejerza, de manera exclusiva, la planeación y control del Sistema \\nEléctrico Nacional, en beneficio de un sistema competitivo que permita reducir los precios \\nde la energía eléctrica.\\n5.\\t\\nAtraer mayor inversión al sector energético mexicano para impulsar el desarrollo del país.\\n6.\\t\\nContar con un mayor abasto de energéticos a mejores precios.\\n',\n",
       " 'os a mejores precios.\\n7. \\t Garantizar estándares internacionales de eficiencia, calidad y confiabilidad de suministro \\nenergético, así como transparencia y rendición de cuentas en las distintas actividades de la \\nindustria energética.\\n8.\\t\\nCombatir de manera efectiva la corrupción en el sector energético.\\n9.\\t\\nFortalecer la administración de los ingresos petroleros e impulsar el ahorro de largo plazo en \\nbeneficio de las futuras generaciones.\\n10.\\t Impulsar el desarrollo, con responsabilidad social y ambiental.\\nEstos objetivos se verán traducidos en beneficios concretos para los mexicanos:\\n\\n']"
      ]
     },
     "execution_count": 10,
     "metadata": {},
     "output_type": "execute_result"
    }
   ],
   "source": [
    "chunks"
   ]
  },
  {
   "cell_type": "code",
   "execution_count": 11,
   "id": "8dead872",
   "metadata": {},
   "outputs": [
    {
     "name": "stdout",
     "output_type": "stream",
     "text": [
      "Number of chunks: 2 \n",
      "mean chunk size (in characters): 995.0000\n",
      "max chunk size (in characters): 1395\n"
     ]
    }
   ],
   "source": [
    "chunks_sizes = [len(chunk) for chunk in chunks]\n",
    "\n",
    "print(f\"Number of chunks: {len(chunks)} \\n\"\n",
    "      f\"mean chunk size (in characters): {np.mean(chunks_sizes):.4f}\\n\"\n",
    "      f\"max chunk size (in characters): {max(chunks_sizes)}\"\n",
    "      )"
   ]
  },
  {
   "cell_type": "markdown",
   "id": "8e246e4d",
   "metadata": {},
   "source": [
    "## Embedding"
   ]
  },
  {
   "cell_type": "markdown",
   "id": "5b111526",
   "metadata": {},
   "source": [
    "Now that the data is splitted based on the chunk size of each embedding model. We must notice that a vector DB is the place where we will store the chunks to create the semantic search, to do so, each chunk must be embedded into a vector using the embedding model that fits the chunking size.\n",
    "\n",
    "There are 3 key elements that define a vector in a vector DB:\n",
    "\n",
    "- ID\n",
    "- Dimensions\n",
    "- Payload\n",
    "\n",
    "The payload contains all the metadata and the text that was embedded in the vector DB. This is because once the text has been encoded, you cannot retrieve the original data from the vector. So it is necessary to store the text as metadata.\n",
    "\n",
    "In the next sections, we'll be adding metadata to the chunks created."
   ]
  },
  {
   "cell_type": "code",
   "execution_count": 19,
   "id": "845b6f67",
   "metadata": {},
   "outputs": [],
   "source": [
    "# Adding info such as title, and the date of chunking\n",
    "metadata = {\n",
    "    \"upload_date\": datetime.now().strftime(r\"%Y-%m-%d\"),\n",
    "    \"title\": \"Title of the text\",\n",
    "    \"storage_path\": \"path/where/the/text/was/stored.pdf\",\n",
    "    }"
   ]
  },
  {
   "cell_type": "markdown",
   "id": "35d94f28",
   "metadata": {},
   "source": [
    "Then, from the list of strings obtained (chunks), it will be created a more structured chunk, to comply with the necessary of each chunk to be indexed in any vector database"
   ]
  },
  {
   "cell_type": "code",
   "execution_count": 25,
   "id": "282d9f7d",
   "metadata": {},
   "outputs": [],
   "source": [
    "# Embedding the chunk text using batch embedding\n",
    "chunks_embedded = model.encode(chunks)\n",
    "\n",
    "# Create a list of dictionaries, which each dictionary is a chunk with all the necessary to be\n",
    "# indexed into a vector DB\n",
    "final_chunks = [\n",
    "    {\n",
    "        \"id\": str(uuid.uuid4()),\n",
    "        \"vector\": chunks_embedded[i],\n",
    "        \"payload\": {\n",
    "            \"text\": chunk_text,\n",
    "            \"metadata\": metadata,\n",
    "        },\n",
    "    }\n",
    "    for i, chunk_text in enumerate(chunks)\n",
    "]"
   ]
  },
  {
   "cell_type": "code",
   "execution_count": 26,
   "id": "613a6136",
   "metadata": {},
   "outputs": [
    {
     "data": {
      "text/plain": [
       "{'id': '68db496b-c6ba-4142-b349-0e98a39aba10',\n",
       " 'vector': array([-0.0463006 , -0.02605172, -0.05845752, -0.00452781,  0.02841991,\n",
       "        -0.00048111, -0.00669492, -0.01073839, -0.04251841,  0.05817271,\n",
       "        -0.0112    , -0.0070822 , -0.04240644, -0.00893396, -0.00103696,\n",
       "         0.05194683,  0.0428669 , -0.08145204, -0.03373823,  0.01772164,\n",
       "         0.00656532,  0.01129695,  0.00243152, -0.05333932,  0.00192475,\n",
       "        -0.05817797, -0.064895  ,  0.00815712,  0.02508458, -0.00609556,\n",
       "        -0.00759712, -0.04305067,  0.00135269,  0.03287392, -0.00298151,\n",
       "         0.01591194,  0.04459121,  0.02645163, -0.00477658,  0.04339189,\n",
       "         0.02948121, -0.0428456 ,  0.02268298, -0.03799823, -0.03792908,\n",
       "         0.00976907,  0.00033429,  0.04159464,  0.03556496,  0.00390328,\n",
       "         0.03510838,  0.01047253, -0.00072827, -0.0170353 , -0.00954884,\n",
       "         0.02052629, -0.03044282,  0.03399795,  0.03661748,  0.01052659,\n",
       "         0.00509544, -0.02198467,  0.0137178 , -0.02834373, -0.0123657 ,\n",
       "         0.02975605,  0.04297417,  0.0062061 , -0.05365542, -0.03547215,\n",
       "        -0.06256999, -0.02452243,  0.02413989,  0.00087781,  0.00989699,\n",
       "        -0.01994672, -0.00866619,  0.06557404,  0.00658948, -0.05337381,\n",
       "        -0.00215576,  0.05305105, -0.06246825, -0.02046578, -0.03581912,\n",
       "        -0.00845638,  0.00517866,  0.00437347, -0.06862152, -0.00372482,\n",
       "         0.018956  , -0.0047551 ,  0.04134459, -0.03461771, -0.00654862,\n",
       "        -0.03492587,  0.00856857, -0.04049678,  0.07235615, -0.02946982,\n",
       "        -0.02082991,  0.05647784, -0.04571949,  0.02285521, -0.02715012,\n",
       "        -0.02139719, -0.04014871, -0.01288291,  0.02472663, -0.01607546,\n",
       "        -0.10476828,  0.07210683, -0.0133794 ,  0.02015139,  0.01115461,\n",
       "        -0.03439812, -0.04118505, -0.0244312 ,  0.02871202,  0.01236895,\n",
       "         0.03371187,  0.02874393, -0.0434658 , -0.01347834, -0.02155121,\n",
       "         0.01519036, -0.01973947, -0.07039291,  0.01950343, -0.04526269,\n",
       "        -0.01229907, -0.06894504,  0.03969217, -0.05669079,  0.00790317,\n",
       "         0.03470299,  0.05850065,  0.01325576, -0.00777552, -0.03338427,\n",
       "         0.00610208,  0.02635409, -0.0331468 , -0.05059341, -0.01421028,\n",
       "        -0.04843809,  0.01213857,  0.01674727,  0.02590402, -0.03350073,\n",
       "        -0.04483335,  0.01255522, -0.1040175 , -0.00458045, -0.02190738,\n",
       "        -0.05268467, -0.01295818,  0.01929553, -0.00815267,  0.00522013,\n",
       "         0.02221752, -0.02952768,  0.05022163,  0.03378936,  0.00894447,\n",
       "         0.0058388 , -0.05147798, -0.02780979, -0.03419085, -0.05802517,\n",
       "         0.03582717, -0.03490353, -0.01724698, -0.01606437,  0.02114284,\n",
       "         0.06772407,  0.05171589,  0.08867765,  0.10247584, -0.02147516,\n",
       "        -0.05732203,  0.02749869, -0.02306086,  0.04512091,  0.03011862,\n",
       "        -0.03069712, -0.03225813, -0.05652843, -0.04082482, -0.04072842,\n",
       "         0.03649806,  0.04961843, -0.05124973, -0.022882  , -0.00606179,\n",
       "         0.02340775, -0.06597465,  0.03153019, -0.03780182, -0.00319306,\n",
       "        -0.01055375, -0.02891098,  0.01867842, -0.04939918,  0.11496145,\n",
       "         0.07802102, -0.05140779,  0.02585462, -0.0354844 , -0.02503764,\n",
       "         0.08377771,  0.0754482 ,  0.01080193,  0.03167992,  0.06558105,\n",
       "        -0.04212441, -0.00617051, -0.05742624, -0.00349829,  0.00504891,\n",
       "        -0.04489424, -0.0020727 , -0.01309853,  0.01376387, -0.04472661,\n",
       "         0.00164506, -0.02699967,  0.0971054 ,  0.0247673 , -0.01050053,\n",
       "        -0.0362701 ,  0.02455312,  0.02173778, -0.03405611,  0.05711211,\n",
       "        -0.01338804, -0.0136551 ,  0.02272465, -0.03158458,  0.02739037,\n",
       "        -0.03354104, -0.01266774, -0.04801546, -0.00979093, -0.04035378,\n",
       "        -0.02543034, -0.06935728, -0.00755225, -0.03797741, -0.00264362,\n",
       "        -0.05463199,  0.02608995,  0.02364083,  0.0790401 ,  0.01240219,\n",
       "         0.01234483, -0.00480016,  0.0168575 , -0.01369973, -0.08276126,\n",
       "         0.01459558,  0.03378411,  0.03832221, -0.01100703, -0.00343414,\n",
       "        -0.04469945, -0.02869657, -0.05565308,  0.00617009,  0.01084857,\n",
       "        -0.03535594,  0.06960317,  0.03663934,  0.00323827,  0.04042781,\n",
       "         0.01770219,  0.00614277,  0.0348304 , -0.03450429, -0.07166807,\n",
       "        -0.09081135, -0.03682585, -0.01942241, -0.01729858, -0.01567393,\n",
       "         0.01441816,  0.02038579, -0.0377195 , -0.0162164 , -0.05614204,\n",
       "        -0.04262086,  0.02442963, -0.02181678, -0.00698129,  0.02314871,\n",
       "         0.04062851, -0.01482685,  0.09558984,  0.00507531, -0.01925853,\n",
       "        -0.02037756, -0.03319477,  0.03143596, -0.0292916 ,  0.02859572,\n",
       "         0.02014722, -0.00214363,  0.01019826, -0.00825972,  0.01000696,\n",
       "         0.00702251, -0.00570531,  0.03946973,  0.01396774, -0.0140016 ,\n",
       "        -0.03640895,  0.00974501,  0.04121046,  0.00966486,  0.03078987,\n",
       "         0.00615257,  0.02265877, -0.07471343,  0.02385944, -0.00141668,\n",
       "         0.02874896,  0.05039894,  0.06667561,  0.01779811, -0.01083482,\n",
       "        -0.04295732,  0.06479978, -0.02868145, -0.03567825,  0.0075109 ,\n",
       "         0.03375344, -0.03255005, -0.03455327,  0.0172062 , -0.05213792,\n",
       "        -0.02159523, -0.02318469, -0.00348501,  0.01454886,  0.01878693,\n",
       "        -0.00724832,  0.02525615,  0.0038815 ,  0.07027095,  0.00113919,\n",
       "         0.00367769,  0.00241193, -0.009666  , -0.06431354, -0.10459226,\n",
       "         0.015349  , -0.00059449,  0.02020547, -0.01583499, -0.04862944,\n",
       "        -0.02092837, -0.03887108,  0.06476198,  0.01185704, -0.04367881,\n",
       "         0.08654258,  0.03267035, -0.01636061, -0.00375576, -0.03091098,\n",
       "         0.01300007, -0.02010905, -0.00315126, -0.07307585,  0.00202361,\n",
       "        -0.02318746,  0.0307091 ,  0.03117245,  0.02420329,  0.0098713 ,\n",
       "         0.00156907,  0.03411449, -0.00386651, -0.01527038,  0.04221717,\n",
       "        -0.01305371, -0.07490525, -0.04495911, -0.02841926,  0.01561005,\n",
       "        -0.04367729, -0.03793027,  0.0011935 , -0.03205152, -0.02306127,\n",
       "         0.00594361,  0.0748545 , -0.01446272,  0.05214571,  0.00098633,\n",
       "        -0.01906339,  0.01072222,  0.03157058,  0.04207886,  0.04068156,\n",
       "        -0.00957265, -0.04404011, -0.01479953, -0.0070901 ,  0.02823466,\n",
       "        -0.02147879, -0.03278319, -0.0192591 , -0.00240282,  0.01184121,\n",
       "        -0.03115334, -0.02172777,  0.00135158,  0.02389064, -0.02997167,\n",
       "         0.07267226,  0.02418875, -0.00325802, -0.01169979,  0.06690876,\n",
       "        -0.01080418,  0.06246635,  0.04377019,  0.00497973, -0.05554313,\n",
       "        -0.00081498,  0.02925748,  0.02123809,  0.04047503,  0.00080112,\n",
       "         0.00410417,  0.0025902 , -0.03963654, -0.03306801,  0.03534867,\n",
       "         0.03095701, -0.00270587, -0.03396465, -0.03785109,  0.05251841,\n",
       "         0.05896189,  0.00793713,  0.0673241 ,  0.01916553,  0.02170544,\n",
       "         0.04398246,  0.02580654, -0.02159626,  0.00730445, -0.00880069,\n",
       "         0.03012383,  0.06131435,  0.00757559,  0.06589464, -0.013398  ,\n",
       "         0.05072452, -0.02710557, -0.01534303,  0.01842047, -0.01276441,\n",
       "        -0.01080614,  0.02758618, -0.01973127, -0.00847268,  0.04510261,\n",
       "         0.0129036 ,  0.02208576, -0.02481899,  0.01201245,  0.02269714,\n",
       "        -0.01432156, -0.00203955,  0.02106441, -0.03309019,  0.00383186,\n",
       "         0.00119935,  0.01828941,  0.01691992, -0.01081565,  0.04127397,\n",
       "        -0.154412  ,  0.06509607, -0.01889929, -0.03254642, -0.007428  ,\n",
       "         0.02013169, -0.01185734,  0.03988612,  0.00453977, -0.01004228,\n",
       "         0.01216664, -0.03483549, -0.02277643,  0.0063288 ,  0.0022187 ,\n",
       "         0.00934839,  0.02332769, -0.00489834,  0.00606135, -0.01334739,\n",
       "         0.06323379, -0.00668512, -0.01688946,  0.0145864 , -0.01560381,\n",
       "        -0.03092071,  0.01218268,  0.05272729,  0.00679819,  0.0595739 ,\n",
       "         0.03085386, -0.02786275, -0.06890269, -0.02210763, -0.01047361,\n",
       "        -0.04873731, -0.02303299, -0.02628558, -0.04023471, -0.00401674,\n",
       "         0.0114108 ,  0.00615671, -0.01047502, -0.00062467, -0.06556742,\n",
       "        -0.00348657,  0.00977984, -0.03044497, -0.05326696,  0.05931676,\n",
       "         0.00561184, -0.01850875, -0.01061635,  0.03918941, -0.04263914,\n",
       "         0.03760304,  0.04974934,  0.04327551, -0.02869071, -0.00060869,\n",
       "        -0.00401549, -0.03446431,  0.01143798,  0.00138458, -0.03477235,\n",
       "        -0.04010834, -0.05022342,  0.04358291,  0.0064526 ,  0.01970395,\n",
       "         0.00038197,  0.03367887,  0.04610708, -0.05893564,  0.01285634,\n",
       "         0.0071888 , -0.0324301 , -0.03413232, -0.01161157,  0.02366525,\n",
       "         0.00281426, -0.0396081 ,  0.02652268,  0.04359931,  0.00340215,\n",
       "        -0.00743511,  0.02375751,  0.0247352 ,  0.00205909,  0.01781267,\n",
       "         0.00352055,  0.01477135,  0.00076357, -0.08337664, -0.06446084,\n",
       "        -0.0054839 , -0.01079323, -0.01399921,  0.02084182, -0.04355649,\n",
       "        -0.02370409,  0.05471293,  0.03505359, -0.02185926, -0.03162296,\n",
       "         0.03095317,  0.00439768,  0.03533902, -0.01292742,  0.00553137,\n",
       "         0.01591868, -0.0897437 , -0.06101996, -0.03145426,  0.07119134,\n",
       "         0.01335161, -0.00716017,  0.03886196,  0.00352307,  0.01491717,\n",
       "         0.03003875, -0.01774952,  0.00351239, -0.00865151,  0.03939246,\n",
       "        -0.00388649, -0.04597482,  0.04159562,  0.03747527,  0.0165406 ,\n",
       "         0.00202122, -0.04091013, -0.01016326,  0.04752966,  0.00131442,\n",
       "         0.05242276,  0.00556029,  0.01279359, -0.03914347,  0.0454935 ,\n",
       "        -0.0021483 , -0.00449541,  0.01483217, -0.01361871, -0.06863225,\n",
       "        -0.00381138, -0.00435662,  0.01490209,  0.01505474, -0.01950416,\n",
       "         0.03148066,  0.04096105, -0.00378481,  0.02378017, -0.01965304,\n",
       "        -0.01698111, -0.00219182,  0.02285524, -0.02102253, -0.02717002,\n",
       "         0.04241104, -0.00145649,  0.09399012, -0.00701611,  0.00045588,\n",
       "        -0.0199762 ,  0.01433051, -0.12104328,  0.03749158,  0.031277  ,\n",
       "         0.02857411, -0.01980925,  0.01877211,  0.03409696,  0.01619397,\n",
       "         0.02467652, -0.01794817,  0.02484617,  0.0478386 ,  0.03408561,\n",
       "         0.01303269,  0.0275109 , -0.00802303,  0.01546229, -0.05475702,\n",
       "        -0.02064472,  0.00328276,  0.0276321 ,  0.01791227, -0.00849518,\n",
       "        -0.02816827, -0.01431296, -0.02585978,  0.01882609, -0.02181954,\n",
       "         0.02402756, -0.06633313, -0.00542895,  0.02822864, -0.03089545,\n",
       "        -0.04545483,  0.00893208,  0.04394193, -0.00123922, -0.05415138,\n",
       "         0.07072268,  0.04846867,  0.00953607,  0.00991115, -0.03212373,\n",
       "        -0.05161015, -0.03487947, -0.0407992 , -0.01036991, -0.0041728 ,\n",
       "        -0.02258002,  0.02561932,  0.0300005 , -0.01428021, -0.0491042 ,\n",
       "         0.02471045,  0.00674086,  0.03320616, -0.00282795,  0.0611388 ,\n",
       "         0.02326881, -0.01633873,  0.06639394,  0.02827398,  0.02987864,\n",
       "        -0.06820386,  0.00416499, -0.0350229 , -0.06214232, -0.01122382,\n",
       "         0.01263896, -0.00125004, -0.00976938, -0.06557864,  0.07345905,\n",
       "         0.019577  ,  0.02411353, -0.0725869 ,  0.02030437,  0.08085338,\n",
       "         0.01435693,  0.01658751,  0.08514266, -0.02343852, -0.02426477,\n",
       "        -0.02508467, -0.04960509,  0.04687628,  0.0384596 , -0.02782116,\n",
       "         0.00034889,  0.07645468, -0.00549116,  0.00909595,  0.07495316,\n",
       "        -0.0473134 ,  0.02611417,  0.02032636, -0.03146919, -0.02916758,\n",
       "        -0.01890525,  0.04016369,  0.02797928, -0.10033264, -0.07027374,\n",
       "        -0.02827539,  0.01208653, -0.02629147, -0.0020177 , -0.05838012,\n",
       "         0.04938329,  0.00018299,  0.05003124,  0.02846249, -0.00861133,\n",
       "         0.05042708,  0.03704386,  0.04510624], dtype=float32),\n",
       " 'payload': {'text': '\\nResumen Ejecutivo\\n\\n\\n3\\nI. Introducción\\nLa Reforma Energética es un paso decidido rumbo a la modernización del sector energético de \\nnuestro país, sin privatizar las empresas públicas dedicadas a la producción y al aprovechamien-\\nto de los hidrocarburos y de la electricidad. La Reforma Energética, tanto constitucional como a \\nnivel legistlación secundarias, surge del estudio y valoración de las distintas iniciativas presenta-\\ndas por los partidos políticos representados en el Congreso.\\nLa Reforma Energética tiene los siguientes objetivos y premisas fundamentales:\\n1.\\t\\nMantener la propiedad de la Nación sobre los hidrocarburos que se encuentran en el sub-\\nsuelo.\\n2.\\t\\nModernizar y fortalecer, sin privatizar, a Petróleos Mexicanos (Pemex) y a la Comisión Fe-\\nderal de Electricidad (CFE) como Empresas Productivas del Estado, 100% públicas y 100% \\nmexicanas.\\n3.\\t\\nReducir la exposición del país a los riesgos financieros, geológicos y ambientales en las ac-\\ntividades de exploración y extracción de petróleo y gas natural.\\n4.\\t\\nPermitir que la Nación ejerza, de manera exclusiva, la planeación y control del Sistema \\nEléctrico Nacional, en beneficio de un sistema competitivo que permita reducir los precios \\nde la energía eléctrica.\\n5.\\t\\nAtraer mayor inversión al sector energético mexicano para impulsar el desarrollo del país.\\n6.\\t\\nContar con un mayor abasto de energéticos a mejores precios.\\n',\n",
       "  'metadata': {'upload_date': '2025-04-09',\n",
       "   'title': 'Title of the text',\n",
       "   'storage_path': 'path/where/the/text/was/stored.pdf'}}}"
      ]
     },
     "execution_count": 26,
     "metadata": {},
     "output_type": "execute_result"
    }
   ],
   "source": [
    "final_chunks[0]"
   ]
  },
  {
   "cell_type": "markdown",
   "id": "0eb56eef",
   "metadata": {},
   "source": [
    "At this time, this service would return a json which one of its entries is the list of chunks created"
   ]
  }
 ],
 "metadata": {
  "kernelspec": {
   "display_name": ".venv",
   "language": "python",
   "name": "python3"
  },
  "language_info": {
   "codemirror_mode": {
    "name": "ipython",
    "version": 3
   },
   "file_extension": ".py",
   "mimetype": "text/x-python",
   "name": "python",
   "nbconvert_exporter": "python",
   "pygments_lexer": "ipython3",
   "version": "3.11.10"
  }
 },
 "nbformat": 4,
 "nbformat_minor": 5
}
