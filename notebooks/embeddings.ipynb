{
 "cells": [
  {
   "cell_type": "markdown",
   "id": "ce0de037",
   "metadata": {},
   "source": [
    "# Embedding Service\n",
    "\n",
    "In this notebook will be tested the functionality of the embedding service.\n",
    "\n",
    "This service must do two main steps:\n",
    "\n",
    "- chunk a raw text\n",
    "- embed the chunked text into vectors\n",
    "\n",
    "To do so, both services requires of an [*embedding model*](https://huggingface.co/blog/getting-started-with-embeddings):\n",
    "\n",
    "- chunking: Uses the embedding model to generate tokens, this is due to tokenization can has multiple approaches.\n",
    "- embedding: Uses the embedding model to create the vectors that will represent the data of each chunk generated."
   ]
  },
  {
   "cell_type": "code",
   "execution_count": 24,
   "id": "4cc39521",
   "metadata": {},
   "outputs": [],
   "source": [
    "from langchain_text_splitters import TokenTextSplitter\n",
    "from transformers import AutoTokenizer\n",
    "from sentence_transformers import SentenceTransformer\n",
    "import numpy as np\n",
    "import uuid\n",
    "from datetime import datetime\n",
    "import requests\n",
    "\n",
    "import sys\n",
    "\n",
    "sys.path.append(\"..\")\n",
    "\n",
    "from rag_llm_energy_expert.services.embeddings.config import EmbeddingsConfig"
   ]
  },
  {
   "cell_type": "code",
   "execution_count": 25,
   "id": "57cd1f9e",
   "metadata": {},
   "outputs": [],
   "source": [
    "embeddings_config = EmbeddingsConfig()"
   ]
  },
  {
   "cell_type": "markdown",
   "id": "c0a810ea",
   "metadata": {},
   "source": [
    "The following text will be used:"
   ]
  },
  {
   "cell_type": "code",
   "execution_count": 26,
   "id": "70ede0a3",
   "metadata": {},
   "outputs": [
    {
     "name": "stdout",
     "output_type": "stream",
     "text": [
      "\n",
      "Resumen Ejecutivo\n",
      "\n",
      "\n",
      "3\n",
      "I. Introducción\n",
      "La Reforma Energética es un paso decidido rumbo a la modernización del sector energético de \n",
      "nuestro país, sin privatizar las empresas públicas dedicadas a la producción y al aprovechamien-\n",
      "to de los hidrocarburos y de la electricidad. La Reforma Energética, tanto constitucional como a \n",
      "nivel legistlación secundarias, surge del estudio y valoración de las distintas iniciativas presenta-\n",
      "das por los partidos políticos representados en el Congreso.\n",
      "La Reforma Energética tiene los siguientes objetivos y premisas fundamentales:\n",
      "1.\t\n",
      "Mantener la propiedad de la Nación sobre los hidrocarburos que se encuentran en el sub-\n",
      "suelo.\n",
      "2.\t\n",
      "Modernizar y fortalecer, sin privatizar, a Petróleos Mexicanos (Pemex) y a la Comisión Fe-\n",
      "deral de Electricidad (CFE) como Empresas Productivas del Estado, 100% públicas y 100% \n",
      "mexicanas.\n",
      "3.\t\n",
      "Reducir la exposición del país a los riesgos financieros, geológicos y ambientales en las ac-\n",
      "tividades de exploración y extracción de petróleo y gas natural.\n",
      "4.\t\n",
      "Permitir que la Nación ejerza, de manera exclusiva, la planeación y control del Sistema \n",
      "Eléctrico Nacional, en beneficio de un sistema competitivo que permita reducir los precios \n",
      "de la energía eléctrica.\n",
      "5.\t\n",
      "Atraer mayor inversión al sector energético mexicano para impulsar el desarrollo del país.\n",
      "6.\t\n",
      "Contar con un mayor abasto de energéticos a mejores precios.\n",
      "7. \t Garantizar estándares internacionales de eficiencia, calidad y confiabilidad de suministro \n",
      "energético, así como transparencia y rendición de cuentas en las distintas actividades de la \n",
      "industria energética.\n",
      "8.\t\n",
      "Combatir de manera efectiva la corrupción en el sector energético.\n",
      "9.\t\n",
      "Fortalecer la administración de los ingresos petroleros e impulsar el ahorro de largo plazo en \n",
      "beneficio de las futuras generaciones.\n",
      "10.\t Impulsar el desarrollo, con responsabilidad social y ambiental.\n",
      "Estos objetivos se verán traducidos en beneficios concretos para los mexicanos:\n",
      "\n",
      "\n"
     ]
    }
   ],
   "source": [
    "text = \"\"\"\n",
    "Resumen Ejecutivo\\n\\n\\n3\\nI. Introducción\\nLa Reforma Energética es un paso decidido rumbo a la modernización del sector energético de \\nnuestro país, sin privatizar las empresas públicas dedicadas a la producción y al aprovechamien-\\nto de los hidrocarburos y de la electricidad. La Reforma Energética, tanto constitucional como a \\nnivel legistlación secundarias, surge del estudio y valoración de las distintas iniciativas presenta-\\ndas por los partidos políticos representados en el Congreso.\\nLa Reforma Energética tiene los siguientes objetivos y premisas fundamentales:\\n1.\\t\\nMantener la propiedad de la Nación sobre los hidrocarburos que se encuentran en el sub-\\nsuelo.\\n2.\\t\\nModernizar y fortalecer, sin privatizar, a Petróleos Mexicanos (Pemex) y a la Comisión Fe-\\nderal de Electricidad (CFE) como Empresas Productivas del Estado, 100% públicas y 100% \\nmexicanas.\\n3.\\t\\nReducir la exposición del país a los riesgos financieros, geológicos y ambientales en las ac-\\ntividades de exploración y extracción de petróleo y gas natural.\\n4.\\t\\nPermitir que la Nación ejerza, de manera exclusiva, la planeación y control del Sistema \\nEléctrico Nacional, en beneficio de un sistema competitivo que permita reducir los precios \\nde la energía eléctrica.\\n5.\\t\\nAtraer mayor inversión al sector energético mexicano para impulsar el desarrollo del país.\\n6.\\t\\nContar con un mayor abasto de energéticos a mejores precios.\\n7. \\t Garantizar estándares internacionales de eficiencia, calidad y confiabilidad de suministro \\nenergético, así como transparencia y rendición de cuentas en las distintas actividades de la \\nindustria energética.\\n8.\\t\\nCombatir de manera efectiva la corrupción en el sector energético.\\n9.\\t\\nFortalecer la administración de los ingresos petroleros e impulsar el ahorro de largo plazo en \\nbeneficio de las futuras generaciones.\\n10.\\t Impulsar el desarrollo, con responsabilidad social y ambiental.\\nEstos objetivos se verán traducidos en beneficios concretos para los mexicanos:\\n\n",
    "\"\"\"\n",
    "\n",
    "print(text)"
   ]
  },
  {
   "cell_type": "markdown",
   "id": "60b315de",
   "metadata": {},
   "source": [
    "## Chunking"
   ]
  },
  {
   "cell_type": "markdown",
   "id": "6a64f32e",
   "metadata": {},
   "source": [
    "**Chunking depends of how many tokens an embedding model supports**\n",
    "\n",
    "There's a [HuggingFace dashboard](https://huggingface.co/spaces/mteb/leaderboard) that compares the performance of different embedding models. Some metrics to focus on are:\n",
    "\n",
    "- Number of Parameters: \n",
    "\n",
    "    A higher value means the model requires more CPU/GPU memory to run\n",
    "\n",
    "- Embedding Dimension:\n",
    "\n",
    "    The dimension of the vectors produced\n",
    "\n",
    "- Max tokens:\n",
    "\n",
    "    How many tokens the model can process, the higher the better.\n",
    "\n",
    "\n",
    "For this time, we'll be using the [*nomic-ai/nomic-embed-text-v2-moe*](https://huggingface.co/nomic-ai/nomic-embed-text-v2-moe) model:\n",
    "\n",
    "- Number of Parameters: 475M\n",
    "- Embedding Dimension: 768\n",
    "- Max tokens: 512\n",
    "\n",
    "\n",
    "\n",
    "[*Langchain*](https://python.langchain.com/api_reference/text_splitters/base/langchain_text_splitters.base.TextSplitter.html#textsplitter) contains many *text splitters*. Most of them uses string characters to split the data. Nevertheless, an *embedding model* uses *tokens* to delimit the amount of text to be embedded into a vector. To fix this, we can use a Langchain [*TokenTextSplitter*](https://python.langchain.com/api_reference/text_splitters/base/langchain_text_splitters.base.TokenTextSplitter.html) class.\n",
    "\n",
    "\n",
    "The *TokenTextSplitter* object splits the text into tokens using a model tokenizer. We can use a [*HuggingFace Tokenizer*](https://huggingface.co/docs/transformers/en/main_classes/tokenizer) as an imput parameter for the TokenTextSplitter. A *tokenizer* is in charge of preparing the inputs for a model, this is, convert the text into tokens, then the TokenTextSplitter split the tokens into the chunk_size (max tokens that an embedding model can handle), and then the tokenizer decode the tokens to convert them again into text. \n",
    "\n",
    "The [*HuggingFace Tokenizer*](https://huggingface.co/docs/transformers/en/main_classes/tokenizer) library contains tokenizers for all the embedding models."
   ]
  },
  {
   "cell_type": "code",
   "execution_count": 27,
   "id": "416c1bda",
   "metadata": {},
   "outputs": [],
   "source": [
    "model = SentenceTransformer(embeddings_config.EMBEDDING_MODEL, trust_remote_code=True)"
   ]
  },
  {
   "cell_type": "code",
   "execution_count": 28,
   "id": "0b256d62",
   "metadata": {},
   "outputs": [],
   "source": [
    "# Initialize an AutoTokenizer instance, this will tokenize the data based on \n",
    "# the embedding model used\n",
    "tokenizer = AutoTokenizer.from_pretrained(embeddings_config.EMBEDDING_MODEL)\n",
    "\n",
    "# Create a TokenTextSplitter instance, this will use the Tokenizer to\n",
    "# tokenize the text, split it based on the max tokens supported by the\n",
    "# embedding model, and then convert the tokens into text again, but now splitted.\n",
    "splitter = TokenTextSplitter.from_huggingface_tokenizer(\n",
    "    tokenizer,\n",
    "    chunk_size=model.max_seq_length,\n",
    "    chunk_overlap = embeddings_config.CHUNK_OVERLAP,\n",
    ")"
   ]
  },
  {
   "cell_type": "code",
   "execution_count": 29,
   "id": "a5a0ede2",
   "metadata": {},
   "outputs": [],
   "source": [
    "# Returns a list of strings, each entry of the list is a chunk\n",
    "chunks = splitter.split_text(text)"
   ]
  },
  {
   "cell_type": "code",
   "execution_count": 30,
   "id": "ba27b8ea",
   "metadata": {},
   "outputs": [
    {
     "data": {
      "text/plain": [
       "['\\nResumen Ejecutivo\\n\\n\\n3\\nI. Introducción\\nLa Reforma Energética es un paso decidido rumbo a la modernización del sector energético de \\nnuestro país, sin privatizar las empresas públicas dedicadas a la producción y al aprovechamien-\\nto de los hidrocarburos y de la electricidad. La Reforma Energética, tanto constitucional como a \\nnivel legistlación secundarias, surge del estudio y valoración de las distintas iniciativas presenta-\\ndas por los partidos políticos representados en el Congreso.\\nLa Reforma Energética tiene los siguientes objetivos y premisas fundamentales:\\n1.\\t\\nMantener la propiedad de la Nación sobre los hidrocarburos que se encuentran en el sub-\\nsuelo.\\n2.\\t\\nModernizar y fortalecer, sin privatizar, a Petr',\n",
       " 'ecer, sin privatizar, a Petróleos Mexicanos (Pemex) y a la Comisión Fe-\\nderal de Electricidad (CFE) como Empresas Productivas del Estado, 100% públicas y 100% \\nmexicanas.\\n3.\\t\\nReducir la exposición del país a los riesgos financieros, geológicos y ambientales en las ac-\\ntividades de exploración y extracción de petróleo y gas natural.\\n4.\\t\\nPermitir que la Nación ejerza, de manera exclusiva, la planeación y control del Sistema \\nEléctrico Nacional, en beneficio de un sistema competitivo que permita reducir los precios \\nde la energía eléctrica.\\n5.\\t\\nAtraer mayor inversión al sector energético mexicano para impulsar el desarrollo del país.\\n6.\\t\\nContar con un mayor abasto de energétic',\n",
       " ' con un mayor abasto de energéticos a mejores precios.\\n7. \\t Garantizar estándares internacionales de eficiencia, calidad y confiabilidad de suministro \\nenergético, así como transparencia y rendición de cuentas en las distintas actividades de la \\nindustria energética.\\n8.\\t\\nCombatir de manera efectiva la corrupción en el sector energético.\\n9.\\t\\nFortalecer la administración de los ingresos petroleros e impulsar el ahorro de largo plazo en \\nbeneficio de las futuras generaciones.\\n10.\\t Impulsar el desarrollo, con responsabilidad social y ambiental.\\nEstos objetivos se verán traducidos en beneficios concretos para los mexicanos:\\n\\n']"
      ]
     },
     "execution_count": 30,
     "metadata": {},
     "output_type": "execute_result"
    }
   ],
   "source": [
    "chunks"
   ]
  },
  {
   "cell_type": "code",
   "execution_count": 31,
   "id": "8dead872",
   "metadata": {},
   "outputs": [
    {
     "name": "stdout",
     "output_type": "stream",
     "text": [
      "Number of chunks: 3 \n",
      "mean chunk size (in characters): 676.3333\n",
      "max chunk size (in characters): 719\n"
     ]
    }
   ],
   "source": [
    "chunks_sizes = [len(chunk) for chunk in chunks]\n",
    "\n",
    "print(f\"Number of chunks: {len(chunks)} \\n\"\n",
    "      f\"mean chunk size (in characters): {np.mean(chunks_sizes):.4f}\\n\"\n",
    "      f\"max chunk size (in characters): {max(chunks_sizes)}\"\n",
    "      )"
   ]
  },
  {
   "cell_type": "markdown",
   "id": "8e246e4d",
   "metadata": {},
   "source": [
    "## Embedding"
   ]
  },
  {
   "cell_type": "markdown",
   "id": "5b111526",
   "metadata": {},
   "source": [
    "Now that the data is splitted based on the chunk size of each embedding model. We must notice that a vector DB is the place where we will store the chunks to create the semantic search, to do so, each chunk must be embedded into a vector using the embedding model that fits the chunking size.\n",
    "\n",
    "There are 3 key elements that define a vector in a vector DB:\n",
    "\n",
    "- ID\n",
    "- Dimensions\n",
    "- Payload\n",
    "\n",
    "The payload contains all the metadata and the text that was embedded in the vector DB. This is because once the text has been encoded, you cannot retrieve the original data from the vector. So it is necessary to store the text as metadata.\n",
    "\n",
    "In the next sections, we'll be adding metadata to the chunks created."
   ]
  },
  {
   "cell_type": "code",
   "execution_count": 32,
   "id": "845b6f67",
   "metadata": {},
   "outputs": [],
   "source": [
    "# Adding info such as title, and the date of chunking\n",
    "metadata = {\n",
    "    \"upload_date\": datetime.now().strftime(r\"%Y-%m-%d\"),\n",
    "    \"title\": \"Title of the text\",\n",
    "    \"storage_path\": \"path/where/the/text/was/stored.pdf\",\n",
    "    }"
   ]
  },
  {
   "cell_type": "markdown",
   "id": "35d94f28",
   "metadata": {},
   "source": [
    "Then, from the list of strings obtained (chunks), it will be created a more structured chunk, to comply with the necessary of each chunk to be indexed in any vector database"
   ]
  },
  {
   "cell_type": "code",
   "execution_count": 33,
   "id": "282d9f7d",
   "metadata": {},
   "outputs": [],
   "source": [
    "# Embedding the chunk text using batch embedding\n",
    "chunks_embedded = model.encode(chunks)\n",
    "\n",
    "# Create a list of dictionaries, which each dictionary is a chunk with all the necessary to be\n",
    "# indexed into a vector DB\n",
    "final_chunks = [\n",
    "    {\n",
    "        \"id\": str(uuid.uuid4()),\n",
    "        \"vector\": chunks_embedded[i],\n",
    "        \"payload\": {\n",
    "            \"text\": chunk_text,\n",
    "            \"metadata\": metadata,\n",
    "        },\n",
    "    }\n",
    "    for i, chunk_text in enumerate(chunks)\n",
    "]"
   ]
  },
  {
   "cell_type": "code",
   "execution_count": 34,
   "id": "613a6136",
   "metadata": {},
   "outputs": [
    {
     "data": {
      "text/plain": [
       "{'id': 'c8390ec1-1c7a-4893-8763-8ad1200cde7b',\n",
       " 'vector': array([ 2.59235669e-02,  2.15934832e-02, -5.43275476e-02, -1.02517745e-02,\n",
       "         8.65479888e-05,  1.96502870e-03, -5.38319582e-03, -2.79700123e-02,\n",
       "        -5.68942577e-02,  3.46788019e-02,  2.07133107e-02,  2.04562545e-02,\n",
       "        -4.09352779e-02, -4.51724641e-02,  8.72723088e-02, -5.99049171e-03,\n",
       "        -2.09121685e-02,  1.56430770e-02, -3.40188369e-02,  3.68277319e-02,\n",
       "         7.70786032e-02, -5.30065261e-02,  4.77712089e-03,  3.70628908e-02,\n",
       "         2.19494272e-02,  2.65949755e-03, -2.78133228e-02,  4.56800498e-02,\n",
       "        -6.83012977e-02, -5.53951897e-02,  1.25349052e-02,  1.50524303e-02,\n",
       "         7.73917735e-02, -1.00018512e-02,  4.73577380e-02,  7.45450631e-02,\n",
       "         7.29841879e-04,  4.21403721e-02, -3.87443928e-03,  1.14909917e-01,\n",
       "        -8.28416422e-02, -7.46538490e-02, -5.30142672e-02, -1.15530670e-01,\n",
       "        -9.75029245e-02, -2.46479874e-03,  1.87393054e-02, -2.57697348e-02,\n",
       "        -5.63675212e-03, -9.68827531e-02, -1.13913063e-02, -1.51266018e-02,\n",
       "        -2.61832420e-02,  8.50478653e-03,  2.76269782e-02, -8.78347233e-02,\n",
       "         1.57964341e-02,  6.43941900e-03,  8.02099332e-03,  1.71598382e-02,\n",
       "        -3.85153876e-03,  3.74823213e-02, -2.65441593e-02, -1.98789928e-02,\n",
       "         2.00583600e-02, -4.84796576e-02,  5.29985912e-02,  5.25490083e-02,\n",
       "        -1.39939226e-02, -6.55643865e-02,  6.42335787e-02, -8.72476175e-02,\n",
       "         3.66920931e-03, -1.10650599e-01, -1.20484300e-01, -9.86713916e-03,\n",
       "        -6.56863069e-03,  1.29378170e-01,  5.17836660e-02, -1.05365559e-01,\n",
       "         8.53011534e-02, -1.50490750e-03, -6.57395720e-02, -5.37082553e-02,\n",
       "        -1.93768907e-02,  5.12420014e-02, -6.25461861e-02, -5.20777628e-02,\n",
       "         5.21699116e-02,  3.38368006e-02, -5.08284457e-02,  5.11253998e-02,\n",
       "         8.92465636e-02, -1.35193244e-02,  6.82709590e-02,  5.00823893e-02,\n",
       "         3.70586216e-02, -8.43880326e-02,  7.83058107e-02,  1.63153429e-02,\n",
       "         7.07677528e-02,  8.84702057e-02, -9.95509047e-03, -2.81461999e-02,\n",
       "        -6.86120018e-02, -8.75935927e-02, -3.82679850e-02,  8.30438063e-02,\n",
       "         6.26631528e-02,  8.15640539e-02, -1.39393443e-02, -2.09153630e-02,\n",
       "        -7.54142925e-02, -9.29206684e-02, -9.74107534e-02,  7.75851426e-04,\n",
       "        -1.05849467e-02, -2.66876183e-02,  3.62852216e-02, -2.93496326e-02,\n",
       "         2.33110264e-02, -4.53536436e-02,  8.88585858e-03, -1.38083538e-02,\n",
       "         7.96955079e-02, -7.58473948e-03, -1.68756843e-02,  7.40297396e-33,\n",
       "        -1.20843448e-01,  4.48196717e-02, -2.20579989e-02,  8.35311040e-02,\n",
       "        -8.67931321e-02,  5.08295223e-02, -4.48380373e-02, -2.30226815e-02,\n",
       "         2.07298789e-02,  2.18249997e-03,  5.70153631e-03,  1.28845572e-01,\n",
       "         7.63433352e-02,  4.99587841e-02,  7.40420371e-02, -8.44261572e-02,\n",
       "        -3.57025005e-02,  2.24353373e-02,  5.72384112e-02, -5.00125289e-02,\n",
       "        -2.75555775e-02,  8.24969634e-02,  4.31783348e-02, -2.06353795e-02,\n",
       "         5.94131611e-02,  6.50289208e-02,  4.18545753e-02, -7.08165616e-02,\n",
       "        -7.88736194e-02,  3.86324786e-02,  9.48732942e-02,  2.59851664e-02,\n",
       "        -3.47519410e-04, -4.27748784e-02, -3.88470665e-02, -4.77285013e-02,\n",
       "         5.66622280e-02, -1.43523933e-02,  2.79755704e-02, -9.73216072e-03,\n",
       "        -5.22899404e-02,  4.21233568e-03, -6.35717576e-03,  3.18348943e-03,\n",
       "         3.82629931e-02,  9.65444520e-02,  7.48806149e-02,  3.68732698e-02,\n",
       "         2.33222768e-02, -5.16016260e-02, -5.15175946e-02,  2.19243336e-02,\n",
       "         2.98521928e-02, -6.51712790e-02,  8.47927947e-03,  4.24005883e-03,\n",
       "        -3.49269472e-02, -2.45052855e-02, -1.94616802e-02, -9.33926329e-02,\n",
       "        -2.40177400e-02,  6.00795895e-02, -5.54422208e-04, -3.86121832e-02,\n",
       "        -1.34849017e-02, -2.92812437e-02, -6.89748749e-02,  3.34920175e-02,\n",
       "         5.98370247e-02,  2.95404568e-02, -4.72984947e-02, -4.36908938e-02,\n",
       "        -2.52117869e-02,  5.43207936e-02,  1.60832908e-02, -8.97016376e-03,\n",
       "        -4.16938066e-02,  4.15045843e-02, -8.03698972e-02, -4.17002738e-02,\n",
       "        -8.33512843e-02, -8.48182756e-03,  3.89136821e-02,  2.72093602e-02,\n",
       "         7.27680475e-02, -3.94550674e-02,  2.90225260e-02,  7.86645785e-02,\n",
       "         2.45316569e-02,  6.96980879e-02, -4.69602980e-02,  1.37597276e-02,\n",
       "         5.20873778e-02,  5.46723865e-02,  7.33443052e-02, -1.14876824e-32,\n",
       "         7.71147804e-03,  3.40410434e-02, -8.29495415e-02, -1.83592420e-02,\n",
       "         2.47479174e-02,  2.52164081e-02, -5.50332852e-02, -1.18148744e-01,\n",
       "        -4.45724130e-02, -4.69617657e-02, -6.97712302e-02, -7.11580291e-02,\n",
       "        -3.77436504e-02, -4.88943383e-02, -4.53497879e-02,  1.58567838e-02,\n",
       "        -3.96220572e-02,  7.01383268e-03, -5.41012734e-02,  2.02566497e-02,\n",
       "        -2.85785347e-02, -2.07103807e-02, -3.44993882e-02,  3.94689701e-02,\n",
       "        -1.55646103e-02, -3.75970826e-02, -4.06995090e-03, -5.09063266e-02,\n",
       "         2.12785657e-02,  9.87312640e-04,  1.83342658e-02,  1.32763749e-02,\n",
       "        -3.80831361e-02,  1.03255995e-01, -6.07450642e-02,  1.15865739e-02,\n",
       "         2.06221361e-02, -7.02257603e-02, -9.12381615e-03,  1.90832242e-02,\n",
       "        -1.16650146e-02,  5.26654460e-02,  3.28652486e-02, -2.33635809e-02,\n",
       "        -5.56336716e-02, -4.39732336e-02, -5.81123568e-02, -8.68978128e-02,\n",
       "        -4.68649007e-02, -6.13391511e-02,  1.40234202e-01, -5.11604100e-02,\n",
       "        -4.90277074e-02, -3.10484320e-02,  4.19383286e-04, -3.20068491e-03,\n",
       "         1.80945285e-02, -2.20156386e-02, -9.61999372e-02, -2.81728134e-02,\n",
       "         3.64956483e-02,  2.65489239e-02,  4.43743132e-02,  6.20546117e-02,\n",
       "        -2.25673094e-02, -4.18077372e-02,  5.91369625e-03, -2.64974106e-02,\n",
       "         5.55752590e-02, -3.78028974e-02,  3.76201980e-02, -2.76550725e-02,\n",
       "        -1.05460636e-01,  6.67170286e-02, -8.73352960e-03,  5.61676808e-02,\n",
       "        -4.30214703e-02, -2.91768438e-03, -8.03960208e-03, -2.50556059e-02,\n",
       "        -8.53973627e-03,  2.84133013e-02, -2.81925946e-02, -1.48675397e-01,\n",
       "         4.04067198e-03,  5.00929952e-02,  2.56490707e-02, -2.34409887e-02,\n",
       "        -1.97863560e-02, -4.63684835e-02, -1.22196460e-02, -3.85612547e-02,\n",
       "         6.74093561e-03,  7.02514723e-02, -3.69309448e-02, -5.96307856e-08,\n",
       "         1.00567071e-02, -1.49803124e-02,  3.38932350e-02,  1.54154813e-02,\n",
       "        -4.82553942e-03, -6.86277375e-02, -3.99265103e-02,  1.47681413e-02,\n",
       "         1.63406152e-02, -2.42027501e-03,  8.42835084e-02,  1.54008484e-02,\n",
       "         3.48037407e-02,  1.67121310e-02,  3.04828770e-02, -6.67152330e-02,\n",
       "         1.79548357e-02,  1.14557900e-01, -4.47566546e-02, -3.79997827e-02,\n",
       "         2.64795981e-02, -1.49951642e-02, -1.38764501e-01, -4.99376431e-02,\n",
       "         9.17673856e-02, -1.52936885e-02, -1.05645861e-02,  4.19486361e-03,\n",
       "         3.59896943e-02,  5.91856726e-02, -6.28936291e-02,  1.18246144e-02,\n",
       "         1.11562796e-02, -8.69763717e-02, -2.96915835e-03, -5.79906534e-03,\n",
       "        -1.08120800e-03, -1.36977872e-02, -3.44576575e-02, -1.58941727e-02,\n",
       "         5.96205704e-02, -1.00414225e-04, -4.38551940e-02, -2.98321201e-03,\n",
       "        -1.14013344e-01, -1.08926140e-01, -5.65742254e-02,  2.72526797e-02,\n",
       "         3.27704735e-02,  2.54676882e-02, -5.02434606e-03,  2.21145917e-02,\n",
       "        -3.15606804e-03,  2.47242786e-02, -5.78872021e-03,  2.52621546e-02,\n",
       "        -8.57329816e-02,  5.50172441e-02, -6.96090460e-02, -5.29526994e-02,\n",
       "         9.94092822e-02,  2.09090486e-02, -2.45418530e-02,  3.38100307e-02],\n",
       "       dtype=float32),\n",
       " 'payload': {'text': '\\nResumen Ejecutivo\\n\\n\\n3\\nI. Introducción\\nLa Reforma Energética es un paso decidido rumbo a la modernización del sector energético de \\nnuestro país, sin privatizar las empresas públicas dedicadas a la producción y al aprovechamien-\\nto de los hidrocarburos y de la electricidad. La Reforma Energética, tanto constitucional como a \\nnivel legistlación secundarias, surge del estudio y valoración de las distintas iniciativas presenta-\\ndas por los partidos políticos representados en el Congreso.\\nLa Reforma Energética tiene los siguientes objetivos y premisas fundamentales:\\n1.\\t\\nMantener la propiedad de la Nación sobre los hidrocarburos que se encuentran en el sub-\\nsuelo.\\n2.\\t\\nModernizar y fortalecer, sin privatizar, a Petr',\n",
       "  'metadata': {'upload_date': '2025-04-13',\n",
       "   'title': 'Title of the text',\n",
       "   'storage_path': 'path/where/the/text/was/stored.pdf'}}}"
      ]
     },
     "execution_count": 34,
     "metadata": {},
     "output_type": "execute_result"
    }
   ],
   "source": [
    "final_chunks[0]"
   ]
  },
  {
   "cell_type": "markdown",
   "id": "0eb56eef",
   "metadata": {},
   "source": [
    "At this time, this service would return a json which one of its entries is the list of chunks created"
   ]
  },
  {
   "cell_type": "markdown",
   "id": "11e3c230",
   "metadata": {},
   "source": [
    "## Testing Embedding Service on CloudRun"
   ]
  },
  {
   "cell_type": "code",
   "execution_count": 35,
   "id": "7270bd0d",
   "metadata": {},
   "outputs": [],
   "source": [
    "payload={\n",
    "    \"text\": text,\n",
    "    \"metadata\":{\n",
    "        \"update_date\": \"Hoy\"\n",
    "    }\n",
    "}\n",
    "\n",
    "response = requests.post(\"https://embedding-service-214571216460.northamerica-south1.run.app/embed-text\", json=payload)"
   ]
  },
  {
   "cell_type": "code",
   "execution_count": null,
   "id": "c1c1ca96",
   "metadata": {},
   "outputs": [
    {
     "data": {
      "text/plain": [
       "'{\"chunks\":[{\"vector_id\":\"577fc1fb-4173-4cdb-b198-721d0b9dc5e4\",\"vector\":[0.025923576205968857,0.02159346267580986,-0.05432750657200813,-0.010251697152853012,8.657913713250309e-05,0.0019649912137538195,-0.005383133422583342,-0.027970004826784134,-0.056894250214099884,0.03467877581715584,0.020713230594992638,0.020456204190850258,-0.04093526676297188,-0.04517247900366783,0.0872722938656807,-0.005990470293909311,-0.020912092179059982,0.015643034130334854,-0.03401884436607361,0.036827750504016876,0.07707861065864563,-0.05300649628043175,0.004777187015861273,0.037062861025333405,0.02194947749376297,0.0026595089584589005,-0.02781331166625023,0.045680075883865356,-0.06830135732889175,-0.05539514869451523,0.012534935027360916,0.01505239587277174,0.07739172875881195,-0.010001881048083305,0.04735776409506798,0.07454510033130646,0.0007298100390471518,0.042140357196331024,-0.003874483983963728,0.11490989476442337,-0.08284161239862442,-0.07465384155511856,-0.05301422253251076,-0.11553067713975906,-0.09750291705131531,-0.002464788733050227,0.018739277496933937,-0.025769785046577454,-0.0056368145160377026,-0.09688273072242737,-0.011391332373023033,-0.015126567333936691,-0.026183227077126503,0.00850476510822773,0.027626963332295418,-0.08783475309610367,0.015796447172760963,0.006439396180212498,0.008021028712391853,0.017159799113869667,-0.003851543180644512,0.03748235106468201,-0.02654416114091873,-0.01987897977232933,0.020058350637555122,-0.04847962409257889,0.05299857258796692,0.05254901200532913,-0.013993864879012108,-0.06556446850299835,0.06423357129096985,-0.08724759519100189,0.003669189987704158,-0.11065062880516052,-0.12048428505659103,-0.009867139160633087,-0.00656861299648881,0.12937819957733154,0.05178368464112282,-0.10536560416221619,0.08530115336179733,-0.001504917978309095,-0.06573960930109024,-0.05370831862092018,-0.01937686838209629,0.051242005079984665,-0.06254616379737854,-0.052077703177928925,0.05216991528868675,0.03383686766028404,-0.050828494131565094,0.05112537741661072,0.08924656361341476,-0.013519354164600372,0.0682709664106369,0.05008243769407272,0.03705857694149017,-0.08438800275325775,0.07830577343702316,0.01631535403430462,0.07076771557331085,0.0884702205657959,-0.009955151006579399,-0.028146181255578995,-0.0686119943857193,-0.08759358525276184,-0.03826795890927315,0.08304380625486374,0.06266313046216965,0.0815640389919281,-0.013939294964075089,-0.02091536484658718,-0.07541429996490479,-0.092920683324337,-0.09741073846817017,0.0007758937426842749,-0.010584942996501923,-0.026687651872634888,0.03628525510430336,-0.029349608346819878,0.023310981690883636,-0.04535363242030144,0.008885879069566727,-0.013808384537696838,0.07969552278518677,-0.007584773004055023,-0.01687571033835411,7.402973221310907e-33,-0.12084344029426575,0.04481969401240349,-0.022057970985770226,0.08353108912706375,-0.08679309487342834,0.05082949250936508,-0.044838059693574905,-0.023022698238492012,0.020729869604110718,0.002182525349780917,0.005701547488570213,0.12884555757045746,0.07634337246417999,0.049958791583776474,0.0740419253706932,-0.0844261422753334,-0.035702481865882874,0.022435372695326805,0.057238414883613586,-0.05001254379749298,-0.027555594220757484,0.08249694854021072,0.043178312480449677,-0.020635316148400307,0.059413131326436996,0.06502893567085266,0.041854627430438995,-0.0708165317773819,-0.07887361943721771,0.03863247111439705,0.0948733314871788,0.025985168293118477,-0.00034748189500533044,-0.04277486726641655,-0.03884706646203995,-0.047728490084409714,0.056662239134311676,-0.014352373778820038,0.027975592762231827,-0.009732156991958618,-0.052289944142103195,0.00421229237690568,-0.006357161328196526,0.0031834531109780073,0.03826293721795082,0.09654443711042404,0.07488063722848892,0.0368732325732708,0.023322248831391335,-0.05160164833068848,-0.05151762440800667,0.02192433923482895,0.02985222451388836,-0.06517121940851212,0.008479290641844273,0.004240056034177542,-0.034926921129226685,-0.02450527809560299,-0.019461650401353836,-0.09339261054992676,-0.02401776984333992,0.06007959321141243,-0.0005544510204344988,-0.03861221298575401,-0.013484899885952473,-0.029281266033649445,-0.06897494196891785,0.033492058515548706,0.0598369762301445,0.029540441930294037,-0.04729846864938736,-0.043690916150808334,-0.025211745873093605,0.054320745170116425,0.01608332246541977,-0.008970161899924278,-0.041693780571222305,0.041504524648189545,-0.08036986738443375,-0.04170024394989014,-0.0833512470126152,-0.008481845259666443,0.0389137789607048,0.02720934897661209,0.07276804000139236,-0.039455119520425797,0.029022444039583206,0.07866457104682922,0.02453160099685192,0.06969808787107468,-0.0469602607190609,0.013759678229689598,0.05208735167980194,0.05467239022254944,0.07334431260824203,-1.1487686051355797e-32,0.007711511570960283,0.03404107317328453,-0.08294952660799026,-0.018359288573265076,0.024747956544160843,0.025216421112418175,-0.05503328889608383,-0.11814872175455093,-0.044572386890649796,-0.04696176201105118,-0.06977127492427826,-0.07115805894136429,-0.03774367645382881,-0.04889437183737755,-0.045349784195423126,0.015856795012950897,-0.03962206467986107,0.007013808470219374,-0.05410122126340866,0.020256655290722847,-0.028578568249940872,-0.020710432901978493,-0.03449936583638191,0.03946901857852936,-0.01556464284658432,-0.037597086280584335,-0.004069851711392403,-0.05090634524822235,0.021278541535139084,0.0009873310336843133,0.018334215506911278,0.013276414014399052,-0.03808319941163063,0.1032559871673584,-0.06074505299329758,0.011586617678403854,0.020622113719582558,-0.07022576779127121,-0.00912380963563919,0.019083289429545403,-0.011664977297186852,0.05266542360186577,0.0328652523458004,-0.023363573476672173,-0.05563366040587425,-0.04397323355078697,-0.05811240151524544,-0.0868978425860405,-0.04686490818858147,-0.06133915111422539,0.14023421704769135,-0.05116042494773865,-0.04902774468064308,-0.031048396602272987,0.0004193925124127418,-0.003200719365850091,0.01809452287852764,-0.022015657275915146,-0.0961998850107193,-0.028172830119729042,0.03649565204977989,0.02654891647398472,0.044374365359544754,0.062054622918367386,-0.022567348554730415,-0.04180774465203285,0.005913633853197098,-0.026497460901737213,0.05557522550225258,-0.03780285269021988,0.0376201868057251,-0.02765510417521,-0.10546067357063293,0.06671704351902008,-0.008733538910746574,0.05616767704486847,-0.04302143305540085,-0.002917702542617917,-0.008039607666432858,-0.025055604055523872,-0.008539696224033833,0.02841329574584961,-0.02819260023534298,-0.14867539703845978,0.00404072692617774,0.05009296536445618,0.02564902789890766,-0.023440979421138763,-0.019786357879638672,-0.04636846110224724,-0.012219623662531376,-0.03856119140982628,0.006740920711308718,0.0702514573931694,-0.03693097084760666,-5.963078564263924e-08,0.010056664235889912,-0.014980322681367397,0.03389322757720947,0.015415472909808159,-0.00482558086514473,-0.06862773001194,-0.03992650657892227,0.014768118038773537,0.016340628266334534,-0.0024202836211770773,0.08428351581096649,0.01540081761777401,0.03480377048254013,0.016712067648768425,0.03048286773264408,-0.06671519577503204,0.017954809591174126,0.1145578920841217,-0.044756658375263214,-0.037999797612428665,0.026479588821530342,-0.014995208941400051,-0.13876453042030334,-0.04993760958313942,0.09176740050315857,-0.01529373973608017,-0.010564573109149933,0.004194894805550575,0.03598971664905548,0.05918562784790993,-0.06289368122816086,0.011824683286249638,0.011156294494867325,-0.08697638660669327,-0.0029691322706639767,-0.005799083970487118,-0.0010812446707859635,-0.013697768561542034,-0.034457672387361526,-0.01589413732290268,0.05962052941322327,-0.00010037837637355551,-0.0438552126288414,-0.0029831952415406704,-0.11401335895061493,-0.10892613977193832,-0.0565742552280426,0.0272526815533638,0.03277040645480156,0.025467680767178535,-0.005024360492825508,0.022114580497145653,-0.0031560873612761497,0.02472430095076561,-0.005788734182715416,0.025262191891670227,-0.08573303371667862,0.05501725524663925,-0.06960898637771606,-0.05295266956090927,0.09940923005342484,0.020909007638692856,-0.024541951715946198,0.03381001204252243],\"payload\":{\"text\":\"\\\\nResumen Ejecutivo\\\\n\\\\n\\\\n3\\\\nI. Introducción\\\\nLa Reforma Energética es un paso decidido rumbo a la modernización del sector energético de \\\\nnuestro país, sin privatizar las empresas públicas dedicadas a la producción y al aprovechamien-\\\\nto de los hidrocarburos y de la electricidad. La Reforma Energética, tanto constitucional como a \\\\nnivel legistlación secundarias, surge del estudio y valoración de las distintas iniciativas presenta-\\\\ndas por los partidos políticos representados en el Congreso.\\\\nLa Reforma Energética tiene los siguientes objetivos y premisas fundamentales:\\\\n1.\\\\t\\\\nMantener la propiedad de la Nación sobre los hidrocarburos que se encuentran en el sub-\\\\nsuelo.\\\\n2.\\\\t\\\\nModernizar y fortalecer, sin privatizar, a Petr\",\"metadata\":{\"update_date\":\"Hoy\"}}},{\"vector_id\":\"a013b7dd-1ea6-4fa5-ad05-43089856ab6b\",\"vector\":[-0.014642668887972832,0.040562186390161514,-0.04164305701851845,0.0023063584230840206,0.05731483921408653,-0.06628581136465073,-0.01834269054234028,0.0657530426979065,-0.015336618758738041,-0.009015684947371483,0.038332704454660416,-0.01604587584733963,0.014241766184568405,-0.030390914529561996,0.06108350306749344,0.0030233634170144796,-0.04236411303281784,-0.02620604820549488,-0.012860449030995369,0.008601817302405834,0.11948375403881073,-0.01969348080456257,0.017376046627759933,-0.0019240439869463444,-0.08530069142580032,0.016739720478653908,-0.07800663262605667,0.07717781513929367,-0.03758317604660988,-0.09102880954742432,-0.019790465012192726,0.045286692678928375,0.06142422929406166,-0.007626286242157221,-0.023960372433066368,0.0398220531642437,-0.03406449779868126,-0.051859140396118164,-0.019268691539764404,0.07168685644865036,-0.07580239325761795,-0.06863445788621902,-0.011445033363997936,-0.10001172870397568,-0.07191959768533707,-0.054531969130039215,0.08143555372953415,0.00547699723392725,0.0024968197103589773,-0.07413965463638306,0.0653725117444992,0.01475088857114315,-0.01529556605964899,-0.0116126062348485,0.02648756094276905,-0.04348665475845337,0.03668587654829025,-0.05317840352654457,0.0393090583384037,-0.017860300838947296,0.0598541684448719,0.02866089716553688,-0.06939061731100082,-0.012951658107340336,-0.00871584378182888,-0.06171327084302902,0.053327158093452454,-0.02795649692416191,-0.06395193189382553,-0.023715168237686157,0.05582375451922417,-0.11629287898540497,0.004203967750072479,-0.04197452962398529,-0.038603540509939194,0.055579062551259995,0.051228418946266174,0.03358958661556244,-0.011109333485364914,-0.1060536727309227,0.059882860630750656,0.00834272988140583,-0.06368856877088547,-0.12826940417289734,-0.007674991153180599,0.05675048753619194,-0.04544411227107048,-0.04866795614361763,0.05730680003762245,0.01847052574157715,0.01845037378370762,0.07645111531019211,0.0002979307319037616,0.011809825897216797,0.08541940152645111,0.02660338021814823,0.037169359624385834,-0.07047208398580551,0.02768859639763832,-0.020593808963894844,0.041437432169914246,0.08801434934139252,-0.06910195201635361,-0.027158157899975777,-0.09238623827695847,-0.03579065576195717,0.04699824005365372,0.043371472507715225,-0.017191294580698013,0.01913183555006981,-0.011731413193047047,-0.05942791327834129,-0.01652558334171772,-0.08502410352230072,-0.09932935237884521,0.0013975731562823057,-0.008788898587226868,-0.07229152321815491,0.020962245762348175,-0.04563114047050476,-0.03233158588409424,-0.01935391314327717,-0.012693545781075954,0.053951695561409,0.0843360424041748,-0.012682374566793442,0.02787127159535885,8.120662480997824e-33,-0.1403082311153412,-0.021850356832146645,-0.0025477546732872725,-0.03321463242173195,-0.02186797559261322,0.06251020729541779,-0.013179219327867031,0.020751407369971275,0.05183735117316246,0.019060436636209488,-0.03194063529372215,0.10672429203987122,0.06840010732412338,0.04439926519989967,0.04749422147870064,-0.0933886170387268,0.04790577292442322,-0.08307704329490662,-0.0017552666831761599,-0.03456400707364082,0.006548920646309853,0.011359190568327904,-0.01145399734377861,0.008649388328194618,0.010243107564747334,0.02608325518667698,-0.027054008096456528,-0.06037326529622078,-0.07144158333539963,0.03732771426439285,0.041603025048971176,0.04221393167972565,-0.008089706301689148,0.02220531553030014,-0.0414779894053936,0.0033828704617917538,0.048189591616392136,0.07055491209030151,-0.059198375791311264,0.01101867388933897,-0.027650464326143265,0.004950264934450388,-0.04357905685901642,0.036213647574186325,0.0032394053414463997,0.0257748831063509,0.024896390736103058,0.043390125036239624,0.06060696020722389,0.019541393965482712,-0.06191911920905113,0.028069261461496353,-0.055576715618371964,-0.09805671870708466,0.04870614781975746,0.09381017088890076,-0.02809717133641243,-0.035146553069353104,-0.014678407460451126,-0.008465384133160114,-0.07504933327436447,0.11987891048192978,-0.025823762640357018,-0.05247519910335541,-0.04408368468284607,0.0025722188875079155,0.013315550982952118,-0.018207881599664688,0.05535084381699562,0.054187532514333725,-0.07632274180650711,-0.01339851412922144,0.040386393666267395,0.09252423048019409,0.017319150269031525,0.02848288044333458,-0.045764192938804626,0.07050324976444244,-0.0022705993615090847,0.026122724637389183,-0.10078059881925583,-0.021878989413380623,0.02213507518172264,-0.04036444425582886,0.04704626277089119,-0.06126827001571655,0.004942365922033787,0.1297057569026947,0.03445333242416382,0.06857503205537796,-0.03064708225429058,0.030081359669566154,0.03100687824189663,0.023242110386490822,0.04104785993695259,-1.1271902757427257e-32,0.017219331115484238,0.04295239970088005,-0.049550656229257584,-0.028431525453925133,-0.012022205628454685,0.030468272045254707,0.006345193367451429,-0.0690406933426857,-0.046568211168050766,-0.056506771594285965,-0.09105776995420456,0.025078246369957924,0.08908697962760925,-0.06257251650094986,0.01700589247047901,0.050257354974746704,-0.11804673820734024,-0.015297715552151203,-0.07871492952108383,0.03899972885847092,-0.07945077121257782,0.05191398784518242,0.04052754119038582,0.018478164449334145,-0.06106739863753319,-0.048348091542720795,-0.05288487672805786,-0.009095421992242336,-0.04284370318055153,0.012339703738689423,-0.02813088521361351,0.04843442514538765,0.014699112623929977,0.06306429952383041,-0.11654581129550934,-0.013904976658523083,0.026356548070907593,0.045989591628313065,-0.014071793295443058,0.021259691566228867,-0.026470830664038658,0.029445188120007515,0.036932434886693954,-0.015316390432417393,-0.06470175087451935,-0.012539930641651154,0.020544083788990974,-0.1498126983642578,-0.01850598119199276,-0.0016982381930574775,0.07531526684761047,-0.007716761901974678,-0.04365628585219383,-0.018163129687309265,0.08178416639566422,0.004920230712741613,0.01894298940896988,0.025535590946674347,-0.0883256196975708,0.005627413745969534,0.12252122163772583,0.007945395074784756,0.02996067889034748,0.013264749199151993,0.013860197737812996,-0.0694938600063324,0.0010794857516884804,0.009527797810733318,0.10968166589736938,0.04749562591314316,0.004240246023982763,0.06759016215801239,-0.08076312392950058,-0.013247985392808914,-0.038605429232120514,-0.006187822204083204,-0.010594472289085388,0.008542614057660103,-0.05421198159456253,-0.01544493343681097,-0.027875825762748718,0.05452481284737587,-0.04069047048687935,-0.04491022601723671,-0.027750685811042786,-0.026248006150126457,-0.009023373946547508,-0.05293722823262215,0.078983835875988,-0.021199680864810944,-0.013084671460092068,-0.05119955539703369,-0.028964288532733917,0.05791579186916351,-0.010667871683835983,-6.125199547568627e-08,-0.07525771856307983,0.017037957906723022,0.05144128203392029,0.02864048071205616,0.011288418434560299,-0.02755732275545597,0.007388866972178221,0.0014369104756042361,-0.02530580386519432,-0.0355999618768692,0.06389942765235901,0.009140783920884132,0.025685250759124756,0.0027984248008579016,0.006076502613723278,-0.09253594279289246,0.0778738409280777,0.15247003734111786,-0.004619934596121311,-0.0037789710331708193,0.03311804682016373,-0.002391044981777668,-0.10427378863096237,-0.004726756829768419,0.12104439735412598,-0.022076349705457687,-0.007284676656126976,-0.06251543015241623,0.014699527993798256,0.03919299319386482,-0.05791564658284187,-0.02927730232477188,-0.023749129846692085,-0.053711727261543274,0.045293617993593216,-0.019084177911281586,0.006641380488872528,-0.03089996799826622,-0.09648361057043076,-0.003832343267276883,0.08952853828668594,-0.02493978664278984,-0.03591403365135193,-0.02259439416229725,-0.05329771339893341,-0.044315386563539505,-0.09116994589567184,-0.05019431561231613,0.11657869815826416,0.04179011285305023,0.026284264400601387,-0.06913261860609055,0.03268780559301376,0.03974049538373947,0.06572305411100388,-0.01819324679672718,-0.07828124612569809,0.05174629017710686,-0.05682298168540001,-0.018107891082763672,0.042983002960681915,0.08310694247484207,0.008942743763327599,-0.04676710069179535],\"payload\":{\"text\":\"ecer, sin privatizar, a Petróleos Mexicanos (Pemex) y a la Comisión Fe-\\\\nderal de Electricidad (CFE) como Empresas Productivas del Estado, 100% públicas y 100% \\\\nmexicanas.\\\\n3.\\\\t\\\\nReducir la exposición del país a los riesgos financieros, geológicos y ambientales en las ac-\\\\ntividades de exploración y extracción de petróleo y gas natural.\\\\n4.\\\\t\\\\nPermitir que la Nación ejerza, de manera exclusiva, la planeación y control del Sistema \\\\nEléctrico Nacional, en beneficio de un sistema competitivo que permita reducir los precios \\\\nde la energía eléctrica.\\\\n5.\\\\t\\\\nAtraer mayor inversión al sector energético mexicano para impulsar el desarrollo del país.\\\\n6.\\\\t\\\\nContar con un mayor abasto de energétic\",\"metadata\":{\"update_date\":\"Hoy\"}}},{\"vector_id\":\"0a8e6abb-bcbc-45b0-abec-85fa85ed9644\",\"vector\":[0.023450499400496483,0.07943499833345413,-0.006177238654345274,0.03689928725361824,0.021000953391194344,-0.042645856738090515,0.07666989415884018,0.018327120691537857,-0.05607728660106659,0.008002281188964844,0.05806313455104828,-0.08994137495756149,-0.015150003135204315,0.004811616614460945,0.04064534232020378,-0.02515832707285881,0.016886187717318535,-0.05025783181190491,-0.027635056525468826,0.019851475954055786,0.1302669644355774,0.002103214617818594,0.012532421387732029,0.0679091140627861,-0.04904825985431671,0.0074225254356861115,-0.07669603824615479,0.02422025054693222,-0.009509227238595486,0.005512199364602566,0.009531904011964798,0.023012610152363777,0.10805858671665192,0.02074027620255947,-0.02429390512406826,0.07377029955387115,0.01793718710541725,-0.013057731091976166,0.016870446503162384,0.08688931912183762,-0.09768406301736832,-0.06690144538879395,-0.02091354690492153,-0.1136188879609108,-0.06343749910593033,-0.058538567274808884,0.05621148273348808,-0.012725786305963993,-0.03724123537540436,-0.05296908691525459,-0.006975359283387661,0.031041650101542473,0.002117753028869629,0.037668392062187195,0.09092347323894501,-0.0873837098479271,0.018805967643857002,-0.04351513087749481,0.03178359940648079,0.001189607661217451,-0.01613490656018257,0.03543215990066528,-0.009997617453336716,0.01548148412257433,-0.0016968549462035298,-0.019957393407821655,-0.0012027613120153546,0.06037994846701622,-0.009081818163394928,-0.045574452728033066,0.10568917542695999,-0.1276683807373047,0.01916009560227394,-0.0631808340549469,-0.036118604242801666,0.029423417523503304,0.009617581032216549,0.054729484021663666,-0.012540943920612335,-0.0847388356924057,0.03479563444852829,-0.07704892754554749,-0.02687017433345318,-0.04945273697376251,-0.045132823288440704,0.023396963253617287,-0.017182528972625732,0.020356031134724617,0.05357784032821655,0.024441661313176155,-0.08127407729625702,0.05388152599334717,0.02646431140601635,-0.03087644837796688,0.019747143611311913,0.03395535424351692,0.02098153717815876,-0.061203084886074066,0.008445576764643192,-0.026069562882184982,0.05493450537323952,0.09305638819932938,-0.06376015394926071,0.017541000619530678,-0.09712360054254532,-0.049076471477746964,0.004003286361694336,0.015126588754355907,0.033647067844867706,0.07089126110076904,-0.03834877535700798,-0.007414967752993107,-0.024228796362876892,-0.04672396555542946,-0.09414419531822205,0.022561099380254745,-0.03161614015698433,-0.056473664939403534,0.07130028307437897,-0.08257108181715012,0.019474098458886147,-0.02593446895480156,0.040769048035144806,-0.048912469297647476,0.0521344318985939,-0.06717559695243835,0.028223887085914612,4.3640885316429915e-33,-0.1378297507762909,-0.025917518883943558,-0.0006514047272503376,0.03384702280163765,0.009373966604471207,-0.010169961489737034,-0.046244893223047256,-0.007976500317454338,0.07477445900440216,-0.02291242592036724,0.004603381268680096,0.10949072986841202,0.03535177558660507,0.09140483289957047,0.05313762277364731,-0.05057024955749512,0.03424946218729019,-0.0026860537473112345,0.04737196862697601,-0.014810235239565372,-0.028501858934760094,-0.029933828860521317,-0.016154561191797256,0.012873917818069458,-0.0014895035419613123,0.10483385622501373,-0.013925996609032154,-0.03467169776558876,-0.026620859280228615,0.0312814936041832,0.09149854630231857,0.026645250618457794,-0.0019099137280136347,-0.05530344322323799,-0.07994892448186874,-0.017646154388785362,0.00996399112045765,0.0534769743680954,-0.04818714037537575,-0.022352010011672974,-0.08513558655977249,0.008255732245743275,-0.007683103438466787,0.023038221523165703,0.03402429074048996,0.03751653432846069,0.07292274385690689,0.02880910597741604,-0.013502693735063076,0.02798478677868843,-0.059647269546985626,-0.005092674400657415,0.06611776351928711,-0.07751577347517014,-0.012801195494830608,0.05964053422212601,0.0035644033923745155,-0.07660944014787674,-0.054596081376075745,-0.04986763373017311,-0.04284478724002838,0.040875352919101715,-0.04381314292550087,-0.014610960148274899,0.017849348485469818,-0.11447616666555405,-0.03228393569588661,0.02326965145766735,0.07087963074445724,0.07275431603193283,-0.05395035445690155,0.0002252535632578656,-0.025973597541451454,0.024435432627797127,0.017209509387612343,0.009726200252771378,-0.021340811625123024,-0.007299116812646389,-0.03355514258146286,0.02089056558907032,-0.050629742443561554,-0.05222079157829285,0.05152507126331329,-0.0486871600151062,0.07277220487594604,-0.00558646721765399,0.0009106308571062982,0.05434095859527588,0.030038250610232353,0.10781700164079666,-0.07300957292318344,0.048574332147836685,0.001221962971612811,0.0932793989777565,0.03710715472698212,-8.448951604559595e-33,0.05995529890060425,0.03784729912877083,-0.043686073273420334,0.005932698957622051,0.06560200452804565,0.042398083955049515,-0.016434967517852783,-0.12933991849422455,-0.03517270088195801,-0.056088637560606,-0.13962793350219727,-0.05309370532631874,0.0349276103079319,-0.03131430223584175,-0.027866072952747345,0.02927037514746189,-0.050351694226264954,-0.016422083601355553,-0.06376984715461731,-0.03439822420477867,-0.03556830435991287,0.01010096911340952,0.024207016453146935,0.003178212558850646,-0.05217435956001282,-0.042718902230262756,-0.044511958956718445,-0.06828451156616211,-0.04543819651007652,-0.016630001366138458,0.041708748787641525,0.05504154413938522,-0.038837503641843796,0.06712356954813004,-0.049814723432064056,0.03490148484706879,0.021517673507332802,0.04433499276638031,-0.02952132374048233,0.004155402071774006,0.006915062200278044,0.06350401788949966,-0.025375017896294594,0.003265152685344219,-0.07592601329088211,-0.0011482629925012589,-0.025018511340022087,-0.1386253833770752,-0.01433403417468071,-0.005233034025877714,0.1635066419839859,-0.03044753707945347,-0.07872141152620316,-0.05330466106534004,0.07878625392913818,-0.0045358263887465,0.023728402331471443,-0.0586109422147274,-0.05917996168136597,-0.03074762038886547,0.04376750439405441,0.03307352215051651,0.011266057379543781,0.03598545491695404,-0.047814808785915375,-0.0410853773355484,-0.01951207034289837,0.039343301206827164,0.05378445237874985,0.022256091237068176,0.028664173558354378,0.004860875196754932,-0.10202918201684952,-0.003676577005535364,-0.028396280482411385,0.027779633179306984,-0.052276212722063065,-0.06504613906145096,-0.005771358497440815,-0.01525136549025774,-0.01793888956308365,0.0535241961479187,-0.006624585948884487,-0.05743866413831711,-0.08721461147069931,0.024964751675724983,-0.02824048325419426,-0.007817775011062622,0.020764337852597237,0.0007027696119621396,-0.033213455229997635,0.015964895486831665,-0.04153513163328171,0.02192029170691967,-0.06395122408866882,-5.1123087985160964e-08,-0.03272915259003639,-0.005694217048585415,0.05511351302266121,0.03471485897898674,-0.026136131957173347,-0.05820835009217262,-0.009304326958954334,0.04421204328536987,0.019333789125084877,-0.0031379542779177427,0.026188267394900322,-0.03757177293300629,0.06128863990306854,0.0988849475979805,0.025820624083280563,-0.102500781416893,0.10903112590312958,0.09580246359109879,-0.04070660471916199,-0.03883425518870354,0.04355178028345108,-0.03734620288014412,-0.1217465028166771,-0.01858273521065712,0.056675467640161514,-0.08693239837884903,-0.05657400190830231,0.01479458250105381,0.016677072271704674,0.05811460316181183,-0.06014818325638771,0.027334779500961304,-0.04056273773312569,-0.10715092718601227,0.025629166513681412,-0.056345827877521515,0.015859020873904228,-0.032033465802669525,-0.08666791021823883,-0.011477963998913765,0.07096941024065018,0.0023301728069782257,-0.011676727794110775,0.0009877681732177734,-0.09297456592321396,-0.08940372616052628,-0.09099698066711426,0.04982336238026619,0.03254273161292076,0.05722300335764885,0.04534204676747322,-0.0857778862118721,0.058211103081703186,0.050410106778144836,0.02841225266456604,-0.016140788793563843,-0.021664835512638092,0.04058340564370155,0.003936045337468386,-0.02953844517469406,0.11026203632354736,0.0479055717587471,-0.008855684660375118,-0.01668969728052616],\"payload\":{\"text\":\" con un mayor abasto de energéticos a mejores precios.\\\\n7. \\\\t Garantizar estándares internacionales de eficiencia, calidad y confiabilidad de suministro \\\\nenergético, así como transparencia y rendición de cuentas en las distintas actividades de la \\\\nindustria energética.\\\\n8.\\\\t\\\\nCombatir de manera efectiva la corrupción en el sector energético.\\\\n9.\\\\t\\\\nFortalecer la administración de los ingresos petroleros e impulsar el ahorro de largo plazo en \\\\nbeneficio de las futuras generaciones.\\\\n10.\\\\t Impulsar el desarrollo, con responsabilidad social y ambiental.\\\\nEstos objetivos se verán traducidos en beneficios concretos para los mexicanos:\\\\n\\\\n\",\"metadata\":{\"update_date\":\"Hoy\"}}}]}'"
      ]
     },
     "execution_count": 36,
     "metadata": {},
     "output_type": "execute_result"
    }
   ],
   "source": [
    "response.text"
   ]
  },
  {
   "cell_type": "code",
   "execution_count": null,
   "id": "22b22025",
   "metadata": {},
   "outputs": [],
   "source": []
  }
 ],
 "metadata": {
  "kernelspec": {
   "display_name": ".venv",
   "language": "python",
   "name": "python3"
  },
  "language_info": {
   "codemirror_mode": {
    "name": "ipython",
    "version": 3
   },
   "file_extension": ".py",
   "mimetype": "text/x-python",
   "name": "python",
   "nbconvert_exporter": "python",
   "pygments_lexer": "ipython3",
   "version": "3.11.10"
  }
 },
 "nbformat": 4,
 "nbformat_minor": 5
}
