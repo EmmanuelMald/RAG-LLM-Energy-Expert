{
 "cells": [
  {
   "cell_type": "markdown",
   "metadata": {},
   "source": [
    "# RAG - LLM - Parsing - Chunking\n",
    "\n",
    "Parsing is the process of extracting raw text from documents such as PDFs, .docx files, youtube videos and so on. It depends on the type of data you want to parse.\n",
    "\n",
    "For this LLM, only pdfs will be parsed"
   ]
  },
  {
   "cell_type": "markdown",
   "metadata": {},
   "source": [
    "## Load libraries"
   ]
  },
  {
   "cell_type": "code",
   "execution_count": 45,
   "metadata": {},
   "outputs": [],
   "source": [
    "import pymupdf\n",
    "import pymupdf4llm\n",
    "import sys\n",
    "from datetime import datetime\n",
    "from langchain_text_splitters import MarkdownHeaderTextSplitter, RecursiveCharacterTextSplitter\n",
    "from sentence_transformers import SentenceTransformer\n",
    "\n",
    "sys.path.append(\"..\")\n",
    "\n",
    "from gcp_utils.gcs import get_file\n",
    "from rag_llm_energy_expert.config import GCP_CONFIG, LLM_CONFIG"
   ]
  },
  {
   "cell_type": "code",
   "execution_count": 46,
   "metadata": {},
   "outputs": [
    {
     "name": "stdout",
     "output_type": "stream",
     "text": [
      "(2, 384)\n"
     ]
    }
   ],
   "source": [
    "\n",
    "\n",
    "model = SentenceTransformer(\"all-MiniLM-L6-v2\", trust_remote_code=True)\n",
    "# In case you want to reduce the maximum length:\n",
    "#model.max_seq_length = 8192\n",
    "\n",
    "queries = [\n",
    "    \"how much protein should a female eat\",\n",
    "    \"summit define\",\n",
    "]\n",
    "documents = [\n",
    "    \"As a general guideline, the CDC's average requirement of protein for women ages 19 to 70 is 46 grams per day. But, as you can see from this chart, you'll need to increase that if you're expecting or training for a marathon. Check out the chart below to see how much protein you should be eating each day.\",\n",
    "    \"Definition of summit for English Language Learners. : 1  the highest point of a mountain : the top of a mountain. : 2  the highest level. : 3  a meeting or series of meetings between the leaders of two or more governments.\",\n",
    "]\n",
    "\n",
    "#query_embeddings = model.encode(queries, prompt_name=\"query\")\n",
    "document_embeddings = model.encode(documents)\n",
    "\n",
    "#scores = (query_embeddings @ document_embeddings.T) * 100\n",
    "print(document_embeddings.shape)"
   ]
  },
  {
   "cell_type": "markdown",
   "metadata": {},
   "source": [
    "## Initialize config classes"
   ]
  },
  {
   "cell_type": "code",
   "execution_count": 47,
   "metadata": {},
   "outputs": [],
   "source": [
    "gcp_config = GCP_CONFIG()\n",
    "llm_config = LLM_CONFIG()"
   ]
  },
  {
   "cell_type": "markdown",
   "metadata": {},
   "source": [
    "## Parsing PDFs\n",
    "\n",
    "There are tons of libraries to extract data from PDFs, nevertheless, [*PyMuPDF*](https://pypi.org/project/pymupdf4llm/) is one of the best libraries because:\n",
    "\n",
    "- Detects standard text and tables\n",
    "- Header lines are identified via de font size and appropiately prefixed with one or more '#' tags.\n",
    "- Bold, italic, mono-spaced text and code blocks are detected and formatted accordingly.\n",
    "- By default, all document pages are processed.\n",
    "- Support for pages with multiple text columns.\n",
    "- Support image or vector graphic on the page and they're stored as an image.\n",
    "- ***Support for page chunks***. Instead of returning one large string for the whole document, a list of dictionaries can be generated. One for each page.\n",
    "\n",
    "*All the data parsed here comes from GCP*"
   ]
  },
  {
   "cell_type": "markdown",
   "metadata": {},
   "source": [
    "Reading into memory is faster than download the pdf into a file system, and then read the file from there. Moreover, it's useful when you do not have a persistent memory or you want to work directly with the file."
   ]
  },
  {
   "cell_type": "markdown",
   "metadata": {},
   "source": [
    "### Extracting data from PDF"
   ]
  },
  {
   "cell_type": "code",
   "execution_count": 48,
   "metadata": {},
   "outputs": [
    {
     "data": {
      "text/plain": [
       "'# Resumen Ejecutivo\\n\\n\\n-----\\n\\n-----\\n\\n## I. Introducción\\n\\nLa Reforma Energética es un paso decidido rumbo a la modernización del sector energético de\\nnuestro país, sin privatizar las empresas públicas dedicadas a la producción y al aprovechamiento de los hidrocarburos y de la electricidad. La Reforma Energética, tanto constitucional como a\\nnivel legistlación secundarias, surge del estudio y valoración de las distintas iniciativas presentadas por los partidos políticos representados en el Congreso.\\n\\n### La Reforma Energética tiene los siguientes objetivos y premisas fundamentales:\\n\\n1. Mantener la propiedad de la Nación sobre los hidrocarburos que se encuentran en el subsuelo.\\n2. Modernizar y fortalecer, sin privatizar, a Petróleos Mexicanos (Pemex) y a la Comisión Federal de Electricidad (CFE) como Empresas Productivas del Estado, 100% públicas y 100%\\nmexicanas.\\n3. Reducir la exposición del país a los riesgos financieros, geológicos y ambientales en las actividades de exploración y extracción de petróleo y gas natural.\\n4. Permitir que la Nación ejerza, de manera exclusiva, la planeación y control del Sistema\\nEléctrico Nacional, en beneficio de un sistema competitivo que permita reducir los precios\\nde la energía eléctrica.\\n5. Atraer mayor inversión al sector energético mexicano para impulsar el desarrollo del país.\\n6. Contar con un mayor abasto de energéticos a mejores precios.\\n7. Garantizar estándares internacionales de eficiencia, calidad y confiabilidad de suministro\\nenergético, así como transparencia y rendición de cuentas en las distintas actividades de la\\nindustria energética.\\n8. Combatir de manera efectiva la corrupción en el sector energético.\\n9. Fortalecer la administración de los ingresos petroleros e impulsar el ahorro de largo plazo en\\nbeneficio de las futuras generaciones.\\n10. Impulsar el desarrollo, con responsabilidad social y ambiental.\\n\\n**Estos objetivos se verán traducidos en beneficios concretos para los mexicanos:**\\n\\n1. Bajar las tarifas eléctricas y bajar el precio del gas natural.\\n2. Lograr tasas de restitución de reservas probadas de petróleo y gas natural superiores a\\n100%.\\n3. Aumentar la producción de petróleo de 2.5 millones de barriles diarios que se producen actualmente, a 3 millones de barriles en 2018, y a 3.5 millones en 2025, asimismo aumentar\\nla producción de gas natural de los 5 mil 700 millones de pies cúbicos diarios producidos\\nactualmente a 8 mil millones en 2018 y a 10 mil 400 millones en 2025.\\n4. Generar cerca de un punto porcentual más de crecimiento económico en 2018 y aproximadamente 2 puntos porcentuales más para 2025.\\n5. Crear cerca de medio millón de empleos adicionales en este sexenio, llegando a 2 millones\\ny medio de empleos en 2025.\\n6. Sustituir las centrales eléctricas más contaminantes con tecnologías limpias y fomentar la\\nutilización de gas natural en la generación eléctrica.\\n\\n\\n### 3\\n\\n\\n-----\\n\\n## II. Abasto de energéticos a precios competitivos\\n\\n### i) Nuevo modelo de producción de petróleo y gas natural\\n\\nMéxico, al igual que muchos otros países con abundantes recursos naturales, sustenta en gran\\nmedida su desarrollo económico y social en la riqueza energética. Sin embargo, el sector petrolero mexicano enfrenta retos considerables y urgentes por atender, entre los que se encuentran\\nla caída de la producción y la necesidad de mayor inversión a nivel industria.\\n\\nA pesar de invertir más en exploración y extracción de petróleo y gas natural, la producción de\\npetróleo pasó de 3.4 millones de barriles diarios en 2004, a 2.5 millones de barriles diarios en\\n2013. Con respecto al gas natural, en 1997 México era prácticamente autosuficiente, pues\\nsólo importábamos 3% del consumo nacional. En la actualidad importamos 30% del gas natural que consumimos en el país.\\n\\nEl petróleo y gas natural del futuro provendrán de los llamados “recursos no convencionales”,\\nque se encuentran en cuencas de lutitas y en aguas profundas. Aunque México cuenta con grandes reservas de estos recursos, carece de la capacidad técnica, financiera y de ejecución para\\nextraer estos hidrocarburos de forma competitiva.\\n\\nEl principal obstáculo para materializar plenamente el potencial de nuestro país en este tipo de\\nyacimientos era el marco constitucional. Antes de la Reforma, la Constitución obligaba a Pemex\\na llevar a cabo, por sí solo, todas las actividades de la industria petrolera, sin importar las restricciones financieras, operativas o tecnológicas a las que estuviera sujeto.\\n\\nDe acuerdo con estimaciones de Pemex, desarrollar el potencial la industria nacional de exploración y extracción requeriría de aproximadamente 60 mil millones de dólares al año dado el\\nportafolio de inversión que se tiene identificado. Sin embargo, hoy Pemex sólo cuenta en su presupuesto anual con alrededor de 27 mil millones de dólares. Incluso un régimen fiscal más atractivo para Pemex sería insuficiente para desarrollar el portafolio identificado.\\n\\n**La Reforma Energética a Nivel Constitucional**\\n\\n- En el Artículo 27 Constitucional:\\n\\nSe reafirma la propiedad inalienable e imprescriptible de la Nación sobre los hidrocarburos\\nen el subsuelo y la prohibición expresa de otorgar concesiones para exploración y extracción.\\n\\nSe establece la posibilidad de que la Nación otorgue asignaciones o contratos a Pemex e\\nincorpora también la posibilidad de otorgar contratos a empresas privadas. Esto permitirá poner en producción yacimientos de hidrocarburos que en la actualidad se encuentran\\nociosos por falta de inversión, de capacidad de ejecución y de tecnología.\\n\\nSe establece que la propiedad de la Nación sobre los hidrocarburos en el subsuelo deberá\\nafirmarse en las asignaciones o contratos.\\n\\n\\n### 4\\n\\n\\n-----\\n\\n- En el Artículo 28 Constitucional se establece que la exploración y extracción de petróleo y\\n\\ngas son actividades estratégicas.\\n\\n- La reforma constitucional establece que la ley regulará las modalidades de contraprestación\\n\\npor las actividades de exploración y extracción de petróleo y gas natural, incluyendo contratos de utilidad o de producción compartida, de licencia o de servicios. El Estado definirá el tipo\\nde contrato que más convenga al país y escogerá la modalidad de contraprestación para lograr el mayor beneficio para el desarrollo de largo plazo del país.\\n\\n- Toda la información de los contratos estará disponible para todos los mexicanos.\\n\\n- Pemex y los particulares podrán reportar a inversionistas y reguladores, así como al público en general, los proyectos que desarrollen en México y los beneficios esperados, siempre\\ny cuando se afirme en las asignaciones o contratos que el petróleo, el gas natural y los demás hidrocarburos que se encuentren en el subsuelo pertenecen únicamente a México y a los\\nmexicanos.\\n\\n- Se mantendrá y fortalecerá el papel estratégico de Pemex en la industria petrolera. Mediante\\n\\nla “Ronda Cero”, Pemex podrá elegir aquellos campos en producción y aquellas áreas en exploración que tengan interés en operar y donde demuestre tener capacidad técnica, financiera y de ejecución para desarrollarlos en forma eficiente y competitiva y podrá migrarlas hacia\\nun esquema de contratos, con los que podrá acceder a mejores condiciones fiscales.\\n\\n- Dada la relevancia que las actividades petroleras revisten para el desarrollo nacional, la reforma constitucional establece que todas las actividades de exploración y extracción de petróleo y de gas natural son de interés social y de orden público.\\n\\n- La reforma constitucional fortalece las instituciones del Estado en materia de exploración y\\n\\nexplotación de petróleo y gas natural, ya que distribuye eficientemente las de responsabilidades y facultades:\\n\\nLa Secretaría de Energía (SENER) se mantiene como la cabeza del sector y tiene entre sus\\nprincipales facultades: i) definir la política energética, ii) adjudicar asignaciones a Pemex y\\niii) seleccionar las áreas que podrán ser objeto de contratos para la exploración y extracción de petróleo y gas natural.\\n\\nLa Comisión Nacional de Hidrocarburos (CNH) será un Órgano Regulador Coordinado,\\ncon personalidad jurídica propia, autonomía técnica y de gestión y autosuficiencia presupuestaria. La CNH será la encargada de i) recopilar la información geológica y operativa; ii)\\nautorizar trabajos de reconocimiento y exploración superficial; y iii) llevar a cabo las licitaciones y asignar contratos de exploración y extracción de gas natural y petróleo, de suscribirlos y administrarlos de manera técnica.\\n\\n**Legislación Secundaria**\\n\\n- Para la realización de las actividades de exploración y extracción de hidrocarburos el Estado\\n\\ntiene la posibilidad de otorgar asignaciones o suscribir contratos.\\n\\n\\n### 5\\n\\n\\n-----\\n\\n### Asignaciones\\n\\n            - Se otorgarán a Pemex en la Ronda Cero.\\n\\n            - Posteriormente, se otorgan de forma excepcional a Pemex y a otras\\n\\nEmpresas Productivas del Estado.\\n\\n            - Las asignaciones permiten la adjudicación directa a Pemex de proyectos estratégicos tales como yacimientos transfronterizos.\\n\\n            - Los asignatarios podrán registrar el beneficio económico esperado\\n\\npara efectos financieros y contables.\\n\\n### Contratos para la Exploración y Extracción\\n\\n- Los hidrocarburos en el subsuelo son propiedad de la Nación.\\n\\n- Los contratos pueden ser suscritos con a) Pemex, b) Pemex asociado con particulares o c) particulares.\\n\\n- Adjudicación por licitación a quien ofrezca las mejores condiciones\\n\\neconómicas para el Estado y el mayor compromiso de inversión.\\n\\n- Se contempla la posibilidad de recisión administrativa por causas\\n\\ngraves específicas.\\n\\n- En caso de recisión el contratista podrá ser acreedor a un finiquito.\\n\\n- Los contratistas podrán registrar el beneficio económico esperado\\n\\npara efectos financieros y contables.\\n\\n- Se podrá establecer una participación directa del Estado (máximo\\n\\n30%) a través de Pemex o de un vehículo financiero de la SENER.\\n\\n- El Estado participará directamente en la inversión (al menos 20%) en las zonas donde pudiera haber un yacimiento transfronterizo.\\n\\n- En el proceso de diseño, otorgamiento, operación y administración de los contratos se propone un mecanismo institucional de pesos y contrapesos que contempla la participación de:\\nla SENER, la Secretaría de Hacienda y Crédito Público (SHCP), la CNH, la Agencia Nacional de\\nSeguridad Industrial y de Protección al Medio Ambiente del Sector Hidrocarburos y el Fondo\\nMexicano del Petróleo para la Estabilización y el Desarrollo. Sus responsabilidades se dividen\\nde la siguiente forma:\\n\\n1. La SENER se encargará de i) seleccionar las áreas para licitación de contratos, ii) determinar\\ny diseñar el tipo de contrato que aplicará a cada área contractual y iii) emitir los lineamientos\\ntécnicos para establecer las bases de licitación.\\n\\n2. La SHCP será responsable de determinar: i) los términos económicos y fiscales de los contratos; ii) las variables de adjudicación, que serán de carácter económico; y iii) verificar el correcto cumplimiento de las obligaciones fiscales y contractuales, incluyendo las operaciones que\\nrealice el Fondo Mexicano del Petróleo para la Estabilización y el Desarrollo.\\n\\n3. La CNH llevará a cabo las licitaciones para adjudicar contratos para la exploración y extracción de hidrocarburos y suscribirá los contratos con el ganador de la licitación. También aprobará los planes de exploración y extracción y autorizará la perforación de pozos.\\n\\n\\n### 6\\n\\n\\n-----\\n\\n4. La Agencia Nacional de Seguridad Industrial y de Protección al Medio Ambiente será la encargada de supervisar y, en su caso, sancionar a los contratistas y asignatarios en materia de\\nprotección de las personas, los bienes y el medio ambiente.\\n\\n5. El Fondo Mexicano del Petróleo para la Estabilización y el Desarrollo será el encargado de\\ni) recibir todos los ingresos, ii) realizar los pagos según lo establecido en cada contrato y\\niii) administrar los recursos que corresponden al Estado.\\n\\nEl régimen fiscal se detalla en la Ley de Ingresos sobre Hidrocarburos. Los elementos considerados son consistentes con los estándares internacionales para asegurar que la Nación capture\\nla renta petrolera e impulsar la exploración y extracción de hidrocarburos. En la Ley de Ingresos\\nsobre Hidrocarburos se norman, entre otros, las siguientes modalidades de contraprestaciones:\\n\\n1. El pago de regalías básicas y adicionales;\\n\\n2. Cuotas por la fase exploratoria;\\n\\n3. Para los contratos de licencia, un bono por la suscripción del contrato, y\\n\\n4. Pagos determinados como una proporción de la utilidad (en especie o en efectivo).\\n\\n- La iniciativa contempla que los contratos para la exploración y extracción de hidrocarburos\\n\\nse desarrollen de manera individual, en consorcio, es decir con un grupo de empresas, o en\\nasociación en participación. Los consorcios y asociaciones se podrán llevar a cabo de forma\\nlibre, durante la propuesta presentada en la licitación, o con autorización de la CNH, una vez\\nadjudicado el contrato. Cuando una asignación migre a un contrato podrá llevarse a cabo una\\nasociación entre Pemex y un partícular, y la CNH realizará una licitación para elegir al socio\\n(incluyendo las asignaciones de la Ronda Cero).\\n\\n- El modelo propuesto también considera que Pemex podrá migrar a la nueva modalidad de\\n\\ncontratación, aquellos contratos que en el pasado fueron otorgados por medio de una licitación.\\n\\n- Para asegurar el desarrollo eficiente del sector y la existencia de un mercado donde exista\\n\\ncompetencia, los contratos para la industria de hidrocarburos no podrán dar exclusividad o\\npreferencia ilícita que beneficie a organizaciones empresariales, sociales o sindicales.\\n\\n- Toda la información geológica del país será entregada a CNH, quien la administrará en el Centro Nacional de Información de Hidrocarburos. Pemex y las empresas productivas del Estado\\ny los particulares podrán realizar estudios de reconocimiento o exploración superficial, previa\\nautorización de CNH.\\n\\n- La legislación secundaria contempla que Pemex o los particulares podrán proponer a la SENER áreas a licitar en el futuro, con base en la información obtenida. Las propuestas no otorgan derechos ni ventajas para la suscripción de un contrato.\\n\\n\\n### 7\\n\\n\\n-----\\n\\n- Se propone que los operadores puedan comercializar libremente los hidrocarburos que reciban como contraprestación. El Estado colocará en los mercados los hidrocarburos que reciba,\\na través de un comercializador que la CNH contrate través de licitación pública.\\n\\n- Se reconoce la prevalencia de las actividades de exploración y extracción de hidrocarburos\\n\\nsobre cualquier otra actividad, incluyendo la actividad minera; tambien se reconoce el gas\\nasociado al carbón (gas grisú) como hidrocarburo más por lo que se elimina de la Ley Minera.\\n\\n- Se propone que los titulares de concesiones mineras que acrediten solvencia económica y\\n\\ncapacidad técnica podrán suscribir un contrato con la CNH, sin que medie ninguna licitación.\\nEsto sólo aplicará para minas en las que se esté extrayendo carbón actualmente y el contrato amparará únicamente la extracción del gas grisú.\\n\\n- Se considera que si la adjudicación de un contrato o asignación llegara a afectar los derechos\\n\\nde superficie de una concesión minera, donde se estén extrayendo minerales, el titular de la\\nconcesión recibirá una contraprestación, definida mediante una negociación, o una indemnización que determine CNH.\\n\\n\\n\\n- Para definir los términos y las condiciones de la contraprestación que se deberá cubrir por la\\n\\nocupación o afectación superficial, se privilegia la negociación entre operadores y propietarios de los terrenos. Esto se hace con la asistencia de la Procuraduría Agraria y de testigos sociales, y con criterios de referencia para la definición de las contraprestaciones, acordes con\\nlas mejores prácticas internacionales. Dichas contraprestaciones pueden contemplar, entre\\notros, el pago de un porcentaje del ingreso del operador después de realizados los pagos al\\nEstado.\\n\\n- Se establece que durante la ocupación temporal se respetarán en todo momento los derechos que la legislación y los tratados internacionales suscritos por México confieran a las comunidades indígenas.\\n\\n- Se prohíben las actividades de exploración y extracción de hidrocarburos en zonas naturales\\n\\nprotegidas.\\n\\n### ii) Nuevo modelo de producción de petrolíferos y petroquímicos\\n\\nHace 15 años, nuestro país importaba 25% de las gasolinas. En contraste, 49% de la gasolina\\nque se consumió en el país durante 2012 provino del exterior. En el caso de la petroquímica se\\npresenta una situación similar; mientras que en 1997 se importaba 41% de los petroquímicos\\nque se consumían en el país, para 2012 dicha cifra ascendió a 66%.\\n\\nPofr una parte, hasta diciembre de 2013, el marco constitucional no permitía a Pemex asociarse en México con otras empresas para mejorar su rendimiento sin embargo, este pero ese tipo\\nde asociaciones sí las podía hacer en el extranjero. Por otra parte, el marco jurídico dividía la petroquímica en básica, que no estaba abierta a la inversión privada, y secundaria, que sí lo estaba.\\nEsta división virtual no coincidía con los procesos industriales.\\n\\n\\n### 8\\n\\n\\n-----\\n\\nAunque hoy los privados ya participan en la petroquímica secundaria, se requiere de los insumos\\nde la petroquímica básica cuyo abasto resulta insuficiente, pues hasta antes de la Reforma Pemex debía desarrollarlos de manera exclusiva. Es por ello que algunas empresas mexicanas de\\npetroquímica han preferido invertir en el extranjero, generando inversiones, creando empleos y\\npagando impuestos fuera de México\\n\\n.\\n**La Reforma Energética Constitucional**\\n\\n- En el Artículo 28 Constitucional se eliminó a la petroquímica básica como una de las actividades reservadas al Estado para terminar con la división ficticia que la separaba de la petroquímica secundaria.\\n\\n- Se abre la posibilidad de que tanto Pemex como particulares participen en actividades de refinación, procesamiento de gas natural y petroquímica.\\n\\n- La SENER otorgará permisos, ya sea a Pemex o a particulares, para realizar las actividades de\\n\\ntratamiento y refinación del petróleo y para el procesamiento de gas natural.\\n\\n- Se integrarán cadenas productivas en nuestro país con inversión pública y privada para aumentar la oferta doméstica de combustibles, gasolinas y petroquímicos.\\n\\n**Legislación Secundaria**\\n\\n- Se permite la participación de particulares en refinación y procesamiento de gas natural, precio permiso de SENER pudiendo operar por su cuenta o en asociación con Empresas Productivas del Estado. Pemex también podrá asociarse, como actualmente ya lo hace en el extranjero.\\n\\n- Se establece la petroquímica en todas sus fases como actividad de libre concurrencia.\\n\\n- Se establecen atribuciones para las instituciones del Estado en materia de permisos y regulación.\\n\\n### iii) Nuevo modelo de transporte, almacenamiento y distribución de hidrocarburos y sus derivados.\\n\\nMéxico no cuenta con la infraestructura suficiente para transportar y distribuir el petróleo, el\\ngas natural y sus derivados. Esto implica que se transporten de manera poco eficiente y poco segura, generando mayores costos. A su vez, esto eleva los precios de estos productos y restringe\\nel crecimiento de la industria.\\n\\nEl Sistema Nacional de Gasoductos se encuentra a su máxima capacidad y en ocasiones ha sido\\nrebasado por las necesidades energéticas de nuestro país, afectando a la actividad industrial y\\ncomercial.\\n\\n**La Reforma Energética Constitucional**\\n\\n- En el Artículo 28 Constitucional:\\n\\nSe establece que en materia de hidrocarburos, sólo las actividades de exploración y extracción de petróleo y gas son exclusivas del Estado. Esto permite la participación de par\\n\\n### 9\\n\\n\\n-----\\n\\nticulares en el transporte, almacenamiento y distribución del petróleo, gas natural, petrolíferos y petroquímicos.\\n\\n- Se crea el Centro Nacional de Control del Gas Natural. Este centro será un organismo público\\n\\ndescentralizado encargado de administrar, coordinar y gestionar de forma eficiente la red de\\nductos y el almacenamiento del gas natural en nuestro país.\\n\\n- Se fortalecen las instituciones del Estado en materia de transporte, almacenamiento y distribución de hidrocarburos.\\n\\nLa Comisión Reguladora de Energía (CRE), se transforma en un Órgano Regulador Coordinado, con personalidad jurídica propia, autonomía técnica y de gestión, así como autosuficiencia presupuestaria.\\n\\n- La CRE otorgará permisos para el almacenamiento, transporte y distribución de petróleo, gas\\n\\nnatural y petrolíferos, así como de etano, propano, butano y naftas que se transporten exclusivamente por ducto. También garantizará el acceso abierto y en igualdad de circunstancias\\na la utilización de la infraestructura de transporte por ductos y almacenamiento de hidrocarburos y de sus derivados. De igual forma emitirá la regulación de las ventas de primera mano\\nde estos producto hasta en tanto exista competencia efectiva.\\n\\n**Iniciativa de Legislación Secundaria**\\n\\n- SENER y la CRE se encargarán de la regulación y expedición de permisos:\\n\\n- Los permisionarios que presten los servicios de transporte y distribución por medio de ductos\\n\\ny almacenamiento de hidrocarburos tendrán la obligación de dar acceso abierto a sus instalaciones y servicios.\\n\\n- La Reforma Constitucional en Materia Energética previó la creación del CENAGAS como\\norganismo público descentralizado. Con base en la Reforma, el CENAGAS será el gestor y ad\\n\\n### 10\\n\\n\\n-----\\n\\nministrador independiente del Sistema de Transporte y Almacenamiento Nacional Integrado de\\nGas Natural, mismo que se podrá estará conformar conformado por la siguiente infraestructura:\\n\\n1. Ductos de transporte e instalaciones de almacenamiento de gas natural, y\\n\\n2. Equipos de compresión, licuefacción, descompresión, regasificación y demás instalaciones\\nvinculadas a la infraestructura señalada en el mineral anterior.\\n\\n  - Se promoverá la existencia de precios competitivos para los usuarios y plena competencia\\n\\nen los servicios. Esto se hará a través de la inclusión de reglas que establezcan una clara\\nseparación entre las actividades que realice cada participante.\\n\\n  - Se proponen principios para evitar el acaparamiento y posibles conflictos de interés que\\n\\ninhiban el adecuado desarrollo del subsector.\\n\\n  - Se prevé una apertura gradual y progresiva en las actividades de expendio al público de gasolinas y diésel, así como para gas licuado de petróleo. Como parte del proceso ordenado\\nde apertura, se plantea que la importación de combustibles sea liberada a partid de 2016\\nen el caso del gas licuado de petróleo, y a partir de 2017 para gasolinas y diésel.\\n\\n**Apertura gradual en el mercado de gasolinas y diésel**\\n\\n**Apertura gradual en gas Licuado de Petróleo (LP)**\\n\\n\\n### 11\\n\\n\\n-----\\n\\n### iv) Nuevo modelo de generación, transmisión, distribución y comercialización de energía eléctrica.\\n\\nEn comparación con Estados Unidos, en México las tarifas promedio son 25% más altas, aun\\ncon el subsidio, sin el cual resultarían 73% más caras. Esto constituye un freno a la economía\\nmexicana, pues la electricidad es un insumo esencial para la actividad industrial, comercial y de\\nservicios.\\n\\nUno de los grandes retos que enfrenta el sector es la falta de inversión en la red nacional de\\ntransmisión eléctrica. Se requiere incrementar el mallado e interconectar zonas del país con alto\\npotencial de energías limpias.\\n\\nRespecto a la distribución, hoy se registran ineficiencias significativas. Las pérdidas técnicas y no\\ntécnicas de energía en México son alrededor del doble del promedio de los países de la OCDE.\\nAproximadamente 15% de la energía producida por la CFE no se cobra.\\n\\n**La Reforma Energética Constitucional**\\n\\n- En el Artículo 25 Constitucional:\\n\\nSe establece la categoría de Empresas Productivas del Estado para que la CFE pueda consolidarse como una empresa con altos estándares de competitividad.\\n\\n- En el Artículo 27 Constitucional:\\n\\nSe establece que la planeación y el control del Sistema Eléctrico Nacional, así como el servicio público de transmisión y distribución de electricidad son áreas exclusivas del Estado.\\nSe mantiene la prohibición expresa de otorgar concesiones en estas áreas y se permite\\nque el Estado celebre contratos con particulares. De esta forma, por cuenta de la Nación\\nse pueden llevar a cabo actividades para el servicio público de transmisión y distribución\\nde energía eléctrica.\\n\\n- En el Artículo 28 Constitucional:\\n\\nSe establece que la planeación y el control del Sistema Eléctrico Nacional (SEN) y el servicio público de transmisión y distribución de electricidad son áreas exclusivas del Estado.\\n\\n- La CFE y particulares podrán realizar actividades de generación de electricidad de forma libre,\\n\\ncon una regulación sólida y eficiente.\\n\\n- La CFE mantiene las actividades de generación eléctrica que realiza desde antes de la reforma, y podrá construir nuevas plantas, modernizando su base de generación.\\n\\n- Los particulares podrán instalar nuevas plantas sin requerir que CFE decida incluirlas dentro\\n\\nde la planeación de la empresa.\\n\\n- El Centro Nacional de Control de Energía (CENACE),que formaba parte de CFE se constituirá\\n\\ncomo un organismo público descentralizado encargado del control operativo del SEN. Tam\\n\\n### 12\\n\\n\\n-----\\n\\nbién será el encargado de operar el mercado eléctrico mayorista, y de garantizar a los generadores el acceso abierto a la red nacional de transmisión.\\n\\n- Se podrán celebrar contratos entre particulares y la CFE para el financiamiento, instalación,\\n\\nmantenimiento, gestión, operación, ampliación, modernización, vigilancia y conservación de\\nla infraestructura del servicio público de transmisión y distribución de energía eléctrica. De\\nesta forma se podrá aprovechar la tecnología y experiencia de particulares a fin de reducir\\ncostos y pérdidas de operación.\\n\\n- La Reforma Energética permitirá reducir el costo de la electricidad, que depende en 80% del\\n\\nprecio del combustible que se usa para generarla. El gas natural es 4 veces más barato y emite 68% menos emisiones de dióxido de carbono que el combustóleo, que es uno de los principales combustibles con los que se genera electricidad en México.\\n\\n- México tiene múltiples yacimientos de gas natural; sin embargo, su producción ha ido a la\\n\\nbaja y hoy importamos 30% de nuestro consumo. Con la Reforma Energética, tendremos\\nmúltiples operadores para extraer el gas natural que necesitamos, y así contaremos con insumos para generar electricidad de menor costo y más limpia.\\n\\n- La CRE se encargará de la regulación y el otorgamiento de permisos para la generación, así\\n\\ncomo de las tarifas de porteo para transmisión y distribución.\\n\\n**Legislación Secundaria**\\n\\n- Se permite la participación de privados en la generación y comercialización de energía eléctrica, manteniéndose como áreas estratégicas del Estado la planeación y el control del Sistema\\nEléctrico Nacional y el servicio público de transmisión y distribución de energía eléctrica.\\n\\n- Se expide la Ley de Energía Geotérmica que regulará el reconocimiento, exploración y explotación de recursos geotérmicos para su aprovechamiento con el fin de generar energía eléctrica o destinarla a usos diversos.\\n\\nLa nueva Ley de Energía Geotérmica propone que CFE indique a SENER las áreas geotérmicas de\\nsu interés para el otorgamiento de permiso o concesión. Esto lo que deberá realizar dentro de\\nlos 120 días posteriores al inicio de vigencia de la ley. CFE podrá establecer asociaciones o desarrollar por sí misma estos proyectos.\\n\\n- Se prevén modalidades de contratación entre el Estado y los particulares para que éstos contribuyan con su tecnología y experiencia a la expansión y mejoramiento de las redes de transmisión y distribución. Esto permitirá combatir las pérdidas de energía eléctrica y aumentar la\\neficiencia del proceso de distribución de energía eléctrica.\\n\\n\\n### 13\\n\\n\\n-----\\n\\n- La coordinación necesaria para satisfacer la demanda de energía al menor costo y proveer la\\n\\nestabilidad necesaria al sistema eléctrico seguirá en manos del CENACE. Su nuevo status de\\norganismo público descentralizado garantizará su imparcialidad al momento de despachar\\nenergía eléctrica.\\n\\n**Mercado Eléctrico**\\n\\n- El mercado eléctrico establecerá precios spot para la compraventa de energía a corto plazo\\n\\nentre los participantes mayoristas (generadores, comercializadores y usuarios calificados).\\n\\n- Los participantes podrán celebrar contratos de largo plazo entre ellos con precios energéticos negociados libremente. Los usuarios calificados podrán contratar su servicio a través de\\nsuministradores calificados, quienes fijarán sus precios a fin de competir por clientes.\\n\\n- La Secretaría de Hacienda y Crédito Público conservará la facultad de fijar las tarifas finales\\n\\nde los usuarios de servicio básico, mientras que la CRE regulará las tarifas de transmisión y\\ndistribución.\\n\\n- Se propone la creación de un Fondo de Servicio Universal Eléctrico para financiar la electrificación en las comunidades rurales y zonas urbanas marginadas. Entre otros ingresos, el Fondo\\nse integrará por los excedentes que resulten de la gestión de pérdidas de energía en el mercado eléctrico.\\n\\n- Se incluye un esquema de Certificados de Energías Limpias, a través del cual la SENER determinará el porcentaje de energía que debe generarse cada año a partir de fuentes limpias. El\\ncumplimiento se acreditará a través de la compra de Certificados de Energías Limpias.\\n\\n## III. Fondo Mexicano del Petróleo para la Estabilización y el Desarrollo\\n\\nDurante los últimos 30 años, la industria petrolera y sus ingresos han sido el pilar de las finanzas públicas y el motor de la actividad económica del país. Hoy, el principal reto a las finanzas\\npúblicas es revertir la caída en la producción de petróleo. Hasta ahora, los altos precios de dicho\\n\\n\\n### 14\\n\\n\\n-----\\n\\nproducto han permitido compensar la caída en la producción, sin embargo, en los próximos años\\nya no tendremos ese margen.\\n\\nSi bien desde hace un par de décadas existen diversos fondos destinados a administrar parte de\\nlos ingresos petroleros del país, sus alcances en la ley eran limitados y, más allá del ahorro en dichos fondos de estabilización, no se preveían mecanismos explícitos de ahorro.\\n\\n**La Reforma Energética Constitucional**\\n\\n- El Artículo 28 Constitucional establece la creación de un fideicomiso público sujeto a obligaciones de transparencia denominado Fondo Mexicano del Petróleo para la Estabilización y el\\nDesarrollo. La institución fiduciaria será el Banco de México.\\n\\n- El Fondo Mexicano del Petróleo para la Estabilización y el Desarrollo será un fideicomiso público para administrar la renta petrolera pensando en las futuras generaciones de mexicanos.\\n\\n- Con la creación del Fondo, los ingresos petroleros serán utilizados de manera eficiente, productiva y transparente para asegurar la estabilidad de las finanzas públicas y el ahorro de\\nlargo plazo. Los recursos petroleros se destinarán a disminuir pasivos, garantizar y expandir\\nla seguridad social, la educación y el desarrollo regional.\\n\\n**Iniciativa de Legislación Secundaria**\\n\\n- Para decidir la asignación de recursos, el Fondo contará con un Comité Técnico formado\\n\\npor dos miembros del Gobierno de la República: el Secretario de Hacienda y Crédito Público\\n(quien lo presidirá y contará con voto de calidad) y el Secretario de Energía, el Gobernador\\ndel Banco de México, y cuatro miembros independientes nombrados por el Presidente con la\\naprobación del Senado.\\n\\n- De los ingresos petroleros que reciba, el Fondo podrá transferir un monto de hasta el 4.7%\\n\\ndel PIB para el presupuesto. Los ingresos que se ubiquen por encima de ese nivel se mantendrán en el Fondo como ahorro de largo plazo.\\n\\n\\n### 15\\n\\n\\n-----\\n\\n- La distribución propuesta de los ingresos petroleros permitirá que generaciones futuras puedan beneficiarse de incrementos en los niveles de producción. Asimismo se contará con recursos para estabilizar las finanzas públicas y hacer frente a imprevistos.\\n\\n- Los recursos del Fondo Mexicano del Petróleo se considerarán recursos federales y quedarán\\n\\nsujetos a las facultades de fiscalización de las autoridades federales competentes, conforme\\na las disposiciones jurídicas aplicables.\\n\\n- Además, se establece que el Fondo deberá poner a disposición de la sociedad toda la información relativa a los ingresos que reciba, tanto por contratos como por asignaciones, los pagos que realice a los contratistas, y el destino de dichos recursos.\\n\\n## IV. Órganos reguladores coordinados en hidrocarburos y electricidad\\n\\nAntes de que se llevara a cabo la Reforma Constitucional en Materia Energética, la regulación\\ndel sector recaía en la SENER, a través de sus órganos desconcentrados (CNH y CRE). Por esto\\nno había una clara separación entre la entidad responsable del diseño de la política energética y\\naquéllas que debían dedicarse a promover una operación adecuada y eficiente.\\n\\nAdicionalmente, CNH y CRE operaban en un entorno en el que los principales proyectos en la\\nindustria de hidrocarburos y de electricidad eran responsabilidad de sólo dos entidades paraestatales: Pemex y la CFE. En consecuencia, la estructura del sector energético se enfocó a la regulación de sólo un actor en cada actividad sustantiva.\\n\\n**La Reforma Energética Constitucional**\\n\\n- En el Artículo 28 Constitucional se establece que la CNH y la CRE serán Órganos Reguladores Coordinados en Materia Energética. Esto implica que tendrán personalidad jurídica propia,\\nautonomía técnica y de gestión, así como autosuficiencia presupuestaria, pues dispondrán de\\nlos ingresos derivados de las contribuciones y aprovechamientos por sus servicios a través de\\nun fideicomiso público.\\n\\n- Los Órganos Reguladores Coordinados en Materia Energética remplazarán a los órganos desconcentrados que se tienen en la actualidad.\\n\\n**Legislación Secundaria**\\n\\n- Entre las atribuciones de los órganos reguladores coordinados se proponen: i) Regular, supervisar y sancionar en las materias de su competencia, ii) Aportar elementos técnicos al Ejecutivo Federal sobre la formulación de políticas energéticas, y iii) aprobar su anteproyecto de\\npresupuesto.\\n\\n\\n\\n- Los Órganos Reguladores Coordinados en Materia Energética se coordinarán con la SENER a\\n\\ntravés del Consejo de Coordinación del Sector Energético. Éste estará integrado por el titular de la SENER, quien fungirá como presidente del Consejo, los subsecretarios de la SENER,\\nlos presidentes de CNH y CRE, y así como por los directores generales del CENAGAS y del\\n\\n\\n### 16\\n\\n\\n-----\\n\\nCENACE. A las reuniones del Consejo se podrá invitar a los titulares de otras dependencias y\\nentidades gubernamentales.\\n\\n- El Consejo de Coordinación del Sector Energético tendrá como funciones: i) Dar a conocer la\\n\\npolítica energética establecida por la SENER a los órganos reguladores coordinados, ii) Analizar los programas de trabajo anual de CNH y CRE, así como su ejecución, iii) Implementar\\nsistemas de información compartida y de cooperación institucional, y iv) Analizar casos específicos que puedan afectar el desarrollo y cumplimiento de la política energética y v) proponer mecanismos de coordinación.\\n\\n## V. Empresas Productivas del Estado en hidrocarburos y electricidad\\n\\nPemex y la CFE, a pesar a ser las mayores empresas públicas del país, presentan grandes retos\\ny áreas de oportunidad en torno a su eficiencia y productividad. Esto se debe en gran medida a\\nque el anterior marco jurídico les impedía operar con la flexibilidad necesaria para potenciar sus\\ncapacidades productivas y así aumentar su rentabilidad. Tampoco se les permitía la asociación\\ncon particulares en las actividades reservadas al Estado, dejándoles la responsabilidad absoluta\\nde proveer de insumos energéticos y de electricidad al país, sin posibilidad de complementar sus\\nesfuerzos con terceros. Además, no podían actuar con agilidad ante los requerimientos de las\\nindustrias petrolera y eléctrica globales, lo que repercutió en elevados costos en sus procesos e\\ninversiones poco productivas y, como consecuencia, menor competitividad.\\n\\n**La Reforma Energética Constitucional**\\n\\n- El Artículo 25 Constitucional establece la transformación de Pemex y CFE en Empresas Productivas del Estado, cuyo objeto será la creación de valor económico e incrementar los ingresos de la Nación, con sentido de equidad y responsabilidad social y ambiental.\\n\\n- Pemex y la CFE se mantienen como empresas 100% mexicanas y 100% del Estado, cuya organización, administración, organización y estructura corporativa serán acordes con las mejores prácticas internacionales.\\n\\n**Legislación Secundaria**\\n\\n- Pemex y CFE contarán con un régimen presupuestario especial y exclusivo que les otorga autonomía presupuestaria y las sujeta sólo al balance financiero y al techo de servicios personales.\\n\\n- Para el manejo de su deuda, Pemex y CFE se regirán por lo dispuesto en un artículo especial de la Ley General de Deuda Pública. Ambas empresas podrán realizar negociaciones, así\\ncomo contratar los financiamientos externos e internos que requieran, para lo que deberán\\ncoordinarse con la SHCP, sin requerir de su autorización.\\n\\n- El Gobierno de la República dejará de ser el “administrador principal” de los órganos de gobierno de las Empresas Productivas del Estado para asumir el rol de propietario.\\n\\n\\n### 17\\n\\n\\n-----\\n\\n- El Gobierno de la República podrá absorber una parte del pasivo de pensiones y jubilaciones\\n\\nde PEMEX y CFE, sujeto a que acuerden con sus trabajadores un nuevo régimen de pensiones\\nque reduzca esos pasivos y la Auditoria Superior de la Federación audite la evolución de dichos pasivos.\\n\\n- Los Consejos de Administración de ambas empresas tendrán una nueva estructura organizacional y se encargarán de: i) Definir la visión estratégica del grupo corporativo; ii) Emitir las\\npolíticas en materia de inversiones, plan de negocios y contrataciones; iii) Emitir su estatuto\\norgánico; y iv) Vigilar y evaluar el desempeño de la empresa.\\n\\n## VI. Promoción de inversión privada, contenido nacional e impulso al desarrollo de las empresas mexicanas.\\n\\nEn el marco legal vigente con anterioridad a las reformas, las actividades de exploración, extracción y refinación de hidrocarburos, la petroquímica básica, así como las actividades de transmisión, distribución y comercialización de energía eléctrica, se encontraban reservadas de forma\\nexclusiva al Estado. Si bien en la ley permitía la participación de particulares en la generación\\neléctrica, ésta se encontraba limitada a la capacidad de contratación por parte de la CFE y unas\\nmodalidades limitadas de autoabastecimiento, cogeneración y exportación.\\n\\nLas necesidades energéticas del país, las exigencias de un entorno internacional cada vez más\\ncompetitivo, el notable incremento en los riesgos y el monto de las inversiones requeridas para\\nla producción de hidrocarburos y el abasto eléctrico, hacen prácticamente imposible que las empresas públicas, por eficientes que resulten, sean capaces de hacerlo todo por sí mismas.\\n\\n**La Reforma Energética Constitucional**\\n\\n- Se permite la participación de inversión privada en hidrocarburos y electricidad, para elevar la\\n\\nproducción de energéticos a nivel nacional, generar mayor riqueza y aumentar el número de\\nempleos productivos en el país.\\n\\n- Se establece la obligación de prever en la ley porcentajes de contenido nacional en la proveeduría, para que en las asignaciones y contratos que se otorguen a las empresas públicas\\ny privadas se fomente la industria nacional.\\n\\n- La expansión de las industrias petrolera y eléctrica generará empleos directos. Además, impulsará a otras industrias, promoverá la creación de empleos indirectos y acelerará el desarrollo económico a nivel regional y nacional.\\n\\n\\n### 18\\n\\n\\n-----\\n\\n**Legislación Secundaria**\\n\\n- Se adecua la Ley de Inversión Extranjera con un doble propósito: (i) reflejar en ley el nuevo\\n\\nmarco constitucional en lo que se refiere a las áreas estratégicas y (ii) fomentar la participación de la inversión nacional y extranjera en actividades relacionadas con la industria energética.\\n\\n- Se propone establecer un promedio mínimo de contenido nacional de 35% para el conjunto de las asignaciones y contratos de exploración y extracción de hidrocarburos (no aplicará\\npara proyectos de aguas profundas y ultraprofundas que recibirán un tratamiento diferente).\\nEl porcentaje se alcanzará gradualmente, a más tardar en 2025, con el objeto de desarrollar\\nproveedores y cadenas productivas. Los contratos relativos al servicio público de transmisión\\ny distribución de energía eléctrica también establecerán un porcentaje mínimo de contenido\\nnacional.\\n\\n- Se propone establecer reglas para dar preferencia a nacionales cuando ofrezcan condiciones\\n\\nsimilares en precios, calidad y entrega oportuna para la adquisición de bienes y la contratación de servicios y obras, así como la contratación y capacitación de personal.\\n\\n- La Secretaría de Economía creará una unidad especializada que se encargará de: i) dar seguimiento a las estrategias para el fomento industrial y de la inversión directa en la industria, así\\ncomo elaborar y publicar un informe sobre los avances de las mismas, ii) proponer la metodología para medir el grado de contenido nacional, y iii) verificar el cumplimiento de las metas\\nde grado de contenido nacional establecidas en las asignaciones y contratos.\\n\\n- Se prevé la creación de un Fideicomiso Público para Promover el Desarrollo de Proveedores y\\n\\nContratistas Nacionales de la Industria Energética, el cual promoverá el desarrollo de proveedores a través de financiamiento y apoyos para programas de capacitación, investigación y\\ncertificación.\\n\\n## VII. Seguridad, sustentabilidad, compromiso con el medio ambiente, uso de tecnologías y combustibles más limpios.\\n\\nLas actividades del sector energético deben realizarse mediante una operación compatible con\\nel cuidado y la protección del medio ambiente.\\n\\n\\n### 19\\n\\n\\n-----\\n\\n**Características del nuevo modelo**\\n\\n- En el Artículo 25 Constitucional se plasma el principio de sustentabilidad como uno de los criterios para el desarrollo de los proyectos de infraestructura energética.\\n\\n- El Ejecutivo Federal deberá incluir en el Programa Nacional para el Aprovechamiento Sustentable de la Energía los pasos a seguir, así como las condiciones de operación y financiamiento\\npara promover el uso de tecnologías y combustibles más limpios.\\n\\n- En el sector eléctrico se establecieron obligaciones para el uso de energías limpias y la reducción de emisiones contaminantes.\\n\\n- Se crea la Agencia Nacional de Seguridad Industrial y Protección al Medio Ambiente del Sector Hidrocarburos. Ésta regulará la seguridad industrial para minimizar el riesgo de accidentes\\nen instalaciones o afectaciones al medio ambiente causadas por la actividad petrolera.\\n\\n**Legislación Secundaria**\\n\\n- La Agencia Nacional de Seguridad Industrial y Protección al Medio Ambiente del Sector Hidrocarburos será un órgano desconcentrado de la Secretaría de Medio Ambiente y Recursos\\nNaturales (SEMARNAT), especializado técnicamente y que contará con autonomía de\\ngestión.\\n\\n- Se propone que dicha Agencia tenga las atribuciones de regular, supervisar y sancionar en\\n\\nmateria de seguridad industrial y operativa, así como de protección al medio ambiente. Asimismo, participará en coordinación con la Secretaría de Marina y la SEMARNAT en la contención de derrames y atención a contingencias o emergencias en el sector hidrocarburos, así\\ncomo en la investigación de sus causas.\\n\\n- La Ley de la Industria Eléctrica crea un esquema de obligaciones para los usuarios calificados\\n\\ny para las empresas de suministro eléctrico, así como los titulares de permisos de generación\\notorgados en los términos del marco legal anterior, relacionado a la adquisición de Certificados de Energías Limpias. Estos certificados, aunados a una interconexión más transparente y\\nexpedita, permitirán la expansión acelerada de proyectos de energías limpias y contribuirán a\\nla reducción de emisiones contaminantes.\\n\\n- También se prevén mecanismos que permitirán a pequeños generadores producir electricidad con fuentes renovables en sus casas u otros edificios y vender su producción a los suministradores a cambio de contraprestaciones reguladas, o bien, precios de mercado.\\n\\n## VIII. Ocupación de la superficie, sustentabilidad y enfoque de derechos\\n\\n### La Reforma Energética Constitucional\\n\\n- La Reforma Energética dispone en el Artículo 8 Transitorio que las actividades de exploración\\n\\ny extracción del petróleo y de los demás hidrocarburos, así como el servicio público de trans\\n\\n### 20\\n\\n\\n-----\\n\\nmisión y distribución de la energía eléctrica, derivado de su carácter estratégico, se consideran de interés social y orden público, por lo que tendrán preferencia sobre cualquier otra que\\nimplique el aprovechamiento de la superficie y del subsuelo de los terrenos afectos a aquéllas.\\n\\n- El mismo artículo señala que la Ley preverá los términos y las condiciones generales de la\\n\\ncontraprestación que se deberá cubrir por la afectación u ocupación superficial o, en su caso,\\nla indemnización respectiva. Por otra parte, la Reforma Energética dispone en su Artículo 25\\nque se apoyará e impulsará a las empresas de los sectores sociales y privado de la economía,\\nbajo criterios de equidad social, productividad y sustentabilidad, sujetándolos a las modalidades que dicte el interés público y al uso, en beneficio general, de los recursos productivos,\\ncuidando su conservación y el medio ambiente.\\n\\n### La Legislación Secundaria\\n\\n- El Artículo 118 de la Ley de Hidrocarburos señala que el desarrollo del sector energético se\\n\\nrealizará atendiendo principios de sostenibilidad y respeto a los derechos humanos. Para implementar dicho enfoque dispone de tres instrumentos fundamentales: mecanismo para los\\ntérminos y condiciones del uso superficial de las tierras, estudios y evaluaciones de impacto\\nsocial, consultas previas, libres e informadas a pueblos y comunidades indígenas\\n- La Ley de Hidrocarburos dispone en su Capítulo V. Del impacto Social, establece que la Secretaría de Energía, previo al otorgamiento de una Asignación, o de la publicación de una convocatoria para la licitación de un Contrato para la Exploración y Extracción, realizará un estudio\\nde impacto social respecto de las áreas objeto de Asignación o Contrato, a fin de que se pueda prever la presencia de grupos poblacionales en situación de vulnerabilidad y la necesidad\\nde realizar acciones para salvaguardar sus derechos.\\n\\n- Además dispone en su Artículo 121 que los interesados en desarrollar proyectos en el sector hidrocarburos deberán presentar ante la Secretaría de Energía una evaluación de impacto social que deberá contener la identificación, caracterización, predicción y valoración de los\\nimpactos sociales que podrían derivarse de las actividades que se pretenden desarrollar, así\\ncomo las medidas de mitigación correspondientes, en los términos que habrán de precisarse\\nen el reglamento de la Ley correspondiente.\\n\\n- Con la finalidad de salvaguardar los intereses y derechos de las comunidades en las que se desarrollen proyectos del sector hidrocarburos, el Artículo 120 establece que deberán llevarse\\na cabo los procedimientos de consulta, en los cuales podrán participar las Empresas Productivas del Estado y sus subsidiarias y filiales, así como particulares, conforme a la normatividad\\naplicable.\\n\\n\\n\\n- En lo relativo al uso y ocupación superficial, la legislación secundaria establece el mecanismo\\n\\nbasado en principios de transparencia y equidad para definir los términos y las condiciones\\ngenerales de la contraprestación, los términos y las condiciones para el uso, goce o afectación de los terrenos, bienes o derechos necesarios para realizar las actividades.\\n\\n- El mecanismo plantea la negociación inicial de 180 días entre particulares y, cuando sea necesario, esquemas alternativos consistentes en un proceso de mediación o de constitución\\nde una servidumbre legal de hidrocarburos. Los Asignatarios y Contratistas deberán dar aviso\\n\\n\\n### 21\\n\\n\\n-----\\n\\na la Secretaría de Energía y a la Secretaría de Desarrollo Agrario, Territorial y Urbano, con el\\nobjeto de que las mismas generen las acciones necesarias de acompañamiento y protección\\nde derechos, a través de las figuras de los testigos sociales, modelos de contratos, asesoría y\\nrepresentación legal de la Procuraduría Agraria.\\n\\n- En la negociación inicial las partes podrán acordar la práctica de avalúos, a cargo del Instituto\\n\\nde Administración y Avalúos de Bienes Nacionales, o de instituciones crédito, corredores públicos o profesionistas en valuación. Los avalúos deberán considerar la plusvalía que generarán los proyectos, la idoneidad de los terrenos, los gastos complementarios en caso de emigración, etc.\\n\\n- Los titulares de los terrenos, bienes o derechos tendrán derecho a que la contraprestación cubra, según sea el caso, un pago por la renta, un pago por las afectaciones y en el caso de proyectos que alcancen producción comercial, una participación en las utilidades del proyecto.\\n\\n- La Legislación prevé mecanismos alternativos en caso de que no se alcancen acuerdos en la\\n\\netapa de negociación inicial. En primera instancia, contempla un proceso de mediación, a cargo de la Secretaría de Desarrollo Territorial y Urbano, y en última instancia, prevé la figura de\\nla “Servidumbre Legal de Hidrocarburos”, la cual podrá ser decretada por la vía judicial o administrativa.\\n\\n## IX. Medidas efectivas de transparencia y combate a la corrupción\\n\\nUn modelo energético agotado como el que prevalecía en México previo a la Reforma, no sólo\\ngenera ineficiencias de productividad, sino incentivos poco adecuados para una industria energética transparente y abierta a la rendición de cuentas.\\n\\n**Características del nuevo modelo**\\n\\n- Se establecen mecanismos legales efectivos para prevenir, identificar y sancionar a quienes realicen actos u omisiones que constituyan conductas ilícitas o prácticas indebidas, para obtener\\nbeneficios económicos ilegítimos.\\n\\n- Los ciudadanos tendremos acceso al contenido de los contratos y contaremos con información precisa y clara sobre la explotación de los hidrocarburos y los recursos que éstos generan.\\n\\n**Legislación Secundaria**\\n\\n- Con respecto a las licitaciones y los contratos para la exploración y extracción de hidrocarburos, se propone que el diseño y adjudicación de los mismos se lleve a cabo a través de un\\nmecanismo institucional de pesos y contrapesos en el que participan SENER, CNH y SHCP.\\n\\n- En relación con las contraprestaciones y los pagos de los contratos, la SHCP verificará que los\\n\\ncostos que presenta el operador reflejen las condiciones de mercado. Adicionalmente, se podrá implementar un sistema de auditorías externas para supervisar la efectiva recuperación\\nde los costos.\\n\\n\\n### 22\\n\\n\\n-----\\n\\n- Se prevé que la SENER, CNH y SHCP publiquen periódicamente y por medios electrónicos indicadores respecto de los resultados económicos de cada contrato.\\n\\n- Se publicarán los insumos utilizados para calcular los precios del Mercado Eléctrico Mayorista,\\n\\nlas tarifas eléctricas y los programas de expansión de la Red Nacional de Transmisión.\\n\\n- Los Órganos Reguladores Coordinados en Materia Energética se sujetarán a reglas claras de\\n\\ntransparencia y combate a la corrupción. Sus sesiones, acuerdos y resoluciones serán públicos, sus miembros habrán de adherirse a un código de conducta y tendrán la prohibición de\\nrecibir, proponer, autorizar o consentir la recepción de cualquier clase de beneficios que se relacionen directa o indirectamente con el ejercicio de sus atribuciones o funciones.\\n\\n- Las Empresas Productivas del Estado contarán con un nuevo esquema de vigilancia, auditoría y control, a través de su Comité de Auditoría. Los sistemas de transparencia y rendición\\nde cuentas se fortalecerán, homologando la revelación de información de conformidad con la\\nLey del Mercado de Valores, aun cuando las Empresas Productivas del Estado no coticen en la\\nBolsa.\\n\\n## X. Conclusión\\n\\nLas modificaciones derivadas de la Reforma Energética permitirán modernizar nuestra industria\\nenergética, volverla más competitiva y devolverle su carácter de palanca de desarrollo. Con la\\nReforma Energética se incrementará la renta petrolera del Estado, se impulsará el crecimiento\\neconómico, se crearán empleos, se fortalecerá a Pemex y a la CFE, para que los mexicanos tengamos acceso a energéticos y electricidad de menor costo y más competitivos.\\n\\nSin duda, la Reforma Energética constituye un gran paso hacia el desarrollo económico y el fortalecimiento de la soberanía de nuestro país, con un sentido claro de responsabilidad por el futuro. Por ello, también establece que, para crecer como Nación, debemos desarrollar de manera\\nsustentable el gran potencial energético que tiene nuestro país.\\n\\nLa Reforma Constitucional, aprobada por el Congreso de la Unión y publicada en el Diario Oficial\\nde la Federación en diciembre de 2013, representó el primer paso firme y decidido de la Reforma Energética. Por su parte, la legislación secundaria tiene como guía la reforma constitucional\\nrealizada por el Congreso, y se apega todas a sus disposiciones. En conjunto, representan una\\nrenovación profunda de nuestro marco jurídico en materia energética.\\n\\nEn suma, la Reforma Energética establece las bases para la modernización y transformación del\\nsector energético nacional. Los mexicanos ahora contamos con las herramientas necesarias\\npara i) detonar mayores inversiones, ii) generar más empleos, iii) impulsar el crecimiento económico y iv) suministrar energía confiable, limpia y de bajo costo. Es momento de aprovechar\\nel nuevo modelo energético; con la implementación exitosa de la Reforma Energética, México\\npodrá convertir su amplio potencial en resultados y oportunidades de crecimiento y desarrollo\\npara todos los mexicanos.\\n\\n\\n### 23\\n\\n\\n-----\\n\\n'"
      ]
     },
     "execution_count": 48,
     "metadata": {},
     "output_type": "execute_result"
    }
   ],
   "source": [
    "file_to_read = \"documents/summaries/resumen_reforma_energetica.pdf\"\n",
    "title = file_to_read.split(\"/\")[-1].split(\".\")[0]\n",
    "\n",
    "storage_path = f\"gs://{gcp_config.BUCKET_NAME}/{file_to_read}\"\n",
    "#Loads in memory a pdf stored in GCS\n",
    "pdf_bytes = get_file(file_to_read)\n",
    "\n",
    "# Create a Document object, it can be constructed from a file or from memory\n",
    "# pymupdf.Document() method is exactly the same as pymupdf.open()\n",
    "doc = pymupdf.Document(stream = pdf_bytes)\n",
    "\n",
    "# Reads the PDF with its metadata and creates a list of dictionaries if chunking, or a string with all the content\n",
    "md_text = pymupdf4llm.to_markdown(\n",
    "        doc,\n",
    "        # page_chunks = True, # Create a list of pages of the Document \n",
    "        # extract_words=True, # Adds key words to each page dictionary\n",
    "        show_progress = False,\n",
    "    )\n",
    "\n",
    "md_text"
   ]
  },
  {
   "cell_type": "markdown",
   "metadata": {},
   "source": [
    "### Chunking the md_text\n",
    "\n",
    "In this case, we will use the text splitters from [langchain](https://python.langchain.com/api_reference/text_splitters/index.html). Mainly,we will be using the [Markdown](https://python.langchain.com/docs/how_to/markdown_header_metadata_splitter/) and the [RecursiveCharacterTextSplitter](https://python.langchain.com/v0.1/docs/modules/data_connection/document_transformers/recursive_text_splitter/) ones.\n",
    "\n",
    "By default, MarkdownHeaderTextSplitter strips headers being split on from the output chunk's content. This can be disabled by setting: *strip_headers = False*, also, it strips white spaces and new lines. To preserve the original formatting of your Markdown documents, checkout [ExperimentalMarkdownSyntaxTextSplitter](https://python.langchain.com/api_reference/text_splitters/markdown/langchain_text_splitters.markdown.ExperimentalMarkdownSyntaxTextSplitter.html)"
   ]
  },
  {
   "cell_type": "code",
   "execution_count": 49,
   "metadata": {},
   "outputs": [
    {
     "name": "stdout",
     "output_type": "stream",
     "text": [
      "39\n"
     ]
    },
    {
     "data": {
      "text/plain": [
       "[Document(metadata={'Header 1': 'Resumen Ejecutivo'}, page_content='# Resumen Ejecutivo  \\n-----  \\n-----'),\n",
       " Document(metadata={'Header 1': 'Resumen Ejecutivo', 'Header 2': 'I. Introducción'}, page_content='## I. Introducción  \\nLa Reforma Energética es un paso decidido rumbo a la modernización del sector energético de\\nnuestro país, sin privatizar las empresas públicas dedicadas a la producción y al aprovechamiento de los hidrocarburos y de la electricidad. La Reforma Energética, tanto constitucional como a\\nnivel legistlación secundarias, surge del estudio y valoración de las distintas iniciativas presentadas por los partidos políticos representados en el Congreso.'),\n",
       " Document(metadata={'Header 1': 'Resumen Ejecutivo', 'Header 2': 'I. Introducción', 'Header 3': 'La Reforma Energética tiene los siguientes objetivos y premisas fundamentales:'}, page_content='### La Reforma Energética tiene los siguientes objetivos y premisas fundamentales:  \\n1. Mantener la propiedad de la Nación sobre los hidrocarburos que se encuentran en el subsuelo.\\n2. Modernizar y fortalecer, sin privatizar, a Petróleos Mexicanos (Pemex) y a la Comisión Federal de Electricidad (CFE) como Empresas Productivas del Estado, 100% públicas y 100%\\nmexicanas.\\n3. Reducir la exposición del país a los riesgos financieros, geológicos y ambientales en las actividades de exploración y extracción de petróleo y gas natural.\\n4. Permitir que la Nación ejerza, de manera exclusiva, la planeación y control del Sistema\\nEléctrico Nacional, en beneficio de un sistema competitivo que permita reducir los precios\\nde la energía eléctrica.\\n5. Atraer mayor inversión al sector energético mexicano para impulsar el desarrollo del país.\\n6. Contar con un mayor abasto de energéticos a mejores precios.\\n7. Garantizar estándares internacionales de eficiencia, calidad y confiabilidad de suministro\\nenergético, así como transparencia y rendición de cuentas en las distintas actividades de la\\nindustria energética.\\n8. Combatir de manera efectiva la corrupción en el sector energético.\\n9. Fortalecer la administración de los ingresos petroleros e impulsar el ahorro de largo plazo en\\nbeneficio de las futuras generaciones.\\n10. Impulsar el desarrollo, con responsabilidad social y ambiental.  \\n**Estos objetivos se verán traducidos en beneficios concretos para los mexicanos:**  \\n1. Bajar las tarifas eléctricas y bajar el precio del gas natural.\\n2. Lograr tasas de restitución de reservas probadas de petróleo y gas natural superiores a\\n100%.\\n3. Aumentar la producción de petróleo de 2.5 millones de barriles diarios que se producen actualmente, a 3 millones de barriles en 2018, y a 3.5 millones en 2025, asimismo aumentar\\nla producción de gas natural de los 5 mil 700 millones de pies cúbicos diarios producidos\\nactualmente a 8 mil millones en 2018 y a 10 mil 400 millones en 2025.\\n4. Generar cerca de un punto porcentual más de crecimiento económico en 2018 y aproximadamente 2 puntos porcentuales más para 2025.\\n5. Crear cerca de medio millón de empleos adicionales en este sexenio, llegando a 2 millones\\ny medio de empleos en 2025.\\n6. Sustituir las centrales eléctricas más contaminantes con tecnologías limpias y fomentar la\\nutilización de gas natural en la generación eléctrica.'),\n",
       " Document(metadata={'Header 1': 'Resumen Ejecutivo', 'Header 2': 'I. Introducción', 'Header 3': '3'}, page_content='### 3  \\n-----'),\n",
       " Document(metadata={'Header 1': 'Resumen Ejecutivo', 'Header 2': 'II. Abasto de energéticos a precios competitivos', 'Header 3': 'i) Nuevo modelo de producción de petróleo y gas natural'}, page_content='## II. Abasto de energéticos a precios competitivos  \\n### i) Nuevo modelo de producción de petróleo y gas natural  \\nMéxico, al igual que muchos otros países con abundantes recursos naturales, sustenta en gran\\nmedida su desarrollo económico y social en la riqueza energética. Sin embargo, el sector petrolero mexicano enfrenta retos considerables y urgentes por atender, entre los que se encuentran\\nla caída de la producción y la necesidad de mayor inversión a nivel industria.  \\nA pesar de invertir más en exploración y extracción de petróleo y gas natural, la producción de\\npetróleo pasó de 3.4 millones de barriles diarios en 2004, a 2.5 millones de barriles diarios en\\n2013. Con respecto al gas natural, en 1997 México era prácticamente autosuficiente, pues\\nsólo importábamos 3% del consumo nacional. En la actualidad importamos 30% del gas natural que consumimos en el país.  \\nEl petróleo y gas natural del futuro provendrán de los llamados “recursos no convencionales”,\\nque se encuentran en cuencas de lutitas y en aguas profundas. Aunque México cuenta con grandes reservas de estos recursos, carece de la capacidad técnica, financiera y de ejecución para\\nextraer estos hidrocarburos de forma competitiva.  \\nEl principal obstáculo para materializar plenamente el potencial de nuestro país en este tipo de\\nyacimientos era el marco constitucional. Antes de la Reforma, la Constitución obligaba a Pemex\\na llevar a cabo, por sí solo, todas las actividades de la industria petrolera, sin importar las restricciones financieras, operativas o tecnológicas a las que estuviera sujeto.  \\nDe acuerdo con estimaciones de Pemex, desarrollar el potencial la industria nacional de exploración y extracción requeriría de aproximadamente 60 mil millones de dólares al año dado el\\nportafolio de inversión que se tiene identificado. Sin embargo, hoy Pemex sólo cuenta en su presupuesto anual con alrededor de 27 mil millones de dólares. Incluso un régimen fiscal más atractivo para Pemex sería insuficiente para desarrollar el portafolio identificado.  \\n**La Reforma Energética a Nivel Constitucional**  \\n- En el Artículo 27 Constitucional:  \\nSe reafirma la propiedad inalienable e imprescriptible de la Nación sobre los hidrocarburos\\nen el subsuelo y la prohibición expresa de otorgar concesiones para exploración y extracción.  \\nSe establece la posibilidad de que la Nación otorgue asignaciones o contratos a Pemex e\\nincorpora también la posibilidad de otorgar contratos a empresas privadas. Esto permitirá poner en producción yacimientos de hidrocarburos que en la actualidad se encuentran\\nociosos por falta de inversión, de capacidad de ejecución y de tecnología.  \\nSe establece que la propiedad de la Nación sobre los hidrocarburos en el subsuelo deberá\\nafirmarse en las asignaciones o contratos.'),\n",
       " Document(metadata={'Header 1': 'Resumen Ejecutivo', 'Header 2': 'II. Abasto de energéticos a precios competitivos', 'Header 3': '4'}, page_content='### 4  \\n-----  \\n- En el Artículo 28 Constitucional se establece que la exploración y extracción de petróleo y  \\ngas son actividades estratégicas.  \\n- La reforma constitucional establece que la ley regulará las modalidades de contraprestación  \\npor las actividades de exploración y extracción de petróleo y gas natural, incluyendo contratos de utilidad o de producción compartida, de licencia o de servicios. El Estado definirá el tipo\\nde contrato que más convenga al país y escogerá la modalidad de contraprestación para lograr el mayor beneficio para el desarrollo de largo plazo del país.  \\n- Toda la información de los contratos estará disponible para todos los mexicanos.  \\n- Pemex y los particulares podrán reportar a inversionistas y reguladores, así como al público en general, los proyectos que desarrollen en México y los beneficios esperados, siempre\\ny cuando se afirme en las asignaciones o contratos que el petróleo, el gas natural y los demás hidrocarburos que se encuentren en el subsuelo pertenecen únicamente a México y a los\\nmexicanos.  \\n- Se mantendrá y fortalecerá el papel estratégico de Pemex en la industria petrolera. Mediante  \\nla “Ronda Cero”, Pemex podrá elegir aquellos campos en producción y aquellas áreas en exploración que tengan interés en operar y donde demuestre tener capacidad técnica, financiera y de ejecución para desarrollarlos en forma eficiente y competitiva y podrá migrarlas hacia\\nun esquema de contratos, con los que podrá acceder a mejores condiciones fiscales.  \\n- Dada la relevancia que las actividades petroleras revisten para el desarrollo nacional, la reforma constitucional establece que todas las actividades de exploración y extracción de petróleo y de gas natural son de interés social y de orden público.  \\n- La reforma constitucional fortalece las instituciones del Estado en materia de exploración y  \\nexplotación de petróleo y gas natural, ya que distribuye eficientemente las de responsabilidades y facultades:  \\nLa Secretaría de Energía (SENER) se mantiene como la cabeza del sector y tiene entre sus\\nprincipales facultades: i) definir la política energética, ii) adjudicar asignaciones a Pemex y\\niii) seleccionar las áreas que podrán ser objeto de contratos para la exploración y extracción de petróleo y gas natural.  \\nLa Comisión Nacional de Hidrocarburos (CNH) será un Órgano Regulador Coordinado,\\ncon personalidad jurídica propia, autonomía técnica y de gestión y autosuficiencia presupuestaria. La CNH será la encargada de i) recopilar la información geológica y operativa; ii)\\nautorizar trabajos de reconocimiento y exploración superficial; y iii) llevar a cabo las licitaciones y asignar contratos de exploración y extracción de gas natural y petróleo, de suscribirlos y administrarlos de manera técnica.  \\n**Legislación Secundaria**  \\n- Para la realización de las actividades de exploración y extracción de hidrocarburos el Estado  \\ntiene la posibilidad de otorgar asignaciones o suscribir contratos.'),\n",
       " Document(metadata={'Header 1': 'Resumen Ejecutivo', 'Header 2': 'II. Abasto de energéticos a precios competitivos', 'Header 3': '5'}, page_content='### 5  \\n-----'),\n",
       " Document(metadata={'Header 1': 'Resumen Ejecutivo', 'Header 2': 'II. Abasto de energéticos a precios competitivos', 'Header 3': 'Asignaciones'}, page_content='### Asignaciones  \\n- Se otorgarán a Pemex en la Ronda Cero.  \\n- Posteriormente, se otorgan de forma excepcional a Pemex y a otras  \\nEmpresas Productivas del Estado.  \\n- Las asignaciones permiten la adjudicación directa a Pemex de proyectos estratégicos tales como yacimientos transfronterizos.  \\n- Los asignatarios podrán registrar el beneficio económico esperado  \\npara efectos financieros y contables.'),\n",
       " Document(metadata={'Header 1': 'Resumen Ejecutivo', 'Header 2': 'II. Abasto de energéticos a precios competitivos', 'Header 3': 'Contratos para la Exploración y Extracción'}, page_content='### Contratos para la Exploración y Extracción  \\n- Los hidrocarburos en el subsuelo son propiedad de la Nación.  \\n- Los contratos pueden ser suscritos con a) Pemex, b) Pemex asociado con particulares o c) particulares.  \\n- Adjudicación por licitación a quien ofrezca las mejores condiciones  \\neconómicas para el Estado y el mayor compromiso de inversión.  \\n- Se contempla la posibilidad de recisión administrativa por causas  \\ngraves específicas.  \\n- En caso de recisión el contratista podrá ser acreedor a un finiquito.  \\n- Los contratistas podrán registrar el beneficio económico esperado  \\npara efectos financieros y contables.  \\n- Se podrá establecer una participación directa del Estado (máximo  \\n30%) a través de Pemex o de un vehículo financiero de la SENER.  \\n- El Estado participará directamente en la inversión (al menos 20%) en las zonas donde pudiera haber un yacimiento transfronterizo.  \\n- En el proceso de diseño, otorgamiento, operación y administración de los contratos se propone un mecanismo institucional de pesos y contrapesos que contempla la participación de:\\nla SENER, la Secretaría de Hacienda y Crédito Público (SHCP), la CNH, la Agencia Nacional de\\nSeguridad Industrial y de Protección al Medio Ambiente del Sector Hidrocarburos y el Fondo\\nMexicano del Petróleo para la Estabilización y el Desarrollo. Sus responsabilidades se dividen\\nde la siguiente forma:  \\n1. La SENER se encargará de i) seleccionar las áreas para licitación de contratos, ii) determinar\\ny diseñar el tipo de contrato que aplicará a cada área contractual y iii) emitir los lineamientos\\ntécnicos para establecer las bases de licitación.  \\n2. La SHCP será responsable de determinar: i) los términos económicos y fiscales de los contratos; ii) las variables de adjudicación, que serán de carácter económico; y iii) verificar el correcto cumplimiento de las obligaciones fiscales y contractuales, incluyendo las operaciones que\\nrealice el Fondo Mexicano del Petróleo para la Estabilización y el Desarrollo.  \\n3. La CNH llevará a cabo las licitaciones para adjudicar contratos para la exploración y extracción de hidrocarburos y suscribirá los contratos con el ganador de la licitación. También aprobará los planes de exploración y extracción y autorizará la perforación de pozos.'),\n",
       " Document(metadata={'Header 1': 'Resumen Ejecutivo', 'Header 2': 'II. Abasto de energéticos a precios competitivos', 'Header 3': '6'}, page_content='### 6  \\n-----  \\n4. La Agencia Nacional de Seguridad Industrial y de Protección al Medio Ambiente será la encargada de supervisar y, en su caso, sancionar a los contratistas y asignatarios en materia de\\nprotección de las personas, los bienes y el medio ambiente.  \\n5. El Fondo Mexicano del Petróleo para la Estabilización y el Desarrollo será el encargado de\\ni) recibir todos los ingresos, ii) realizar los pagos según lo establecido en cada contrato y\\niii) administrar los recursos que corresponden al Estado.  \\nEl régimen fiscal se detalla en la Ley de Ingresos sobre Hidrocarburos. Los elementos considerados son consistentes con los estándares internacionales para asegurar que la Nación capture\\nla renta petrolera e impulsar la exploración y extracción de hidrocarburos. En la Ley de Ingresos\\nsobre Hidrocarburos se norman, entre otros, las siguientes modalidades de contraprestaciones:  \\n1. El pago de regalías básicas y adicionales;  \\n2. Cuotas por la fase exploratoria;  \\n3. Para los contratos de licencia, un bono por la suscripción del contrato, y  \\n4. Pagos determinados como una proporción de la utilidad (en especie o en efectivo).  \\n- La iniciativa contempla que los contratos para la exploración y extracción de hidrocarburos  \\nse desarrollen de manera individual, en consorcio, es decir con un grupo de empresas, o en\\nasociación en participación. Los consorcios y asociaciones se podrán llevar a cabo de forma\\nlibre, durante la propuesta presentada en la licitación, o con autorización de la CNH, una vez\\nadjudicado el contrato. Cuando una asignación migre a un contrato podrá llevarse a cabo una\\nasociación entre Pemex y un partícular, y la CNH realizará una licitación para elegir al socio\\n(incluyendo las asignaciones de la Ronda Cero).  \\n- El modelo propuesto también considera que Pemex podrá migrar a la nueva modalidad de  \\ncontratación, aquellos contratos que en el pasado fueron otorgados por medio de una licitación.  \\n- Para asegurar el desarrollo eficiente del sector y la existencia de un mercado donde exista  \\ncompetencia, los contratos para la industria de hidrocarburos no podrán dar exclusividad o\\npreferencia ilícita que beneficie a organizaciones empresariales, sociales o sindicales.  \\n- Toda la información geológica del país será entregada a CNH, quien la administrará en el Centro Nacional de Información de Hidrocarburos. Pemex y las empresas productivas del Estado\\ny los particulares podrán realizar estudios de reconocimiento o exploración superficial, previa\\nautorización de CNH.  \\n- La legislación secundaria contempla que Pemex o los particulares podrán proponer a la SENER áreas a licitar en el futuro, con base en la información obtenida. Las propuestas no otorgan derechos ni ventajas para la suscripción de un contrato.'),\n",
       " Document(metadata={'Header 1': 'Resumen Ejecutivo', 'Header 2': 'II. Abasto de energéticos a precios competitivos', 'Header 3': '7'}, page_content='### 7  \\n-----  \\n- Se propone que los operadores puedan comercializar libremente los hidrocarburos que reciban como contraprestación. El Estado colocará en los mercados los hidrocarburos que reciba,\\na través de un comercializador que la CNH contrate través de licitación pública.  \\n- Se reconoce la prevalencia de las actividades de exploración y extracción de hidrocarburos  \\nsobre cualquier otra actividad, incluyendo la actividad minera; tambien se reconoce el gas\\nasociado al carbón (gas grisú) como hidrocarburo más por lo que se elimina de la Ley Minera.  \\n- Se propone que los titulares de concesiones mineras que acrediten solvencia económica y  \\ncapacidad técnica podrán suscribir un contrato con la CNH, sin que medie ninguna licitación.\\nEsto sólo aplicará para minas en las que se esté extrayendo carbón actualmente y el contrato amparará únicamente la extracción del gas grisú.  \\n- Se considera que si la adjudicación de un contrato o asignación llegara a afectar los derechos  \\nde superficie de una concesión minera, donde se estén extrayendo minerales, el titular de la\\nconcesión recibirá una contraprestación, definida mediante una negociación, o una indemnización que determine CNH.  \\n- Para definir los términos y las condiciones de la contraprestación que se deberá cubrir por la  \\nocupación o afectación superficial, se privilegia la negociación entre operadores y propietarios de los terrenos. Esto se hace con la asistencia de la Procuraduría Agraria y de testigos sociales, y con criterios de referencia para la definición de las contraprestaciones, acordes con\\nlas mejores prácticas internacionales. Dichas contraprestaciones pueden contemplar, entre\\notros, el pago de un porcentaje del ingreso del operador después de realizados los pagos al\\nEstado.  \\n- Se establece que durante la ocupación temporal se respetarán en todo momento los derechos que la legislación y los tratados internacionales suscritos por México confieran a las comunidades indígenas.  \\n- Se prohíben las actividades de exploración y extracción de hidrocarburos en zonas naturales  \\nprotegidas.'),\n",
       " Document(metadata={'Header 1': 'Resumen Ejecutivo', 'Header 2': 'II. Abasto de energéticos a precios competitivos', 'Header 3': 'ii) Nuevo modelo de producción de petrolíferos y petroquímicos'}, page_content='### ii) Nuevo modelo de producción de petrolíferos y petroquímicos  \\nHace 15 años, nuestro país importaba 25% de las gasolinas. En contraste, 49% de la gasolina\\nque se consumió en el país durante 2012 provino del exterior. En el caso de la petroquímica se\\npresenta una situación similar; mientras que en 1997 se importaba 41% de los petroquímicos\\nque se consumían en el país, para 2012 dicha cifra ascendió a 66%.  \\nPofr una parte, hasta diciembre de 2013, el marco constitucional no permitía a Pemex asociarse en México con otras empresas para mejorar su rendimiento sin embargo, este pero ese tipo\\nde asociaciones sí las podía hacer en el extranjero. Por otra parte, el marco jurídico dividía la petroquímica en básica, que no estaba abierta a la inversión privada, y secundaria, que sí lo estaba.\\nEsta división virtual no coincidía con los procesos industriales.'),\n",
       " Document(metadata={'Header 1': 'Resumen Ejecutivo', 'Header 2': 'II. Abasto de energéticos a precios competitivos', 'Header 3': '8'}, page_content='### 8  \\n-----  \\nAunque hoy los privados ya participan en la petroquímica secundaria, se requiere de los insumos\\nde la petroquímica básica cuyo abasto resulta insuficiente, pues hasta antes de la Reforma Pemex debía desarrollarlos de manera exclusiva. Es por ello que algunas empresas mexicanas de\\npetroquímica han preferido invertir en el extranjero, generando inversiones, creando empleos y\\npagando impuestos fuera de México  \\n.\\n**La Reforma Energética Constitucional**  \\n- En el Artículo 28 Constitucional se eliminó a la petroquímica básica como una de las actividades reservadas al Estado para terminar con la división ficticia que la separaba de la petroquímica secundaria.  \\n- Se abre la posibilidad de que tanto Pemex como particulares participen en actividades de refinación, procesamiento de gas natural y petroquímica.  \\n- La SENER otorgará permisos, ya sea a Pemex o a particulares, para realizar las actividades de  \\ntratamiento y refinación del petróleo y para el procesamiento de gas natural.  \\n- Se integrarán cadenas productivas en nuestro país con inversión pública y privada para aumentar la oferta doméstica de combustibles, gasolinas y petroquímicos.  \\n**Legislación Secundaria**  \\n- Se permite la participación de particulares en refinación y procesamiento de gas natural, precio permiso de SENER pudiendo operar por su cuenta o en asociación con Empresas Productivas del Estado. Pemex también podrá asociarse, como actualmente ya lo hace en el extranjero.  \\n- Se establece la petroquímica en todas sus fases como actividad de libre concurrencia.  \\n- Se establecen atribuciones para las instituciones del Estado en materia de permisos y regulación.'),\n",
       " Document(metadata={'Header 1': 'Resumen Ejecutivo', 'Header 2': 'II. Abasto de energéticos a precios competitivos', 'Header 3': 'iii) Nuevo modelo de transporte, almacenamiento y distribución de hidrocarburos y sus derivados.'}, page_content='### iii) Nuevo modelo de transporte, almacenamiento y distribución de hidrocarburos y sus derivados.  \\nMéxico no cuenta con la infraestructura suficiente para transportar y distribuir el petróleo, el\\ngas natural y sus derivados. Esto implica que se transporten de manera poco eficiente y poco segura, generando mayores costos. A su vez, esto eleva los precios de estos productos y restringe\\nel crecimiento de la industria.  \\nEl Sistema Nacional de Gasoductos se encuentra a su máxima capacidad y en ocasiones ha sido\\nrebasado por las necesidades energéticas de nuestro país, afectando a la actividad industrial y\\ncomercial.  \\n**La Reforma Energética Constitucional**  \\n- En el Artículo 28 Constitucional:  \\nSe establece que en materia de hidrocarburos, sólo las actividades de exploración y extracción de petróleo y gas son exclusivas del Estado. Esto permite la participación de par'),\n",
       " Document(metadata={'Header 1': 'Resumen Ejecutivo', 'Header 2': 'II. Abasto de energéticos a precios competitivos', 'Header 3': '9'}, page_content='### 9  \\n-----  \\nticulares en el transporte, almacenamiento y distribución del petróleo, gas natural, petrolíferos y petroquímicos.  \\n- Se crea el Centro Nacional de Control del Gas Natural. Este centro será un organismo público  \\ndescentralizado encargado de administrar, coordinar y gestionar de forma eficiente la red de\\nductos y el almacenamiento del gas natural en nuestro país.  \\n- Se fortalecen las instituciones del Estado en materia de transporte, almacenamiento y distribución de hidrocarburos.  \\nLa Comisión Reguladora de Energía (CRE), se transforma en un Órgano Regulador Coordinado, con personalidad jurídica propia, autonomía técnica y de gestión, así como autosuficiencia presupuestaria.  \\n- La CRE otorgará permisos para el almacenamiento, transporte y distribución de petróleo, gas  \\nnatural y petrolíferos, así como de etano, propano, butano y naftas que se transporten exclusivamente por ducto. También garantizará el acceso abierto y en igualdad de circunstancias\\na la utilización de la infraestructura de transporte por ductos y almacenamiento de hidrocarburos y de sus derivados. De igual forma emitirá la regulación de las ventas de primera mano\\nde estos producto hasta en tanto exista competencia efectiva.  \\n**Iniciativa de Legislación Secundaria**  \\n- SENER y la CRE se encargarán de la regulación y expedición de permisos:  \\n- Los permisionarios que presten los servicios de transporte y distribución por medio de ductos  \\ny almacenamiento de hidrocarburos tendrán la obligación de dar acceso abierto a sus instalaciones y servicios.  \\n- La Reforma Constitucional en Materia Energética previó la creación del CENAGAS como\\norganismo público descentralizado. Con base en la Reforma, el CENAGAS será el gestor y ad'),\n",
       " Document(metadata={'Header 1': 'Resumen Ejecutivo', 'Header 2': 'II. Abasto de energéticos a precios competitivos', 'Header 3': '10'}, page_content='### 10  \\n-----  \\nministrador independiente del Sistema de Transporte y Almacenamiento Nacional Integrado de\\nGas Natural, mismo que se podrá estará conformar conformado por la siguiente infraestructura:  \\n1. Ductos de transporte e instalaciones de almacenamiento de gas natural, y  \\n2. Equipos de compresión, licuefacción, descompresión, regasificación y demás instalaciones\\nvinculadas a la infraestructura señalada en el mineral anterior.  \\n- Se promoverá la existencia de precios competitivos para los usuarios y plena competencia  \\nen los servicios. Esto se hará a través de la inclusión de reglas que establezcan una clara\\nseparación entre las actividades que realice cada participante.  \\n- Se proponen principios para evitar el acaparamiento y posibles conflictos de interés que  \\ninhiban el adecuado desarrollo del subsector.  \\n- Se prevé una apertura gradual y progresiva en las actividades de expendio al público de gasolinas y diésel, así como para gas licuado de petróleo. Como parte del proceso ordenado\\nde apertura, se plantea que la importación de combustibles sea liberada a partid de 2016\\nen el caso del gas licuado de petróleo, y a partir de 2017 para gasolinas y diésel.  \\n**Apertura gradual en el mercado de gasolinas y diésel**  \\n**Apertura gradual en gas Licuado de Petróleo (LP)**'),\n",
       " Document(metadata={'Header 1': 'Resumen Ejecutivo', 'Header 2': 'II. Abasto de energéticos a precios competitivos', 'Header 3': '11'}, page_content='### 11  \\n-----'),\n",
       " Document(metadata={'Header 1': 'Resumen Ejecutivo', 'Header 2': 'II. Abasto de energéticos a precios competitivos', 'Header 3': 'iv) Nuevo modelo de generación, transmisión, distribución y comercialización de energía eléctrica.'}, page_content='### iv) Nuevo modelo de generación, transmisión, distribución y comercialización de energía eléctrica.  \\nEn comparación con Estados Unidos, en México las tarifas promedio son 25% más altas, aun\\ncon el subsidio, sin el cual resultarían 73% más caras. Esto constituye un freno a la economía\\nmexicana, pues la electricidad es un insumo esencial para la actividad industrial, comercial y de\\nservicios.  \\nUno de los grandes retos que enfrenta el sector es la falta de inversión en la red nacional de\\ntransmisión eléctrica. Se requiere incrementar el mallado e interconectar zonas del país con alto\\npotencial de energías limpias.  \\nRespecto a la distribución, hoy se registran ineficiencias significativas. Las pérdidas técnicas y no\\ntécnicas de energía en México son alrededor del doble del promedio de los países de la OCDE.\\nAproximadamente 15% de la energía producida por la CFE no se cobra.  \\n**La Reforma Energética Constitucional**  \\n- En el Artículo 25 Constitucional:  \\nSe establece la categoría de Empresas Productivas del Estado para que la CFE pueda consolidarse como una empresa con altos estándares de competitividad.  \\n- En el Artículo 27 Constitucional:  \\nSe establece que la planeación y el control del Sistema Eléctrico Nacional, así como el servicio público de transmisión y distribución de electricidad son áreas exclusivas del Estado.\\nSe mantiene la prohibición expresa de otorgar concesiones en estas áreas y se permite\\nque el Estado celebre contratos con particulares. De esta forma, por cuenta de la Nación\\nse pueden llevar a cabo actividades para el servicio público de transmisión y distribución\\nde energía eléctrica.  \\n- En el Artículo 28 Constitucional:  \\nSe establece que la planeación y el control del Sistema Eléctrico Nacional (SEN) y el servicio público de transmisión y distribución de electricidad son áreas exclusivas del Estado.  \\n- La CFE y particulares podrán realizar actividades de generación de electricidad de forma libre,  \\ncon una regulación sólida y eficiente.  \\n- La CFE mantiene las actividades de generación eléctrica que realiza desde antes de la reforma, y podrá construir nuevas plantas, modernizando su base de generación.  \\n- Los particulares podrán instalar nuevas plantas sin requerir que CFE decida incluirlas dentro  \\nde la planeación de la empresa.  \\n- El Centro Nacional de Control de Energía (CENACE),que formaba parte de CFE se constituirá  \\ncomo un organismo público descentralizado encargado del control operativo del SEN. Tam'),\n",
       " Document(metadata={'Header 1': 'Resumen Ejecutivo', 'Header 2': 'II. Abasto de energéticos a precios competitivos', 'Header 3': '12'}, page_content='### 12  \\n-----  \\nbién será el encargado de operar el mercado eléctrico mayorista, y de garantizar a los generadores el acceso abierto a la red nacional de transmisión.  \\n- Se podrán celebrar contratos entre particulares y la CFE para el financiamiento, instalación,  \\nmantenimiento, gestión, operación, ampliación, modernización, vigilancia y conservación de\\nla infraestructura del servicio público de transmisión y distribución de energía eléctrica. De\\nesta forma se podrá aprovechar la tecnología y experiencia de particulares a fin de reducir\\ncostos y pérdidas de operación.  \\n- La Reforma Energética permitirá reducir el costo de la electricidad, que depende en 80% del  \\nprecio del combustible que se usa para generarla. El gas natural es 4 veces más barato y emite 68% menos emisiones de dióxido de carbono que el combustóleo, que es uno de los principales combustibles con los que se genera electricidad en México.  \\n- México tiene múltiples yacimientos de gas natural; sin embargo, su producción ha ido a la  \\nbaja y hoy importamos 30% de nuestro consumo. Con la Reforma Energética, tendremos\\nmúltiples operadores para extraer el gas natural que necesitamos, y así contaremos con insumos para generar electricidad de menor costo y más limpia.  \\n- La CRE se encargará de la regulación y el otorgamiento de permisos para la generación, así  \\ncomo de las tarifas de porteo para transmisión y distribución.  \\n**Legislación Secundaria**  \\n- Se permite la participación de privados en la generación y comercialización de energía eléctrica, manteniéndose como áreas estratégicas del Estado la planeación y el control del Sistema\\nEléctrico Nacional y el servicio público de transmisión y distribución de energía eléctrica.  \\n- Se expide la Ley de Energía Geotérmica que regulará el reconocimiento, exploración y explotación de recursos geotérmicos para su aprovechamiento con el fin de generar energía eléctrica o destinarla a usos diversos.  \\nLa nueva Ley de Energía Geotérmica propone que CFE indique a SENER las áreas geotérmicas de\\nsu interés para el otorgamiento de permiso o concesión. Esto lo que deberá realizar dentro de\\nlos 120 días posteriores al inicio de vigencia de la ley. CFE podrá establecer asociaciones o desarrollar por sí misma estos proyectos.  \\n- Se prevén modalidades de contratación entre el Estado y los particulares para que éstos contribuyan con su tecnología y experiencia a la expansión y mejoramiento de las redes de transmisión y distribución. Esto permitirá combatir las pérdidas de energía eléctrica y aumentar la\\neficiencia del proceso de distribución de energía eléctrica.'),\n",
       " Document(metadata={'Header 1': 'Resumen Ejecutivo', 'Header 2': 'II. Abasto de energéticos a precios competitivos', 'Header 3': '13'}, page_content='### 13  \\n-----  \\n- La coordinación necesaria para satisfacer la demanda de energía al menor costo y proveer la  \\nestabilidad necesaria al sistema eléctrico seguirá en manos del CENACE. Su nuevo status de\\norganismo público descentralizado garantizará su imparcialidad al momento de despachar\\nenergía eléctrica.  \\n**Mercado Eléctrico**  \\n- El mercado eléctrico establecerá precios spot para la compraventa de energía a corto plazo  \\nentre los participantes mayoristas (generadores, comercializadores y usuarios calificados).  \\n- Los participantes podrán celebrar contratos de largo plazo entre ellos con precios energéticos negociados libremente. Los usuarios calificados podrán contratar su servicio a través de\\nsuministradores calificados, quienes fijarán sus precios a fin de competir por clientes.  \\n- La Secretaría de Hacienda y Crédito Público conservará la facultad de fijar las tarifas finales  \\nde los usuarios de servicio básico, mientras que la CRE regulará las tarifas de transmisión y\\ndistribución.  \\n- Se propone la creación de un Fondo de Servicio Universal Eléctrico para financiar la electrificación en las comunidades rurales y zonas urbanas marginadas. Entre otros ingresos, el Fondo\\nse integrará por los excedentes que resulten de la gestión de pérdidas de energía en el mercado eléctrico.  \\n- Se incluye un esquema de Certificados de Energías Limpias, a través del cual la SENER determinará el porcentaje de energía que debe generarse cada año a partir de fuentes limpias. El\\ncumplimiento se acreditará a través de la compra de Certificados de Energías Limpias.'),\n",
       " Document(metadata={'Header 1': 'Resumen Ejecutivo', 'Header 2': 'III. Fondo Mexicano del Petróleo para la Estabilización y el Desarrollo'}, page_content='## III. Fondo Mexicano del Petróleo para la Estabilización y el Desarrollo  \\nDurante los últimos 30 años, la industria petrolera y sus ingresos han sido el pilar de las finanzas públicas y el motor de la actividad económica del país. Hoy, el principal reto a las finanzas\\npúblicas es revertir la caída en la producción de petróleo. Hasta ahora, los altos precios de dicho'),\n",
       " Document(metadata={'Header 1': 'Resumen Ejecutivo', 'Header 2': 'III. Fondo Mexicano del Petróleo para la Estabilización y el Desarrollo', 'Header 3': '14'}, page_content='### 14  \\n-----  \\nproducto han permitido compensar la caída en la producción, sin embargo, en los próximos años\\nya no tendremos ese margen.  \\nSi bien desde hace un par de décadas existen diversos fondos destinados a administrar parte de\\nlos ingresos petroleros del país, sus alcances en la ley eran limitados y, más allá del ahorro en dichos fondos de estabilización, no se preveían mecanismos explícitos de ahorro.  \\n**La Reforma Energética Constitucional**  \\n- El Artículo 28 Constitucional establece la creación de un fideicomiso público sujeto a obligaciones de transparencia denominado Fondo Mexicano del Petróleo para la Estabilización y el\\nDesarrollo. La institución fiduciaria será el Banco de México.  \\n- El Fondo Mexicano del Petróleo para la Estabilización y el Desarrollo será un fideicomiso público para administrar la renta petrolera pensando en las futuras generaciones de mexicanos.  \\n- Con la creación del Fondo, los ingresos petroleros serán utilizados de manera eficiente, productiva y transparente para asegurar la estabilidad de las finanzas públicas y el ahorro de\\nlargo plazo. Los recursos petroleros se destinarán a disminuir pasivos, garantizar y expandir\\nla seguridad social, la educación y el desarrollo regional.  \\n**Iniciativa de Legislación Secundaria**  \\n- Para decidir la asignación de recursos, el Fondo contará con un Comité Técnico formado  \\npor dos miembros del Gobierno de la República: el Secretario de Hacienda y Crédito Público\\n(quien lo presidirá y contará con voto de calidad) y el Secretario de Energía, el Gobernador\\ndel Banco de México, y cuatro miembros independientes nombrados por el Presidente con la\\naprobación del Senado.  \\n- De los ingresos petroleros que reciba, el Fondo podrá transferir un monto de hasta el 4.7%  \\ndel PIB para el presupuesto. Los ingresos que se ubiquen por encima de ese nivel se mantendrán en el Fondo como ahorro de largo plazo.'),\n",
       " Document(metadata={'Header 1': 'Resumen Ejecutivo', 'Header 2': 'III. Fondo Mexicano del Petróleo para la Estabilización y el Desarrollo', 'Header 3': '15'}, page_content='### 15  \\n-----  \\n- La distribución propuesta de los ingresos petroleros permitirá que generaciones futuras puedan beneficiarse de incrementos en los niveles de producción. Asimismo se contará con recursos para estabilizar las finanzas públicas y hacer frente a imprevistos.  \\n- Los recursos del Fondo Mexicano del Petróleo se considerarán recursos federales y quedarán  \\nsujetos a las facultades de fiscalización de las autoridades federales competentes, conforme\\na las disposiciones jurídicas aplicables.  \\n- Además, se establece que el Fondo deberá poner a disposición de la sociedad toda la información relativa a los ingresos que reciba, tanto por contratos como por asignaciones, los pagos que realice a los contratistas, y el destino de dichos recursos.'),\n",
       " Document(metadata={'Header 1': 'Resumen Ejecutivo', 'Header 2': 'IV. Órganos reguladores coordinados en hidrocarburos y electricidad'}, page_content='## IV. Órganos reguladores coordinados en hidrocarburos y electricidad  \\nAntes de que se llevara a cabo la Reforma Constitucional en Materia Energética, la regulación\\ndel sector recaía en la SENER, a través de sus órganos desconcentrados (CNH y CRE). Por esto\\nno había una clara separación entre la entidad responsable del diseño de la política energética y\\naquéllas que debían dedicarse a promover una operación adecuada y eficiente.  \\nAdicionalmente, CNH y CRE operaban en un entorno en el que los principales proyectos en la\\nindustria de hidrocarburos y de electricidad eran responsabilidad de sólo dos entidades paraestatales: Pemex y la CFE. En consecuencia, la estructura del sector energético se enfocó a la regulación de sólo un actor en cada actividad sustantiva.  \\n**La Reforma Energética Constitucional**  \\n- En el Artículo 28 Constitucional se establece que la CNH y la CRE serán Órganos Reguladores Coordinados en Materia Energética. Esto implica que tendrán personalidad jurídica propia,\\nautonomía técnica y de gestión, así como autosuficiencia presupuestaria, pues dispondrán de\\nlos ingresos derivados de las contribuciones y aprovechamientos por sus servicios a través de\\nun fideicomiso público.  \\n- Los Órganos Reguladores Coordinados en Materia Energética remplazarán a los órganos desconcentrados que se tienen en la actualidad.  \\n**Legislación Secundaria**  \\n- Entre las atribuciones de los órganos reguladores coordinados se proponen: i) Regular, supervisar y sancionar en las materias de su competencia, ii) Aportar elementos técnicos al Ejecutivo Federal sobre la formulación de políticas energéticas, y iii) aprobar su anteproyecto de\\npresupuesto.  \\n- Los Órganos Reguladores Coordinados en Materia Energética se coordinarán con la SENER a  \\ntravés del Consejo de Coordinación del Sector Energético. Éste estará integrado por el titular de la SENER, quien fungirá como presidente del Consejo, los subsecretarios de la SENER,\\nlos presidentes de CNH y CRE, y así como por los directores generales del CENAGAS y del'),\n",
       " Document(metadata={'Header 1': 'Resumen Ejecutivo', 'Header 2': 'IV. Órganos reguladores coordinados en hidrocarburos y electricidad', 'Header 3': '16'}, page_content='### 16  \\n-----  \\nCENACE. A las reuniones del Consejo se podrá invitar a los titulares de otras dependencias y\\nentidades gubernamentales.  \\n- El Consejo de Coordinación del Sector Energético tendrá como funciones: i) Dar a conocer la  \\npolítica energética establecida por la SENER a los órganos reguladores coordinados, ii) Analizar los programas de trabajo anual de CNH y CRE, así como su ejecución, iii) Implementar\\nsistemas de información compartida y de cooperación institucional, y iv) Analizar casos específicos que puedan afectar el desarrollo y cumplimiento de la política energética y v) proponer mecanismos de coordinación.'),\n",
       " Document(metadata={'Header 1': 'Resumen Ejecutivo', 'Header 2': 'V. Empresas Productivas del Estado en hidrocarburos y electricidad'}, page_content='## V. Empresas Productivas del Estado en hidrocarburos y electricidad  \\nPemex y la CFE, a pesar a ser las mayores empresas públicas del país, presentan grandes retos\\ny áreas de oportunidad en torno a su eficiencia y productividad. Esto se debe en gran medida a\\nque el anterior marco jurídico les impedía operar con la flexibilidad necesaria para potenciar sus\\ncapacidades productivas y así aumentar su rentabilidad. Tampoco se les permitía la asociación\\ncon particulares en las actividades reservadas al Estado, dejándoles la responsabilidad absoluta\\nde proveer de insumos energéticos y de electricidad al país, sin posibilidad de complementar sus\\nesfuerzos con terceros. Además, no podían actuar con agilidad ante los requerimientos de las\\nindustrias petrolera y eléctrica globales, lo que repercutió en elevados costos en sus procesos e\\ninversiones poco productivas y, como consecuencia, menor competitividad.  \\n**La Reforma Energética Constitucional**  \\n- El Artículo 25 Constitucional establece la transformación de Pemex y CFE en Empresas Productivas del Estado, cuyo objeto será la creación de valor económico e incrementar los ingresos de la Nación, con sentido de equidad y responsabilidad social y ambiental.  \\n- Pemex y la CFE se mantienen como empresas 100% mexicanas y 100% del Estado, cuya organización, administración, organización y estructura corporativa serán acordes con las mejores prácticas internacionales.  \\n**Legislación Secundaria**  \\n- Pemex y CFE contarán con un régimen presupuestario especial y exclusivo que les otorga autonomía presupuestaria y las sujeta sólo al balance financiero y al techo de servicios personales.  \\n- Para el manejo de su deuda, Pemex y CFE se regirán por lo dispuesto en un artículo especial de la Ley General de Deuda Pública. Ambas empresas podrán realizar negociaciones, así\\ncomo contratar los financiamientos externos e internos que requieran, para lo que deberán\\ncoordinarse con la SHCP, sin requerir de su autorización.  \\n- El Gobierno de la República dejará de ser el “administrador principal” de los órganos de gobierno de las Empresas Productivas del Estado para asumir el rol de propietario.'),\n",
       " Document(metadata={'Header 1': 'Resumen Ejecutivo', 'Header 2': 'V. Empresas Productivas del Estado en hidrocarburos y electricidad', 'Header 3': '17'}, page_content='### 17  \\n-----  \\n- El Gobierno de la República podrá absorber una parte del pasivo de pensiones y jubilaciones  \\nde PEMEX y CFE, sujeto a que acuerden con sus trabajadores un nuevo régimen de pensiones\\nque reduzca esos pasivos y la Auditoria Superior de la Federación audite la evolución de dichos pasivos.  \\n- Los Consejos de Administración de ambas empresas tendrán una nueva estructura organizacional y se encargarán de: i) Definir la visión estratégica del grupo corporativo; ii) Emitir las\\npolíticas en materia de inversiones, plan de negocios y contrataciones; iii) Emitir su estatuto\\norgánico; y iv) Vigilar y evaluar el desempeño de la empresa.'),\n",
       " Document(metadata={'Header 1': 'Resumen Ejecutivo', 'Header 2': 'VI. Promoción de inversión privada, contenido nacional e impulso al desarrollo de las empresas mexicanas.'}, page_content='## VI. Promoción de inversión privada, contenido nacional e impulso al desarrollo de las empresas mexicanas.  \\nEn el marco legal vigente con anterioridad a las reformas, las actividades de exploración, extracción y refinación de hidrocarburos, la petroquímica básica, así como las actividades de transmisión, distribución y comercialización de energía eléctrica, se encontraban reservadas de forma\\nexclusiva al Estado. Si bien en la ley permitía la participación de particulares en la generación\\neléctrica, ésta se encontraba limitada a la capacidad de contratación por parte de la CFE y unas\\nmodalidades limitadas de autoabastecimiento, cogeneración y exportación.  \\nLas necesidades energéticas del país, las exigencias de un entorno internacional cada vez más\\ncompetitivo, el notable incremento en los riesgos y el monto de las inversiones requeridas para\\nla producción de hidrocarburos y el abasto eléctrico, hacen prácticamente imposible que las empresas públicas, por eficientes que resulten, sean capaces de hacerlo todo por sí mismas.  \\n**La Reforma Energética Constitucional**  \\n- Se permite la participación de inversión privada en hidrocarburos y electricidad, para elevar la  \\nproducción de energéticos a nivel nacional, generar mayor riqueza y aumentar el número de\\nempleos productivos en el país.  \\n- Se establece la obligación de prever en la ley porcentajes de contenido nacional en la proveeduría, para que en las asignaciones y contratos que se otorguen a las empresas públicas\\ny privadas se fomente la industria nacional.  \\n- La expansión de las industrias petrolera y eléctrica generará empleos directos. Además, impulsará a otras industrias, promoverá la creación de empleos indirectos y acelerará el desarrollo económico a nivel regional y nacional.'),\n",
       " Document(metadata={'Header 1': 'Resumen Ejecutivo', 'Header 2': 'VI. Promoción de inversión privada, contenido nacional e impulso al desarrollo de las empresas mexicanas.', 'Header 3': '18'}, page_content='### 18  \\n-----  \\n**Legislación Secundaria**  \\n- Se adecua la Ley de Inversión Extranjera con un doble propósito: (i) reflejar en ley el nuevo  \\nmarco constitucional en lo que se refiere a las áreas estratégicas y (ii) fomentar la participación de la inversión nacional y extranjera en actividades relacionadas con la industria energética.  \\n- Se propone establecer un promedio mínimo de contenido nacional de 35% para el conjunto de las asignaciones y contratos de exploración y extracción de hidrocarburos (no aplicará\\npara proyectos de aguas profundas y ultraprofundas que recibirán un tratamiento diferente).\\nEl porcentaje se alcanzará gradualmente, a más tardar en 2025, con el objeto de desarrollar\\nproveedores y cadenas productivas. Los contratos relativos al servicio público de transmisión\\ny distribución de energía eléctrica también establecerán un porcentaje mínimo de contenido\\nnacional.  \\n- Se propone establecer reglas para dar preferencia a nacionales cuando ofrezcan condiciones  \\nsimilares en precios, calidad y entrega oportuna para la adquisición de bienes y la contratación de servicios y obras, así como la contratación y capacitación de personal.  \\n- La Secretaría de Economía creará una unidad especializada que se encargará de: i) dar seguimiento a las estrategias para el fomento industrial y de la inversión directa en la industria, así\\ncomo elaborar y publicar un informe sobre los avances de las mismas, ii) proponer la metodología para medir el grado de contenido nacional, y iii) verificar el cumplimiento de las metas\\nde grado de contenido nacional establecidas en las asignaciones y contratos.  \\n- Se prevé la creación de un Fideicomiso Público para Promover el Desarrollo de Proveedores y  \\nContratistas Nacionales de la Industria Energética, el cual promoverá el desarrollo de proveedores a través de financiamiento y apoyos para programas de capacitación, investigación y\\ncertificación.'),\n",
       " Document(metadata={'Header 1': 'Resumen Ejecutivo', 'Header 2': 'VII. Seguridad, sustentabilidad, compromiso con el medio ambiente, uso de tecnologías y combustibles más limpios.'}, page_content='## VII. Seguridad, sustentabilidad, compromiso con el medio ambiente, uso de tecnologías y combustibles más limpios.  \\nLas actividades del sector energético deben realizarse mediante una operación compatible con\\nel cuidado y la protección del medio ambiente.'),\n",
       " Document(metadata={'Header 1': 'Resumen Ejecutivo', 'Header 2': 'VII. Seguridad, sustentabilidad, compromiso con el medio ambiente, uso de tecnologías y combustibles más limpios.', 'Header 3': '19'}, page_content='### 19  \\n-----  \\n**Características del nuevo modelo**  \\n- En el Artículo 25 Constitucional se plasma el principio de sustentabilidad como uno de los criterios para el desarrollo de los proyectos de infraestructura energética.  \\n- El Ejecutivo Federal deberá incluir en el Programa Nacional para el Aprovechamiento Sustentable de la Energía los pasos a seguir, así como las condiciones de operación y financiamiento\\npara promover el uso de tecnologías y combustibles más limpios.  \\n- En el sector eléctrico se establecieron obligaciones para el uso de energías limpias y la reducción de emisiones contaminantes.  \\n- Se crea la Agencia Nacional de Seguridad Industrial y Protección al Medio Ambiente del Sector Hidrocarburos. Ésta regulará la seguridad industrial para minimizar el riesgo de accidentes\\nen instalaciones o afectaciones al medio ambiente causadas por la actividad petrolera.  \\n**Legislación Secundaria**  \\n- La Agencia Nacional de Seguridad Industrial y Protección al Medio Ambiente del Sector Hidrocarburos será un órgano desconcentrado de la Secretaría de Medio Ambiente y Recursos\\nNaturales (SEMARNAT), especializado técnicamente y que contará con autonomía de\\ngestión.  \\n- Se propone que dicha Agencia tenga las atribuciones de regular, supervisar y sancionar en  \\nmateria de seguridad industrial y operativa, así como de protección al medio ambiente. Asimismo, participará en coordinación con la Secretaría de Marina y la SEMARNAT en la contención de derrames y atención a contingencias o emergencias en el sector hidrocarburos, así\\ncomo en la investigación de sus causas.  \\n- La Ley de la Industria Eléctrica crea un esquema de obligaciones para los usuarios calificados  \\ny para las empresas de suministro eléctrico, así como los titulares de permisos de generación\\notorgados en los términos del marco legal anterior, relacionado a la adquisición de Certificados de Energías Limpias. Estos certificados, aunados a una interconexión más transparente y\\nexpedita, permitirán la expansión acelerada de proyectos de energías limpias y contribuirán a\\nla reducción de emisiones contaminantes.  \\n- También se prevén mecanismos que permitirán a pequeños generadores producir electricidad con fuentes renovables en sus casas u otros edificios y vender su producción a los suministradores a cambio de contraprestaciones reguladas, o bien, precios de mercado.'),\n",
       " Document(metadata={'Header 1': 'Resumen Ejecutivo', 'Header 2': 'VIII. Ocupación de la superficie, sustentabilidad y enfoque de derechos', 'Header 3': 'La Reforma Energética Constitucional'}, page_content='## VIII. Ocupación de la superficie, sustentabilidad y enfoque de derechos  \\n### La Reforma Energética Constitucional  \\n- La Reforma Energética dispone en el Artículo 8 Transitorio que las actividades de exploración  \\ny extracción del petróleo y de los demás hidrocarburos, así como el servicio público de trans'),\n",
       " Document(metadata={'Header 1': 'Resumen Ejecutivo', 'Header 2': 'VIII. Ocupación de la superficie, sustentabilidad y enfoque de derechos', 'Header 3': '20'}, page_content='### 20  \\n-----  \\nmisión y distribución de la energía eléctrica, derivado de su carácter estratégico, se consideran de interés social y orden público, por lo que tendrán preferencia sobre cualquier otra que\\nimplique el aprovechamiento de la superficie y del subsuelo de los terrenos afectos a aquéllas.  \\n- El mismo artículo señala que la Ley preverá los términos y las condiciones generales de la  \\ncontraprestación que se deberá cubrir por la afectación u ocupación superficial o, en su caso,\\nla indemnización respectiva. Por otra parte, la Reforma Energética dispone en su Artículo 25\\nque se apoyará e impulsará a las empresas de los sectores sociales y privado de la economía,\\nbajo criterios de equidad social, productividad y sustentabilidad, sujetándolos a las modalidades que dicte el interés público y al uso, en beneficio general, de los recursos productivos,\\ncuidando su conservación y el medio ambiente.'),\n",
       " Document(metadata={'Header 1': 'Resumen Ejecutivo', 'Header 2': 'VIII. Ocupación de la superficie, sustentabilidad y enfoque de derechos', 'Header 3': 'La Legislación Secundaria'}, page_content='### La Legislación Secundaria  \\n- El Artículo 118 de la Ley de Hidrocarburos señala que el desarrollo del sector energético se  \\nrealizará atendiendo principios de sostenibilidad y respeto a los derechos humanos. Para implementar dicho enfoque dispone de tres instrumentos fundamentales: mecanismo para los\\ntérminos y condiciones del uso superficial de las tierras, estudios y evaluaciones de impacto\\nsocial, consultas previas, libres e informadas a pueblos y comunidades indígenas\\n- La Ley de Hidrocarburos dispone en su Capítulo V. Del impacto Social, establece que la Secretaría de Energía, previo al otorgamiento de una Asignación, o de la publicación de una convocatoria para la licitación de un Contrato para la Exploración y Extracción, realizará un estudio\\nde impacto social respecto de las áreas objeto de Asignación o Contrato, a fin de que se pueda prever la presencia de grupos poblacionales en situación de vulnerabilidad y la necesidad\\nde realizar acciones para salvaguardar sus derechos.  \\n- Además dispone en su Artículo 121 que los interesados en desarrollar proyectos en el sector hidrocarburos deberán presentar ante la Secretaría de Energía una evaluación de impacto social que deberá contener la identificación, caracterización, predicción y valoración de los\\nimpactos sociales que podrían derivarse de las actividades que se pretenden desarrollar, así\\ncomo las medidas de mitigación correspondientes, en los términos que habrán de precisarse\\nen el reglamento de la Ley correspondiente.  \\n- Con la finalidad de salvaguardar los intereses y derechos de las comunidades en las que se desarrollen proyectos del sector hidrocarburos, el Artículo 120 establece que deberán llevarse\\na cabo los procedimientos de consulta, en los cuales podrán participar las Empresas Productivas del Estado y sus subsidiarias y filiales, así como particulares, conforme a la normatividad\\naplicable.  \\n- En lo relativo al uso y ocupación superficial, la legislación secundaria establece el mecanismo  \\nbasado en principios de transparencia y equidad para definir los términos y las condiciones\\ngenerales de la contraprestación, los términos y las condiciones para el uso, goce o afectación de los terrenos, bienes o derechos necesarios para realizar las actividades.  \\n- El mecanismo plantea la negociación inicial de 180 días entre particulares y, cuando sea necesario, esquemas alternativos consistentes en un proceso de mediación o de constitución\\nde una servidumbre legal de hidrocarburos. Los Asignatarios y Contratistas deberán dar aviso'),\n",
       " Document(metadata={'Header 1': 'Resumen Ejecutivo', 'Header 2': 'VIII. Ocupación de la superficie, sustentabilidad y enfoque de derechos', 'Header 3': '21'}, page_content='### 21  \\n-----  \\na la Secretaría de Energía y a la Secretaría de Desarrollo Agrario, Territorial y Urbano, con el\\nobjeto de que las mismas generen las acciones necesarias de acompañamiento y protección\\nde derechos, a través de las figuras de los testigos sociales, modelos de contratos, asesoría y\\nrepresentación legal de la Procuraduría Agraria.  \\n- En la negociación inicial las partes podrán acordar la práctica de avalúos, a cargo del Instituto  \\nde Administración y Avalúos de Bienes Nacionales, o de instituciones crédito, corredores públicos o profesionistas en valuación. Los avalúos deberán considerar la plusvalía que generarán los proyectos, la idoneidad de los terrenos, los gastos complementarios en caso de emigración, etc.  \\n- Los titulares de los terrenos, bienes o derechos tendrán derecho a que la contraprestación cubra, según sea el caso, un pago por la renta, un pago por las afectaciones y en el caso de proyectos que alcancen producción comercial, una participación en las utilidades del proyecto.  \\n- La Legislación prevé mecanismos alternativos en caso de que no se alcancen acuerdos en la  \\netapa de negociación inicial. En primera instancia, contempla un proceso de mediación, a cargo de la Secretaría de Desarrollo Territorial y Urbano, y en última instancia, prevé la figura de\\nla “Servidumbre Legal de Hidrocarburos”, la cual podrá ser decretada por la vía judicial o administrativa.'),\n",
       " Document(metadata={'Header 1': 'Resumen Ejecutivo', 'Header 2': 'IX. Medidas efectivas de transparencia y combate a la corrupción'}, page_content='## IX. Medidas efectivas de transparencia y combate a la corrupción  \\nUn modelo energético agotado como el que prevalecía en México previo a la Reforma, no sólo\\ngenera ineficiencias de productividad, sino incentivos poco adecuados para una industria energética transparente y abierta a la rendición de cuentas.  \\n**Características del nuevo modelo**  \\n- Se establecen mecanismos legales efectivos para prevenir, identificar y sancionar a quienes realicen actos u omisiones que constituyan conductas ilícitas o prácticas indebidas, para obtener\\nbeneficios económicos ilegítimos.  \\n- Los ciudadanos tendremos acceso al contenido de los contratos y contaremos con información precisa y clara sobre la explotación de los hidrocarburos y los recursos que éstos generan.  \\n**Legislación Secundaria**  \\n- Con respecto a las licitaciones y los contratos para la exploración y extracción de hidrocarburos, se propone que el diseño y adjudicación de los mismos se lleve a cabo a través de un\\nmecanismo institucional de pesos y contrapesos en el que participan SENER, CNH y SHCP.  \\n- En relación con las contraprestaciones y los pagos de los contratos, la SHCP verificará que los  \\ncostos que presenta el operador reflejen las condiciones de mercado. Adicionalmente, se podrá implementar un sistema de auditorías externas para supervisar la efectiva recuperación\\nde los costos.'),\n",
       " Document(metadata={'Header 1': 'Resumen Ejecutivo', 'Header 2': 'IX. Medidas efectivas de transparencia y combate a la corrupción', 'Header 3': '22'}, page_content='### 22  \\n-----  \\n- Se prevé que la SENER, CNH y SHCP publiquen periódicamente y por medios electrónicos indicadores respecto de los resultados económicos de cada contrato.  \\n- Se publicarán los insumos utilizados para calcular los precios del Mercado Eléctrico Mayorista,  \\nlas tarifas eléctricas y los programas de expansión de la Red Nacional de Transmisión.  \\n- Los Órganos Reguladores Coordinados en Materia Energética se sujetarán a reglas claras de  \\ntransparencia y combate a la corrupción. Sus sesiones, acuerdos y resoluciones serán públicos, sus miembros habrán de adherirse a un código de conducta y tendrán la prohibición de\\nrecibir, proponer, autorizar o consentir la recepción de cualquier clase de beneficios que se relacionen directa o indirectamente con el ejercicio de sus atribuciones o funciones.  \\n- Las Empresas Productivas del Estado contarán con un nuevo esquema de vigilancia, auditoría y control, a través de su Comité de Auditoría. Los sistemas de transparencia y rendición\\nde cuentas se fortalecerán, homologando la revelación de información de conformidad con la\\nLey del Mercado de Valores, aun cuando las Empresas Productivas del Estado no coticen en la\\nBolsa.'),\n",
       " Document(metadata={'Header 1': 'Resumen Ejecutivo', 'Header 2': 'X. Conclusión'}, page_content='## X. Conclusión  \\nLas modificaciones derivadas de la Reforma Energética permitirán modernizar nuestra industria\\nenergética, volverla más competitiva y devolverle su carácter de palanca de desarrollo. Con la\\nReforma Energética se incrementará la renta petrolera del Estado, se impulsará el crecimiento\\neconómico, se crearán empleos, se fortalecerá a Pemex y a la CFE, para que los mexicanos tengamos acceso a energéticos y electricidad de menor costo y más competitivos.  \\nSin duda, la Reforma Energética constituye un gran paso hacia el desarrollo económico y el fortalecimiento de la soberanía de nuestro país, con un sentido claro de responsabilidad por el futuro. Por ello, también establece que, para crecer como Nación, debemos desarrollar de manera\\nsustentable el gran potencial energético que tiene nuestro país.  \\nLa Reforma Constitucional, aprobada por el Congreso de la Unión y publicada en el Diario Oficial\\nde la Federación en diciembre de 2013, representó el primer paso firme y decidido de la Reforma Energética. Por su parte, la legislación secundaria tiene como guía la reforma constitucional\\nrealizada por el Congreso, y se apega todas a sus disposiciones. En conjunto, representan una\\nrenovación profunda de nuestro marco jurídico en materia energética.  \\nEn suma, la Reforma Energética establece las bases para la modernización y transformación del\\nsector energético nacional. Los mexicanos ahora contamos con las herramientas necesarias\\npara i) detonar mayores inversiones, ii) generar más empleos, iii) impulsar el crecimiento económico y iv) suministrar energía confiable, limpia y de bajo costo. Es momento de aprovechar\\nel nuevo modelo energético; con la implementación exitosa de la Reforma Energética, México\\npodrá convertir su amplio potencial en resultados y oportunidades de crecimiento y desarrollo\\npara todos los mexicanos.'),\n",
       " Document(metadata={'Header 1': 'Resumen Ejecutivo', 'Header 2': 'X. Conclusión', 'Header 3': '23'}, page_content='### 23  \\n-----')]"
      ]
     },
     "execution_count": 49,
     "metadata": {},
     "output_type": "execute_result"
    }
   ],
   "source": [
    "# Choose the headers to split on\n",
    "headers_to_split_on=[(\"#\", 'Header 1'), (\"##\", \"Header 2\"), (\"###\", \"Header 3\"), (\"####\", \"Header 4\"), (\"#####\", \"Header 5\")]\n",
    "\n",
    "# Initialize a MarkdownHeaderTextSplitter object\n",
    "markdown_splitter = MarkdownHeaderTextSplitter(headers_to_split_on, strip_headers=False)\n",
    "\n",
    "# Split the text\n",
    "md_header_splits = markdown_splitter.split_text(md_text)\n",
    "\n",
    "print(len(md_header_splits))\n",
    "md_header_splits"
   ]
  },
  {
   "cell_type": "markdown",
   "metadata": {},
   "source": [
    "Once the data has been splitted into different chunks, we can split them more to adjust it to a specific chunk size and also specify the chunk overlap per each division already created. To do so, we can then apply any text splitter we want, such as RecursiveCharacterTextSplitter\n",
    "\n",
    "- **Chunking depends of how many tokens an embedding model supports**\n",
    "\n",
    "There's a [HuggingFace dashboard](https://huggingface.co/spaces/mteb/leaderboard) that compares the performacne of different embedding models. Some metrics to focus on are:\n",
    "\n",
    "- Number of Parameters: \n",
    "\n",
    "    A higher value means the model requires more CPU/GPU memory to run\n",
    "\n",
    "- Embedding Dimension:\n",
    "\n",
    "    The dimension of the vectors produced\n",
    "\n",
    "- Max tokens:\n",
    "\n",
    "    How many tokens the model can process, the higher the better.\n",
    "\n",
    "\n",
    "For this time, we'll be using the [*sentence-transformers/all-MiniLM-L6-v2*](https://huggingface.co/sentence-transformers/all-MiniLM-L6-v2) model:\n",
    "\n",
    "- Number of Parameters: 22.7M (small)\n",
    "- Embedding Dimension: 384\n",
    "- Max tokens: 256\n",
    "\n",
    "Another model that will be used is [*sentence-transformers/all-mpnet-base-v2*](https://huggingface.co/sentence-transformers/all-mpnet-base-v2):\n",
    "\n",
    "- Number of Parameters: 109M (medium)\n",
    "- Embedding Dimension: 768\n",
    "- Max tokens: 384"
   ]
  },
  {
   "cell_type": "code",
   "execution_count": 50,
   "metadata": {},
   "outputs": [
    {
     "data": {
      "text/plain": [
       "309"
      ]
     },
     "execution_count": 50,
     "metadata": {},
     "output_type": "execute_result"
    }
   ],
   "source": [
    "chunk_size1 = 256\n",
    "chunk_overlap1 = 20\n",
    "separators1 = [r\"\\n\\n\"]\n",
    "\n",
    "text_splitter = RecursiveCharacterTextSplitter(chunk_size = chunk_size1, chunk_overlap = chunk_overlap1)\n",
    "\n",
    "chunks_model1 = text_splitter.split_documents(md_header_splits)\n",
    "\n",
    "len(chunks_model1)"
   ]
  },
  {
   "cell_type": "code",
   "execution_count": 51,
   "metadata": {},
   "outputs": [
    {
     "data": {
      "text/plain": [
       "187"
      ]
     },
     "execution_count": 51,
     "metadata": {},
     "output_type": "execute_result"
    }
   ],
   "source": [
    "chunk_size2 = 384\n",
    "chunk_overlap2 = 0\n",
    "separators2 = [r\"\\n\\n\"]\n",
    "\n",
    "text_splitter = RecursiveCharacterTextSplitter(chunk_size = chunk_size2, chunk_overlap = chunk_overlap2)\n",
    "\n",
    "chunks_model2 = text_splitter.split_documents(md_header_splits)\n",
    "\n",
    "len(chunks_model2)"
   ]
  },
  {
   "cell_type": "code",
   "execution_count": 52,
   "metadata": {},
   "outputs": [
    {
     "name": "stdout",
     "output_type": "stream",
     "text": [
      "112\n",
      "## I. Introducción  \n",
      "La Reforma Energética es un paso decidido rumbo a la modernización del sector energético de \n",
      "\n",
      "\n",
      "304\n",
      "## I. Introducción  \n",
      "La Reforma Energética es un paso decidido rumbo a la modernización del sector energético de\n",
      "nuestro país, sin privatizar las empresas públicas dedicadas a la producción y al aprovechamiento de los hidrocarburos y de la electricidad. La Reforma Energética, tanto constitucional como a\n"
     ]
    }
   ],
   "source": [
    "print(len(chunks_model1[1].page_content))\n",
    "print(chunks_model1[1].page_content, \"\\n\\n\")\n",
    "\n",
    "print(len(chunks_model2[1].page_content))\n",
    "print(chunks_model2[1].page_content)"
   ]
  },
  {
   "cell_type": "code",
   "execution_count": 53,
   "metadata": {},
   "outputs": [
    {
     "name": "stdout",
     "output_type": "stream",
     "text": [
      "465\n",
      "## I. Introducción  \n",
      "La Reforma Energética es un paso decidido rumbo a la modernización del sector energético de\n",
      "nuestro país, sin privatizar las empresas públicas dedicadas a la producción y al aprovechamiento de los hidrocarburos y de la electricidad. La Reforma Energética, tanto constitucional como a\n",
      "nivel legistlación secundarias, surge del estudio y valoración de las distintas iniciativas presentadas por los partidos políticos representados en el Congreso.\n"
     ]
    }
   ],
   "source": [
    "print(len(md_header_splits[1].page_content))\n",
    "print(md_header_splits[1].page_content)"
   ]
  },
  {
   "cell_type": "code",
   "execution_count": 54,
   "metadata": {},
   "outputs": [],
   "source": [
    "# Adding info such as title, and the date of chunking\n",
    "extra_metadata = {\n",
    "    \"upload_date\": datetime.now().strftime(r\"%Y-%m%d %H:%M:%S\"),\n",
    "    \"title\": title,\n",
    "    \"storage_path\": storage_path,\n",
    "    }\n",
    "\n",
    "\n",
    "text_metadata1 = [doc.metadata for doc in chunks_model1]\n",
    "text_metadata2 = [doc.metadata for doc in chunks_model2]"
   ]
  },
  {
   "cell_type": "code",
   "execution_count": 55,
   "metadata": {},
   "outputs": [],
   "source": [
    "# Updating the metadata with the extra metadata. This list will return None, because the update\n",
    "# method does not return the dictionary itself\n",
    "\n",
    "for i, chunk_metadata in enumerate(text_metadata1):\n",
    "    \n",
    "    # Add the page content in the metadata\n",
    "    chunk_metadata[\"data\"] = chunks_model1[i].page_content\n",
    "    \n",
    "    # Add extra metadata\n",
    "    chunk_metadata.update(extra_metadata)\n",
    "\n",
    "for i, chunk_metadata in enumerate(text_metadata2):\n",
    "    \n",
    "    # Add the page content in the metadata\n",
    "    chunk_metadata[\"data\"] = chunks_model2[i].page_content\n",
    "    \n",
    "    # Add extra metadata\n",
    "    chunk_metadata.update(extra_metadata)\n"
   ]
  },
  {
   "cell_type": "code",
   "execution_count": 56,
   "metadata": {},
   "outputs": [
    {
     "data": {
      "text/plain": [
       "{'Header 1': 'Resumen Ejecutivo',\n",
       " 'Header 2': 'I. Introducción',\n",
       " 'Header 3': 'La Reforma Energética tiene los siguientes objetivos y premisas fundamentales:',\n",
       " 'data': 'la producción de gas natural de los 5 mil 700 millones de pies cúbicos diarios producidos\\nactualmente a 8 mil millones en 2018 y a 10 mil 400 millones en 2025.\\n4. Generar cerca de un punto porcentual más de crecimiento económico en 2018 y aproximadamente 2 puntos porcentuales más para 2025.',\n",
       " 'upload_date': '2025-0327 00:04:17',\n",
       " 'title': 'resumen_reforma_energetica',\n",
       " 'storage_path': 'gs://rag_llm_energy_expert/documents/summaries/resumen_reforma_energetica.pdf'}"
      ]
     },
     "execution_count": 56,
     "metadata": {},
     "output_type": "execute_result"
    }
   ],
   "source": [
    "text_metadata2[8]"
   ]
  },
  {
   "cell_type": "markdown",
   "metadata": {},
   "source": [
    "## Embeddings\n",
    "\n"
   ]
  },
  {
   "cell_type": "code",
   "execution_count": 57,
   "metadata": {},
   "outputs": [],
   "source": [
    "text_to_embed1 = [{\"vector\": doc.page_content, \"metadata\": text_metadata1[i]} for i, doc in enumerate(chunks_model1)]\n",
    "text_to_embed2 = [{\"vector\": doc.page_content, \"metadata\": text_metadata2[i]} for i, doc in enumerate(chunks_model2)]"
   ]
  },
  {
   "cell_type": "code",
   "execution_count": 58,
   "metadata": {},
   "outputs": [
    {
     "data": {
      "text/plain": [
       "{'vector': '5. Atraer mayor inversión al sector energético mexicano para impulsar el desarrollo del país.\\n6. Contar con un mayor abasto de energéticos a mejores precios.\\n7. Garantizar estándares internacionales de eficiencia, calidad y confiabilidad de suministro',\n",
       " 'metadata': {'Header 1': 'Resumen Ejecutivo',\n",
       "  'Header 2': 'I. Introducción',\n",
       "  'Header 3': 'La Reforma Energética tiene los siguientes objetivos y premisas fundamentales:',\n",
       "  'data': '5. Atraer mayor inversión al sector energético mexicano para impulsar el desarrollo del país.\\n6. Contar con un mayor abasto de energéticos a mejores precios.\\n7. Garantizar estándares internacionales de eficiencia, calidad y confiabilidad de suministro',\n",
       "  'upload_date': '2025-0327 00:04:17',\n",
       "  'title': 'resumen_reforma_energetica',\n",
       "  'storage_path': 'gs://rag_llm_energy_expert/documents/summaries/resumen_reforma_energetica.pdf'}}"
      ]
     },
     "execution_count": 58,
     "metadata": {},
     "output_type": "execute_result"
    }
   ],
   "source": [
    "text_to_embed1[8]"
   ]
  },
  {
   "cell_type": "code",
   "execution_count": 59,
   "metadata": {},
   "outputs": [
    {
     "data": {
      "text/plain": [
       "{'vector': 'la producción de gas natural de los 5 mil 700 millones de pies cúbicos diarios producidos\\nactualmente a 8 mil millones en 2018 y a 10 mil 400 millones en 2025.\\n4. Generar cerca de un punto porcentual más de crecimiento económico en 2018 y aproximadamente 2 puntos porcentuales más para 2025.',\n",
       " 'metadata': {'Header 1': 'Resumen Ejecutivo',\n",
       "  'Header 2': 'I. Introducción',\n",
       "  'Header 3': 'La Reforma Energética tiene los siguientes objetivos y premisas fundamentales:',\n",
       "  'data': 'la producción de gas natural de los 5 mil 700 millones de pies cúbicos diarios producidos\\nactualmente a 8 mil millones en 2018 y a 10 mil 400 millones en 2025.\\n4. Generar cerca de un punto porcentual más de crecimiento económico en 2018 y aproximadamente 2 puntos porcentuales más para 2025.',\n",
       "  'upload_date': '2025-0327 00:04:17',\n",
       "  'title': 'resumen_reforma_energetica',\n",
       "  'storage_path': 'gs://rag_llm_energy_expert/documents/summaries/resumen_reforma_energetica.pdf'}}"
      ]
     },
     "execution_count": 59,
     "metadata": {},
     "output_type": "execute_result"
    }
   ],
   "source": [
    "text_to_embed2[8]"
   ]
  },
  {
   "cell_type": "code",
   "execution_count": 60,
   "metadata": {},
   "outputs": [],
   "source": [
    "model_name1 = 'sentence-transformers/all-MiniLM-L6-v2'\n",
    "model_name2 = \"sentence-transformers/all-mpnet-base-v2\"\n",
    "\n",
    "model1 = SentenceTransformer(model_name1)\n",
    "model2 = SentenceTransformer(model_name2)"
   ]
  },
  {
   "cell_type": "code",
   "execution_count": 61,
   "metadata": {},
   "outputs": [],
   "source": [
    "for chunk in text_to_embed1:\n",
    "    chunk[\"vector\"] = model.encode(chunk[\"vector\"])\n",
    "\n",
    "\n",
    "for chunk in text_to_embed2:\n",
    "    chunk[\"vector\"] = model2.encode(chunk[\"vector\"])"
   ]
  },
  {
   "cell_type": "code",
   "execution_count": 62,
   "metadata": {},
   "outputs": [
    {
     "name": "stdout",
     "output_type": "stream",
     "text": [
      "Vector dimension of model 1: 384\n",
      "Vector dimension of model 2: 768\n"
     ]
    }
   ],
   "source": [
    "print(f\"Vector dimension of model 1: {len(text_to_embed1[0]['vector'])}\\nVector dimension of model 2: {len(text_to_embed2[0]['vector'])}\")"
   ]
  },
  {
   "cell_type": "code",
   "execution_count": 64,
   "metadata": {},
   "outputs": [
    {
     "data": {
      "text/plain": [
       "{'vector': array([-8.76180008e-02,  7.05834106e-02,  1.35683194e-02, -7.78957643e-03,\n",
       "        -3.25322412e-02,  6.38664141e-02,  2.92839911e-02,  7.83082992e-02,\n",
       "        -2.15472933e-02, -4.08983268e-02,  4.60199900e-02, -1.40162259e-02,\n",
       "        -1.10061623e-01, -2.49743294e-02, -5.09077013e-02, -5.50034456e-02,\n",
       "        -4.99976687e-02,  3.19697075e-02,  2.60699894e-02,  4.11323532e-02,\n",
       "         6.48808479e-02,  2.59540398e-02,  6.19154284e-03,  9.08319897e-04,\n",
       "        -2.98400559e-02, -1.79804917e-02,  2.11581029e-02, -7.03359954e-03,\n",
       "         1.13623263e-02, -7.43363351e-02,  3.64518836e-02, -1.02943201e-02,\n",
       "         4.71359342e-02, -1.36588328e-02,  7.50755658e-03,  6.61125109e-02,\n",
       "        -5.64336888e-02,  8.60800222e-03,  7.55290361e-03,  2.79205069e-02,\n",
       "        -8.37179720e-02, -1.47666976e-01, -8.52674395e-02, -6.19034693e-02,\n",
       "         1.21373180e-02, -7.65783712e-02, -5.16218171e-02,  6.28516376e-02,\n",
       "        -4.22569253e-02,  1.71450805e-02, -9.01678950e-02, -9.44447070e-02,\n",
       "        -1.86699722e-02, -2.05345396e-02, -1.79483381e-03,  8.85824114e-03,\n",
       "         3.37114371e-02, -2.26325598e-02,  9.33801662e-03,  5.22135617e-03,\n",
       "         1.17561975e-02, -7.70359533e-03, -7.72874281e-02,  1.92481671e-02,\n",
       "        -4.29016575e-02, -2.29575336e-02,  4.22471855e-03,  3.02062929e-02,\n",
       "        -1.25410080e-01,  1.35171190e-01,  4.45660017e-02, -7.44457468e-02,\n",
       "        -4.16845120e-02,  1.24526629e-02, -2.98677497e-02,  4.34611067e-02,\n",
       "        -2.46359669e-02,  5.25866114e-02,  4.46774624e-02,  8.95731524e-03,\n",
       "         7.38786533e-02, -8.91086608e-02, -6.10929392e-02,  1.81310344e-02,\n",
       "        -1.25741623e-02,  2.97603346e-02, -2.55853534e-02, -3.28380689e-02,\n",
       "         2.24213954e-02,  1.17382398e-02, -1.73552346e-03, -1.67388394e-02,\n",
       "        -3.40693928e-02,  4.77417521e-02, -7.76683092e-02,  5.25151496e-04,\n",
       "         1.72950961e-02,  7.22183436e-02,  3.26802023e-02,  8.02994147e-02,\n",
       "         2.90009137e-02,  1.81251224e-02, -1.38503229e-02,  1.88978724e-02,\n",
       "        -1.54394478e-01, -1.09217241e-02,  9.40095633e-02, -6.80184960e-02,\n",
       "         8.88294131e-02,  2.04858929e-02, -4.06952202e-02, -4.37739827e-02,\n",
       "        -7.81540424e-02, -8.16919208e-02,  2.63035093e-02, -8.92626308e-03,\n",
       "        -2.91170701e-02, -3.58731747e-02,  4.25945483e-02, -6.80812635e-03,\n",
       "         9.23193470e-02,  3.23390067e-02, -1.31377792e-02,  8.20460357e-03,\n",
       "        -3.16841267e-02, -4.50890847e-02,  4.98705991e-02, -4.33951041e-33,\n",
       "         8.94304179e-03, -7.64875658e-05, -2.49891561e-02,  8.41885507e-02,\n",
       "         1.29742585e-02,  2.93154158e-02, -8.82024989e-02,  2.74977684e-02,\n",
       "        -3.54828984e-02, -6.89985463e-03, -4.70735170e-02,  3.95567752e-02,\n",
       "        -4.17047627e-02,  5.11540771e-02, -2.70021353e-02,  1.00471703e-02,\n",
       "         7.73344114e-02,  3.99113931e-02, -4.20058193e-03,  3.41140926e-02,\n",
       "        -1.01995375e-02,  5.77540789e-03,  1.31241325e-02,  5.00643812e-02,\n",
       "        -9.29406472e-03,  2.55253054e-02, -1.03887469e-02, -3.85728478e-02,\n",
       "        -6.96813464e-02,  2.63358559e-02,  4.07832935e-02, -1.35459555e-02,\n",
       "         2.14008912e-02,  1.55331884e-02,  1.95162576e-02, -2.68168543e-02,\n",
       "         4.38979939e-02, -3.28556355e-03, -1.50783118e-02, -4.23461907e-02,\n",
       "         4.20640595e-02,  6.46319091e-02,  2.71538110e-03, -3.60367484e-02,\n",
       "         5.98069578e-02, -9.04040411e-02,  1.03616141e-01,  7.54623786e-02,\n",
       "         7.33908862e-02,  7.34183863e-02, -3.95942070e-02,  2.71224361e-02,\n",
       "         1.37572959e-02, -3.49575952e-02,  2.38896329e-02,  5.17759249e-02,\n",
       "        -7.23259300e-02,  1.26189232e-01,  3.16311307e-02, -7.95945898e-02,\n",
       "        -9.10496339e-03,  4.30489779e-02,  3.04616392e-02, -4.12577614e-02,\n",
       "         3.75997610e-02,  6.61282847e-03,  1.86909232e-02,  4.21059914e-02,\n",
       "         3.34386788e-02, -2.31260173e-02, -3.34428772e-02, -1.69559922e-02,\n",
       "        -4.28663706e-03,  7.49874264e-02, -7.69782737e-02,  5.17920442e-02,\n",
       "        -6.82639778e-02,  5.22151887e-02, -4.35443968e-02,  2.72356030e-02,\n",
       "        -1.04477042e-02, -2.54502613e-02, -2.36019231e-02, -1.08044460e-01,\n",
       "         1.26285672e-01,  1.19424880e-01,  2.93816477e-02, -8.51686224e-02,\n",
       "         2.35931352e-02,  7.09188506e-02,  9.29181091e-03, -1.22470623e-02,\n",
       "        -3.91183123e-02, -3.11046708e-02,  1.82996299e-02, -2.06607895e-34,\n",
       "         9.26271826e-02, -5.70024410e-03, -7.37621561e-02,  2.23825742e-02,\n",
       "        -5.42540774e-02,  1.96298845e-02, -2.34855749e-02,  2.03283429e-02,\n",
       "        -1.07077315e-01, -5.18649293e-04,  1.07614342e-02, -5.71443774e-02,\n",
       "         8.15609545e-02, -1.38015086e-02, -3.53078847e-03,  3.61630395e-02,\n",
       "         2.20162682e-02, -1.31507274e-02, -6.59030005e-02,  4.78488533e-03,\n",
       "         2.63786502e-02, -1.04523055e-01, -2.43700296e-02,  1.11399934e-01,\n",
       "         9.91584454e-03, -7.19026476e-03,  3.41855213e-02,  1.75617833e-03,\n",
       "        -6.98213950e-02, -4.14259061e-02,  2.60058418e-02, -2.19624955e-02,\n",
       "        -1.90831609e-02,  2.74011567e-02, -1.93623663e-03, -1.77159663e-02,\n",
       "        -1.97444367e-03,  1.74922422e-02,  2.73759346e-02,  7.98015669e-02,\n",
       "         8.64919424e-02,  2.13011913e-02,  1.23478193e-02,  1.55843953e-02,\n",
       "         4.19410551e-03, -1.78402252e-02, -4.90425490e-02, -8.57938901e-02,\n",
       "        -8.10627937e-02, -2.56034080e-02,  1.82962101e-02,  1.87689234e-02,\n",
       "        -6.84435517e-02, -7.46108517e-02,  8.31350833e-02,  1.85379349e-02,\n",
       "         7.22719077e-03, -4.17163782e-02, -1.01932146e-01,  6.60785125e-04,\n",
       "         7.91800246e-02,  1.85211375e-02, -2.18379423e-02,  3.43047045e-02,\n",
       "         1.37321070e-01, -8.09519887e-02, -4.23486792e-02,  1.32367900e-02,\n",
       "        -1.44409975e-02, -2.62284670e-02,  7.72059262e-02, -5.44707589e-02,\n",
       "        -6.30036816e-02,  5.80719730e-04, -1.04104966e-01, -5.30044734e-03,\n",
       "        -3.64345778e-03,  4.57566418e-02,  3.55988182e-03,  2.81328484e-02,\n",
       "        -3.61390486e-02, -7.65264109e-02, -1.69463996e-02, -9.30196866e-02,\n",
       "        -3.99849378e-02, -1.56748798e-02, -3.03737372e-02, -3.91430315e-03,\n",
       "        -2.34606098e-02, -3.98370586e-02,  1.43917063e-02,  3.81733552e-02,\n",
       "        -2.72674579e-03, -3.01587600e-02, -1.15506956e-02, -2.78373715e-08,\n",
       "         4.09705425e-03, -8.09356272e-02,  5.64883230e-03, -2.68069860e-02,\n",
       "         6.62869886e-02, -8.45665261e-02, -4.18334268e-02, -6.16774671e-02,\n",
       "        -3.27469260e-02,  2.08660048e-02, -1.70500558e-02, -2.75899209e-02,\n",
       "        -2.31425241e-02,  6.30187169e-02,  6.84265643e-02,  4.08790782e-02,\n",
       "         5.55639341e-02,  1.46840036e-01, -2.17121374e-02,  2.08534044e-03,\n",
       "         1.79081410e-02, -5.46483928e-03, -5.72035685e-02, -5.54718561e-02,\n",
       "         3.23839970e-02,  3.65757570e-02, -5.62706366e-02,  1.02947131e-01,\n",
       "         3.58870961e-02, -4.09560353e-02, -5.76636801e-03,  5.36050238e-02,\n",
       "         1.72839891e-02, -8.91815126e-02, -1.29470617e-01,  4.01258469e-02,\n",
       "         6.77325577e-02, -1.76570509e-02, -4.37158113e-03, -6.65029362e-02,\n",
       "         6.76885992e-02,  6.48725852e-02,  8.11367705e-02,  6.55720336e-03,\n",
       "        -5.05911838e-03, -4.85467017e-02,  1.28023745e-02,  7.47680664e-02,\n",
       "        -9.03417170e-03, -4.16545235e-02, -1.42435625e-01, -2.57252734e-02,\n",
       "         3.81457768e-02, -1.89041123e-02, -2.01453548e-03, -9.87475179e-03,\n",
       "         4.41187024e-02,  5.68481870e-02, -1.20424582e-02, -1.97618883e-02,\n",
       "         9.89497826e-02,  3.59302349e-02, -2.59321071e-02, -2.63009612e-02],\n",
       "       dtype=float32),\n",
       " 'metadata': {'Header 1': 'Resumen Ejecutivo',\n",
       "  'data': '# Resumen Ejecutivo  \\n-----  \\n-----',\n",
       "  'upload_date': '2025-0327 00:04:17',\n",
       "  'title': 'resumen_reforma_energetica',\n",
       "  'storage_path': 'gs://rag_llm_energy_expert/documents/summaries/resumen_reforma_energetica.pdf'}}"
      ]
     },
     "execution_count": 64,
     "metadata": {},
     "output_type": "execute_result"
    }
   ],
   "source": [
    "text_to_embed1[0]"
   ]
  },
  {
   "cell_type": "code",
   "execution_count": null,
   "metadata": {},
   "outputs": [],
   "source": []
  }
 ],
 "metadata": {
  "kernelspec": {
   "display_name": ".venv",
   "language": "python",
   "name": "python3"
  },
  "language_info": {
   "codemirror_mode": {
    "name": "ipython",
    "version": 3
   },
   "file_extension": ".py",
   "mimetype": "text/x-python",
   "name": "python",
   "nbconvert_exporter": "python",
   "pygments_lexer": "ipython3",
   "version": "3.11.10"
  }
 },
 "nbformat": 4,
 "nbformat_minor": 2
}
